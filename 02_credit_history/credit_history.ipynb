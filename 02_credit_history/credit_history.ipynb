{
 "cells": [
  {
   "cell_type": "markdown",
   "id": "9de8dd83",
   "metadata": {},
   "source": [
    "# Исследование надежности заемщиков"
   ]
  },
  {
   "cell_type": "markdown",
   "id": "82c9f6c5",
   "metadata": {},
   "source": [
    "Заказчик — кредитный отдел банка. Нужно разобраться, влияет ли семейное положение и количество детей клиента на факт погашения кредита в срок. \n",
    "\n",
    "Входные данные от банка — статистика о платёжеспособности клиентов.\n",
    "\n",
    "Результаты исследования будут учтены при построении модели кредитного скоринга — специальной системы, которая оценивает способность потенциального заёмщика вернуть кредит банку.\n",
    "\n",
    "Данные о платежеспособности клиентов банка были получены из файла `...`. \n"
   ]
  },
  {
   "cell_type": "markdown",
   "id": "75a52ba2",
   "metadata": {},
   "source": [
    "## Описание данных"
   ]
  },
  {
   "cell_type": "markdown",
   "id": "12c7dd1d",
   "metadata": {},
   "source": [
    "- `children` — количество детей в семье;\n",
    "- `days_employed` — общий трудовой стаж в днях;\n",
    "- `dob_years` — возраст клиента в годах;\n",
    "- `education` — уровень образования клиента;\n",
    "- `education_id` — идентификатор уровня образования;\n",
    "- `family_status` — семейное положение;\n",
    "- `family_status_id` — идентификатор семейного положения;\n",
    "- `gender` — пол клиента;\n",
    "- `income_type` — тип занятости;\n",
    "- `debt` — имел ли задолженность по возврату кредитов;\n",
    "- `total_income` — ежемесячный доход;\n",
    "- `purpose` — цель получения кредита.\n"
   ]
  },
  {
   "cell_type": "markdown",
   "id": "56386751",
   "metadata": {},
   "source": [
    "## Настройка рабочей среды"
   ]
  },
  {
   "cell_type": "code",
   "execution_count": 1,
   "id": "6cd1a1a2",
   "metadata": {},
   "outputs": [],
   "source": [
    "# Импорт библиотеки pandas в сокращенной форме pd\n",
    "import pandas as pd "
   ]
  },
  {
   "cell_type": "markdown",
   "id": "5fe231d9",
   "metadata": {},
   "source": [
    "## Глобальные переменные"
   ]
  },
  {
   "cell_type": "code",
   "execution_count": 2,
   "id": "bba6a142",
   "metadata": {},
   "outputs": [],
   "source": [
    "# Ссылка на данные\n",
    "dataset_path = '...'\n",
    "\n",
    "dic_income_category = {\n",
    "    'A' : '1000001 и выше',\n",
    "    'B' : '200001–1000000', \n",
    "    'C' : '50001–200000',\n",
    "    'D' : '30001–50000',\n",
    "    'E' : '0–30000',\n",
    "}\n"
   ]
  },
  {
   "cell_type": "markdown",
   "id": "d61872e9",
   "metadata": {},
   "source": [
    "## Функции"
   ]
  },
  {
   "cell_type": "code",
   "execution_count": 3,
   "id": "31858da7",
   "metadata": {},
   "outputs": [],
   "source": [
    "# Функция для определения категории клиента по доходу\n",
    "def categorize_income(income):\n",
    "    try:\n",
    "        if 0 <= income <= 30000:\n",
    "            return 'E'\n",
    "        elif 30001 <= income <= 50000:\n",
    "            return 'D'\n",
    "        elif 50001 <= income <= 200000:\n",
    "            return 'C'\n",
    "        elif 200001 <= income <= 1000000:\n",
    "            return 'B'\n",
    "        elif income >= 1000001:\n",
    "            return 'A'\n",
    "    except:\n",
    "        pass"
   ]
  },
  {
   "cell_type": "code",
   "execution_count": 4,
   "id": "ebc78ae9",
   "metadata": {},
   "outputs": [],
   "source": [
    "# Функция для определения категории цели кредита клиента по названию цели\n",
    "def categorize_purpose(purpose):\n",
    "    try:\n",
    "        if 'автом' in purpose:\n",
    "            return 'операции с автомобилем'\n",
    "        elif 'жил' in purpose or 'недвиж' in purpose:\n",
    "            return 'операции с недвижимостью'\n",
    "        elif 'свад' in purpose:\n",
    "            return 'проведение свадьбы'\n",
    "        elif 'образов' in purpose:\n",
    "            return 'получение образования'\n",
    "    except:\n",
    "        return 'нет категории'"
   ]
  },
  {
   "cell_type": "code",
   "execution_count": 5,
   "id": "78853b1c",
   "metadata": {},
   "outputs": [],
   "source": [
    "# Функция для предварительного общего анализа датафрейма\n",
    "def df_analysis(df):\n",
    "\n",
    "    # Отображение датафрейма df\n",
    "    display(df.head(10))\n",
    "    print('*'*100)\n",
    "\n",
    "    # Вывод основной информации о датафрейме df с помощью метода info().\n",
    "    df.info()\n",
    "    print('*'*100)\n",
    "\n",
    "    # Проверка количества пропущенных значений по каждому столбцу в датафрейме df\n",
    "    print('Количество пропущенных значений по столбцам')\n",
    "    print(df.isna().sum())\n",
    "    print('*'*100)\n",
    "        "
   ]
  },
  {
   "cell_type": "markdown",
   "id": "63f41b56",
   "metadata": {},
   "source": [
    "## Загрузка данных и изучение общей информации"
   ]
  },
  {
   "cell_type": "code",
   "execution_count": 6,
   "id": "dad3deef",
   "metadata": {},
   "outputs": [],
   "source": [
    "# Чтение данных из csv-файла в датафрейм и сохранение в переменную data\n",
    "try:\n",
    "    data = pd.read_csv(dataset_path, sep=',')\n",
    "except FileNotFoundError as e:\n",
    "    print(f\"FileNotFoundError successfully handled\\n\"\n",
    "          f\"{e}\")"
   ]
  },
  {
   "cell_type": "code",
   "execution_count": 7,
   "id": "118954f6",
   "metadata": {},
   "outputs": [
    {
     "data": {
      "text/html": [
       "<div>\n",
       "<style scoped>\n",
       "    .dataframe tbody tr th:only-of-type {\n",
       "        vertical-align: middle;\n",
       "    }\n",
       "\n",
       "    .dataframe tbody tr th {\n",
       "        vertical-align: top;\n",
       "    }\n",
       "\n",
       "    .dataframe thead th {\n",
       "        text-align: right;\n",
       "    }\n",
       "</style>\n",
       "<table border=\"1\" class=\"dataframe\">\n",
       "  <thead>\n",
       "    <tr style=\"text-align: right;\">\n",
       "      <th></th>\n",
       "      <th>children</th>\n",
       "      <th>days_employed</th>\n",
       "      <th>dob_years</th>\n",
       "      <th>education</th>\n",
       "      <th>education_id</th>\n",
       "      <th>family_status</th>\n",
       "      <th>family_status_id</th>\n",
       "      <th>gender</th>\n",
       "      <th>income_type</th>\n",
       "      <th>debt</th>\n",
       "      <th>total_income</th>\n",
       "      <th>purpose</th>\n",
       "    </tr>\n",
       "  </thead>\n",
       "  <tbody>\n",
       "    <tr>\n",
       "      <th>0</th>\n",
       "      <td>1</td>\n",
       "      <td>-8437.673028</td>\n",
       "      <td>42</td>\n",
       "      <td>высшее</td>\n",
       "      <td>0</td>\n",
       "      <td>женат / замужем</td>\n",
       "      <td>0</td>\n",
       "      <td>F</td>\n",
       "      <td>сотрудник</td>\n",
       "      <td>0</td>\n",
       "      <td>253875.639453</td>\n",
       "      <td>покупка жилья</td>\n",
       "    </tr>\n",
       "    <tr>\n",
       "      <th>1</th>\n",
       "      <td>1</td>\n",
       "      <td>-4024.803754</td>\n",
       "      <td>36</td>\n",
       "      <td>среднее</td>\n",
       "      <td>1</td>\n",
       "      <td>женат / замужем</td>\n",
       "      <td>0</td>\n",
       "      <td>F</td>\n",
       "      <td>сотрудник</td>\n",
       "      <td>0</td>\n",
       "      <td>112080.014102</td>\n",
       "      <td>приобретение автомобиля</td>\n",
       "    </tr>\n",
       "    <tr>\n",
       "      <th>2</th>\n",
       "      <td>0</td>\n",
       "      <td>-5623.422610</td>\n",
       "      <td>33</td>\n",
       "      <td>Среднее</td>\n",
       "      <td>1</td>\n",
       "      <td>женат / замужем</td>\n",
       "      <td>0</td>\n",
       "      <td>M</td>\n",
       "      <td>сотрудник</td>\n",
       "      <td>0</td>\n",
       "      <td>145885.952297</td>\n",
       "      <td>покупка жилья</td>\n",
       "    </tr>\n",
       "    <tr>\n",
       "      <th>3</th>\n",
       "      <td>3</td>\n",
       "      <td>-4124.747207</td>\n",
       "      <td>32</td>\n",
       "      <td>среднее</td>\n",
       "      <td>1</td>\n",
       "      <td>женат / замужем</td>\n",
       "      <td>0</td>\n",
       "      <td>M</td>\n",
       "      <td>сотрудник</td>\n",
       "      <td>0</td>\n",
       "      <td>267628.550329</td>\n",
       "      <td>дополнительное образование</td>\n",
       "    </tr>\n",
       "    <tr>\n",
       "      <th>4</th>\n",
       "      <td>0</td>\n",
       "      <td>340266.072047</td>\n",
       "      <td>53</td>\n",
       "      <td>среднее</td>\n",
       "      <td>1</td>\n",
       "      <td>гражданский брак</td>\n",
       "      <td>1</td>\n",
       "      <td>F</td>\n",
       "      <td>пенсионер</td>\n",
       "      <td>0</td>\n",
       "      <td>158616.077870</td>\n",
       "      <td>сыграть свадьбу</td>\n",
       "    </tr>\n",
       "    <tr>\n",
       "      <th>5</th>\n",
       "      <td>0</td>\n",
       "      <td>-926.185831</td>\n",
       "      <td>27</td>\n",
       "      <td>высшее</td>\n",
       "      <td>0</td>\n",
       "      <td>гражданский брак</td>\n",
       "      <td>1</td>\n",
       "      <td>M</td>\n",
       "      <td>компаньон</td>\n",
       "      <td>0</td>\n",
       "      <td>255763.565419</td>\n",
       "      <td>покупка жилья</td>\n",
       "    </tr>\n",
       "    <tr>\n",
       "      <th>6</th>\n",
       "      <td>0</td>\n",
       "      <td>-2879.202052</td>\n",
       "      <td>43</td>\n",
       "      <td>высшее</td>\n",
       "      <td>0</td>\n",
       "      <td>женат / замужем</td>\n",
       "      <td>0</td>\n",
       "      <td>F</td>\n",
       "      <td>компаньон</td>\n",
       "      <td>0</td>\n",
       "      <td>240525.971920</td>\n",
       "      <td>операции с жильем</td>\n",
       "    </tr>\n",
       "    <tr>\n",
       "      <th>7</th>\n",
       "      <td>0</td>\n",
       "      <td>-152.779569</td>\n",
       "      <td>50</td>\n",
       "      <td>СРЕДНЕЕ</td>\n",
       "      <td>1</td>\n",
       "      <td>женат / замужем</td>\n",
       "      <td>0</td>\n",
       "      <td>M</td>\n",
       "      <td>сотрудник</td>\n",
       "      <td>0</td>\n",
       "      <td>135823.934197</td>\n",
       "      <td>образование</td>\n",
       "    </tr>\n",
       "    <tr>\n",
       "      <th>8</th>\n",
       "      <td>2</td>\n",
       "      <td>-6929.865299</td>\n",
       "      <td>35</td>\n",
       "      <td>ВЫСШЕЕ</td>\n",
       "      <td>0</td>\n",
       "      <td>гражданский брак</td>\n",
       "      <td>1</td>\n",
       "      <td>F</td>\n",
       "      <td>сотрудник</td>\n",
       "      <td>0</td>\n",
       "      <td>95856.832424</td>\n",
       "      <td>на проведение свадьбы</td>\n",
       "    </tr>\n",
       "    <tr>\n",
       "      <th>9</th>\n",
       "      <td>0</td>\n",
       "      <td>-2188.756445</td>\n",
       "      <td>41</td>\n",
       "      <td>среднее</td>\n",
       "      <td>1</td>\n",
       "      <td>женат / замужем</td>\n",
       "      <td>0</td>\n",
       "      <td>M</td>\n",
       "      <td>сотрудник</td>\n",
       "      <td>0</td>\n",
       "      <td>144425.938277</td>\n",
       "      <td>покупка жилья для семьи</td>\n",
       "    </tr>\n",
       "  </tbody>\n",
       "</table>\n",
       "</div>"
      ],
      "text/plain": [
       "   children  days_employed  dob_years education  education_id  \\\n",
       "0         1   -8437.673028         42    высшее             0   \n",
       "1         1   -4024.803754         36   среднее             1   \n",
       "2         0   -5623.422610         33   Среднее             1   \n",
       "3         3   -4124.747207         32   среднее             1   \n",
       "4         0  340266.072047         53   среднее             1   \n",
       "5         0    -926.185831         27    высшее             0   \n",
       "6         0   -2879.202052         43    высшее             0   \n",
       "7         0    -152.779569         50   СРЕДНЕЕ             1   \n",
       "8         2   -6929.865299         35    ВЫСШЕЕ             0   \n",
       "9         0   -2188.756445         41   среднее             1   \n",
       "\n",
       "      family_status  family_status_id gender income_type  debt   total_income  \\\n",
       "0   женат / замужем                 0      F   сотрудник     0  253875.639453   \n",
       "1   женат / замужем                 0      F   сотрудник     0  112080.014102   \n",
       "2   женат / замужем                 0      M   сотрудник     0  145885.952297   \n",
       "3   женат / замужем                 0      M   сотрудник     0  267628.550329   \n",
       "4  гражданский брак                 1      F   пенсионер     0  158616.077870   \n",
       "5  гражданский брак                 1      M   компаньон     0  255763.565419   \n",
       "6   женат / замужем                 0      F   компаньон     0  240525.971920   \n",
       "7   женат / замужем                 0      M   сотрудник     0  135823.934197   \n",
       "8  гражданский брак                 1      F   сотрудник     0   95856.832424   \n",
       "9   женат / замужем                 0      M   сотрудник     0  144425.938277   \n",
       "\n",
       "                      purpose  \n",
       "0               покупка жилья  \n",
       "1     приобретение автомобиля  \n",
       "2               покупка жилья  \n",
       "3  дополнительное образование  \n",
       "4             сыграть свадьбу  \n",
       "5               покупка жилья  \n",
       "6           операции с жильем  \n",
       "7                 образование  \n",
       "8       на проведение свадьбы  \n",
       "9     покупка жилья для семьи  "
      ]
     },
     "metadata": {},
     "output_type": "display_data"
    },
    {
     "name": "stdout",
     "output_type": "stream",
     "text": [
      "****************************************************************************************************\n",
      "<class 'pandas.core.frame.DataFrame'>\n",
      "RangeIndex: 21525 entries, 0 to 21524\n",
      "Data columns (total 12 columns):\n",
      " #   Column            Non-Null Count  Dtype  \n",
      "---  ------            --------------  -----  \n",
      " 0   children          21525 non-null  int64  \n",
      " 1   days_employed     19351 non-null  float64\n",
      " 2   dob_years         21525 non-null  int64  \n",
      " 3   education         21525 non-null  object \n",
      " 4   education_id      21525 non-null  int64  \n",
      " 5   family_status     21525 non-null  object \n",
      " 6   family_status_id  21525 non-null  int64  \n",
      " 7   gender            21525 non-null  object \n",
      " 8   income_type       21525 non-null  object \n",
      " 9   debt              21525 non-null  int64  \n",
      " 10  total_income      19351 non-null  float64\n",
      " 11  purpose           21525 non-null  object \n",
      "dtypes: float64(2), int64(5), object(5)\n",
      "memory usage: 2.0+ MB\n",
      "****************************************************************************************************\n",
      "Количество пропущенных значений по столбцам\n",
      "children               0\n",
      "days_employed       2174\n",
      "dob_years              0\n",
      "education              0\n",
      "education_id           0\n",
      "family_status          0\n",
      "family_status_id       0\n",
      "gender                 0\n",
      "income_type            0\n",
      "debt                   0\n",
      "total_income        2174\n",
      "purpose                0\n",
      "dtype: int64\n",
      "****************************************************************************************************\n"
     ]
    }
   ],
   "source": [
    "df_analysis(data)"
   ]
  },
  {
   "cell_type": "markdown",
   "id": "df0dbb52",
   "metadata": {},
   "source": [
    "Предварительный обзор данных показал:\n",
    "\n",
    "- есть пропущенные значения;\n",
    "- есть несоотвествие типов данных;\n",
    "- встречаются аномальные значения (в поле `days_employed` есть отрицательные значения).\n"
   ]
  },
  {
   "cell_type": "markdown",
   "id": "0edb6b79",
   "metadata": {},
   "source": [
    "## Предобработка данных"
   ]
  },
  {
   "cell_type": "markdown",
   "id": "f6fe5092",
   "metadata": {},
   "source": [
    "### Обработка аномальных значений"
   ]
  },
  {
   "cell_type": "markdown",
   "id": "709b4d59",
   "metadata": {},
   "source": [
    "Наблюдается отрицательное количество дней трудового стажа в столбце `days_employed`. Для реальных данных это нормально. Обработаем значения в этом столбце, заменим все отрицательные значения положительными с помощью метода `abs()`."
   ]
  },
  {
   "cell_type": "code",
   "execution_count": 8,
   "id": "3a15cb74",
   "metadata": {},
   "outputs": [],
   "source": [
    "data['days_employed'] = data['days_employed'].abs()"
   ]
  },
  {
   "cell_type": "markdown",
   "id": "b3ba253e",
   "metadata": {},
   "source": [
    "Для каждого типа занятости выведем медианное значение трудового стажа `days_employed` в днях."
   ]
  },
  {
   "cell_type": "code",
   "execution_count": 9,
   "id": "451e63c4",
   "metadata": {},
   "outputs": [
    {
     "data": {
      "text/plain": [
       "income_type\n",
       "безработный        366413.652744\n",
       "в декрете            3296.759962\n",
       "госслужащий          2689.368353\n",
       "компаньон            1547.382223\n",
       "пенсионер          365213.306266\n",
       "предприниматель       520.848083\n",
       "сотрудник            1574.202821\n",
       "студент               578.751554\n",
       "Name: days_employed, dtype: float64"
      ]
     },
     "execution_count": 9,
     "metadata": {},
     "output_type": "execute_result"
    }
   ],
   "source": [
    "data.groupby('income_type')['days_employed'].agg('median')"
   ]
  },
  {
   "cell_type": "markdown",
   "id": "0c6d1247",
   "metadata": {},
   "source": [
    "У двух типов (безработные и пенсионеры) получаются аномально большие значения. Исправить такие значения сложно, поэтому оставляем их как есть."
   ]
  },
  {
   "cell_type": "code",
   "execution_count": 10,
   "id": "c5435a8f",
   "metadata": {},
   "outputs": [
    {
     "data": {
      "text/plain": [
       "array([ 1,  0,  3,  2, -1,  4, 20,  5], dtype=int64)"
      ]
     },
     "execution_count": 10,
     "metadata": {},
     "output_type": "execute_result"
    }
   ],
   "source": [
    "data['children'].unique()"
   ]
  },
  {
   "cell_type": "markdown",
   "id": "10f01058",
   "metadata": {},
   "source": [
    "В столбце `children` есть два аномальных значения. Удалим строки, в которых встречаются такие аномальные значения из датафрейма `data`."
   ]
  },
  {
   "cell_type": "code",
   "execution_count": 11,
   "id": "ce081d1c",
   "metadata": {},
   "outputs": [],
   "source": [
    "data = data[(data['children'] != -1) & (data['children'] != 20)]"
   ]
  },
  {
   "cell_type": "code",
   "execution_count": 12,
   "id": "843842f8",
   "metadata": {},
   "outputs": [
    {
     "data": {
      "text/plain": [
       "array([1, 0, 3, 2, 4, 5], dtype=int64)"
      ]
     },
     "execution_count": 12,
     "metadata": {},
     "output_type": "execute_result"
    }
   ],
   "source": [
    "data['children'].unique()"
   ]
  },
  {
   "cell_type": "markdown",
   "id": "e412b761",
   "metadata": {},
   "source": [
    "### Удаление пропусков"
   ]
  },
  {
   "cell_type": "code",
   "execution_count": 13,
   "id": "b2b167cf",
   "metadata": {},
   "outputs": [
    {
     "data": {
      "text/plain": [
       "children               0\n",
       "days_employed       2162\n",
       "dob_years              0\n",
       "education              0\n",
       "education_id           0\n",
       "family_status          0\n",
       "family_status_id       0\n",
       "gender                 0\n",
       "income_type            0\n",
       "debt                   0\n",
       "total_income        2162\n",
       "purpose                0\n",
       "dtype: int64"
      ]
     },
     "execution_count": 13,
     "metadata": {},
     "output_type": "execute_result"
    }
   ],
   "source": [
    "data.isna().sum()"
   ]
  },
  {
   "cell_type": "markdown",
   "id": "a6360cf3",
   "metadata": {},
   "source": [
    "В двух столбцах есть пропущенные значения. Cтолбец с пропущенными значениями — `total_income` — хранит данные о доходах. На сумму дохода сильнее всего влияет тип занятости, поэтому заполнить пропуски в этом столбце можно медианным значением по каждому типу из столбца `income_type`. Например, у человека с типом занятости `сотрудник` пропуск в столбце `total_income` должен быть заполнен медианным доходом среди всех записей с тем же типом."
   ]
  },
  {
   "cell_type": "code",
   "execution_count": 14,
   "id": "21f62c69",
   "metadata": {},
   "outputs": [],
   "source": [
    "for t in data['income_type'].unique():\n",
    "    data.loc[(data['income_type'] == t) & (data['total_income'].isna()), 'total_income'] = \\\n",
    "    data.loc[(data['income_type'] == t), 'total_income'].median()"
   ]
  },
  {
   "cell_type": "markdown",
   "id": "e94b41a8",
   "metadata": {},
   "source": [
    "Аналогично заполняем пропуски в столбце `days_employed` медианными значениями по каждого типа занятости `income_type`."
   ]
  },
  {
   "cell_type": "code",
   "execution_count": 15,
   "id": "ae6dc79c",
   "metadata": {},
   "outputs": [],
   "source": [
    "for t in data['income_type'].unique():\n",
    "    data.loc[(data['income_type'] == t) & (data['days_employed'].isna()), 'days_employed'] = \\\n",
    "    data.loc[(data['income_type'] == t), 'days_employed'].median()"
   ]
  },
  {
   "cell_type": "code",
   "execution_count": 16,
   "id": "ea0c0b4a",
   "metadata": {},
   "outputs": [
    {
     "data": {
      "text/plain": [
       "children            0\n",
       "days_employed       0\n",
       "dob_years           0\n",
       "education           0\n",
       "education_id        0\n",
       "family_status       0\n",
       "family_status_id    0\n",
       "gender              0\n",
       "income_type         0\n",
       "debt                0\n",
       "total_income        0\n",
       "purpose             0\n",
       "dtype: int64"
      ]
     },
     "execution_count": 16,
     "metadata": {},
     "output_type": "execute_result"
    }
   ],
   "source": [
    "data.isna().sum()"
   ]
  },
  {
   "cell_type": "markdown",
   "id": "62872dcc",
   "metadata": {},
   "source": [
    "### Изменение типов данных"
   ]
  },
  {
   "cell_type": "markdown",
   "id": "d68055b1",
   "metadata": {},
   "source": [
    "Заменим вещественный тип данных в столбце `total_income` на целочисленный. "
   ]
  },
  {
   "cell_type": "code",
   "execution_count": 17,
   "id": "4cea07db",
   "metadata": {},
   "outputs": [],
   "source": [
    "data['total_income'] = data['total_income'].astype(int)"
   ]
  },
  {
   "cell_type": "markdown",
   "id": "993b77b2",
   "metadata": {},
   "source": [
    "### Обработка дубликатов"
   ]
  },
  {
   "cell_type": "code",
   "execution_count": 18,
   "id": "eb6e7d47",
   "metadata": {},
   "outputs": [
    {
     "data": {
      "text/plain": [
       "array(['высшее', 'среднее', 'Среднее', 'СРЕДНЕЕ', 'ВЫСШЕЕ',\n",
       "       'неоконченное высшее', 'начальное', 'Высшее',\n",
       "       'НЕОКОНЧЕННОЕ ВЫСШЕЕ', 'Неоконченное высшее', 'НАЧАЛЬНОЕ',\n",
       "       'Начальное', 'Ученая степень', 'УЧЕНАЯ СТЕПЕНЬ', 'ученая степень'],\n",
       "      dtype=object)"
      ]
     },
     "execution_count": 18,
     "metadata": {},
     "output_type": "execute_result"
    }
   ],
   "source": [
    "data['education'].unique()"
   ]
  },
  {
   "cell_type": "markdown",
   "id": "7622d169",
   "metadata": {},
   "source": [
    "Обработаем неявные дубликаты в столбце `education`. В этом столбце есть одни и те же значения, но записанные по-разному: с использованием заглавных и строчных букв. Приведем их к нижнему регистру."
   ]
  },
  {
   "cell_type": "code",
   "execution_count": 19,
   "id": "9d7a1712",
   "metadata": {},
   "outputs": [],
   "source": [
    "data['education'] = data['education'].str.lower()"
   ]
  },
  {
   "cell_type": "code",
   "execution_count": 20,
   "id": "cabbd1a9",
   "metadata": {},
   "outputs": [
    {
     "name": "stdout",
     "output_type": "stream",
     "text": [
      "Количество дубликатов: 71 (0.33% от общего количества записей).\n"
     ]
    }
   ],
   "source": [
    "# Проверка количества дубликатов в датафрейме data\n",
    "print('Количество дубликатов: {0}'.format(data.duplicated().sum()), end='')\n",
    "    \n",
    "# Подсчет процента дубликатов в датафрейме data\n",
    "print(' ({:.2%} от общего количества записей).'.format(data.duplicated().sum()/data.shape[0]))"
   ]
  },
  {
   "cell_type": "markdown",
   "id": "ba671cd5",
   "metadata": {},
   "source": [
    "Удаляем дубликаты"
   ]
  },
  {
   "cell_type": "code",
   "execution_count": 21,
   "id": "7a5e70c6",
   "metadata": {},
   "outputs": [],
   "source": [
    "data = data.drop_duplicates()"
   ]
  },
  {
   "cell_type": "code",
   "execution_count": 22,
   "id": "6aab5956",
   "metadata": {},
   "outputs": [
    {
     "name": "stdout",
     "output_type": "stream",
     "text": [
      "Количество дубликатов: 0 (0.00% от общего количества записей).\n"
     ]
    }
   ],
   "source": [
    "# Проверка количества дубликатов в датафрейме data\n",
    "print('Количество дубликатов: {0}'.format(data.duplicated().sum()), end='')\n",
    "    \n",
    "# Подсчет процента дубликатов в датафрейме data\n",
    "print(' ({:.2%} от общего количества записей).'.format(data.duplicated().sum()/data.shape[0]))"
   ]
  },
  {
   "cell_type": "markdown",
   "id": "1d2f491c",
   "metadata": {},
   "source": [
    "### Категоризация данных"
   ]
  },
  {
   "cell_type": "markdown",
   "id": "0320fd9f",
   "metadata": {},
   "source": [
    "На основании диапазонов дохода создаем в датафрейме `data` столбец `total_income_category` с категориями:\n",
    "\n",
    "- 0–30000 — `'E'`;\n",
    "- 30001–50000 — `'D'`;\n",
    "- 50001–200000 — `'C'`;\n",
    "- 200001–1000000 — `'B'`;\n",
    "- 1000001 и выше — `'A'`.\n"
   ]
  },
  {
   "cell_type": "code",
   "execution_count": 23,
   "id": "ff2d310e",
   "metadata": {},
   "outputs": [],
   "source": [
    "data['total_income_category'] = data['total_income'].apply(categorize_income)"
   ]
  },
  {
   "cell_type": "code",
   "execution_count": 24,
   "id": "6d3391ac",
   "metadata": {},
   "outputs": [
    {
     "data": {
      "text/plain": [
       "array(['покупка жилья', 'приобретение автомобиля',\n",
       "       'дополнительное образование', 'сыграть свадьбу',\n",
       "       'операции с жильем', 'образование', 'на проведение свадьбы',\n",
       "       'покупка жилья для семьи', 'покупка недвижимости',\n",
       "       'покупка коммерческой недвижимости', 'покупка жилой недвижимости',\n",
       "       'строительство собственной недвижимости', 'недвижимость',\n",
       "       'строительство недвижимости', 'на покупку подержанного автомобиля',\n",
       "       'на покупку своего автомобиля',\n",
       "       'операции с коммерческой недвижимостью',\n",
       "       'строительство жилой недвижимости', 'жилье',\n",
       "       'операции со своей недвижимостью', 'автомобили',\n",
       "       'заняться образованием', 'сделка с подержанным автомобилем',\n",
       "       'получение образования', 'автомобиль', 'свадьба',\n",
       "       'получение дополнительного образования', 'покупка своего жилья',\n",
       "       'операции с недвижимостью', 'получение высшего образования',\n",
       "       'свой автомобиль', 'сделка с автомобилем',\n",
       "       'профильное образование', 'высшее образование',\n",
       "       'покупка жилья для сдачи', 'на покупку автомобиля', 'ремонт жилью',\n",
       "       'заняться высшим образованием'], dtype=object)"
      ]
     },
     "execution_count": 24,
     "metadata": {},
     "output_type": "execute_result"
    }
   ],
   "source": [
    "data['purpose'].unique()"
   ]
  },
  {
   "cell_type": "markdown",
   "id": "e140e555",
   "metadata": {},
   "source": [
    "Сформируем новый столбец `purpose_category`, на основе данных из столбца `purpose`:\n",
    "\n",
    "- `'операции с автомобилем'`,\n",
    "- `'операции с недвижимостью'`,\n",
    "- `'проведение свадьбы'`,\n",
    "- `'получение образования'`.\n"
   ]
  },
  {
   "cell_type": "code",
   "execution_count": 25,
   "id": "3e788b60",
   "metadata": {},
   "outputs": [],
   "source": [
    "data['purpose_category'] = data['purpose'].apply(categorize_purpose)"
   ]
  },
  {
   "cell_type": "markdown",
   "id": "3d7d905e",
   "metadata": {},
   "source": [
    "## Исследовательский анализ данных"
   ]
  },
  {
   "cell_type": "markdown",
   "id": "bf095490",
   "metadata": {},
   "source": [
    "### Есть ли зависимость между количеством детей и возвратом кредита в срок?"
   ]
  },
  {
   "cell_type": "code",
   "execution_count": 26,
   "id": "2a47bc24",
   "metadata": {},
   "outputs": [
    {
     "data": {
      "text/html": [
       "<div>\n",
       "<style scoped>\n",
       "    .dataframe tbody tr th:only-of-type {\n",
       "        vertical-align: middle;\n",
       "    }\n",
       "\n",
       "    .dataframe tbody tr th {\n",
       "        vertical-align: top;\n",
       "    }\n",
       "\n",
       "    .dataframe thead th {\n",
       "        text-align: right;\n",
       "    }\n",
       "</style>\n",
       "<table border=\"1\" class=\"dataframe\">\n",
       "  <thead>\n",
       "    <tr style=\"text-align: right;\">\n",
       "      <th></th>\n",
       "      <th>children</th>\n",
       "      <th>all_count</th>\n",
       "      <th>count</th>\n",
       "      <th>mean</th>\n",
       "    </tr>\n",
       "  </thead>\n",
       "  <tbody>\n",
       "    <tr>\n",
       "      <th>0</th>\n",
       "      <td>4</td>\n",
       "      <td>41</td>\n",
       "      <td>4</td>\n",
       "      <td>9.76</td>\n",
       "    </tr>\n",
       "    <tr>\n",
       "      <th>1</th>\n",
       "      <td>2</td>\n",
       "      <td>2052</td>\n",
       "      <td>194</td>\n",
       "      <td>9.45</td>\n",
       "    </tr>\n",
       "    <tr>\n",
       "      <th>2</th>\n",
       "      <td>1</td>\n",
       "      <td>4808</td>\n",
       "      <td>444</td>\n",
       "      <td>9.23</td>\n",
       "    </tr>\n",
       "    <tr>\n",
       "      <th>3</th>\n",
       "      <td>3</td>\n",
       "      <td>330</td>\n",
       "      <td>27</td>\n",
       "      <td>8.18</td>\n",
       "    </tr>\n",
       "    <tr>\n",
       "      <th>4</th>\n",
       "      <td>0</td>\n",
       "      <td>14091</td>\n",
       "      <td>1063</td>\n",
       "      <td>7.54</td>\n",
       "    </tr>\n",
       "    <tr>\n",
       "      <th>5</th>\n",
       "      <td>5</td>\n",
       "      <td>9</td>\n",
       "      <td>0</td>\n",
       "      <td>0.00</td>\n",
       "    </tr>\n",
       "  </tbody>\n",
       "</table>\n",
       "</div>"
      ],
      "text/plain": [
       "   children  all_count  count  mean\n",
       "0         4         41      4  9.76\n",
       "1         2       2052    194  9.45\n",
       "2         1       4808    444  9.23\n",
       "3         3        330     27  8.18\n",
       "4         0      14091   1063  7.54\n",
       "5         5          9      0  0.00"
      ]
     },
     "execution_count": 26,
     "metadata": {},
     "output_type": "execute_result"
    }
   ],
   "source": [
    "# Подсчет количества клиентов без задолжности и с задолжностью по каждому уникальному значению \n",
    "# \"children\" - \"количество детей в семье\" из датафрейма data\n",
    "data_group_child = (\n",
    "    data\n",
    "    .groupby('children')['debt']\n",
    "    .agg(['count','sum', 'mean'])\n",
    "    .sort_values(by='mean', ascending=False)\n",
    "    .reset_index()\n",
    ")\n",
    "# Перевод значений из столбца 'mean' в проценты\n",
    "data_group_child['mean'] = round(data_group_child['mean'] * 100, 2)\n",
    "# Переименование столбцов\n",
    "data_group_child = data_group_child.rename(columns={\n",
    "    'count': 'all_count',\n",
    "    'sum': 'count',\n",
    "    'mean': 'mean'\n",
    "})\n",
    "data_group_child"
   ]
  },
  {
   "cell_type": "markdown",
   "id": "198c5e3b",
   "metadata": {},
   "source": [
    "**Вывод:** \n",
    "\n",
    "- `children` - количество детей в семье;\n",
    "- `all_count` - общее количество клиентов в этой категории;\n",
    "- `count` - количество клиентов, имеющих задолженность по возврату кредита в категории;\n",
    "- `mean` - `%` клиентов, возвращающих кредит не в срок.\n",
    "\n",
    "С увеличением числа детей в семье, увеличивается процент клиентов, возвращающих кредит с задолжность. В семьях с четырьмя детьми процент клиентов, которые возвращают кредит не в срок составляет почти 10%. \n",
    "\n",
    "При этом из результатов немного выбиваются семьи с тремя детьми, статистика по ним гораздо ниже, чем в семьях с одним ребенком.\n",
    "Информация по семьям с пятью детьми мало информативна (100% возврат в срок) в связи с тем, что таких семей в целом мало (9 из 21331 это 0,04% клиентов из общего списка).\n",
    "\n",
    "Процент клиентов, возвращающих кредит в срок, в семьях без детей больше, чем в семьях с детьми.\n",
    "Так же можно сказать, что семьи без детей чаще всего берут кредиты в банке (14091 из 21331 это 66% клиентов из общего списка).\n",
    "\n",
    "Гипотеза подтверждается, есть зависимость между количеством детей в семье и возвратом кредита в срок. Семьи с детьми чаще всего возвращают кредит не в срок. Причем процент таких клиентов больше в семьях с четырьмя детьми."
   ]
  },
  {
   "cell_type": "markdown",
   "id": "cca4b546",
   "metadata": {},
   "source": [
    "### Есть ли зависимость между семейным положением и возвратом кредита в срок?"
   ]
  },
  {
   "cell_type": "code",
   "execution_count": 27,
   "id": "12f9d145",
   "metadata": {},
   "outputs": [
    {
     "data": {
      "text/html": [
       "<div>\n",
       "<style scoped>\n",
       "    .dataframe tbody tr th:only-of-type {\n",
       "        vertical-align: middle;\n",
       "    }\n",
       "\n",
       "    .dataframe tbody tr th {\n",
       "        vertical-align: top;\n",
       "    }\n",
       "\n",
       "    .dataframe thead th {\n",
       "        text-align: right;\n",
       "    }\n",
       "</style>\n",
       "<table border=\"1\" class=\"dataframe\">\n",
       "  <thead>\n",
       "    <tr style=\"text-align: right;\">\n",
       "      <th></th>\n",
       "      <th>family_status</th>\n",
       "      <th>all_count</th>\n",
       "      <th>count</th>\n",
       "      <th>mean</th>\n",
       "    </tr>\n",
       "  </thead>\n",
       "  <tbody>\n",
       "    <tr>\n",
       "      <th>0</th>\n",
       "      <td>Не женат / не замужем</td>\n",
       "      <td>2796</td>\n",
       "      <td>273</td>\n",
       "      <td>9.76</td>\n",
       "    </tr>\n",
       "    <tr>\n",
       "      <th>1</th>\n",
       "      <td>гражданский брак</td>\n",
       "      <td>4134</td>\n",
       "      <td>385</td>\n",
       "      <td>9.31</td>\n",
       "    </tr>\n",
       "    <tr>\n",
       "      <th>2</th>\n",
       "      <td>женат / замужем</td>\n",
       "      <td>12261</td>\n",
       "      <td>927</td>\n",
       "      <td>7.56</td>\n",
       "    </tr>\n",
       "    <tr>\n",
       "      <th>3</th>\n",
       "      <td>в разводе</td>\n",
       "      <td>1189</td>\n",
       "      <td>84</td>\n",
       "      <td>7.06</td>\n",
       "    </tr>\n",
       "    <tr>\n",
       "      <th>4</th>\n",
       "      <td>вдовец / вдова</td>\n",
       "      <td>951</td>\n",
       "      <td>63</td>\n",
       "      <td>6.62</td>\n",
       "    </tr>\n",
       "  </tbody>\n",
       "</table>\n",
       "</div>"
      ],
      "text/plain": [
       "           family_status  all_count  count  mean\n",
       "0  Не женат / не замужем       2796    273  9.76\n",
       "1       гражданский брак       4134    385  9.31\n",
       "2        женат / замужем      12261    927  7.56\n",
       "3              в разводе       1189     84  7.06\n",
       "4         вдовец / вдова        951     63  6.62"
      ]
     },
     "execution_count": 27,
     "metadata": {},
     "output_type": "execute_result"
    }
   ],
   "source": [
    "# Подсчет количества клиентов без задолжности и с задолжностью по каждому уникальному значению \n",
    "# \"family_status\" - \"семейное положение\" из датафрейма data\n",
    "data_group_status = (\n",
    "    data\n",
    "    .groupby('family_status')['debt']\n",
    "    .agg(['count','sum', 'mean'])\n",
    "    .sort_values(by='mean', ascending=False)\n",
    "    .reset_index()\n",
    ")\n",
    "# Перевод значений из столбца 'mean' в проценты\n",
    "data_group_status['mean'] = round(data_group_status['mean'] * 100, 2)\n",
    "# Переименование столбцов\n",
    "data_group_status = data_group_status.rename(columns={\n",
    "    'count': 'all_count',\n",
    "    'sum': 'count',\n",
    "    'mean': 'mean'\n",
    "})\n",
    "data_group_status"
   ]
  },
  {
   "cell_type": "markdown",
   "id": "95091cff",
   "metadata": {},
   "source": [
    "**Вывод:** \n",
    "\n",
    "- `family_status` - семейное положение;\n",
    "- `all_count` - общее количество клиентов в категории;\n",
    "- `count` - количество клиентов, имеющих задолженность по возврату кредита в категории;\n",
    "- `mean` - `%` клиентов, возвращающих кредит не в срок.\n",
    "\n",
    "Процент клиентов, возвращаемых кредит с задолжностью, больше всего в категории со статусом `Не женат / не замужем`. Почти рядом располагается категория с семейным положением - `гражданский брак`. \n",
    "\n",
    "Люди с семейным положением `женат / замужем` и `в разводе` имеют больший процент возврата кредитов в срок. При этом категория людей со статусом `женат / замужем` занимает 57% от всех данных для исследования (12261 из 21331 клиентов из общего списка).\n",
    "\n",
    "Меньше всего задолжностей у людей, определивших свое положение как `вдовец / вдова`.\n",
    "\n",
    "Гипотеза подтверждается, есть зависимость между семейным положением и возвратом кредита в срок. Люди вне брака чаще всего возвращают кредит не в срок."
   ]
  },
  {
   "cell_type": "markdown",
   "id": "0aa6e31b",
   "metadata": {},
   "source": [
    "### Есть ли зависимость между уровнем дохода и возвратом кредита в срок?"
   ]
  },
  {
   "cell_type": "code",
   "execution_count": 28,
   "id": "e42b91b8",
   "metadata": {},
   "outputs": [
    {
     "data": {
      "text/html": [
       "<div>\n",
       "<style scoped>\n",
       "    .dataframe tbody tr th:only-of-type {\n",
       "        vertical-align: middle;\n",
       "    }\n",
       "\n",
       "    .dataframe tbody tr th {\n",
       "        vertical-align: top;\n",
       "    }\n",
       "\n",
       "    .dataframe thead th {\n",
       "        text-align: right;\n",
       "    }\n",
       "</style>\n",
       "<table border=\"1\" class=\"dataframe\">\n",
       "  <thead>\n",
       "    <tr style=\"text-align: right;\">\n",
       "      <th></th>\n",
       "      <th>total_income_category</th>\n",
       "      <th>all_count</th>\n",
       "      <th>count</th>\n",
       "      <th>mean</th>\n",
       "      <th>total_income_category_name</th>\n",
       "    </tr>\n",
       "  </thead>\n",
       "  <tbody>\n",
       "    <tr>\n",
       "      <th>0</th>\n",
       "      <td>E</td>\n",
       "      <td>22</td>\n",
       "      <td>2</td>\n",
       "      <td>9.09</td>\n",
       "      <td>0–30000</td>\n",
       "    </tr>\n",
       "    <tr>\n",
       "      <th>1</th>\n",
       "      <td>C</td>\n",
       "      <td>15921</td>\n",
       "      <td>1353</td>\n",
       "      <td>8.50</td>\n",
       "      <td>50001–200000</td>\n",
       "    </tr>\n",
       "    <tr>\n",
       "      <th>2</th>\n",
       "      <td>A</td>\n",
       "      <td>25</td>\n",
       "      <td>2</td>\n",
       "      <td>8.00</td>\n",
       "      <td>1000001 и выше</td>\n",
       "    </tr>\n",
       "    <tr>\n",
       "      <th>3</th>\n",
       "      <td>B</td>\n",
       "      <td>5014</td>\n",
       "      <td>354</td>\n",
       "      <td>7.06</td>\n",
       "      <td>200001–1000000</td>\n",
       "    </tr>\n",
       "    <tr>\n",
       "      <th>4</th>\n",
       "      <td>D</td>\n",
       "      <td>349</td>\n",
       "      <td>21</td>\n",
       "      <td>6.02</td>\n",
       "      <td>30001–50000</td>\n",
       "    </tr>\n",
       "  </tbody>\n",
       "</table>\n",
       "</div>"
      ],
      "text/plain": [
       "  total_income_category  all_count  count  mean total_income_category_name\n",
       "0                     E         22      2  9.09                    0–30000\n",
       "1                     C      15921   1353  8.50               50001–200000\n",
       "2                     A         25      2  8.00             1000001 и выше\n",
       "3                     B       5014    354  7.06             200001–1000000\n",
       "4                     D        349     21  6.02                30001–50000"
      ]
     },
     "execution_count": 28,
     "metadata": {},
     "output_type": "execute_result"
    }
   ],
   "source": [
    "# Подсчет количества клиентов без задолжности и с задолжностью по каждому уникальному значению \n",
    "# \"total_income_category\" - \"уровень дохода\" из датафрейма data\n",
    "data_group_income = (\n",
    "    data\n",
    "    .groupby('total_income_category')['debt']\n",
    "    .agg(['count','sum', 'mean'])\n",
    "    .sort_values(by = 'mean', ascending = False)\n",
    "    .reset_index()\n",
    ")\n",
    "# Перевод значений из столбца 'mean' в проценты\n",
    "data_group_income['mean'] = round(data_group_income['mean'] * 100, 2)\n",
    "data_group_income['total_income_category_name'] = data_group_income['total_income_category'].map(dic_income_category)\n",
    "# Переименование столбцов\n",
    "data_group_income = data_group_income.rename(columns={\n",
    "    'count': 'all_count',\n",
    "    'sum': 'count',\n",
    "    'mean': 'mean'\n",
    "})\n",
    "data_group_income"
   ]
  },
  {
   "cell_type": "markdown",
   "id": "2bc10606",
   "metadata": {},
   "source": [
    "**Вывод:** \n",
    "\n",
    "- `total_income_category_name` - уровень дохода;\n",
    "- `all_count` - общее количество клиентов в категории;\n",
    "- `count` - количество клиентов, имеющих задолженность по возврату кредита в категории;\n",
    "- `mean` - `%` клиентов, возвращающих кредит не в срок.\n",
    "\n",
    "Процент клиентов, которые возвращают кредит с задолжностью, выше всего у клиентов с самым низким уровнем дохода, при этом и клиентов таких мало (22 из 21331 это 0,1% клиентов из общего списка).\n",
    "\n",
    "Категория клиентов с самым высоким доходом находится в середине таблицы, но данных очень мало и они мало информативны (25 из 21331 это 0,1% клиентов из общего списка).\n",
    "\n",
    "Гипотеза частично подтверждается, есть зависимость между уровнем дохода и возвратом кредита в срок. Люди с маленьким уровнем дохода чаще всего не возвращают кредит в срок. Но при этом данных сликшом мало, чтобы сделать точные выводы, возможно, была не верно выбрана стратегия категоризации клиентов по уровню дохода. \n",
    "\n",
    "Так же стоит отметить, что в исходных данных было почти 10% (2174 от 21331 клиентов из общего списка) записей с пустым значеним ежемесячного дохода, который был проставлен автоматически, как медиана среди клиентов с таким же типом занятости. Возможно, подобная попытка восстановить данные повлияла на результаты исследования.\n",
    "\n",
    "Но анализируя самые многочисленные выборки можно сделать вывод, что чем выше уровень дохода у клиента, тем чаще он погашает кредит в срок."
   ]
  },
  {
   "cell_type": "markdown",
   "id": "ae769180",
   "metadata": {},
   "source": [
    "### Как разные цели кредита влияют на его возврат в срок?"
   ]
  },
  {
   "cell_type": "code",
   "execution_count": 29,
   "id": "a7d932c0",
   "metadata": {},
   "outputs": [
    {
     "data": {
      "text/html": [
       "<div>\n",
       "<style scoped>\n",
       "    .dataframe tbody tr th:only-of-type {\n",
       "        vertical-align: middle;\n",
       "    }\n",
       "\n",
       "    .dataframe tbody tr th {\n",
       "        vertical-align: top;\n",
       "    }\n",
       "\n",
       "    .dataframe thead th {\n",
       "        text-align: right;\n",
       "    }\n",
       "</style>\n",
       "<table border=\"1\" class=\"dataframe\">\n",
       "  <thead>\n",
       "    <tr style=\"text-align: right;\">\n",
       "      <th></th>\n",
       "      <th>purpose_category</th>\n",
       "      <th>all_count</th>\n",
       "      <th>count</th>\n",
       "      <th>mean</th>\n",
       "    </tr>\n",
       "  </thead>\n",
       "  <tbody>\n",
       "    <tr>\n",
       "      <th>0</th>\n",
       "      <td>операции с автомобилем</td>\n",
       "      <td>4279</td>\n",
       "      <td>400</td>\n",
       "      <td>9.35</td>\n",
       "    </tr>\n",
       "    <tr>\n",
       "      <th>1</th>\n",
       "      <td>получение образования</td>\n",
       "      <td>3988</td>\n",
       "      <td>369</td>\n",
       "      <td>9.25</td>\n",
       "    </tr>\n",
       "    <tr>\n",
       "      <th>2</th>\n",
       "      <td>проведение свадьбы</td>\n",
       "      <td>2313</td>\n",
       "      <td>183</td>\n",
       "      <td>7.91</td>\n",
       "    </tr>\n",
       "    <tr>\n",
       "      <th>3</th>\n",
       "      <td>операции с недвижимостью</td>\n",
       "      <td>10751</td>\n",
       "      <td>780</td>\n",
       "      <td>7.26</td>\n",
       "    </tr>\n",
       "  </tbody>\n",
       "</table>\n",
       "</div>"
      ],
      "text/plain": [
       "           purpose_category  all_count  count  mean\n",
       "0    операции с автомобилем       4279    400  9.35\n",
       "1     получение образования       3988    369  9.25\n",
       "2        проведение свадьбы       2313    183  7.91\n",
       "3  операции с недвижимостью      10751    780  7.26"
      ]
     },
     "execution_count": 29,
     "metadata": {},
     "output_type": "execute_result"
    }
   ],
   "source": [
    "# Подсчет количества клиентов без задолжности и с задолжностью по каждому уникальному значению \n",
    "# \"purpose_category\" - \"категория цели получения дохода\" из датафрейма data\n",
    "data_group_purpose = ( \n",
    "    data\n",
    "    .groupby('purpose_category')['debt']\n",
    "    .agg(['count','sum', 'mean'])\n",
    "    .sort_values(by='mean', ascending = False)\n",
    "    .reset_index()\n",
    ")\n",
    "# Перевод значений из столбца 'mean' в проценты\n",
    "data_group_purpose['mean'] = round(data_group_purpose['mean'] * 100, 2)\n",
    "# Переименование столбцов\n",
    "data_group_purpose = data_group_purpose.rename(columns={\n",
    "    'count': 'all_count',\n",
    "    'sum': 'count',\n",
    "    'mean': 'mean'\n",
    "})\n",
    "data_group_purpose\n"
   ]
  },
  {
   "cell_type": "markdown",
   "id": "524bc11a",
   "metadata": {},
   "source": [
    "**Вывод:** \n",
    "\n",
    "- `purpose_category` - цель получения кредита;\n",
    "- `all_count` - общее количество клиентов в категории;\n",
    "- `count` - количество клиентов, имеющих задолженнгсть по возврату кредита в категории;\n",
    "- `mean` - `%` клиентов, возвращающих кредит не в срок.\n",
    "\n",
    "Клиенты, взявщие кредит на \"операции с автомобилем\" и \"получение образования\", чаще возвращают его не в срок, в отличии от клиентов, взявших кредит на \"проведение свадьбы\" и  \"операции с недвижимостью\".\n",
    "\n",
    "В отношении операций с недвижимостью, возможно, это связано с тем, что кредит на жилье это очень взвешенное решение, и люди взявшие кредит должны быть заранее к этому готовы. Возможно, что этому так же способствуют процентные ставки по кредитам.\n",
    "\n",
    "Кредит на машину, казалось бы тоже очень взвешенное решение, потому что обычно покупка очень дорогая, при этом процент погашения с задолжностью самый высокий. Возможно, клиенты неверно оценивают свои возможности при приобретении автомобиля. Аналогичный результат по образованию.\n",
    "\n",
    "Гипотеза не подтверждается, и не опровергается. Возможно, тут стоит проанализировать суммы кредита, а не цели, на которые он идет. Так же интересно, как хранятся в базе данные по разным кредитам одного и того же клиента, и какая статистика их выплат."
   ]
  },
  {
   "cell_type": "markdown",
   "id": "b66cdbd8",
   "metadata": {},
   "source": [
    "### Приведите возможные причины появления пропусков в исходных данных."
   ]
  },
  {
   "cell_type": "markdown",
   "id": "15edf7fb",
   "metadata": {},
   "source": [
    "На мой взгляд пропуски в данных произошли вследствии технического сбоя при получении данных из БД или хранения информации. При выполнии задания №4 оба столбца имели равное количество пропущенных данных (это несколько подозрительно, т.е. пропуски не хаотичны). Если предположить, что данные по трудовому стажу никак не влияют на процесс выдачи и одобрения кредита, то общий суммарный доход чаще всего это основной показатель платежеспособности клиента. Поэтому \"пустые\" данные тут быть не должны, в то время как их около 10% (2174 от 21331). "
   ]
  },
  {
   "cell_type": "markdown",
   "id": "ef7ec2dd",
   "metadata": {},
   "source": [
    "### Объясните, почему заполнить пропуски медианным значением — лучшее решение для количественных переменных."
   ]
  },
  {
   "cell_type": "markdown",
   "id": "341658d1",
   "metadata": {},
   "source": [
    "При заполнении пропусков медианными значениями на величину не влияют случайные или единичные всплески данных (слишком большие или слишком малые). В отличии от среднего значения, одно единичное слишком большое значение может сильно увеличить среднюю по всей группе"
   ]
  },
  {
   "cell_type": "markdown",
   "id": "e25cbe33",
   "metadata": {},
   "source": [
    "## Общий вывод"
   ]
  },
  {
   "cell_type": "markdown",
   "id": "bd7368a0",
   "metadata": {},
   "source": [
    "### Задачи\n",
    "\n",
    "Необходимо проверить зависимость семейного положения и количества детей на факт погашения кредита в срок.\n",
    "\n",
    "### Описание данных\n",
    "\n",
    "- `children` — количество детей в семье;\n",
    "- `days_employed` — общий трудовой стаж в днях;\n",
    "- `dob_years` — возраст клиента в годах;\n",
    "- `education` — уровень образования клиента;\n",
    "- `education_id` — идентификатор уровня образования;\n",
    "- `family_status` — семейное положение;\n",
    "- `family_status_id` — идентификатор семейного положения;\n",
    "- `gender` — пол клиента;\n",
    "- `income_type` — тип занятости;\n",
    "- `debt` — имел ли задолженность по возврату кредитов;\n",
    "- `total_income` — ежемесячный доход;\n",
    "- `purpose` — цель получения кредита;\n",
    "\n",
    "### Предобработка данных\n",
    "\n",
    "Предварительный анализ данных показал:\n",
    " - столбцы названы правильно и удобно (нет пробелов, нет кириллических букв, нет заглавных букв и служебных символов), никаких преобразований не требуется;\n",
    " - типы данных у столбцов в основном правильные (только у одного столбца был изменен тип данных с вещественного на целочисленный - `total_income` - \"ежемесячный доход\");\n",
    " - есть пропуски данных в столбцах `days_employed` - \"общий трудовой стаж в днях\" и `total_income` - \"ежемесячный доход\".\n",
    "\n",
    "**Пустые данные** не удобны в работе со статистикой. Было принято решение проставить вместо пустых значений в поле `total_income` медианное значение для каждого типа занятости. Аналогично были преобразованы пустые значения в поле `days_employed`\n",
    "\n",
    "В процессе подсчета мединанных значений по типу занятости для столбцов `total_income` и `days_employed` была обнаружена странность: аномально большое количество - безработных и пенсионеров. Исправить такие значения сложно, поэтому принято решение - оставить как есть.\n",
    "\n",
    "Так же была найдена еще одна аномальность в данных: в поле количество детей есть значение \"-1\" и \"20\". Эти строки были удалены.\n",
    "\n",
    "Следующим этапом был **анализ данных на явные и неявные дубликаты**. Неявные дубликаты встретились в столбце `education` - \"уровень образования клиента\" благодаря разному регистру букв. Все записи в столбце были преобразованы к нижнему регистру. После этого были удалены все явные дубликаты записей.\n",
    "\n",
    "Для удобстава анализа информации были добавлены два новых параметра по каждому клиенту, и произведена **категоризация данных** по ним. \n",
    "\n",
    "Каждому клиенту в соответствиии с его доходом была проставлена \"категория доходности клиента\" - `total_income_category`\n",
    "\n",
    "- `0–30000 — 'E'`;\n",
    "- `30001–50000 — 'D'`;\n",
    "- `50001–200000 — 'C'`;\n",
    "- `200001–1000000 — 'B'`;\n",
    "- `1000001 и выше — 'A'`.\n",
    "\n",
    "Каждому клиенту в соответствиии с его доходом была проставлена \"цель кредита\" - `purpose_category`\n",
    "\n",
    "- `'операции с автомобилем'`,\n",
    "- `'операции с недвижимостью'`,\n",
    "- `'проведение свадьбы'`,\n",
    "- `'получение образования'`.\n",
    "\n",
    "После предварительной обработки данных были произведены исследования для подтверждения гипотез.\n",
    "\n",
    "### Исследовательский анализ\n",
    "\n",
    "Гипотеза: есть зависимость между количеством детей и возвратом кредита в срок - подтверждена. Клиенты без детей чаще возвращают кредит в срок.\n",
    "\n",
    "Гипотеза: есть зависимость между семейным положением и возвратом кредита в срок - подтверждена. Клиенты вне брака чаще всего имеют задолжность по возврату кредитов.\n",
    "\n",
    "Гипотеза: есть зависимость между уровнем дохода и возвратом кредита в срок - подтвердилась. Клиенты с низким уровнем дохода, действительно чаще имеют задолжности, но данных слишком мало. Вероятно, была неверно сделана категоризация данных по уровню дохода. А так же на результат могло повлиять утранение пропущенных данных в столбце с доходом (его мы восстанавливали как медиану среди клиентов с таким же типом занятости).\n",
    "\n",
    "Гипотеза: есть зависимость между целью кредита и возвратом кредита в срок - не подтвердилась, и не опроверглась. Клиенты, взявшие кредит на покупку недвижимости, чаще всего возвращают без задолжности, возможно, это связано с осознанностью дорогой покупки или страхом остаться без жилья. Но процент клиентов, взявших кредит на проведение свадьбы и вернувших его с задолжностью, почти совпадает с данными по недвижимости.\n",
    "\n",
    "### Общий вывод\n",
    "\n",
    "В результате исследования можно сделать вывод, что люди в браке, или бывшие ранее в браке, при этом не имеющие детей, или имеющие одного ребенка, с ежемесячным доходом более 200 000 рубей, более отвественно подходят к вопросу погашения кредитов.\n",
    "\n",
    "Банку стоит обратить внимание корректность сбора и хранения данных о клиентах: \n",
    "- много безработных и пенсионеров;\n",
    "- есть некорректные значения в поле \"количество детей в семье\";\n",
    "- встречаются пробелы в поле \"ежемесячный доход\";\n",
    "- встречаются пробелы в поле общий трудовой стаж."
   ]
  },
  {
   "cell_type": "code",
   "execution_count": null,
   "id": "df8c64fa",
   "metadata": {},
   "outputs": [],
   "source": []
  }
 ],
 "metadata": {
  "kernelspec": {
   "display_name": "Python 3 (ipykernel)",
   "language": "python",
   "name": "python3"
  },
  "language_info": {
   "codemirror_mode": {
    "name": "ipython",
    "version": 3
   },
   "file_extension": ".py",
   "mimetype": "text/x-python",
   "name": "python",
   "nbconvert_exporter": "python",
   "pygments_lexer": "ipython3",
   "version": "3.11.5"
  },
  "toc": {
   "base_numbering": 1,
   "nav_menu": {},
   "number_sections": true,
   "sideBar": true,
   "skip_h1_title": true,
   "title_cell": "Table of Contents",
   "title_sidebar": "Contents",
   "toc_cell": false,
   "toc_position": {
    "height": "calc(100% - 180px)",
    "left": "10px",
    "top": "150px",
    "width": "384px"
   },
   "toc_section_display": true,
   "toc_window_display": true
  }
 },
 "nbformat": 4,
 "nbformat_minor": 5
}
