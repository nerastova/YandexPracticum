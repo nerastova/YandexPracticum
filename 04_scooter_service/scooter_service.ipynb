{
 "cells": [
  {
   "cell_type": "markdown",
   "id": "24a4f441",
   "metadata": {},
   "source": [
    "# Исследование данных сервиса аренды самокатов GoFast\n",
    "\n",
    "В нашем распоряжении данные о некоторых пользователях из нескольких городов, а также об их поездках. Необходимо проанализировать данные и проверить некоторые гипотезы, которые могут помочь бизнесу вырасти.\n",
    "\n",
    "Чтобы совершать поездки по городу, пользователи сервиса GoFast пользуются мобильным приложением. Сервисом можно пользоваться:\n",
    "- без подписки\n",
    "    - абонентская плата отсутствует;\n",
    "    - стоимость одной минуты поездки — 8 рублей;\n",
    "    - стоимость старта (начала поездки) — 50 рублей;\n",
    "- с подпиской Ultra\n",
    "    - абонентская плата — 199 рублей в месяц;\n",
    "    - стоимость одной минуты поездки — 6 рублей;\n",
    "    - стоимость старта — бесплатно.\n",
    "    \n",
    "    \n",
    "## Описание данных\n",
    "В основных данных есть информация о пользователях, их поездках и подписках.\n",
    "\n",
    "### Пользователи — users_go.csv\n",
    "- `user_id`\t-\tуникальный идентификатор пользователя\n",
    "- `name`\t-\tимя пользователя\n",
    "- `age`\t-\tвозраст\n",
    "- `city`\t-\tгород\n",
    "- `subscription_type`\t-\tтип подписки (free, ultra)\n",
    "### Поездки — rides_go.csv\n",
    "- `user_id`\t-\tуникальный идентификатор пользователя\n",
    "- `distance`\t-\tрасстояние, которое пользователь проехал в текущей сессии (в метрах)\n",
    "- `duration`\t-\tпродолжительность сессии (в минутах) — время с того момента, как пользователь нажал кнопку «Начать поездку» до момента, как он нажал кнопку «Завершить поездку»\n",
    "- `date`\t-\tдата совершения поездки\n",
    "### Подписки — subscriptions_go.csv\n",
    "- `subscription_type`\t-\tтип подписки\n",
    "- `minute_price`\t-\tстоимость одной минуты поездки по данной подписке\n",
    "- `start_ride_price`\t-\tстоимость начала поездки\n",
    "- `subscription_fee`\t-\tстоимость ежемесячного платежа\n"
   ]
  },
  {
   "cell_type": "markdown",
   "id": "a277cfaf",
   "metadata": {},
   "source": [
    "**Цель исследования:**\n",
    "1. Разделить данные по двум группам для поездок клиентов с подписками и без подписок.\n",
    "2. Проанализировать средние значения выыборок по разным параметрам.\n",
    "3. Посчитать помесячную выручку каждого клиента и проанализировать ее.\n",
    "4. Проверить гипотезы сравнения данных по клиентам с подписками и без подписок.\n",
    "\n",
    "\n",
    "**Ход исследования:**\n",
    "1. Прочитать данные из файлов и сохранить их в датафремы.\n",
    "2. Обзор данных.\n",
    "3. Предобработка данных.\n",
    "4. Расчеты и формирование новых датафреймов и столбцов.\n",
    "5. Анализ полученных результатов исследования данных.\n",
    "6. Проверка гипотез о средней длительности поездке, средней месячной выручке и среднем расстоянии поездки."
   ]
  },
  {
   "cell_type": "code",
   "execution_count": 1,
   "id": "72576667",
   "metadata": {},
   "outputs": [],
   "source": [
    "import pandas as pd\n",
    "import matplotlib.pyplot as plt\n",
    "import numpy as np\n",
    "import scipy.stats as stats\n",
    "from math import sqrt\n"
   ]
  },
  {
   "cell_type": "markdown",
   "id": "c42cbe00",
   "metadata": {},
   "source": [
    "## Загрузка данных"
   ]
  },
  {
   "cell_type": "code",
   "execution_count": 2,
   "id": "eff9f206",
   "metadata": {},
   "outputs": [],
   "source": [
    "# Чтение данных из csv-файла в датафрейм и сохранение в переменную users_df \n",
    "# Путь к файлу: /datasets/users_go.csv\n",
    "try:\n",
    "    users_df = pd.read_csv('https://code.s3.yandex.net/datasets/users_go.csv')\n",
    "except FileNotFoundError as e:\n",
    "    print(f\"FileNotFoundError successfully handled\\n\"\n",
    "          f\"{e}\")\n"
   ]
  },
  {
   "cell_type": "code",
   "execution_count": 3,
   "id": "76bf0d9d",
   "metadata": {},
   "outputs": [
    {
     "data": {
      "text/html": [
       "<div>\n",
       "<style scoped>\n",
       "    .dataframe tbody tr th:only-of-type {\n",
       "        vertical-align: middle;\n",
       "    }\n",
       "\n",
       "    .dataframe tbody tr th {\n",
       "        vertical-align: top;\n",
       "    }\n",
       "\n",
       "    .dataframe thead th {\n",
       "        text-align: right;\n",
       "    }\n",
       "</style>\n",
       "<table border=\"1\" class=\"dataframe\">\n",
       "  <thead>\n",
       "    <tr style=\"text-align: right;\">\n",
       "      <th></th>\n",
       "      <th>user_id</th>\n",
       "      <th>name</th>\n",
       "      <th>age</th>\n",
       "      <th>city</th>\n",
       "      <th>subscription_type</th>\n",
       "    </tr>\n",
       "  </thead>\n",
       "  <tbody>\n",
       "    <tr>\n",
       "      <th>0</th>\n",
       "      <td>1</td>\n",
       "      <td>Кира</td>\n",
       "      <td>22</td>\n",
       "      <td>Тюмень</td>\n",
       "      <td>ultra</td>\n",
       "    </tr>\n",
       "    <tr>\n",
       "      <th>1</th>\n",
       "      <td>2</td>\n",
       "      <td>Станислав</td>\n",
       "      <td>31</td>\n",
       "      <td>Омск</td>\n",
       "      <td>ultra</td>\n",
       "    </tr>\n",
       "    <tr>\n",
       "      <th>2</th>\n",
       "      <td>3</td>\n",
       "      <td>Алексей</td>\n",
       "      <td>20</td>\n",
       "      <td>Москва</td>\n",
       "      <td>ultra</td>\n",
       "    </tr>\n",
       "    <tr>\n",
       "      <th>3</th>\n",
       "      <td>4</td>\n",
       "      <td>Константин</td>\n",
       "      <td>26</td>\n",
       "      <td>Ростов-на-Дону</td>\n",
       "      <td>ultra</td>\n",
       "    </tr>\n",
       "    <tr>\n",
       "      <th>4</th>\n",
       "      <td>5</td>\n",
       "      <td>Адель</td>\n",
       "      <td>28</td>\n",
       "      <td>Омск</td>\n",
       "      <td>ultra</td>\n",
       "    </tr>\n",
       "    <tr>\n",
       "      <th>5</th>\n",
       "      <td>6</td>\n",
       "      <td>Регина</td>\n",
       "      <td>25</td>\n",
       "      <td>Краснодар</td>\n",
       "      <td>ultra</td>\n",
       "    </tr>\n",
       "    <tr>\n",
       "      <th>6</th>\n",
       "      <td>7</td>\n",
       "      <td>Игорь</td>\n",
       "      <td>23</td>\n",
       "      <td>Омск</td>\n",
       "      <td>ultra</td>\n",
       "    </tr>\n",
       "    <tr>\n",
       "      <th>7</th>\n",
       "      <td>8</td>\n",
       "      <td>Юрий</td>\n",
       "      <td>23</td>\n",
       "      <td>Краснодар</td>\n",
       "      <td>ultra</td>\n",
       "    </tr>\n",
       "    <tr>\n",
       "      <th>8</th>\n",
       "      <td>9</td>\n",
       "      <td>Ян</td>\n",
       "      <td>21</td>\n",
       "      <td>Пятигорск</td>\n",
       "      <td>ultra</td>\n",
       "    </tr>\n",
       "    <tr>\n",
       "      <th>9</th>\n",
       "      <td>10</td>\n",
       "      <td>Валерий</td>\n",
       "      <td>18</td>\n",
       "      <td>Екатеринбург</td>\n",
       "      <td>ultra</td>\n",
       "    </tr>\n",
       "  </tbody>\n",
       "</table>\n",
       "</div>"
      ],
      "text/plain": [
       "   user_id        name  age            city subscription_type\n",
       "0        1        Кира   22          Тюмень             ultra\n",
       "1        2   Станислав   31            Омск             ultra\n",
       "2        3     Алексей   20          Москва             ultra\n",
       "3        4  Константин   26  Ростов-на-Дону             ultra\n",
       "4        5       Адель   28            Омск             ultra\n",
       "5        6      Регина   25       Краснодар             ultra\n",
       "6        7       Игорь   23            Омск             ultra\n",
       "7        8        Юрий   23       Краснодар             ultra\n",
       "8        9          Ян   21       Пятигорск             ultra\n",
       "9       10     Валерий   18    Екатеринбург             ultra"
      ]
     },
     "execution_count": 3,
     "metadata": {},
     "output_type": "execute_result"
    }
   ],
   "source": [
    "# Вывод первых 10 строчек датафрейма users_df на экран\n",
    "users_df.head(10)"
   ]
  },
  {
   "cell_type": "code",
   "execution_count": 4,
   "id": "b610e8b8",
   "metadata": {},
   "outputs": [],
   "source": [
    "# Чтение данных из csv-файла в датафрейм и сохранение в переменную rides_df \n",
    "# Путь к файлу: /datasets/rides_go.csv\n",
    "try:\n",
    "    rides_df = pd.read_csv('https://code.s3.yandex.net/datasets/rides_go.csv')\n",
    "except FileNotFoundError as e:\n",
    "    print(f\"FileNotFoundError successfully handled\\n\"\n",
    "          f\"{e}\")\n"
   ]
  },
  {
   "cell_type": "code",
   "execution_count": 5,
   "id": "30d5f21f",
   "metadata": {},
   "outputs": [
    {
     "data": {
      "text/html": [
       "<div>\n",
       "<style scoped>\n",
       "    .dataframe tbody tr th:only-of-type {\n",
       "        vertical-align: middle;\n",
       "    }\n",
       "\n",
       "    .dataframe tbody tr th {\n",
       "        vertical-align: top;\n",
       "    }\n",
       "\n",
       "    .dataframe thead th {\n",
       "        text-align: right;\n",
       "    }\n",
       "</style>\n",
       "<table border=\"1\" class=\"dataframe\">\n",
       "  <thead>\n",
       "    <tr style=\"text-align: right;\">\n",
       "      <th></th>\n",
       "      <th>user_id</th>\n",
       "      <th>distance</th>\n",
       "      <th>duration</th>\n",
       "      <th>date</th>\n",
       "    </tr>\n",
       "  </thead>\n",
       "  <tbody>\n",
       "    <tr>\n",
       "      <th>0</th>\n",
       "      <td>1</td>\n",
       "      <td>4409.919140</td>\n",
       "      <td>25.599769</td>\n",
       "      <td>2021-01-01</td>\n",
       "    </tr>\n",
       "    <tr>\n",
       "      <th>1</th>\n",
       "      <td>1</td>\n",
       "      <td>2617.592153</td>\n",
       "      <td>15.816871</td>\n",
       "      <td>2021-01-18</td>\n",
       "    </tr>\n",
       "    <tr>\n",
       "      <th>2</th>\n",
       "      <td>1</td>\n",
       "      <td>754.159807</td>\n",
       "      <td>6.232113</td>\n",
       "      <td>2021-04-20</td>\n",
       "    </tr>\n",
       "    <tr>\n",
       "      <th>3</th>\n",
       "      <td>1</td>\n",
       "      <td>2694.783254</td>\n",
       "      <td>18.511000</td>\n",
       "      <td>2021-08-11</td>\n",
       "    </tr>\n",
       "    <tr>\n",
       "      <th>4</th>\n",
       "      <td>1</td>\n",
       "      <td>4028.687306</td>\n",
       "      <td>26.265803</td>\n",
       "      <td>2021-08-28</td>\n",
       "    </tr>\n",
       "    <tr>\n",
       "      <th>5</th>\n",
       "      <td>1</td>\n",
       "      <td>2770.890808</td>\n",
       "      <td>16.650138</td>\n",
       "      <td>2021-10-09</td>\n",
       "    </tr>\n",
       "    <tr>\n",
       "      <th>6</th>\n",
       "      <td>1</td>\n",
       "      <td>3039.020292</td>\n",
       "      <td>14.927879</td>\n",
       "      <td>2021-10-19</td>\n",
       "    </tr>\n",
       "    <tr>\n",
       "      <th>7</th>\n",
       "      <td>1</td>\n",
       "      <td>2842.118050</td>\n",
       "      <td>23.117468</td>\n",
       "      <td>2021-11-06</td>\n",
       "    </tr>\n",
       "    <tr>\n",
       "      <th>8</th>\n",
       "      <td>1</td>\n",
       "      <td>3412.690668</td>\n",
       "      <td>15.238072</td>\n",
       "      <td>2021-11-14</td>\n",
       "    </tr>\n",
       "    <tr>\n",
       "      <th>9</th>\n",
       "      <td>1</td>\n",
       "      <td>748.690645</td>\n",
       "      <td>15.041884</td>\n",
       "      <td>2021-11-22</td>\n",
       "    </tr>\n",
       "  </tbody>\n",
       "</table>\n",
       "</div>"
      ],
      "text/plain": [
       "   user_id     distance   duration        date\n",
       "0        1  4409.919140  25.599769  2021-01-01\n",
       "1        1  2617.592153  15.816871  2021-01-18\n",
       "2        1   754.159807   6.232113  2021-04-20\n",
       "3        1  2694.783254  18.511000  2021-08-11\n",
       "4        1  4028.687306  26.265803  2021-08-28\n",
       "5        1  2770.890808  16.650138  2021-10-09\n",
       "6        1  3039.020292  14.927879  2021-10-19\n",
       "7        1  2842.118050  23.117468  2021-11-06\n",
       "8        1  3412.690668  15.238072  2021-11-14\n",
       "9        1   748.690645  15.041884  2021-11-22"
      ]
     },
     "execution_count": 5,
     "metadata": {},
     "output_type": "execute_result"
    }
   ],
   "source": [
    "# Вывод первых 10 строчек датафрейма rides_df на экран\n",
    "rides_df.head(10)"
   ]
  },
  {
   "cell_type": "code",
   "execution_count": 6,
   "id": "59a9d145",
   "metadata": {},
   "outputs": [],
   "source": [
    "# Чтение данных из csv-файла в датафрейм и сохранение в переменную subscriptions_df\n",
    "# Путь к файлу: /datasets/subscriptions_go.csv\n",
    "try:\n",
    "    subscriptions_df = pd.read_csv('https://code.s3.yandex.net/datasets/subscriptions_go.csv')\n",
    "except FileNotFoundError as e:\n",
    "    print(f\"FileNotFoundError successfully handled\\n\"\n",
    "          f\"{e}\")\n"
   ]
  },
  {
   "cell_type": "code",
   "execution_count": 7,
   "id": "31cd7014",
   "metadata": {},
   "outputs": [
    {
     "data": {
      "text/html": [
       "<div>\n",
       "<style scoped>\n",
       "    .dataframe tbody tr th:only-of-type {\n",
       "        vertical-align: middle;\n",
       "    }\n",
       "\n",
       "    .dataframe tbody tr th {\n",
       "        vertical-align: top;\n",
       "    }\n",
       "\n",
       "    .dataframe thead th {\n",
       "        text-align: right;\n",
       "    }\n",
       "</style>\n",
       "<table border=\"1\" class=\"dataframe\">\n",
       "  <thead>\n",
       "    <tr style=\"text-align: right;\">\n",
       "      <th></th>\n",
       "      <th>subscription_type</th>\n",
       "      <th>minute_price</th>\n",
       "      <th>start_ride_price</th>\n",
       "      <th>subscription_fee</th>\n",
       "    </tr>\n",
       "  </thead>\n",
       "  <tbody>\n",
       "    <tr>\n",
       "      <th>0</th>\n",
       "      <td>free</td>\n",
       "      <td>8</td>\n",
       "      <td>50</td>\n",
       "      <td>0</td>\n",
       "    </tr>\n",
       "    <tr>\n",
       "      <th>1</th>\n",
       "      <td>ultra</td>\n",
       "      <td>6</td>\n",
       "      <td>0</td>\n",
       "      <td>199</td>\n",
       "    </tr>\n",
       "  </tbody>\n",
       "</table>\n",
       "</div>"
      ],
      "text/plain": [
       "  subscription_type  minute_price  start_ride_price  subscription_fee\n",
       "0              free             8                50                 0\n",
       "1             ultra             6                 0               199"
      ]
     },
     "execution_count": 7,
     "metadata": {},
     "output_type": "execute_result"
    }
   ],
   "source": [
    "# Вывод первых 10 строчек датафрейма subscriptions_df на экран\n",
    "subscriptions_df.head(10)"
   ]
  },
  {
   "cell_type": "code",
   "execution_count": 8,
   "id": "b7eaecc6",
   "metadata": {},
   "outputs": [
    {
     "name": "stdout",
     "output_type": "stream",
     "text": [
      "<class 'pandas.core.frame.DataFrame'>\n",
      "RangeIndex: 1565 entries, 0 to 1564\n",
      "Data columns (total 5 columns):\n",
      " #   Column             Non-Null Count  Dtype \n",
      "---  ------             --------------  ----- \n",
      " 0   user_id            1565 non-null   int64 \n",
      " 1   name               1565 non-null   object\n",
      " 2   age                1565 non-null   int64 \n",
      " 3   city               1565 non-null   object\n",
      " 4   subscription_type  1565 non-null   object\n",
      "dtypes: int64(2), object(3)\n",
      "memory usage: 61.3+ KB\n"
     ]
    }
   ],
   "source": [
    "# Вывод основной информации о датафрейме users_df с помощью метода info().\n",
    "users_df.info()"
   ]
  },
  {
   "cell_type": "code",
   "execution_count": 9,
   "id": "1f0b837f",
   "metadata": {},
   "outputs": [
    {
     "name": "stdout",
     "output_type": "stream",
     "text": [
      "<class 'pandas.core.frame.DataFrame'>\n",
      "RangeIndex: 18068 entries, 0 to 18067\n",
      "Data columns (total 4 columns):\n",
      " #   Column    Non-Null Count  Dtype  \n",
      "---  ------    --------------  -----  \n",
      " 0   user_id   18068 non-null  int64  \n",
      " 1   distance  18068 non-null  float64\n",
      " 2   duration  18068 non-null  float64\n",
      " 3   date      18068 non-null  object \n",
      "dtypes: float64(2), int64(1), object(1)\n",
      "memory usage: 564.8+ KB\n"
     ]
    }
   ],
   "source": [
    "# Вывод основной информации о датафрейме rides_df с помощью метода info().\n",
    "rides_df.info()"
   ]
  },
  {
   "cell_type": "code",
   "execution_count": 10,
   "id": "2e30189c",
   "metadata": {},
   "outputs": [
    {
     "name": "stdout",
     "output_type": "stream",
     "text": [
      "<class 'pandas.core.frame.DataFrame'>\n",
      "RangeIndex: 2 entries, 0 to 1\n",
      "Data columns (total 4 columns):\n",
      " #   Column             Non-Null Count  Dtype \n",
      "---  ------             --------------  ----- \n",
      " 0   subscription_type  2 non-null      object\n",
      " 1   minute_price       2 non-null      int64 \n",
      " 2   start_ride_price   2 non-null      int64 \n",
      " 3   subscription_fee   2 non-null      int64 \n",
      "dtypes: int64(3), object(1)\n",
      "memory usage: 196.0+ bytes\n"
     ]
    }
   ],
   "source": [
    "# Вывод основной информации о датафрейме subscriptions с помощью метода info().\n",
    "subscriptions_df.info()"
   ]
  },
  {
   "cell_type": "markdown",
   "id": "c19cca7e",
   "metadata": {},
   "source": [
    "Количество данных в столбцах равно общему количеству строк во всех трех датафреймах соответственно. Значит в них скорее всего отсутствуют пропущенные значения.\n",
    "\n",
    "Все столбцы имеют понятные и правильные названия.\n",
    "\n",
    "В некоторых столбцах имеется несоотвествие типа данных, необходимо подкорректировать."
   ]
  },
  {
   "cell_type": "markdown",
   "id": "e95ebca7",
   "metadata": {},
   "source": [
    "## Предобработка данных"
   ]
  },
  {
   "cell_type": "markdown",
   "id": "bcf36cda",
   "metadata": {},
   "source": [
    "### Приведение столбца `date` датафрейма `rides` к типу даты pandas"
   ]
  },
  {
   "cell_type": "code",
   "execution_count": 11,
   "id": "af6d202c",
   "metadata": {},
   "outputs": [],
   "source": [
    "# Поменяем тип данных столбцу на date датафрейма rides_df согласно описанию данных\n",
    "rides_df['date'] = rides_df['date'].astype('datetime64[ns]')\n"
   ]
  },
  {
   "cell_type": "markdown",
   "id": "60a08e1f",
   "metadata": {},
   "source": [
    "### Создание нового столбца с номером месяца на основе столбца `date` датафрейма `rides_df`"
   ]
  },
  {
   "cell_type": "code",
   "execution_count": 12,
   "id": "eaffa628",
   "metadata": {},
   "outputs": [
    {
     "name": "stdout",
     "output_type": "stream",
     "text": [
      "0        2021-01-01\n",
      "1        2021-01-18\n",
      "2        2021-04-20\n",
      "3        2021-08-11\n",
      "4        2021-08-28\n",
      "            ...    \n",
      "18063    2021-11-04\n",
      "18064    2021-11-16\n",
      "18065    2021-11-18\n",
      "18066    2021-11-27\n",
      "18067    2021-12-29\n",
      "Name: date, Length: 18068, dtype: object\n"
     ]
    }
   ],
   "source": [
    "# Посмотрим, какие даты присутствуют в датафрейме rides_df\n",
    "print(rides_df['date'].dt.date)"
   ]
  },
  {
   "cell_type": "markdown",
   "id": "819faf99",
   "metadata": {},
   "source": [
    "В датафрейме присутствуют данные только за 2021 год. Добавим столбец с номером месяца для каждой поездки из датафрейма `rides_df`"
   ]
  },
  {
   "cell_type": "code",
   "execution_count": 13,
   "id": "631e30ba",
   "metadata": {},
   "outputs": [],
   "source": [
    "# Добавление нового столбца month: месяц в датафрейм rides_df\n",
    "rides_df['month'] = pd.DatetimeIndex(rides_df['date']).month"
   ]
  },
  {
   "cell_type": "markdown",
   "id": "586ca9a9",
   "metadata": {},
   "source": [
    "### Проверка наличия пропущенных значений"
   ]
  },
  {
   "cell_type": "code",
   "execution_count": 14,
   "id": "ff859bd5",
   "metadata": {},
   "outputs": [
    {
     "data": {
      "text/plain": [
       "user_id              0\n",
       "name                 0\n",
       "age                  0\n",
       "city                 0\n",
       "subscription_type    0\n",
       "dtype: int64"
      ]
     },
     "execution_count": 14,
     "metadata": {},
     "output_type": "execute_result"
    }
   ],
   "source": [
    "# Проверка количества пропущенных значений по каждому столбцу в датафрейме users_df\n",
    "users_df.isna().sum()\n"
   ]
  },
  {
   "cell_type": "code",
   "execution_count": 15,
   "id": "fe5cea3c",
   "metadata": {},
   "outputs": [
    {
     "data": {
      "text/plain": [
       "user_id     0\n",
       "distance    0\n",
       "duration    0\n",
       "date        0\n",
       "month       0\n",
       "dtype: int64"
      ]
     },
     "execution_count": 15,
     "metadata": {},
     "output_type": "execute_result"
    }
   ],
   "source": [
    "# Проверка количества пропущенных значений по каждому столбцу в датафрейме rides_df\n",
    "rides_df.isna().sum()\n"
   ]
  },
  {
   "cell_type": "code",
   "execution_count": 16,
   "id": "0c35a60a",
   "metadata": {},
   "outputs": [
    {
     "data": {
      "text/plain": [
       "subscription_type    0\n",
       "minute_price         0\n",
       "start_ride_price     0\n",
       "subscription_fee     0\n",
       "dtype: int64"
      ]
     },
     "execution_count": 16,
     "metadata": {},
     "output_type": "execute_result"
    }
   ],
   "source": [
    "# Проверка количества пропущенных значений по каждому столбцу в датафрейме subscriptions_df\n",
    "subscriptions_df.isna().sum()\n"
   ]
  },
  {
   "cell_type": "markdown",
   "id": "1b60343c",
   "metadata": {},
   "source": [
    "Пропущенных значений нет ни в одном столбце ни в одном датафрейме."
   ]
  },
  {
   "cell_type": "markdown",
   "id": "061351a2",
   "metadata": {},
   "source": [
    "### Удаление дубликатов во всех датафреймах"
   ]
  },
  {
   "cell_type": "code",
   "execution_count": 17,
   "id": "cc998060",
   "metadata": {},
   "outputs": [],
   "source": [
    "# Удаление явных дубликатов\n",
    "users_df = users_df.drop_duplicates()\n",
    "rides_df = rides_df.drop_duplicates()\n",
    "subscriptions_df = subscriptions_df.drop_duplicates()"
   ]
  },
  {
   "cell_type": "markdown",
   "id": "6112cb87",
   "metadata": {},
   "source": [
    "### Изучим информацию о каждом датафрейме после предобработки данных"
   ]
  },
  {
   "cell_type": "code",
   "execution_count": 18,
   "id": "c32d8b7e",
   "metadata": {},
   "outputs": [
    {
     "name": "stdout",
     "output_type": "stream",
     "text": [
      "<class 'pandas.core.frame.DataFrame'>\n",
      "Index: 1534 entries, 0 to 1533\n",
      "Data columns (total 5 columns):\n",
      " #   Column             Non-Null Count  Dtype \n",
      "---  ------             --------------  ----- \n",
      " 0   user_id            1534 non-null   int64 \n",
      " 1   name               1534 non-null   object\n",
      " 2   age                1534 non-null   int64 \n",
      " 3   city               1534 non-null   object\n",
      " 4   subscription_type  1534 non-null   object\n",
      "dtypes: int64(2), object(3)\n",
      "memory usage: 71.9+ KB\n"
     ]
    }
   ],
   "source": [
    "# Вывод основной информации о датафрейме users_df с помощью метода info().\n",
    "users_df.info()"
   ]
  },
  {
   "cell_type": "code",
   "execution_count": 19,
   "id": "d3ee4cc0",
   "metadata": {},
   "outputs": [
    {
     "name": "stdout",
     "output_type": "stream",
     "text": [
      "<class 'pandas.core.frame.DataFrame'>\n",
      "RangeIndex: 18068 entries, 0 to 18067\n",
      "Data columns (total 5 columns):\n",
      " #   Column    Non-Null Count  Dtype         \n",
      "---  ------    --------------  -----         \n",
      " 0   user_id   18068 non-null  int64         \n",
      " 1   distance  18068 non-null  float64       \n",
      " 2   duration  18068 non-null  float64       \n",
      " 3   date      18068 non-null  datetime64[ns]\n",
      " 4   month     18068 non-null  int32         \n",
      "dtypes: datetime64[ns](1), float64(2), int32(1), int64(1)\n",
      "memory usage: 635.3 KB\n"
     ]
    }
   ],
   "source": [
    "# Вывод основной информации о датафрейме rides_df с помощью метода info().\n",
    "rides_df.info()"
   ]
  },
  {
   "cell_type": "code",
   "execution_count": 20,
   "id": "cee8751e",
   "metadata": {},
   "outputs": [
    {
     "name": "stdout",
     "output_type": "stream",
     "text": [
      "<class 'pandas.core.frame.DataFrame'>\n",
      "RangeIndex: 2 entries, 0 to 1\n",
      "Data columns (total 4 columns):\n",
      " #   Column             Non-Null Count  Dtype \n",
      "---  ------             --------------  ----- \n",
      " 0   subscription_type  2 non-null      object\n",
      " 1   minute_price       2 non-null      int64 \n",
      " 2   start_ride_price   2 non-null      int64 \n",
      " 3   subscription_fee   2 non-null      int64 \n",
      "dtypes: int64(3), object(1)\n",
      "memory usage: 196.0+ bytes\n"
     ]
    }
   ],
   "source": [
    "# Вывод основной информации о датафрейме subscriptions с помощью метода info().\n",
    "subscriptions_df.info()"
   ]
  },
  {
   "cell_type": "markdown",
   "id": "c83e85bb",
   "metadata": {},
   "source": [
    "Количество строк уменьшилось в датафрейме `users_df` на 31 штуку, значит были дублирующие значения, которые мы удалили. В остальных датафреймах все без изменений."
   ]
  },
  {
   "cell_type": "markdown",
   "id": "a27a857b",
   "metadata": {},
   "source": [
    "### Основные статистические характеристики данных по числовым столбцам"
   ]
  },
  {
   "cell_type": "code",
   "execution_count": 21,
   "id": "9d210b76",
   "metadata": {
    "scrolled": false
   },
   "outputs": [
    {
     "data": {
      "text/html": [
       "<div>\n",
       "<style scoped>\n",
       "    .dataframe tbody tr th:only-of-type {\n",
       "        vertical-align: middle;\n",
       "    }\n",
       "\n",
       "    .dataframe tbody tr th {\n",
       "        vertical-align: top;\n",
       "    }\n",
       "\n",
       "    .dataframe thead th {\n",
       "        text-align: right;\n",
       "    }\n",
       "</style>\n",
       "<table border=\"1\" class=\"dataframe\">\n",
       "  <thead>\n",
       "    <tr style=\"text-align: right;\">\n",
       "      <th></th>\n",
       "      <th>user_id</th>\n",
       "      <th>age</th>\n",
       "    </tr>\n",
       "  </thead>\n",
       "  <tbody>\n",
       "    <tr>\n",
       "      <th>count</th>\n",
       "      <td>1534.000000</td>\n",
       "      <td>1534.000000</td>\n",
       "    </tr>\n",
       "    <tr>\n",
       "      <th>mean</th>\n",
       "      <td>767.500000</td>\n",
       "      <td>24.903520</td>\n",
       "    </tr>\n",
       "    <tr>\n",
       "      <th>std</th>\n",
       "      <td>442.971971</td>\n",
       "      <td>4.572367</td>\n",
       "    </tr>\n",
       "    <tr>\n",
       "      <th>min</th>\n",
       "      <td>1.000000</td>\n",
       "      <td>12.000000</td>\n",
       "    </tr>\n",
       "    <tr>\n",
       "      <th>25%</th>\n",
       "      <td>384.250000</td>\n",
       "      <td>22.000000</td>\n",
       "    </tr>\n",
       "    <tr>\n",
       "      <th>50%</th>\n",
       "      <td>767.500000</td>\n",
       "      <td>25.000000</td>\n",
       "    </tr>\n",
       "    <tr>\n",
       "      <th>75%</th>\n",
       "      <td>1150.750000</td>\n",
       "      <td>28.000000</td>\n",
       "    </tr>\n",
       "    <tr>\n",
       "      <th>max</th>\n",
       "      <td>1534.000000</td>\n",
       "      <td>43.000000</td>\n",
       "    </tr>\n",
       "  </tbody>\n",
       "</table>\n",
       "</div>"
      ],
      "text/plain": [
       "           user_id          age\n",
       "count  1534.000000  1534.000000\n",
       "mean    767.500000    24.903520\n",
       "std     442.971971     4.572367\n",
       "min       1.000000    12.000000\n",
       "25%     384.250000    22.000000\n",
       "50%     767.500000    25.000000\n",
       "75%    1150.750000    28.000000\n",
       "max    1534.000000    43.000000"
      ]
     },
     "execution_count": 21,
     "metadata": {},
     "output_type": "execute_result"
    }
   ],
   "source": [
    "# Список основных статистических характеристик данных по числовым столбцам датафрейма users_df\n",
    "users_df.describe()"
   ]
  },
  {
   "cell_type": "code",
   "execution_count": 22,
   "id": "ebf16a2b",
   "metadata": {
    "scrolled": false
   },
   "outputs": [
    {
     "data": {
      "text/html": [
       "<div>\n",
       "<style scoped>\n",
       "    .dataframe tbody tr th:only-of-type {\n",
       "        vertical-align: middle;\n",
       "    }\n",
       "\n",
       "    .dataframe tbody tr th {\n",
       "        vertical-align: top;\n",
       "    }\n",
       "\n",
       "    .dataframe thead th {\n",
       "        text-align: right;\n",
       "    }\n",
       "</style>\n",
       "<table border=\"1\" class=\"dataframe\">\n",
       "  <thead>\n",
       "    <tr style=\"text-align: right;\">\n",
       "      <th></th>\n",
       "      <th>user_id</th>\n",
       "      <th>distance</th>\n",
       "      <th>duration</th>\n",
       "      <th>date</th>\n",
       "      <th>month</th>\n",
       "    </tr>\n",
       "  </thead>\n",
       "  <tbody>\n",
       "    <tr>\n",
       "      <th>count</th>\n",
       "      <td>18068.000000</td>\n",
       "      <td>18068.000000</td>\n",
       "      <td>18068.000000</td>\n",
       "      <td>18068</td>\n",
       "      <td>18068.000000</td>\n",
       "    </tr>\n",
       "    <tr>\n",
       "      <th>mean</th>\n",
       "      <td>842.869936</td>\n",
       "      <td>3070.659976</td>\n",
       "      <td>17.805011</td>\n",
       "      <td>2021-06-30 19:47:21.266327296</td>\n",
       "      <td>6.486772</td>\n",
       "    </tr>\n",
       "    <tr>\n",
       "      <th>min</th>\n",
       "      <td>1.000000</td>\n",
       "      <td>0.855683</td>\n",
       "      <td>0.500000</td>\n",
       "      <td>2021-01-01 00:00:00</td>\n",
       "      <td>1.000000</td>\n",
       "    </tr>\n",
       "    <tr>\n",
       "      <th>25%</th>\n",
       "      <td>487.000000</td>\n",
       "      <td>2543.226360</td>\n",
       "      <td>13.597563</td>\n",
       "      <td>2021-04-02 00:00:00</td>\n",
       "      <td>4.000000</td>\n",
       "    </tr>\n",
       "    <tr>\n",
       "      <th>50%</th>\n",
       "      <td>889.000000</td>\n",
       "      <td>3133.609994</td>\n",
       "      <td>17.678395</td>\n",
       "      <td>2021-06-30 00:00:00</td>\n",
       "      <td>6.000000</td>\n",
       "    </tr>\n",
       "    <tr>\n",
       "      <th>75%</th>\n",
       "      <td>1213.250000</td>\n",
       "      <td>3776.222735</td>\n",
       "      <td>21.724800</td>\n",
       "      <td>2021-09-28 00:00:00</td>\n",
       "      <td>9.000000</td>\n",
       "    </tr>\n",
       "    <tr>\n",
       "      <th>max</th>\n",
       "      <td>1534.000000</td>\n",
       "      <td>7211.007745</td>\n",
       "      <td>40.823963</td>\n",
       "      <td>2021-12-30 00:00:00</td>\n",
       "      <td>12.000000</td>\n",
       "    </tr>\n",
       "    <tr>\n",
       "      <th>std</th>\n",
       "      <td>434.734317</td>\n",
       "      <td>1116.831209</td>\n",
       "      <td>6.091051</td>\n",
       "      <td>NaN</td>\n",
       "      <td>3.437410</td>\n",
       "    </tr>\n",
       "  </tbody>\n",
       "</table>\n",
       "</div>"
      ],
      "text/plain": [
       "            user_id      distance      duration  \\\n",
       "count  18068.000000  18068.000000  18068.000000   \n",
       "mean     842.869936   3070.659976     17.805011   \n",
       "min        1.000000      0.855683      0.500000   \n",
       "25%      487.000000   2543.226360     13.597563   \n",
       "50%      889.000000   3133.609994     17.678395   \n",
       "75%     1213.250000   3776.222735     21.724800   \n",
       "max     1534.000000   7211.007745     40.823963   \n",
       "std      434.734317   1116.831209      6.091051   \n",
       "\n",
       "                                date         month  \n",
       "count                          18068  18068.000000  \n",
       "mean   2021-06-30 19:47:21.266327296      6.486772  \n",
       "min              2021-01-01 00:00:00      1.000000  \n",
       "25%              2021-04-02 00:00:00      4.000000  \n",
       "50%              2021-06-30 00:00:00      6.000000  \n",
       "75%              2021-09-28 00:00:00      9.000000  \n",
       "max              2021-12-30 00:00:00     12.000000  \n",
       "std                              NaN      3.437410  "
      ]
     },
     "execution_count": 22,
     "metadata": {},
     "output_type": "execute_result"
    }
   ],
   "source": [
    "# Список основных статистических характеристик данных по числовым столбцам датафрейма rides_df\n",
    "rides_df.describe()"
   ]
  },
  {
   "cell_type": "markdown",
   "id": "d53c85fa",
   "metadata": {},
   "source": [
    "**Предобработка данных завершена**\n",
    "\n",
    "Данные от сервиса аренды самокатов GoFast были в хорошем качестве: не было пропущенных значений, почти не было дублей, вся инофрмация понятна и доступна, только в одном столбце был скорректирован тип данных. \n",
    "\n",
    "Значения не имеют выбросов и анамалий."
   ]
  },
  {
   "cell_type": "markdown",
   "id": "212593c7",
   "metadata": {},
   "source": [
    "## Исследовательский анализ данных"
   ]
  },
  {
   "cell_type": "markdown",
   "id": "627fee83",
   "metadata": {},
   "source": [
    "### Частота встречаемости городов"
   ]
  },
  {
   "cell_type": "code",
   "execution_count": 23,
   "id": "e3a4274c",
   "metadata": {},
   "outputs": [
    {
     "data": {
      "image/png": "[encoded data removed]",
      "text/plain": [
       "<Figure size 900x600 with 1 Axes>"
      ]
     },
     "metadata": {},
     "output_type": "display_data"
    }
   ],
   "source": [
    "# Построение графика частоты встречаемости городов в датафрейме users_df\n",
    "(\n",
    "    users_df['city'].value_counts()\n",
    "    .plot(\n",
    "        kind='bar', \n",
    "        title='Частота встречаемости городов',\n",
    "        xlabel='Город', \n",
    "        ylabel='Количество пользователей', \n",
    "        legend=False, \n",
    "        grid=True, \n",
    "        figsize=(9,6), \n",
    "    )\n",
    ")\n",
    "plt.show()\n"
   ]
  },
  {
   "cell_type": "markdown",
   "id": "183c9ef2",
   "metadata": {},
   "source": [
    "Больше всего пользователей в Пятигорске, меньше всего в Москве, но в целом в каждом городе примерно одинаковое количество пользователей от 150 до 220. Посмотрим частоту заездов по городам."
   ]
  },
  {
   "cell_type": "code",
   "execution_count": 24,
   "id": "15135af7",
   "metadata": {},
   "outputs": [
    {
     "data": {
      "image/png": "[encoded data removed]",
      "text/plain": [
       "<Figure size 900x600 with 1 Axes>"
      ]
     },
     "metadata": {},
     "output_type": "display_data"
    }
   ],
   "source": [
    "# Построение графика частоты встречаемости городов в датафрейме rides_df\n",
    "(\n",
    "    users_df.merge(rides_df, on='user_id')['city'].value_counts()\n",
    "    .plot(\n",
    "        kind='bar', \n",
    "        title='Частота встречаемости городов',\n",
    "        xlabel='Город', \n",
    "        ylabel='Количество поездок', \n",
    "        legend=False, \n",
    "        grid=True, \n",
    "        figsize=(9,6), \n",
    "    )\n",
    ")\n",
    "plt.show()\n"
   ]
  },
  {
   "cell_type": "markdown",
   "id": "55b250c4",
   "metadata": {},
   "source": [
    "По количеству заездов тоже лидируют Пятигорск и Екатеринбург, Москва на последнем месте."
   ]
  },
  {
   "cell_type": "markdown",
   "id": "0cde2475",
   "metadata": {},
   "source": [
    "### Соотношение пользователей с подпиской и без подписки"
   ]
  },
  {
   "cell_type": "code",
   "execution_count": 25,
   "id": "14cdc149",
   "metadata": {},
   "outputs": [
    {
     "data": {
      "image/png": "[encoded data removed]",
      "text/plain": [
       "<Figure size 900x600 with 1 Axes>"
      ]
     },
     "metadata": {},
     "output_type": "display_data"
    }
   ],
   "source": [
    "# Построение диаграммы по данным из столбца subscription_type датафрейма users_df\n",
    "(\n",
    "    users_df['subscription_type'].value_counts(normalize=True)\n",
    "    .plot(\n",
    "        kind='pie', \n",
    "        title='Соотношение пользователей с подпиской и без', \n",
    "        figsize=(9,6),\n",
    "        autopct='%.2f%%',\n",
    "        legend=True\n",
    "    )\n",
    ")\n",
    "plt.show()\n",
    "\n"
   ]
  },
  {
   "cell_type": "markdown",
   "id": "aa4c7b19",
   "metadata": {},
   "source": [
    "Количество пользователей с подпиской и без примерно поравну, но бесплатных на 10% больше: 54% и 45% соотвественно. \n",
    "Посмотрим соотношение поездок для пользователей с подпиской и без."
   ]
  },
  {
   "cell_type": "code",
   "execution_count": 26,
   "id": "34796bcc",
   "metadata": {},
   "outputs": [
    {
     "data": {
      "image/png": "[encoded data removed]",
      "text/plain": [
       "<Figure size 900x600 with 1 Axes>"
      ]
     },
     "metadata": {},
     "output_type": "display_data"
    }
   ],
   "source": [
    "# Построение диаграммы по данным из столбца subscription_type датафрейма rides_df\n",
    "(\n",
    "    users_df.merge(rides_df, on='user_id')['subscription_type'].value_counts(normalize=True)\n",
    "    .plot(\n",
    "        kind='pie', \n",
    "        title='Соотношение поездок с подпиской и без', \n",
    "        figsize=(9,6),\n",
    "        autopct='%.2f%%',\n",
    "        legend=True\n",
    "    )\n",
    ")\n",
    "plt.show()\n",
    "\n"
   ]
  },
  {
   "cell_type": "markdown",
   "id": "1a8a9b10",
   "metadata": {},
   "source": [
    "Количество поездок с подпиской меньше почти на 30%, чем без подписки. Кажется, что пользователи с подпиской совершают меньше поездок."
   ]
  },
  {
   "cell_type": "markdown",
   "id": "dbc0c93c",
   "metadata": {},
   "source": [
    "### Возвраст пользователей"
   ]
  },
  {
   "cell_type": "code",
   "execution_count": 27,
   "id": "e8524656",
   "metadata": {},
   "outputs": [
    {
     "data": {
      "image/png": "[encoded data removed]",
      "text/plain": [
       "<Figure size 900x600 with 1 Axes>"
      ]
     },
     "metadata": {},
     "output_type": "display_data"
    }
   ],
   "source": [
    "# Построение гистограммы по данным из столбца age датафрейма users_df\n",
    "(\n",
    "    users_df['age']\n",
    "    .plot(\n",
    "        kind='hist', \n",
    "        title='Количество пользователей по возрастам', \n",
    "        xlabel='Город', \n",
    "        ylabel='Количество пользователей', \n",
    "        bins=250, \n",
    "        xlim=(10,50), \n",
    "        legend=False, \n",
    "        grid=True, \n",
    "        figsize=(9,6)\n",
    "    )\n",
    ")\n",
    "plt.show()"
   ]
  },
  {
   "cell_type": "markdown",
   "id": "edab3195",
   "metadata": {},
   "source": [
    "Возраст пользователей имеет равномерное распределение, и это очень похоже на правду. Никаких выбросов на графике нет. Минимальный возраст 12 лет, максимальный - 43 года. Самый часто встречающийся возраст пользователя - 25 лет (причем и медина, и среднее значение почти равны)."
   ]
  },
  {
   "cell_type": "markdown",
   "id": "c4ce4fce",
   "metadata": {},
   "source": [
    "### Расстояние, которое пользователь преодолел за одну поездку"
   ]
  },
  {
   "cell_type": "code",
   "execution_count": 28,
   "id": "c35c6f4e",
   "metadata": {},
   "outputs": [
    {
     "data": {
      "image/png": "[encoded data removed]",
      "text/plain": [
       "<Figure size 900x600 with 1 Axes>"
      ]
     },
     "metadata": {},
     "output_type": "display_data"
    }
   ],
   "source": [
    "# Построение гистограммы по данным из столбца distance датафрейма rides_df\n",
    "(\n",
    "    rides_df['distance']\n",
    "    .plot(\n",
    "        kind='hist', \n",
    "        title='Расстояние за одну поездку', \n",
    "        bins=90, \n",
    "        xlim=(0,7300), \n",
    "        grid=True, \n",
    "        figsize=(9,6)\n",
    "    )\n",
    ")\n",
    "plt.show()\n"
   ]
  },
  {
   "cell_type": "code",
   "execution_count": 29,
   "id": "25579fd9",
   "metadata": {},
   "outputs": [
    {
     "data": {
      "image/png": "[encoded data removed]",
      "text/plain": [
       "<Figure size 640x480 with 1 Axes>"
      ]
     },
     "metadata": {},
     "output_type": "display_data"
    }
   ],
   "source": [
    "# Диаграмма размаха для столбца distance датафрейма rides_df\n",
    "plt.xlim(0, 7000)\n",
    "\n",
    "rides_df.boxplot(column='distance', vert=False )\n",
    "plt.show()"
   ]
  },
  {
   "cell_type": "markdown",
   "id": "82901e2e",
   "metadata": {},
   "source": [
    "На графике мы можем наблюдать два пика: один в районе 500м, второй в районе 3000 метров.\n",
    "\n",
    "Такое поведение гистограммы может быть обусловлено:\n",
    "- разные цели поездки (кто-то использует самокат, чтобы ежедневно добираться на работу в своем районе, а кто-то в качестве прогулки по городу в выходной день);\n",
    "- сезонность: время года и время суток;\n",
    "- территориальные особенности городов;\n",
    "- возраст пользователя, например, можно предположить, что ребенок, оплачивает своей картой небольшие расстояния до школы и обртано;\n",
    "- тарифный план пользователя, если план с подпиской, то пользователи более активно катаются на самокатах.\n",
    "\n"
   ]
  },
  {
   "cell_type": "markdown",
   "id": "04d90e31",
   "metadata": {},
   "source": [
    "### Продолжительность поездок"
   ]
  },
  {
   "cell_type": "code",
   "execution_count": 30,
   "id": "04cc2aa3",
   "metadata": {},
   "outputs": [
    {
     "data": {
      "image/png": "[encoded data removed]",
      "text/plain": [
       "<Figure size 900x600 with 1 Axes>"
      ]
     },
     "metadata": {},
     "output_type": "display_data"
    }
   ],
   "source": [
    "# Построение гистограммы по данным из столбца duration датафрейма `rides_df`\n",
    "(\n",
    "    rides_df['duration']\n",
    "    .plot(\n",
    "        kind='hist', \n",
    "        title='Время в мин. за одну поездку', \n",
    "        bins=90, \n",
    "        xlim=(0,50), \n",
    "        grid=True, \n",
    "        figsize=(9,6)\n",
    "    )\n",
    ")\n",
    "plt.show()\n"
   ]
  },
  {
   "cell_type": "code",
   "execution_count": 31,
   "id": "fb466c7d",
   "metadata": {},
   "outputs": [
    {
     "data": {
      "image/png": "[encoded data removed]",
      "text/plain": [
       "<Figure size 640x480 with 1 Axes>"
      ]
     },
     "metadata": {},
     "output_type": "display_data"
    }
   ],
   "source": [
    "# Диаграмма размаха для столбца duration датафрейма rides_df\n",
    "plt.xlim(0, 40)\n",
    "\n",
    "rides_df.boxplot(column='duration', vert=False)\n",
    "plt.show()"
   ]
  },
  {
   "cell_type": "markdown",
   "id": "e63f897e",
   "metadata": {},
   "source": [
    "В целом гистограмма выглядит красиво, значения располагаются в промежутке от 0 до 41 минуты. Гистограмма имеет один пик в районе 17-18 минут, причем медиана и среднее значение совпадает. Есть непонятный всплекс в районе 0. Посмотрим отдельно, что это за значения."
   ]
  },
  {
   "cell_type": "code",
   "execution_count": 32,
   "id": "6b9fb8fa",
   "metadata": {},
   "outputs": [
    {
     "data": {
      "text/plain": [
       "duration\n",
       "0.500000    95\n",
       "3.960827     1\n",
       "4.456060     1\n",
       "4.160957     1\n",
       "2.234142     1\n",
       "            ..\n",
       "4.445421     1\n",
       "4.998773     1\n",
       "4.412563     1\n",
       "2.480577     1\n",
       "3.730974     1\n",
       "Name: count, Length: 184, dtype: int64"
      ]
     },
     "metadata": {},
     "output_type": "display_data"
    }
   ],
   "source": [
    "# Поиск значений длительности поездки меньше 5 минут\n",
    "display(rides_df.query('duration < 5 ')['duration'].value_counts())"
   ]
  },
  {
   "cell_type": "code",
   "execution_count": 33,
   "id": "777c4032",
   "metadata": {},
   "outputs": [
    {
     "data": {
      "text/html": [
       "<div>\n",
       "<style scoped>\n",
       "    .dataframe tbody tr th:only-of-type {\n",
       "        vertical-align: middle;\n",
       "    }\n",
       "\n",
       "    .dataframe tbody tr th {\n",
       "        vertical-align: top;\n",
       "    }\n",
       "\n",
       "    .dataframe thead th {\n",
       "        text-align: right;\n",
       "    }\n",
       "</style>\n",
       "<table border=\"1\" class=\"dataframe\">\n",
       "  <thead>\n",
       "    <tr style=\"text-align: right;\">\n",
       "      <th></th>\n",
       "      <th>user_id</th>\n",
       "      <th>distance</th>\n",
       "      <th>duration</th>\n",
       "      <th>date</th>\n",
       "      <th>month</th>\n",
       "    </tr>\n",
       "  </thead>\n",
       "  <tbody>\n",
       "    <tr>\n",
       "      <th>16309</th>\n",
       "      <td>1411</td>\n",
       "      <td>7211.007745</td>\n",
       "      <td>0.5</td>\n",
       "      <td>2021-04-15</td>\n",
       "      <td>4</td>\n",
       "    </tr>\n",
       "    <tr>\n",
       "      <th>17242</th>\n",
       "      <td>1477</td>\n",
       "      <td>6724.932981</td>\n",
       "      <td>0.5</td>\n",
       "      <td>2021-01-12</td>\n",
       "      <td>1</td>\n",
       "    </tr>\n",
       "    <tr>\n",
       "      <th>11385</th>\n",
       "      <td>1057</td>\n",
       "      <td>6601.197575</td>\n",
       "      <td>0.5</td>\n",
       "      <td>2021-02-07</td>\n",
       "      <td>2</td>\n",
       "    </tr>\n",
       "    <tr>\n",
       "      <th>13701</th>\n",
       "      <td>1224</td>\n",
       "      <td>6414.516026</td>\n",
       "      <td>0.5</td>\n",
       "      <td>2021-07-15</td>\n",
       "      <td>7</td>\n",
       "    </tr>\n",
       "    <tr>\n",
       "      <th>14574</th>\n",
       "      <td>1285</td>\n",
       "      <td>6316.574814</td>\n",
       "      <td>0.5</td>\n",
       "      <td>2021-09-25</td>\n",
       "      <td>9</td>\n",
       "    </tr>\n",
       "    <tr>\n",
       "      <th>...</th>\n",
       "      <td>...</td>\n",
       "      <td>...</td>\n",
       "      <td>...</td>\n",
       "      <td>...</td>\n",
       "      <td>...</td>\n",
       "    </tr>\n",
       "    <tr>\n",
       "      <th>14342</th>\n",
       "      <td>1268</td>\n",
       "      <td>4177.139336</td>\n",
       "      <td>0.5</td>\n",
       "      <td>2021-06-09</td>\n",
       "      <td>6</td>\n",
       "    </tr>\n",
       "    <tr>\n",
       "      <th>9698</th>\n",
       "      <td>937</td>\n",
       "      <td>4169.066800</td>\n",
       "      <td>0.5</td>\n",
       "      <td>2021-12-12</td>\n",
       "      <td>12</td>\n",
       "    </tr>\n",
       "    <tr>\n",
       "      <th>10692</th>\n",
       "      <td>1006</td>\n",
       "      <td>4106.278268</td>\n",
       "      <td>0.5</td>\n",
       "      <td>2021-10-31</td>\n",
       "      <td>10</td>\n",
       "    </tr>\n",
       "    <tr>\n",
       "      <th>17909</th>\n",
       "      <td>1524</td>\n",
       "      <td>4103.998874</td>\n",
       "      <td>0.5</td>\n",
       "      <td>2021-06-18</td>\n",
       "      <td>6</td>\n",
       "    </tr>\n",
       "    <tr>\n",
       "      <th>15132</th>\n",
       "      <td>1325</td>\n",
       "      <td>4030.308008</td>\n",
       "      <td>0.5</td>\n",
       "      <td>2021-12-22</td>\n",
       "      <td>12</td>\n",
       "    </tr>\n",
       "  </tbody>\n",
       "</table>\n",
       "<p>95 rows × 5 columns</p>\n",
       "</div>"
      ],
      "text/plain": [
       "       user_id     distance  duration       date  month\n",
       "16309     1411  7211.007745       0.5 2021-04-15      4\n",
       "17242     1477  6724.932981       0.5 2021-01-12      1\n",
       "11385     1057  6601.197575       0.5 2021-02-07      2\n",
       "13701     1224  6414.516026       0.5 2021-07-15      7\n",
       "14574     1285  6316.574814       0.5 2021-09-25      9\n",
       "...        ...          ...       ...        ...    ...\n",
       "14342     1268  4177.139336       0.5 2021-06-09      6\n",
       "9698       937  4169.066800       0.5 2021-12-12     12\n",
       "10692     1006  4106.278268       0.5 2021-10-31     10\n",
       "17909     1524  4103.998874       0.5 2021-06-18      6\n",
       "15132     1325  4030.308008       0.5 2021-12-22     12\n",
       "\n",
       "[95 rows x 5 columns]"
      ]
     },
     "metadata": {},
     "output_type": "display_data"
    }
   ],
   "source": [
    "# Поиск значений длительности поездки равных 0.5 минутам\n",
    "display(rides_df.query('duration == 0.5 ').sort_values(by='distance', ascending = False))\n"
   ]
  },
  {
   "cell_type": "code",
   "execution_count": 34,
   "id": "b0bf2f39",
   "metadata": {},
   "outputs": [
    {
     "name": "stdout",
     "output_type": "stream",
     "text": [
      "1%\n"
     ]
    }
   ],
   "source": [
    "# Подсчет процента необычных записей\n",
    "print(\"{:.0%}\".format(len(rides_df.query('duration == 0.5 '))/len(rides_df)))"
   ]
  },
  {
   "cell_type": "markdown",
   "id": "0e9df62f",
   "metadata": {},
   "source": [
    "Есть 95 записей в датафрейме `rides`, где длительность поездки меньше минуты. При этом расстояние поездки не менее 4 км.\n",
    "\n",
    "Можно предположить, что это некие промокоды от сервиса, которые проставляют пользователям значения длительности меньше минуты, чтобы в дальнейшем никак их не тарифицировать. Или это какой то технический сбой. В любом случае для дальнейшего анализа такие данные нам пригодятся, оставляем их в исходном виде."
   ]
  },
  {
   "cell_type": "markdown",
   "id": "4ef51331",
   "metadata": {},
   "source": [
    "## Объединение данных"
   ]
  },
  {
   "cell_type": "markdown",
   "id": "10a8099d",
   "metadata": {},
   "source": [
    "### Объединение данных о пользователях, поездках и подписках в одни датафрейм"
   ]
  },
  {
   "cell_type": "code",
   "execution_count": 35,
   "id": "7158a4c4",
   "metadata": {},
   "outputs": [
    {
     "name": "stdout",
     "output_type": "stream",
     "text": [
      "Количество строк в датафрейме `users_df`: 1534\n"
     ]
    }
   ],
   "source": [
    "#Количество строк в датафрейме users_df\n",
    "print('Количество строк в датафрейме `users_df`: {0}'.format(users_df.shape[0])) "
   ]
  },
  {
   "cell_type": "code",
   "execution_count": 36,
   "id": "27b79d32",
   "metadata": {},
   "outputs": [
    {
     "name": "stdout",
     "output_type": "stream",
     "text": [
      "Количество строк в датафрейме `rides_df`: 18068\n"
     ]
    }
   ],
   "source": [
    "#Количество строк в датафрейме rides_df\n",
    "print('Количество строк в датафрейме `rides_df`: {0}'.format(rides_df.shape[0])) "
   ]
  },
  {
   "cell_type": "code",
   "execution_count": 37,
   "id": "58133938",
   "metadata": {},
   "outputs": [
    {
     "name": "stdout",
     "output_type": "stream",
     "text": [
      "Количество строк в датафрейме `subscriptions_df`: 2\n"
     ]
    }
   ],
   "source": [
    "#Количество строк в датафрейме subscriptions_df\n",
    "print('Количество строк в датафрейме `subscriptions_df`: {0}'.format(subscriptions_df.shape[0])) "
   ]
  },
  {
   "cell_type": "code",
   "execution_count": 38,
   "id": "6bf288b5",
   "metadata": {
    "scrolled": false
   },
   "outputs": [
    {
     "data": {
      "text/html": [
       "<div>\n",
       "<style scoped>\n",
       "    .dataframe tbody tr th:only-of-type {\n",
       "        vertical-align: middle;\n",
       "    }\n",
       "\n",
       "    .dataframe tbody tr th {\n",
       "        vertical-align: top;\n",
       "    }\n",
       "\n",
       "    .dataframe thead th {\n",
       "        text-align: right;\n",
       "    }\n",
       "</style>\n",
       "<table border=\"1\" class=\"dataframe\">\n",
       "  <thead>\n",
       "    <tr style=\"text-align: right;\">\n",
       "      <th></th>\n",
       "      <th>user_id</th>\n",
       "      <th>name</th>\n",
       "      <th>age</th>\n",
       "      <th>city</th>\n",
       "      <th>subscription_type</th>\n",
       "      <th>distance</th>\n",
       "      <th>duration</th>\n",
       "      <th>date</th>\n",
       "      <th>month</th>\n",
       "      <th>minute_price</th>\n",
       "      <th>start_ride_price</th>\n",
       "      <th>subscription_fee</th>\n",
       "    </tr>\n",
       "  </thead>\n",
       "  <tbody>\n",
       "    <tr>\n",
       "      <th>0</th>\n",
       "      <td>1</td>\n",
       "      <td>Кира</td>\n",
       "      <td>22</td>\n",
       "      <td>Тюмень</td>\n",
       "      <td>ultra</td>\n",
       "      <td>4409.919140</td>\n",
       "      <td>25.599769</td>\n",
       "      <td>2021-01-01</td>\n",
       "      <td>1</td>\n",
       "      <td>6</td>\n",
       "      <td>0</td>\n",
       "      <td>199</td>\n",
       "    </tr>\n",
       "    <tr>\n",
       "      <th>1</th>\n",
       "      <td>1</td>\n",
       "      <td>Кира</td>\n",
       "      <td>22</td>\n",
       "      <td>Тюмень</td>\n",
       "      <td>ultra</td>\n",
       "      <td>2617.592153</td>\n",
       "      <td>15.816871</td>\n",
       "      <td>2021-01-18</td>\n",
       "      <td>1</td>\n",
       "      <td>6</td>\n",
       "      <td>0</td>\n",
       "      <td>199</td>\n",
       "    </tr>\n",
       "    <tr>\n",
       "      <th>2</th>\n",
       "      <td>1</td>\n",
       "      <td>Кира</td>\n",
       "      <td>22</td>\n",
       "      <td>Тюмень</td>\n",
       "      <td>ultra</td>\n",
       "      <td>754.159807</td>\n",
       "      <td>6.232113</td>\n",
       "      <td>2021-04-20</td>\n",
       "      <td>4</td>\n",
       "      <td>6</td>\n",
       "      <td>0</td>\n",
       "      <td>199</td>\n",
       "    </tr>\n",
       "    <tr>\n",
       "      <th>3</th>\n",
       "      <td>1</td>\n",
       "      <td>Кира</td>\n",
       "      <td>22</td>\n",
       "      <td>Тюмень</td>\n",
       "      <td>ultra</td>\n",
       "      <td>2694.783254</td>\n",
       "      <td>18.511000</td>\n",
       "      <td>2021-08-11</td>\n",
       "      <td>8</td>\n",
       "      <td>6</td>\n",
       "      <td>0</td>\n",
       "      <td>199</td>\n",
       "    </tr>\n",
       "    <tr>\n",
       "      <th>4</th>\n",
       "      <td>1</td>\n",
       "      <td>Кира</td>\n",
       "      <td>22</td>\n",
       "      <td>Тюмень</td>\n",
       "      <td>ultra</td>\n",
       "      <td>4028.687306</td>\n",
       "      <td>26.265803</td>\n",
       "      <td>2021-08-28</td>\n",
       "      <td>8</td>\n",
       "      <td>6</td>\n",
       "      <td>0</td>\n",
       "      <td>199</td>\n",
       "    </tr>\n",
       "  </tbody>\n",
       "</table>\n",
       "</div>"
      ],
      "text/plain": [
       "   user_id  name  age    city subscription_type     distance   duration  \\\n",
       "0        1  Кира   22  Тюмень             ultra  4409.919140  25.599769   \n",
       "1        1  Кира   22  Тюмень             ultra  2617.592153  15.816871   \n",
       "2        1  Кира   22  Тюмень             ultra   754.159807   6.232113   \n",
       "3        1  Кира   22  Тюмень             ultra  2694.783254  18.511000   \n",
       "4        1  Кира   22  Тюмень             ultra  4028.687306  26.265803   \n",
       "\n",
       "        date  month  minute_price  start_ride_price  subscription_fee  \n",
       "0 2021-01-01      1             6                 0               199  \n",
       "1 2021-01-18      1             6                 0               199  \n",
       "2 2021-04-20      4             6                 0               199  \n",
       "3 2021-08-11      8             6                 0               199  \n",
       "4 2021-08-28      8             6                 0               199  "
      ]
     },
     "metadata": {},
     "output_type": "display_data"
    }
   ],
   "source": [
    "# Объединение данных о пользователях, поездках и подписках в одни датафрейм с помощью метода merge()\n",
    "data = users_df.merge(rides_df, on='user_id', how='outer').merge(subscriptions_df, on='subscription_type', how='outer')\n",
    "display(data.head(5))"
   ]
  },
  {
   "cell_type": "code",
   "execution_count": 39,
   "id": "7cdbc863",
   "metadata": {},
   "outputs": [
    {
     "name": "stdout",
     "output_type": "stream",
     "text": [
      "Количество строк в датафрейме `data`: 18068\n"
     ]
    }
   ],
   "source": [
    "#Количество строк в результирующем датафрейме data\n",
    "print('Количество строк в датафрейме `data`: {0}'.format(data.shape[0])) "
   ]
  },
  {
   "cell_type": "markdown",
   "id": "1097502d",
   "metadata": {},
   "source": [
    "При формировании датафрейма с результирующими данными мы использовали режим объединения how='outer' (\"объединение данных\") во всех методах .merge(). В результате мы не потеряли ни одной строки, все данные по поездкам присутствуют в итоговом датафрейме."
   ]
  },
  {
   "cell_type": "markdown",
   "id": "6cbd5872",
   "metadata": {},
   "source": [
    "### Создание двух отдельных датафреймов по пользователями без подписки и с подпиской."
   ]
  },
  {
   "cell_type": "code",
   "execution_count": 40,
   "id": "38ac0f5d",
   "metadata": {},
   "outputs": [
    {
     "data": {
      "text/html": [
       "<div>\n",
       "<style scoped>\n",
       "    .dataframe tbody tr th:only-of-type {\n",
       "        vertical-align: middle;\n",
       "    }\n",
       "\n",
       "    .dataframe tbody tr th {\n",
       "        vertical-align: top;\n",
       "    }\n",
       "\n",
       "    .dataframe thead th {\n",
       "        text-align: right;\n",
       "    }\n",
       "</style>\n",
       "<table border=\"1\" class=\"dataframe\">\n",
       "  <thead>\n",
       "    <tr style=\"text-align: right;\">\n",
       "      <th></th>\n",
       "      <th>user_id</th>\n",
       "      <th>name</th>\n",
       "      <th>age</th>\n",
       "      <th>city</th>\n",
       "      <th>subscription_type</th>\n",
       "      <th>distance</th>\n",
       "      <th>duration</th>\n",
       "      <th>date</th>\n",
       "      <th>month</th>\n",
       "      <th>minute_price</th>\n",
       "      <th>start_ride_price</th>\n",
       "      <th>subscription_fee</th>\n",
       "    </tr>\n",
       "  </thead>\n",
       "  <tbody>\n",
       "    <tr>\n",
       "      <th>6500</th>\n",
       "      <td>700</td>\n",
       "      <td>Айдар</td>\n",
       "      <td>22</td>\n",
       "      <td>Омск</td>\n",
       "      <td>free</td>\n",
       "      <td>2515.690719</td>\n",
       "      <td>14.944286</td>\n",
       "      <td>2021-01-02</td>\n",
       "      <td>1</td>\n",
       "      <td>8</td>\n",
       "      <td>50</td>\n",
       "      <td>0</td>\n",
       "    </tr>\n",
       "    <tr>\n",
       "      <th>6501</th>\n",
       "      <td>700</td>\n",
       "      <td>Айдар</td>\n",
       "      <td>22</td>\n",
       "      <td>Омск</td>\n",
       "      <td>free</td>\n",
       "      <td>846.932642</td>\n",
       "      <td>16.234663</td>\n",
       "      <td>2021-02-01</td>\n",
       "      <td>2</td>\n",
       "      <td>8</td>\n",
       "      <td>50</td>\n",
       "      <td>0</td>\n",
       "    </tr>\n",
       "    <tr>\n",
       "      <th>6502</th>\n",
       "      <td>700</td>\n",
       "      <td>Айдар</td>\n",
       "      <td>22</td>\n",
       "      <td>Омск</td>\n",
       "      <td>free</td>\n",
       "      <td>4004.434142</td>\n",
       "      <td>20.016628</td>\n",
       "      <td>2021-02-04</td>\n",
       "      <td>2</td>\n",
       "      <td>8</td>\n",
       "      <td>50</td>\n",
       "      <td>0</td>\n",
       "    </tr>\n",
       "    <tr>\n",
       "      <th>6503</th>\n",
       "      <td>700</td>\n",
       "      <td>Айдар</td>\n",
       "      <td>22</td>\n",
       "      <td>Омск</td>\n",
       "      <td>free</td>\n",
       "      <td>1205.911290</td>\n",
       "      <td>9.782872</td>\n",
       "      <td>2021-02-10</td>\n",
       "      <td>2</td>\n",
       "      <td>8</td>\n",
       "      <td>50</td>\n",
       "      <td>0</td>\n",
       "    </tr>\n",
       "    <tr>\n",
       "      <th>6504</th>\n",
       "      <td>700</td>\n",
       "      <td>Айдар</td>\n",
       "      <td>22</td>\n",
       "      <td>Омск</td>\n",
       "      <td>free</td>\n",
       "      <td>3047.379435</td>\n",
       "      <td>17.427673</td>\n",
       "      <td>2021-02-14</td>\n",
       "      <td>2</td>\n",
       "      <td>8</td>\n",
       "      <td>50</td>\n",
       "      <td>0</td>\n",
       "    </tr>\n",
       "  </tbody>\n",
       "</table>\n",
       "</div>"
      ],
      "text/plain": [
       "      user_id   name  age  city subscription_type     distance   duration  \\\n",
       "6500      700  Айдар   22  Омск              free  2515.690719  14.944286   \n",
       "6501      700  Айдар   22  Омск              free   846.932642  16.234663   \n",
       "6502      700  Айдар   22  Омск              free  4004.434142  20.016628   \n",
       "6503      700  Айдар   22  Омск              free  1205.911290   9.782872   \n",
       "6504      700  Айдар   22  Омск              free  3047.379435  17.427673   \n",
       "\n",
       "           date  month  minute_price  start_ride_price  subscription_fee  \n",
       "6500 2021-01-02      1             8                50                 0  \n",
       "6501 2021-02-01      2             8                50                 0  \n",
       "6502 2021-02-04      2             8                50                 0  \n",
       "6503 2021-02-10      2             8                50                 0  \n",
       "6504 2021-02-14      2             8                50                 0  "
      ]
     },
     "metadata": {},
     "output_type": "display_data"
    }
   ],
   "source": [
    "# Создание и вывод на печать датафрейма с поездками без подписки\n",
    "data_free = data.query('subscription_type == \"free\"')\n",
    "display(data_free.head(5))\n"
   ]
  },
  {
   "cell_type": "code",
   "execution_count": 41,
   "id": "91a74802",
   "metadata": {},
   "outputs": [
    {
     "name": "stdout",
     "output_type": "stream",
     "text": [
      "Количество строк в датафрейме `data_free`: 11568\n"
     ]
    }
   ],
   "source": [
    "#Количество строк в датафрейме data_free\n",
    "print('Количество строк в датафрейме `data_free`: {0}'.format(data_free.shape[0])) "
   ]
  },
  {
   "cell_type": "code",
   "execution_count": 42,
   "id": "3ee114df",
   "metadata": {
    "scrolled": true
   },
   "outputs": [
    {
     "data": {
      "text/html": [
       "<div>\n",
       "<style scoped>\n",
       "    .dataframe tbody tr th:only-of-type {\n",
       "        vertical-align: middle;\n",
       "    }\n",
       "\n",
       "    .dataframe tbody tr th {\n",
       "        vertical-align: top;\n",
       "    }\n",
       "\n",
       "    .dataframe thead th {\n",
       "        text-align: right;\n",
       "    }\n",
       "</style>\n",
       "<table border=\"1\" class=\"dataframe\">\n",
       "  <thead>\n",
       "    <tr style=\"text-align: right;\">\n",
       "      <th></th>\n",
       "      <th>user_id</th>\n",
       "      <th>name</th>\n",
       "      <th>age</th>\n",
       "      <th>city</th>\n",
       "      <th>subscription_type</th>\n",
       "      <th>distance</th>\n",
       "      <th>duration</th>\n",
       "      <th>date</th>\n",
       "      <th>month</th>\n",
       "      <th>minute_price</th>\n",
       "      <th>start_ride_price</th>\n",
       "      <th>subscription_fee</th>\n",
       "    </tr>\n",
       "  </thead>\n",
       "  <tbody>\n",
       "    <tr>\n",
       "      <th>0</th>\n",
       "      <td>1</td>\n",
       "      <td>Кира</td>\n",
       "      <td>22</td>\n",
       "      <td>Тюмень</td>\n",
       "      <td>ultra</td>\n",
       "      <td>4409.919140</td>\n",
       "      <td>25.599769</td>\n",
       "      <td>2021-01-01</td>\n",
       "      <td>1</td>\n",
       "      <td>6</td>\n",
       "      <td>0</td>\n",
       "      <td>199</td>\n",
       "    </tr>\n",
       "    <tr>\n",
       "      <th>1</th>\n",
       "      <td>1</td>\n",
       "      <td>Кира</td>\n",
       "      <td>22</td>\n",
       "      <td>Тюмень</td>\n",
       "      <td>ultra</td>\n",
       "      <td>2617.592153</td>\n",
       "      <td>15.816871</td>\n",
       "      <td>2021-01-18</td>\n",
       "      <td>1</td>\n",
       "      <td>6</td>\n",
       "      <td>0</td>\n",
       "      <td>199</td>\n",
       "    </tr>\n",
       "    <tr>\n",
       "      <th>2</th>\n",
       "      <td>1</td>\n",
       "      <td>Кира</td>\n",
       "      <td>22</td>\n",
       "      <td>Тюмень</td>\n",
       "      <td>ultra</td>\n",
       "      <td>754.159807</td>\n",
       "      <td>6.232113</td>\n",
       "      <td>2021-04-20</td>\n",
       "      <td>4</td>\n",
       "      <td>6</td>\n",
       "      <td>0</td>\n",
       "      <td>199</td>\n",
       "    </tr>\n",
       "    <tr>\n",
       "      <th>3</th>\n",
       "      <td>1</td>\n",
       "      <td>Кира</td>\n",
       "      <td>22</td>\n",
       "      <td>Тюмень</td>\n",
       "      <td>ultra</td>\n",
       "      <td>2694.783254</td>\n",
       "      <td>18.511000</td>\n",
       "      <td>2021-08-11</td>\n",
       "      <td>8</td>\n",
       "      <td>6</td>\n",
       "      <td>0</td>\n",
       "      <td>199</td>\n",
       "    </tr>\n",
       "    <tr>\n",
       "      <th>4</th>\n",
       "      <td>1</td>\n",
       "      <td>Кира</td>\n",
       "      <td>22</td>\n",
       "      <td>Тюмень</td>\n",
       "      <td>ultra</td>\n",
       "      <td>4028.687306</td>\n",
       "      <td>26.265803</td>\n",
       "      <td>2021-08-28</td>\n",
       "      <td>8</td>\n",
       "      <td>6</td>\n",
       "      <td>0</td>\n",
       "      <td>199</td>\n",
       "    </tr>\n",
       "  </tbody>\n",
       "</table>\n",
       "</div>"
      ],
      "text/plain": [
       "   user_id  name  age    city subscription_type     distance   duration  \\\n",
       "0        1  Кира   22  Тюмень             ultra  4409.919140  25.599769   \n",
       "1        1  Кира   22  Тюмень             ultra  2617.592153  15.816871   \n",
       "2        1  Кира   22  Тюмень             ultra   754.159807   6.232113   \n",
       "3        1  Кира   22  Тюмень             ultra  2694.783254  18.511000   \n",
       "4        1  Кира   22  Тюмень             ultra  4028.687306  26.265803   \n",
       "\n",
       "        date  month  minute_price  start_ride_price  subscription_fee  \n",
       "0 2021-01-01      1             6                 0               199  \n",
       "1 2021-01-18      1             6                 0               199  \n",
       "2 2021-04-20      4             6                 0               199  \n",
       "3 2021-08-11      8             6                 0               199  \n",
       "4 2021-08-28      8             6                 0               199  "
      ]
     },
     "metadata": {},
     "output_type": "display_data"
    }
   ],
   "source": [
    "# Создание и вывод на печать датафрейма с поездками с подпиской\n",
    "data_ultra = data.query('subscription_type == \"ultra\"')\n",
    "display(data_ultra.head(5))\n"
   ]
  },
  {
   "cell_type": "code",
   "execution_count": 43,
   "id": "40c5554b",
   "metadata": {},
   "outputs": [
    {
     "name": "stdout",
     "output_type": "stream",
     "text": [
      "Количество строк в датафрейме `data_ultra`: 6500\n"
     ]
    }
   ],
   "source": [
    "#Количество строк в датафрейме data_ultra\n",
    "print('Количество строк в датафрейме `data_ultra`: {0}'.format(data_ultra.shape[0])) "
   ]
  },
  {
   "cell_type": "markdown",
   "id": "159dce89",
   "metadata": {},
   "source": [
    "Разделение на два отдельных датафрейма тоже прошло корректно, никаких данных мы не потеряли."
   ]
  },
  {
   "cell_type": "markdown",
   "id": "89c71b65",
   "metadata": {},
   "source": [
    "### Визуализация информации о расстояниях и времени поездок для пользователей обоих категорий"
   ]
  },
  {
   "cell_type": "code",
   "execution_count": 44,
   "id": "d257a1c7",
   "metadata": {
    "scrolled": false
   },
   "outputs": [
    {
     "data": {
      "text/html": [
       "<div>\n",
       "<style scoped>\n",
       "    .dataframe tbody tr th:only-of-type {\n",
       "        vertical-align: middle;\n",
       "    }\n",
       "\n",
       "    .dataframe tbody tr th {\n",
       "        vertical-align: top;\n",
       "    }\n",
       "\n",
       "    .dataframe thead th {\n",
       "        text-align: right;\n",
       "    }\n",
       "</style>\n",
       "<table border=\"1\" class=\"dataframe\">\n",
       "  <thead>\n",
       "    <tr style=\"text-align: right;\">\n",
       "      <th></th>\n",
       "      <th>distance</th>\n",
       "      <th>duration</th>\n",
       "    </tr>\n",
       "  </thead>\n",
       "  <tbody>\n",
       "    <tr>\n",
       "      <th>count</th>\n",
       "      <td>11568.000000</td>\n",
       "      <td>11568.000000</td>\n",
       "    </tr>\n",
       "    <tr>\n",
       "      <th>mean</th>\n",
       "      <td>3045.495282</td>\n",
       "      <td>17.390909</td>\n",
       "    </tr>\n",
       "    <tr>\n",
       "      <th>std</th>\n",
       "      <td>1246.173806</td>\n",
       "      <td>6.326803</td>\n",
       "    </tr>\n",
       "    <tr>\n",
       "      <th>min</th>\n",
       "      <td>0.855683</td>\n",
       "      <td>0.500000</td>\n",
       "    </tr>\n",
       "    <tr>\n",
       "      <th>25%</th>\n",
       "      <td>2366.562689</td>\n",
       "      <td>12.958437</td>\n",
       "    </tr>\n",
       "    <tr>\n",
       "      <th>50%</th>\n",
       "      <td>3114.648465</td>\n",
       "      <td>17.326890</td>\n",
       "    </tr>\n",
       "    <tr>\n",
       "      <th>75%</th>\n",
       "      <td>3905.697894</td>\n",
       "      <td>21.594071</td>\n",
       "    </tr>\n",
       "    <tr>\n",
       "      <th>max</th>\n",
       "      <td>7211.007745</td>\n",
       "      <td>34.948498</td>\n",
       "    </tr>\n",
       "  </tbody>\n",
       "</table>\n",
       "</div>"
      ],
      "text/plain": [
       "           distance      duration\n",
       "count  11568.000000  11568.000000\n",
       "mean    3045.495282     17.390909\n",
       "std     1246.173806      6.326803\n",
       "min        0.855683      0.500000\n",
       "25%     2366.562689     12.958437\n",
       "50%     3114.648465     17.326890\n",
       "75%     3905.697894     21.594071\n",
       "max     7211.007745     34.948498"
      ]
     },
     "execution_count": 44,
     "metadata": {},
     "output_type": "execute_result"
    }
   ],
   "source": [
    "# Список основных статистических характеристик данных по столбцам distance и duration датафрейма data_free\n",
    "data_free[['distance','duration']].describe()"
   ]
  },
  {
   "cell_type": "code",
   "execution_count": 45,
   "id": "962bdebb",
   "metadata": {
    "scrolled": false
   },
   "outputs": [
    {
     "data": {
      "text/html": [
       "<div>\n",
       "<style scoped>\n",
       "    .dataframe tbody tr th:only-of-type {\n",
       "        vertical-align: middle;\n",
       "    }\n",
       "\n",
       "    .dataframe tbody tr th {\n",
       "        vertical-align: top;\n",
       "    }\n",
       "\n",
       "    .dataframe thead th {\n",
       "        text-align: right;\n",
       "    }\n",
       "</style>\n",
       "<table border=\"1\" class=\"dataframe\">\n",
       "  <thead>\n",
       "    <tr style=\"text-align: right;\">\n",
       "      <th></th>\n",
       "      <th>distance</th>\n",
       "      <th>duration</th>\n",
       "    </tr>\n",
       "  </thead>\n",
       "  <tbody>\n",
       "    <tr>\n",
       "      <th>count</th>\n",
       "      <td>6500.000000</td>\n",
       "      <td>6500.000000</td>\n",
       "    </tr>\n",
       "    <tr>\n",
       "      <th>mean</th>\n",
       "      <td>3115.445388</td>\n",
       "      <td>18.541985</td>\n",
       "    </tr>\n",
       "    <tr>\n",
       "      <th>std</th>\n",
       "      <td>836.895330</td>\n",
       "      <td>5.572048</td>\n",
       "    </tr>\n",
       "    <tr>\n",
       "      <th>min</th>\n",
       "      <td>244.210438</td>\n",
       "      <td>3.760353</td>\n",
       "    </tr>\n",
       "    <tr>\n",
       "      <th>25%</th>\n",
       "      <td>2785.444017</td>\n",
       "      <td>14.524654</td>\n",
       "    </tr>\n",
       "    <tr>\n",
       "      <th>50%</th>\n",
       "      <td>3148.637229</td>\n",
       "      <td>18.178153</td>\n",
       "    </tr>\n",
       "    <tr>\n",
       "      <th>75%</th>\n",
       "      <td>3560.574425</td>\n",
       "      <td>21.884129</td>\n",
       "    </tr>\n",
       "    <tr>\n",
       "      <th>max</th>\n",
       "      <td>5699.769662</td>\n",
       "      <td>40.823963</td>\n",
       "    </tr>\n",
       "  </tbody>\n",
       "</table>\n",
       "</div>"
      ],
      "text/plain": [
       "          distance     duration\n",
       "count  6500.000000  6500.000000\n",
       "mean   3115.445388    18.541985\n",
       "std     836.895330     5.572048\n",
       "min     244.210438     3.760353\n",
       "25%    2785.444017    14.524654\n",
       "50%    3148.637229    18.178153\n",
       "75%    3560.574425    21.884129\n",
       "max    5699.769662    40.823963"
      ]
     },
     "execution_count": 45,
     "metadata": {},
     "output_type": "execute_result"
    }
   ],
   "source": [
    "# Список основных статистических характеристик данных по столбцам distance и duration датафрейма data_ultra\n",
    "data_ultra[['distance','duration']].describe()"
   ]
  },
  {
   "cell_type": "code",
   "execution_count": 46,
   "id": "2031ffd7",
   "metadata": {
    "scrolled": false
   },
   "outputs": [
    {
     "data": {
      "image/png": "[encoded data removed]",
      "text/plain": [
       "<Figure size 900x600 with 1 Axes>"
      ]
     },
     "metadata": {},
     "output_type": "display_data"
    }
   ],
   "source": [
    "# Построение гистограммы по данным из столбца distance датафрейма data_free\n",
    "(\n",
    "    data_free['distance']\n",
    "    .plot(\n",
    "        kind='hist', \n",
    "        title='Расстояние за одну поездку без подписки', \n",
    "        bins=90, \n",
    "        xlim=(0,7300), \n",
    "        grid=True, \n",
    "        figsize=(9,6)\n",
    "    )\n",
    ")\n",
    "plt.show()\n"
   ]
  },
  {
   "cell_type": "code",
   "execution_count": 47,
   "id": "91658280",
   "metadata": {},
   "outputs": [
    {
     "data": {
      "image/png": "[encoded data removed]",
      "text/plain": [
       "<Figure size 640x480 with 1 Axes>"
      ]
     },
     "metadata": {},
     "output_type": "display_data"
    }
   ],
   "source": [
    "# Диаграмма размаха для столбца distance датафрейма data_free\n",
    "plt.xlim(0, 7000)\n",
    "\n",
    "data_free.boxplot(column='distance', vert=False)\n",
    "plt.show()"
   ]
  },
  {
   "cell_type": "code",
   "execution_count": 48,
   "id": "2ca365ff",
   "metadata": {
    "scrolled": false
   },
   "outputs": [
    {
     "data": {
      "image/png": "[encoded data removed]",
      "text/plain": [
       "<Figure size 900x600 with 1 Axes>"
      ]
     },
     "metadata": {},
     "output_type": "display_data"
    }
   ],
   "source": [
    "# Построение гистограммы по данным из столбца distance датафрейма data_ultra\n",
    "(\n",
    "    data_ultra['distance']\n",
    "    .plot(\n",
    "        kind='hist', \n",
    "        title='Расстояние за одну поездку с подпиской', \n",
    "        bins=90, \n",
    "        xlim=(0,7300), \n",
    "        grid=True, \n",
    "        figsize=(9,6)\n",
    "    )\n",
    ")\n",
    "plt.show()\n",
    "\n"
   ]
  },
  {
   "cell_type": "code",
   "execution_count": 49,
   "id": "796aebd5",
   "metadata": {
    "scrolled": true
   },
   "outputs": [
    {
     "data": {
      "image/png": "[encoded data removed]",
      "text/plain": [
       "<Figure size 640x480 with 1 Axes>"
      ]
     },
     "metadata": {},
     "output_type": "display_data"
    }
   ],
   "source": [
    "# Диаграмма размаха для столбца distance датафрейма data_ultra\n",
    "plt.xlim(0, 5000)\n",
    "\n",
    "data_ultra.boxplot(column='distance', vert=False)\n",
    "plt.show()"
   ]
  },
  {
   "cell_type": "markdown",
   "id": "eaa8f82a",
   "metadata": {},
   "source": [
    "Кстати, гистограммы для каждой группы значений все равно имеют два пика, несмотря на то, что мы разделили данные с подпиской и без, значит этот фактор совсем не влияет на вид гистограммы."
   ]
  },
  {
   "cell_type": "code",
   "execution_count": 50,
   "id": "c607665a",
   "metadata": {
    "scrolled": false
   },
   "outputs": [
    {
     "data": {
      "image/png": "[encoded data removed]",
      "text/plain": [
       "<Figure size 900x600 with 1 Axes>"
      ]
     },
     "metadata": {},
     "output_type": "display_data"
    }
   ],
   "source": [
    "# Построение гистограммы по данным из столбца duration датафрейма data_free\n",
    "(\n",
    "    data_free['duration']\n",
    "    .plot(\n",
    "        kind='hist', \n",
    "        title='Длительность одной поездки без подписки', \n",
    "        bins=90, \n",
    "        xlim=(0,40), \n",
    "        grid=True, \n",
    "        figsize=(9,6)\n",
    "    )\n",
    ")\n",
    "plt.show()\n",
    "\n"
   ]
  },
  {
   "cell_type": "code",
   "execution_count": 51,
   "id": "0bbe25b9",
   "metadata": {
    "scrolled": true
   },
   "outputs": [
    {
     "data": {
      "image/png": "[encoded data removed]",
      "text/plain": [
       "<Figure size 640x480 with 1 Axes>"
      ]
     },
     "metadata": {},
     "output_type": "display_data"
    }
   ],
   "source": [
    "# Диаграмма размаха для столбца duration датафрейма data_free\n",
    "plt.xlim(0, 50)\n",
    "\n",
    "data_free.boxplot(column='duration', vert=False)\n",
    "plt.show()"
   ]
  },
  {
   "cell_type": "code",
   "execution_count": 52,
   "id": "e5778085",
   "metadata": {
    "scrolled": false
   },
   "outputs": [
    {
     "data": {
      "image/png": "[encoded data removed]",
      "text/plain": [
       "<Figure size 900x600 with 1 Axes>"
      ]
     },
     "metadata": {},
     "output_type": "display_data"
    }
   ],
   "source": [
    "# Построение гистограммы по данным из столбца duration датафрейма data_ultra\n",
    "(\n",
    "    data_ultra['duration']\n",
    "    .plot(\n",
    "        kind='hist', \n",
    "        title='Длительность одной поездки с подпиской', \n",
    "        bins=90, \n",
    "        xlim=(0,40), \n",
    "        grid=True, \n",
    "        figsize=(9,6)\n",
    "    )\n",
    ")\n",
    "plt.show()\n",
    "\n"
   ]
  },
  {
   "cell_type": "code",
   "execution_count": 53,
   "id": "a510635e",
   "metadata": {
    "scrolled": true
   },
   "outputs": [
    {
     "data": {
      "image/png": "[encoded data removed]",
      "text/plain": [
       "<Figure size 640x480 with 1 Axes>"
      ]
     },
     "metadata": {},
     "output_type": "display_data"
    }
   ],
   "source": [
    "# Диаграмма размаха для столбца duration датафрейма data_ultra\n",
    "plt.xlim(0, 50)\n",
    "\n",
    "data_ultra.boxplot(column='duration', vert=False)\n",
    "plt.show()"
   ]
  },
  {
   "cell_type": "markdown",
   "id": "16a877fd",
   "metadata": {},
   "source": [
    "Можно заметить, что необычные значения длительности поездки в 0.5 минут, характерны только для поездок без подписки."
   ]
  },
  {
   "cell_type": "markdown",
   "id": "eeef5dfd",
   "metadata": {},
   "source": [
    "Среднее значение расстояния поездок пользователей без подписки около 3000 метров, причем среднее и медианное значения примерно равны. Все значения колеблются от 0 до 7211 метров. У пользователей с подпиской среднее значение расстояния поездок около 3100 метров (медиана и средняя так же почти одинаковы), колебание значений от 240 до 5700 метров.\n",
    "\n",
    "Среднее значение времени поездок пользователей без подписки около 17 минут, с подпиской 18 минут (в обоих группах колебание значений от 0 до 35-40 минут).\n"
   ]
  },
  {
   "cell_type": "markdown",
   "id": "402d620f",
   "metadata": {},
   "source": [
    "## Подсчёт выручки"
   ]
  },
  {
   "cell_type": "markdown",
   "id": "e90998c1",
   "metadata": {},
   "source": [
    "### Создаем датафрейм с агрегированными данными о поездках: суммарное расстояние, количество поездок и суммарное время для каждого пользователя за каждый месяц"
   ]
  },
  {
   "cell_type": "code",
   "execution_count": 54,
   "id": "abd3248e",
   "metadata": {},
   "outputs": [
    {
     "data": {
      "text/plain": [
       "user_id              0\n",
       "name                 0\n",
       "age                  0\n",
       "city                 0\n",
       "subscription_type    0\n",
       "distance             0\n",
       "duration             0\n",
       "date                 0\n",
       "month                0\n",
       "minute_price         0\n",
       "start_ride_price     0\n",
       "subscription_fee     0\n",
       "dtype: int64"
      ]
     },
     "execution_count": 54,
     "metadata": {},
     "output_type": "execute_result"
    }
   ],
   "source": [
    "# Проверка количества пропущенных значений по каждому столбцу в датафрейме data\n",
    "data.isna().sum()"
   ]
  },
  {
   "cell_type": "code",
   "execution_count": 55,
   "id": "d1f3ecfe",
   "metadata": {},
   "outputs": [
    {
     "data": {
      "text/plain": [
       "user_id              0\n",
       "name                 0\n",
       "age                  0\n",
       "city                 0\n",
       "subscription_type    0\n",
       "distance             0\n",
       "duration             0\n",
       "date                 0\n",
       "month                0\n",
       "minute_price         0\n",
       "start_ride_price     0\n",
       "subscription_fee     0\n",
       "dtype: int64"
      ]
     },
     "execution_count": 55,
     "metadata": {},
     "output_type": "execute_result"
    }
   ],
   "source": [
    "# Проверка количества пропущенных значений по каждому столбцу в датафрейме data_free\n",
    "data_free.isna().sum()"
   ]
  },
  {
   "cell_type": "code",
   "execution_count": 56,
   "id": "97a25e3f",
   "metadata": {
    "scrolled": false
   },
   "outputs": [
    {
     "data": {
      "text/plain": [
       "user_id              0\n",
       "name                 0\n",
       "age                  0\n",
       "city                 0\n",
       "subscription_type    0\n",
       "distance             0\n",
       "duration             0\n",
       "date                 0\n",
       "month                0\n",
       "minute_price         0\n",
       "start_ride_price     0\n",
       "subscription_fee     0\n",
       "dtype: int64"
      ]
     },
     "execution_count": 56,
     "metadata": {},
     "output_type": "execute_result"
    }
   ],
   "source": [
    "# Проверка количества пропущенных значений по каждому столбцу в датафрейме data_ultra\n",
    "data_ultra.isna().sum()"
   ]
  },
  {
   "cell_type": "markdown",
   "id": "033b10b9",
   "metadata": {},
   "source": [
    "Полученные агрегированные таблицы не содержат пропущенных значений, можно двигаться дальше."
   ]
  },
  {
   "cell_type": "markdown",
   "id": "451e5863",
   "metadata": {},
   "source": [
    "Продолжительность каждой поездки в каждой строке результирующего датафрейма для корректного подсчета стоимости необходимо округлять до следующего целого числа."
   ]
  },
  {
   "cell_type": "code",
   "execution_count": 57,
   "id": "51214e99",
   "metadata": {},
   "outputs": [
    {
     "data": {
      "text/html": [
       "<div>\n",
       "<style scoped>\n",
       "    .dataframe tbody tr th:only-of-type {\n",
       "        vertical-align: middle;\n",
       "    }\n",
       "\n",
       "    .dataframe tbody tr th {\n",
       "        vertical-align: top;\n",
       "    }\n",
       "\n",
       "    .dataframe thead th {\n",
       "        text-align: right;\n",
       "    }\n",
       "</style>\n",
       "<table border=\"1\" class=\"dataframe\">\n",
       "  <thead>\n",
       "    <tr style=\"text-align: right;\">\n",
       "      <th></th>\n",
       "      <th>user_id</th>\n",
       "      <th>name</th>\n",
       "      <th>age</th>\n",
       "      <th>city</th>\n",
       "      <th>subscription_type</th>\n",
       "      <th>distance</th>\n",
       "      <th>duration</th>\n",
       "      <th>date</th>\n",
       "      <th>month</th>\n",
       "      <th>minute_price</th>\n",
       "      <th>start_ride_price</th>\n",
       "      <th>subscription_fee</th>\n",
       "    </tr>\n",
       "  </thead>\n",
       "  <tbody>\n",
       "    <tr>\n",
       "      <th>0</th>\n",
       "      <td>1</td>\n",
       "      <td>Кира</td>\n",
       "      <td>22</td>\n",
       "      <td>Тюмень</td>\n",
       "      <td>ultra</td>\n",
       "      <td>4409.919140</td>\n",
       "      <td>26.0</td>\n",
       "      <td>2021-01-01</td>\n",
       "      <td>1</td>\n",
       "      <td>6</td>\n",
       "      <td>0</td>\n",
       "      <td>199</td>\n",
       "    </tr>\n",
       "    <tr>\n",
       "      <th>1</th>\n",
       "      <td>1</td>\n",
       "      <td>Кира</td>\n",
       "      <td>22</td>\n",
       "      <td>Тюмень</td>\n",
       "      <td>ultra</td>\n",
       "      <td>2617.592153</td>\n",
       "      <td>16.0</td>\n",
       "      <td>2021-01-18</td>\n",
       "      <td>1</td>\n",
       "      <td>6</td>\n",
       "      <td>0</td>\n",
       "      <td>199</td>\n",
       "    </tr>\n",
       "    <tr>\n",
       "      <th>2</th>\n",
       "      <td>1</td>\n",
       "      <td>Кира</td>\n",
       "      <td>22</td>\n",
       "      <td>Тюмень</td>\n",
       "      <td>ultra</td>\n",
       "      <td>754.159807</td>\n",
       "      <td>7.0</td>\n",
       "      <td>2021-04-20</td>\n",
       "      <td>4</td>\n",
       "      <td>6</td>\n",
       "      <td>0</td>\n",
       "      <td>199</td>\n",
       "    </tr>\n",
       "    <tr>\n",
       "      <th>3</th>\n",
       "      <td>1</td>\n",
       "      <td>Кира</td>\n",
       "      <td>22</td>\n",
       "      <td>Тюмень</td>\n",
       "      <td>ultra</td>\n",
       "      <td>2694.783254</td>\n",
       "      <td>19.0</td>\n",
       "      <td>2021-08-11</td>\n",
       "      <td>8</td>\n",
       "      <td>6</td>\n",
       "      <td>0</td>\n",
       "      <td>199</td>\n",
       "    </tr>\n",
       "    <tr>\n",
       "      <th>4</th>\n",
       "      <td>1</td>\n",
       "      <td>Кира</td>\n",
       "      <td>22</td>\n",
       "      <td>Тюмень</td>\n",
       "      <td>ultra</td>\n",
       "      <td>4028.687306</td>\n",
       "      <td>27.0</td>\n",
       "      <td>2021-08-28</td>\n",
       "      <td>8</td>\n",
       "      <td>6</td>\n",
       "      <td>0</td>\n",
       "      <td>199</td>\n",
       "    </tr>\n",
       "    <tr>\n",
       "      <th>5</th>\n",
       "      <td>1</td>\n",
       "      <td>Кира</td>\n",
       "      <td>22</td>\n",
       "      <td>Тюмень</td>\n",
       "      <td>ultra</td>\n",
       "      <td>2770.890808</td>\n",
       "      <td>17.0</td>\n",
       "      <td>2021-10-09</td>\n",
       "      <td>10</td>\n",
       "      <td>6</td>\n",
       "      <td>0</td>\n",
       "      <td>199</td>\n",
       "    </tr>\n",
       "    <tr>\n",
       "      <th>6</th>\n",
       "      <td>1</td>\n",
       "      <td>Кира</td>\n",
       "      <td>22</td>\n",
       "      <td>Тюмень</td>\n",
       "      <td>ultra</td>\n",
       "      <td>3039.020292</td>\n",
       "      <td>15.0</td>\n",
       "      <td>2021-10-19</td>\n",
       "      <td>10</td>\n",
       "      <td>6</td>\n",
       "      <td>0</td>\n",
       "      <td>199</td>\n",
       "    </tr>\n",
       "    <tr>\n",
       "      <th>7</th>\n",
       "      <td>1</td>\n",
       "      <td>Кира</td>\n",
       "      <td>22</td>\n",
       "      <td>Тюмень</td>\n",
       "      <td>ultra</td>\n",
       "      <td>2842.118050</td>\n",
       "      <td>24.0</td>\n",
       "      <td>2021-11-06</td>\n",
       "      <td>11</td>\n",
       "      <td>6</td>\n",
       "      <td>0</td>\n",
       "      <td>199</td>\n",
       "    </tr>\n",
       "    <tr>\n",
       "      <th>8</th>\n",
       "      <td>1</td>\n",
       "      <td>Кира</td>\n",
       "      <td>22</td>\n",
       "      <td>Тюмень</td>\n",
       "      <td>ultra</td>\n",
       "      <td>3412.690668</td>\n",
       "      <td>16.0</td>\n",
       "      <td>2021-11-14</td>\n",
       "      <td>11</td>\n",
       "      <td>6</td>\n",
       "      <td>0</td>\n",
       "      <td>199</td>\n",
       "    </tr>\n",
       "    <tr>\n",
       "      <th>9</th>\n",
       "      <td>1</td>\n",
       "      <td>Кира</td>\n",
       "      <td>22</td>\n",
       "      <td>Тюмень</td>\n",
       "      <td>ultra</td>\n",
       "      <td>748.690645</td>\n",
       "      <td>16.0</td>\n",
       "      <td>2021-11-22</td>\n",
       "      <td>11</td>\n",
       "      <td>6</td>\n",
       "      <td>0</td>\n",
       "      <td>199</td>\n",
       "    </tr>\n",
       "  </tbody>\n",
       "</table>\n",
       "</div>"
      ],
      "text/plain": [
       "   user_id  name  age    city subscription_type     distance  duration  \\\n",
       "0        1  Кира   22  Тюмень             ultra  4409.919140      26.0   \n",
       "1        1  Кира   22  Тюмень             ultra  2617.592153      16.0   \n",
       "2        1  Кира   22  Тюмень             ultra   754.159807       7.0   \n",
       "3        1  Кира   22  Тюмень             ultra  2694.783254      19.0   \n",
       "4        1  Кира   22  Тюмень             ultra  4028.687306      27.0   \n",
       "5        1  Кира   22  Тюмень             ultra  2770.890808      17.0   \n",
       "6        1  Кира   22  Тюмень             ultra  3039.020292      15.0   \n",
       "7        1  Кира   22  Тюмень             ultra  2842.118050      24.0   \n",
       "8        1  Кира   22  Тюмень             ultra  3412.690668      16.0   \n",
       "9        1  Кира   22  Тюмень             ultra   748.690645      16.0   \n",
       "\n",
       "        date  month  minute_price  start_ride_price  subscription_fee  \n",
       "0 2021-01-01      1             6                 0               199  \n",
       "1 2021-01-18      1             6                 0               199  \n",
       "2 2021-04-20      4             6                 0               199  \n",
       "3 2021-08-11      8             6                 0               199  \n",
       "4 2021-08-28      8             6                 0               199  \n",
       "5 2021-10-09     10             6                 0               199  \n",
       "6 2021-10-19     10             6                 0               199  \n",
       "7 2021-11-06     11             6                 0               199  \n",
       "8 2021-11-14     11             6                 0               199  \n",
       "9 2021-11-22     11             6                 0               199  "
      ]
     },
     "execution_count": 57,
     "metadata": {},
     "output_type": "execute_result"
    }
   ],
   "source": [
    "# Округление всех значенией длительности поездки до целого числа\n",
    "data['duration'] = np.ceil(data['duration'])\n",
    "data.head(10)"
   ]
  },
  {
   "cell_type": "code",
   "execution_count": 58,
   "id": "53049e0a",
   "metadata": {
    "scrolled": false
   },
   "outputs": [
    {
     "data": {
      "text/html": [
       "<div>\n",
       "<style scoped>\n",
       "    .dataframe tbody tr th:only-of-type {\n",
       "        vertical-align: middle;\n",
       "    }\n",
       "\n",
       "    .dataframe tbody tr th {\n",
       "        vertical-align: top;\n",
       "    }\n",
       "\n",
       "    .dataframe thead th {\n",
       "        text-align: right;\n",
       "    }\n",
       "</style>\n",
       "<table border=\"1\" class=\"dataframe\">\n",
       "  <thead>\n",
       "    <tr style=\"text-align: right;\">\n",
       "      <th></th>\n",
       "      <th>user_id</th>\n",
       "      <th>month</th>\n",
       "      <th>subscription_type</th>\n",
       "      <th>minute_price</th>\n",
       "      <th>start_ride_price</th>\n",
       "      <th>subscription_fee</th>\n",
       "      <th>rides_cnt</th>\n",
       "      <th>distance_sum</th>\n",
       "      <th>duration_sum</th>\n",
       "    </tr>\n",
       "  </thead>\n",
       "  <tbody>\n",
       "    <tr>\n",
       "      <th>0</th>\n",
       "      <td>1</td>\n",
       "      <td>1</td>\n",
       "      <td>ultra</td>\n",
       "      <td>6</td>\n",
       "      <td>0</td>\n",
       "      <td>199</td>\n",
       "      <td>2</td>\n",
       "      <td>7027.511294</td>\n",
       "      <td>42.0</td>\n",
       "    </tr>\n",
       "    <tr>\n",
       "      <th>1</th>\n",
       "      <td>1</td>\n",
       "      <td>4</td>\n",
       "      <td>ultra</td>\n",
       "      <td>6</td>\n",
       "      <td>0</td>\n",
       "      <td>199</td>\n",
       "      <td>1</td>\n",
       "      <td>754.159807</td>\n",
       "      <td>7.0</td>\n",
       "    </tr>\n",
       "    <tr>\n",
       "      <th>2</th>\n",
       "      <td>1</td>\n",
       "      <td>8</td>\n",
       "      <td>ultra</td>\n",
       "      <td>6</td>\n",
       "      <td>0</td>\n",
       "      <td>199</td>\n",
       "      <td>2</td>\n",
       "      <td>6723.470560</td>\n",
       "      <td>46.0</td>\n",
       "    </tr>\n",
       "    <tr>\n",
       "      <th>3</th>\n",
       "      <td>1</td>\n",
       "      <td>10</td>\n",
       "      <td>ultra</td>\n",
       "      <td>6</td>\n",
       "      <td>0</td>\n",
       "      <td>199</td>\n",
       "      <td>2</td>\n",
       "      <td>5809.911100</td>\n",
       "      <td>32.0</td>\n",
       "    </tr>\n",
       "    <tr>\n",
       "      <th>4</th>\n",
       "      <td>1</td>\n",
       "      <td>11</td>\n",
       "      <td>ultra</td>\n",
       "      <td>6</td>\n",
       "      <td>0</td>\n",
       "      <td>199</td>\n",
       "      <td>3</td>\n",
       "      <td>7003.499363</td>\n",
       "      <td>56.0</td>\n",
       "    </tr>\n",
       "    <tr>\n",
       "      <th>5</th>\n",
       "      <td>1</td>\n",
       "      <td>12</td>\n",
       "      <td>ultra</td>\n",
       "      <td>6</td>\n",
       "      <td>0</td>\n",
       "      <td>199</td>\n",
       "      <td>2</td>\n",
       "      <td>6751.629942</td>\n",
       "      <td>28.0</td>\n",
       "    </tr>\n",
       "    <tr>\n",
       "      <th>6</th>\n",
       "      <td>2</td>\n",
       "      <td>3</td>\n",
       "      <td>ultra</td>\n",
       "      <td>6</td>\n",
       "      <td>0</td>\n",
       "      <td>199</td>\n",
       "      <td>3</td>\n",
       "      <td>10187.723006</td>\n",
       "      <td>63.0</td>\n",
       "    </tr>\n",
       "    <tr>\n",
       "      <th>7</th>\n",
       "      <td>2</td>\n",
       "      <td>4</td>\n",
       "      <td>ultra</td>\n",
       "      <td>6</td>\n",
       "      <td>0</td>\n",
       "      <td>199</td>\n",
       "      <td>2</td>\n",
       "      <td>6164.381824</td>\n",
       "      <td>40.0</td>\n",
       "    </tr>\n",
       "    <tr>\n",
       "      <th>8</th>\n",
       "      <td>2</td>\n",
       "      <td>6</td>\n",
       "      <td>ultra</td>\n",
       "      <td>6</td>\n",
       "      <td>0</td>\n",
       "      <td>199</td>\n",
       "      <td>1</td>\n",
       "      <td>3255.338202</td>\n",
       "      <td>14.0</td>\n",
       "    </tr>\n",
       "    <tr>\n",
       "      <th>9</th>\n",
       "      <td>2</td>\n",
       "      <td>7</td>\n",
       "      <td>ultra</td>\n",
       "      <td>6</td>\n",
       "      <td>0</td>\n",
       "      <td>199</td>\n",
       "      <td>2</td>\n",
       "      <td>6780.722964</td>\n",
       "      <td>48.0</td>\n",
       "    </tr>\n",
       "  </tbody>\n",
       "</table>\n",
       "</div>"
      ],
      "text/plain": [
       "   user_id  month subscription_type  minute_price  start_ride_price  \\\n",
       "0        1      1             ultra             6                 0   \n",
       "1        1      4             ultra             6                 0   \n",
       "2        1      8             ultra             6                 0   \n",
       "3        1     10             ultra             6                 0   \n",
       "4        1     11             ultra             6                 0   \n",
       "5        1     12             ultra             6                 0   \n",
       "6        2      3             ultra             6                 0   \n",
       "7        2      4             ultra             6                 0   \n",
       "8        2      6             ultra             6                 0   \n",
       "9        2      7             ultra             6                 0   \n",
       "\n",
       "   subscription_fee  rides_cnt  distance_sum  duration_sum  \n",
       "0               199          2   7027.511294          42.0  \n",
       "1               199          1    754.159807           7.0  \n",
       "2               199          2   6723.470560          46.0  \n",
       "3               199          2   5809.911100          32.0  \n",
       "4               199          3   7003.499363          56.0  \n",
       "5               199          2   6751.629942          28.0  \n",
       "6               199          3  10187.723006          63.0  \n",
       "7               199          2   6164.381824          40.0  \n",
       "8               199          1   3255.338202          14.0  \n",
       "9               199          2   6780.722964          48.0  "
      ]
     },
     "execution_count": 58,
     "metadata": {},
     "output_type": "execute_result"
    }
   ],
   "source": [
    "# Создаем датафрейм с агрегированными данными о поездках: суммарное расстояние, \n",
    "# количество поездок и суммарное время для каждого пользователя за каждый месяц\n",
    "\n",
    "data_stat = (\n",
    "    data\n",
    "    .pivot_table(index=['user_id', 'month', 'subscription_type', 'minute_price', 'start_ride_price', 'subscription_fee'],values=['distance', 'duration'], aggfunc=['count', 'sum'])\n",
    ")\n",
    "# Сбрасываем сложный индекс\n",
    "data_stat = data_stat.reset_index()\n",
    "\n",
    "# Переименование столбцов в таблице\n",
    "data_stat.columns=['user_id', 'month', 'subscription_type', 'minute_price', 'start_ride_price', 'subscription_fee', 'rides_cnt', 'rides_cnt_2', 'distance_sum', 'duration_sum']\n",
    "# Удалим дублирующий столбец в таблице\n",
    "del data_stat['rides_cnt_2']\n",
    "\n",
    "data_stat.head(10)\n",
    "\n"
   ]
  },
  {
   "cell_type": "markdown",
   "id": "2a5e1a5e",
   "metadata": {},
   "source": [
    "### Добавим в датафрейм столбец с помесячной выручкой, которую принес каждый пользователь."
   ]
  },
  {
   "cell_type": "code",
   "execution_count": 59,
   "id": "1e627c50",
   "metadata": {
    "scrolled": true
   },
   "outputs": [
    {
     "data": {
      "text/html": [
       "<div>\n",
       "<style scoped>\n",
       "    .dataframe tbody tr th:only-of-type {\n",
       "        vertical-align: middle;\n",
       "    }\n",
       "\n",
       "    .dataframe tbody tr th {\n",
       "        vertical-align: top;\n",
       "    }\n",
       "\n",
       "    .dataframe thead th {\n",
       "        text-align: right;\n",
       "    }\n",
       "</style>\n",
       "<table border=\"1\" class=\"dataframe\">\n",
       "  <thead>\n",
       "    <tr style=\"text-align: right;\">\n",
       "      <th></th>\n",
       "      <th>user_id</th>\n",
       "      <th>month</th>\n",
       "      <th>subscription_type</th>\n",
       "      <th>rides_cnt</th>\n",
       "      <th>distance_sum</th>\n",
       "      <th>duration_sum</th>\n",
       "      <th>gain</th>\n",
       "    </tr>\n",
       "  </thead>\n",
       "  <tbody>\n",
       "    <tr>\n",
       "      <th>0</th>\n",
       "      <td>1</td>\n",
       "      <td>1</td>\n",
       "      <td>ultra</td>\n",
       "      <td>2</td>\n",
       "      <td>7027.511294</td>\n",
       "      <td>42.0</td>\n",
       "      <td>451.0</td>\n",
       "    </tr>\n",
       "    <tr>\n",
       "      <th>1</th>\n",
       "      <td>1</td>\n",
       "      <td>4</td>\n",
       "      <td>ultra</td>\n",
       "      <td>1</td>\n",
       "      <td>754.159807</td>\n",
       "      <td>7.0</td>\n",
       "      <td>241.0</td>\n",
       "    </tr>\n",
       "    <tr>\n",
       "      <th>2</th>\n",
       "      <td>1</td>\n",
       "      <td>8</td>\n",
       "      <td>ultra</td>\n",
       "      <td>2</td>\n",
       "      <td>6723.470560</td>\n",
       "      <td>46.0</td>\n",
       "      <td>475.0</td>\n",
       "    </tr>\n",
       "    <tr>\n",
       "      <th>3</th>\n",
       "      <td>1</td>\n",
       "      <td>10</td>\n",
       "      <td>ultra</td>\n",
       "      <td>2</td>\n",
       "      <td>5809.911100</td>\n",
       "      <td>32.0</td>\n",
       "      <td>391.0</td>\n",
       "    </tr>\n",
       "    <tr>\n",
       "      <th>4</th>\n",
       "      <td>1</td>\n",
       "      <td>11</td>\n",
       "      <td>ultra</td>\n",
       "      <td>3</td>\n",
       "      <td>7003.499363</td>\n",
       "      <td>56.0</td>\n",
       "      <td>535.0</td>\n",
       "    </tr>\n",
       "  </tbody>\n",
       "</table>\n",
       "</div>"
      ],
      "text/plain": [
       "   user_id  month subscription_type  rides_cnt  distance_sum  duration_sum  \\\n",
       "0        1      1             ultra          2   7027.511294          42.0   \n",
       "1        1      4             ultra          1    754.159807           7.0   \n",
       "2        1      8             ultra          2   6723.470560          46.0   \n",
       "3        1     10             ultra          2   5809.911100          32.0   \n",
       "4        1     11             ultra          3   7003.499363          56.0   \n",
       "\n",
       "    gain  \n",
       "0  451.0  \n",
       "1  241.0  \n",
       "2  475.0  \n",
       "3  391.0  \n",
       "4  535.0  "
      ]
     },
     "execution_count": 59,
     "metadata": {},
     "output_type": "execute_result"
    }
   ],
   "source": [
    "# Добавляем новый столбец\n",
    "data_stat['gain'] = (\n",
    "    data_stat['start_ride_price'] * data_stat['rides_cnt'] + \n",
    "    data_stat['minute_price'] * data_stat['duration_sum'] + \n",
    "    data_stat['subscription_fee']\n",
    ")\n",
    "\n",
    "del data_stat['minute_price']\n",
    "del data_stat['start_ride_price']\n",
    "del data_stat['subscription_fee']\n",
    "\n",
    "\n",
    "data_stat.head(5)"
   ]
  },
  {
   "cell_type": "code",
   "execution_count": 60,
   "id": "6ffab8ed",
   "metadata": {},
   "outputs": [
    {
     "data": {
      "text/html": [
       "<div>\n",
       "<style scoped>\n",
       "    .dataframe tbody tr th:only-of-type {\n",
       "        vertical-align: middle;\n",
       "    }\n",
       "\n",
       "    .dataframe tbody tr th {\n",
       "        vertical-align: top;\n",
       "    }\n",
       "\n",
       "    .dataframe thead th {\n",
       "        text-align: right;\n",
       "    }\n",
       "</style>\n",
       "<table border=\"1\" class=\"dataframe\">\n",
       "  <thead>\n",
       "    <tr style=\"text-align: right;\">\n",
       "      <th></th>\n",
       "      <th>gain</th>\n",
       "      <th>distance_sum</th>\n",
       "      <th>duration_sum</th>\n",
       "    </tr>\n",
       "  </thead>\n",
       "  <tbody>\n",
       "    <tr>\n",
       "      <th>count</th>\n",
       "      <td>11331.000000</td>\n",
       "      <td>11331.000000</td>\n",
       "      <td>11331.000000</td>\n",
       "    </tr>\n",
       "    <tr>\n",
       "      <th>mean</th>\n",
       "      <td>342.303504</td>\n",
       "      <td>4896.362584</td>\n",
       "      <td>29.186127</td>\n",
       "    </tr>\n",
       "    <tr>\n",
       "      <th>std</th>\n",
       "      <td>153.875346</td>\n",
       "      <td>2911.516556</td>\n",
       "      <td>16.752464</td>\n",
       "    </tr>\n",
       "    <tr>\n",
       "      <th>min</th>\n",
       "      <td>58.000000</td>\n",
       "      <td>2.570787</td>\n",
       "      <td>1.000000</td>\n",
       "    </tr>\n",
       "    <tr>\n",
       "      <th>25%</th>\n",
       "      <td>234.000000</td>\n",
       "      <td>2972.202146</td>\n",
       "      <td>17.000000</td>\n",
       "    </tr>\n",
       "    <tr>\n",
       "      <th>50%</th>\n",
       "      <td>319.000000</td>\n",
       "      <td>3988.723985</td>\n",
       "      <td>24.000000</td>\n",
       "    </tr>\n",
       "    <tr>\n",
       "      <th>75%</th>\n",
       "      <td>415.000000</td>\n",
       "      <td>6421.375890</td>\n",
       "      <td>38.000000</td>\n",
       "    </tr>\n",
       "    <tr>\n",
       "      <th>max</th>\n",
       "      <td>1444.000000</td>\n",
       "      <td>23429.487786</td>\n",
       "      <td>143.000000</td>\n",
       "    </tr>\n",
       "  </tbody>\n",
       "</table>\n",
       "</div>"
      ],
      "text/plain": [
       "               gain  distance_sum  duration_sum\n",
       "count  11331.000000  11331.000000  11331.000000\n",
       "mean     342.303504   4896.362584     29.186127\n",
       "std      153.875346   2911.516556     16.752464\n",
       "min       58.000000      2.570787      1.000000\n",
       "25%      234.000000   2972.202146     17.000000\n",
       "50%      319.000000   3988.723985     24.000000\n",
       "75%      415.000000   6421.375890     38.000000\n",
       "max     1444.000000  23429.487786    143.000000"
      ]
     },
     "execution_count": 60,
     "metadata": {},
     "output_type": "execute_result"
    }
   ],
   "source": [
    "# Список основных статистических характеристик данных по столбцам distance и duration датафрейма data_ultra\n",
    "data_stat[['gain', 'distance_sum', 'duration_sum']].describe()"
   ]
  },
  {
   "cell_type": "code",
   "execution_count": 61,
   "id": "2202423b",
   "metadata": {
    "scrolled": false
   },
   "outputs": [
    {
     "data": {
      "image/png": "[encoded data removed]",
      "text/plain": [
       "<Figure size 900x600 with 1 Axes>"
      ]
     },
     "metadata": {},
     "output_type": "display_data"
    }
   ],
   "source": [
    "# Построение гистограммы по данным из столбца gain датафрейма data_stat\n",
    "(\n",
    "    data_stat['gain']\n",
    "    .plot(\n",
    "        kind='hist', \n",
    "        title='Помесячная выручка, которую принес каждый пользователь', \n",
    "        bins=90, \n",
    "        xlim=(0,1500), \n",
    "        grid=True, \n",
    "        figsize=(9,6)\n",
    "    )\n",
    ")\n",
    "plt.show()\n",
    "\n"
   ]
  },
  {
   "cell_type": "code",
   "execution_count": 62,
   "id": "4578ae98",
   "metadata": {
    "scrolled": true
   },
   "outputs": [
    {
     "data": {
      "image/png": "[encoded data removed]",
      "text/plain": [
       "<Figure size 640x480 with 1 Axes>"
      ]
     },
     "metadata": {},
     "output_type": "display_data"
    }
   ],
   "source": [
    "# Диаграмма размаха для столбца gain датафрейма data_stat\n",
    "plt.xlim(0, 1450)\n",
    "\n",
    "data_stat.boxplot(column='gain', vert=False)\n",
    "plt.show()"
   ]
  },
  {
   "cell_type": "markdown",
   "id": "f37002f3",
   "metadata": {},
   "source": [
    "Гистограмма, диаграмма размаха и статистические характеристики говорят о том, что средняя помесячная выручка, которую принес каждый пользователь имеет среднее значение 320-340 рублей вне зависимости от месяца и типа подписки. Разброс значений составляет от 58 до 1444 рублей."
   ]
  },
  {
   "cell_type": "markdown",
   "id": "41545ac0",
   "metadata": {},
   "source": [
    "## Проверка гипотез"
   ]
  },
  {
   "cell_type": "markdown",
   "id": "83645bfa",
   "metadata": {},
   "source": [
    "### Гипотеза: пользователи с подпиской тратят больше времени на поездки"
   ]
  },
  {
   "cell_type": "markdown",
   "id": "4057e867",
   "metadata": {},
   "source": [
    "- **Нулевая гипотеза:** средние значения длительностей поездок пользователей из двух групп равны.\n",
    "- **Альтернативная гипотеза**: среднее значение длительностей поездок пользователей с подпиской больше, чем среднее значение длительностей поездок пользователей без подписки."
   ]
  },
  {
   "cell_type": "code",
   "execution_count": 63,
   "id": "878bc159",
   "metadata": {},
   "outputs": [],
   "source": [
    "alpha = 0.05"
   ]
  },
  {
   "cell_type": "code",
   "execution_count": 64,
   "id": "23ea867b",
   "metadata": {},
   "outputs": [
    {
     "name": "stdout",
     "output_type": "stream",
     "text": [
      "p-value: 5.6757813771289775e-37\n",
      "Отвергаем нулевую гипотезу\n"
     ]
    }
   ],
   "source": [
    "results = stats.ttest_ind(data_ultra['duration'], data_free['duration'], alternative='greater', equal_var=False)\n",
    "\n",
    "print(f'p-value: {results.pvalue}')\n",
    "\n",
    "# проверяем p-value\n",
    "if results.pvalue < alpha:\n",
    "    print('Отвергаем нулевую гипотезу')\n",
    "else:\n",
    "    print('Нет оснований отвергнуть нулевую гипотезу')"
   ]
  },
  {
   "cell_type": "markdown",
   "id": "e3ea512a",
   "metadata": {},
   "source": [
    "**Вывод**: Полученное значение p-value меньше заданного уровня значимости, поэтому можно отвергнуть нулевую гипотезу. Есть основания говорить, что пользователи с подпиской тратят в поездках больше времени."
   ]
  },
  {
   "cell_type": "code",
   "execution_count": 65,
   "id": "ba1d87e3",
   "metadata": {
    "scrolled": true
   },
   "outputs": [
    {
     "name": "stdout",
     "output_type": "stream",
     "text": [
      "Средняя продолжительность поездок без подписки - 17.39\n",
      "Средняя продолжительность поездок с подпиской - 18.54\n"
     ]
    }
   ],
   "source": [
    "print('Средняя продолжительность поездок без подписки - {:.2f}'.format(data_free['duration'].mean()))\n",
    "print('Средняя продолжительность поездок с подпиской - {:.2f}'.format(data_ultra['duration'].mean()))"
   ]
  },
  {
   "cell_type": "markdown",
   "id": "d5874a54",
   "metadata": {},
   "source": [
    "В целом разница средних значений длительности поездок с подпиской и без отличается на 1 минуту."
   ]
  },
  {
   "cell_type": "markdown",
   "id": "4e86c786",
   "metadata": {},
   "source": [
    "### Гипотеза: расстояние, которое проезжают пользователи с подпиской за одну поездку, не превышает 3130 метров"
   ]
  },
  {
   "cell_type": "markdown",
   "id": "cc66e921",
   "metadata": {},
   "source": [
    "- **Нулевая гипотеза:** средние расстояние поездки пользователей с подпиской равно 3130 метров.\n",
    "- **Альтернативная гипотеза**: среднее расстояние поездки пользователей с подпиской больше, чем 3130.\n"
   ]
  },
  {
   "cell_type": "code",
   "execution_count": 66,
   "id": "81584ac7",
   "metadata": {},
   "outputs": [
    {
     "name": "stdout",
     "output_type": "stream",
     "text": [
      "p-value: 0.9195368847849785\n",
      "Нет оснований отвергнуть нулевую гипотезу\n"
     ]
    }
   ],
   "source": [
    "duration_mx = 3130\n",
    "\n",
    "results = stats.ttest_1samp(data_ultra['distance'], duration_mx, alternative='greater')\n",
    "\n",
    "\n",
    "print(f'p-value: {results.pvalue}')\n",
    "\n",
    "# проверяем p-value\n",
    "if results.pvalue < alpha:\n",
    "    print('Отвергаем нулевую гипотезу')\n",
    "else:\n",
    "    print('Нет оснований отвергнуть нулевую гипотезу')"
   ]
  },
  {
   "cell_type": "markdown",
   "id": "3d344717",
   "metadata": {},
   "source": [
    "**Вывод**: Полученное значение p-value больше заданного уровня значимости, поэтому у нас недостаточно оснований для того, чтобы отвергнуть нулевую гипотезу. \n"
   ]
  },
  {
   "cell_type": "code",
   "execution_count": 67,
   "id": "4543cdef",
   "metadata": {
    "scrolled": true
   },
   "outputs": [
    {
     "name": "stdout",
     "output_type": "stream",
     "text": [
      "Средняя расстояние поездок с подпиской - 3115.45\n"
     ]
    }
   ],
   "source": [
    "print('Средняя расстояние поездок с подпиской - {:.2f}'.format(data_ultra['distance'].mean()))"
   ]
  },
  {
   "cell_type": "markdown",
   "id": "ff8ba5cf",
   "metadata": {},
   "source": [
    "### Гипотеза: помесячная выручка от пользователей с подпиской по месяцам выше, чем выручка от пользователей без подписки"
   ]
  },
  {
   "cell_type": "markdown",
   "id": "3ff34b41",
   "metadata": {},
   "source": [
    "- **Нулевая гипотеза:** средняя помесячная выручка от пользователей из двух групп равна.\n",
    "- **Альтернативная гипотеза**: средняя помесячная выручка от пользователей с подпиской больше, чем средняя помесячная выручка от пользователей без подписки."
   ]
  },
  {
   "cell_type": "code",
   "execution_count": 68,
   "id": "6394e864",
   "metadata": {},
   "outputs": [
    {
     "name": "stdout",
     "output_type": "stream",
     "text": [
      "p-value: 8.874140893976874e-40\n",
      "Отвергаем нулевую гипотезу\n"
     ]
    }
   ],
   "source": [
    "results = stats.ttest_ind(data_stat[data_stat['subscription_type']=='ultra']['gain'], data_stat[data_stat['subscription_type']=='free']['gain'], alternative='greater', equal_var=False)\n",
    "\n",
    "print(f'p-value: {results.pvalue}')\n",
    "\n",
    "# проверяем p-value\n",
    "if results.pvalue < alpha:\n",
    "    print('Отвергаем нулевую гипотезу')\n",
    "else:\n",
    "    print('Нет оснований отвергнуть нулевую гипотезу')"
   ]
  },
  {
   "cell_type": "markdown",
   "id": "1c2196f3",
   "metadata": {},
   "source": [
    "**Вывод**: Полученное значение p-value меньше заданного уровня значимости, поэтому можно отвергнуть нулевую гипотезу. Есть основания говорить, что помесячная выручка от пользователей с подпиской больше, чем у пользователей без подписки."
   ]
  },
  {
   "cell_type": "code",
   "execution_count": 69,
   "id": "3f056cbd",
   "metadata": {
    "scrolled": true
   },
   "outputs": [
    {
     "name": "stdout",
     "output_type": "stream",
     "text": [
      "Средняя помесячная выручка пользователей без подписки - 328.64\n",
      "Средняя помесячная выручка пользователей с подпиской - 362.79\n"
     ]
    }
   ],
   "source": [
    "print('Средняя помесячная выручка пользователей без подписки - {:.2f}'.format(data_stat[data_stat['subscription_type']=='free']['gain'].mean()))\n",
    "print('Средняя помесячная выручка пользователей с подпиской - {:.2f}'.format(data_stat[data_stat['subscription_type']=='ultra']['gain'].mean()))"
   ]
  },
  {
   "cell_type": "markdown",
   "id": "32580221",
   "metadata": {},
   "source": [
    "### Гипотеза про обращение в тех.поддержку"
   ]
  },
  {
   "cell_type": "markdown",
   "id": "c56d04af",
   "metadata": {},
   "source": [
    "В данном случае будут анализироваться две зависимые выборки. Будет проверяться гипотеза о равенстве среднего значения генеральной совокупности до и после изменения\n",
    "\n",
    "Использовать в такой ситуации правильно метод **scipy.stats.ttest_rel**. Аргументы - парные выборки до и после изменения, а так же alternative='greater' - проверится правосторонняя гипотеза, истинное среднее генеральной совокупности после изменения меньше, чем до изменений.\n"
   ]
  },
  {
   "cell_type": "markdown",
   "id": "61213c5e",
   "metadata": {},
   "source": [
    "## Распределения"
   ]
  },
  {
   "cell_type": "markdown",
   "id": "1bfd0131",
   "metadata": {},
   "source": [
    "### Акция с промокодами"
   ]
  },
  {
   "cell_type": "code",
   "execution_count": 70,
   "id": "95cd1d51",
   "metadata": {},
   "outputs": [
    {
     "data": {
      "image/png": "[encoded data removed]",
      "text/plain": [
       "<Figure size 640x480 with 1 Axes>"
      ]
     },
     "metadata": {},
     "output_type": "display_data"
    }
   ],
   "source": [
    "p = 0.1  # Вероятность продления подписки\n",
    "n = 100  # Количество клиентов, которые должны продлить подписку\n",
    "\n",
    "distr = []\n",
    "\n",
    "count = n + 1\n",
    "\n",
    "for k in range(0, count):\n",
    "    current_value = stats.binom.pmf(k, n, p)\n",
    "    distr.append(current_value)\n",
    "    \n",
    "plt.bar(range(0, count), distr)\n",
    "plt.xlabel(\"Количество продлений подписки\")\n",
    "plt.ylabel(\"Вероятность\")\n",
    "plt.title(\"Биномиальное распределение\")\n",
    "plt.show()\n",
    "\n"
   ]
  },
  {
   "cell_type": "markdown",
   "id": "96fd80a1",
   "metadata": {},
   "source": [
    "В целом разница средних значений длительности поездок с подпиской и без отличается на 1 минуту."
   ]
  },
  {
   "cell_type": "markdown",
   "id": "20dcd283",
   "metadata": {},
   "source": [
    "Метод .cdf() выведет вероятность, с которой выполняется удачное действие **k** раз с вероятность удачи **p** при общем количестве действий **n** раз.\n",
    "\n",
    "Значит нам надо подобрать такое значение **n**, при котором **k = 100** (ровно столько подписчиков нам нужно) с вероястностью удачи **p = 0.1** (10% продлевают подписку).\n",
    "\n",
    "Переберем в цикле от 100 и найдем такое значение, при котором вероятность все еще больше 5%"
   ]
  },
  {
   "cell_type": "code",
   "execution_count": 71,
   "id": "950e5af9",
   "metadata": {},
   "outputs": [
    {
     "name": "stdout",
     "output_type": "stream",
     "text": [
      "Необходимо разослать 1173 промокодов\n",
      "Вероятность не выполнить план будет равна - 4.95%\n"
     ]
    }
   ],
   "source": [
    "p = 0.1  # Вероятность продления подписки\n",
    "k = 100  # Количество клиентов, которые должны продлить подписку\n",
    "\n",
    "i = 100\n",
    "current_n = 1\n",
    "\n",
    "while current_n > 0.05:\n",
    "    current_n = stats.binom.cdf(k=k, n=i, p=p)\n",
    "    i +=1\n",
    "\n",
    "print('Необходимо разослать', i, 'промокодов')\n",
    "print('Вероятность не выполнить план будет равна - {:.2%}'.format(current_n))\n",
    "\n"
   ]
  },
  {
   "cell_type": "markdown",
   "id": "4aa84517",
   "metadata": {},
   "source": [
    "### Push-уведомления в мобильном приложении"
   ]
  },
  {
   "cell_type": "markdown",
   "id": "b33d0de5",
   "metadata": {},
   "source": [
    "Биномиальное распределение можно апроксимировать нормальным распределением. Математическое ожидание и стандартное отклонение нормального распределения, которым аппроксимируется биномиальное, просто берутся равными математическому ожиданию и стандартному отклонения биномиального распределения."
   ]
  },
  {
   "cell_type": "code",
   "execution_count": 72,
   "id": "c8a4c40f",
   "metadata": {
    "scrolled": true
   },
   "outputs": [
    {
     "name": "stdout",
     "output_type": "stream",
     "text": [
      "Вероятность того, что уведомление откроют 399,5 тыс пользователей - 15.37% \n"
     ]
    }
   ],
   "source": [
    "# задаём параметры биномиального распределения\n",
    "n = 1000000\n",
    "p = 0.4\n",
    "\n",
    "# задаём параметры нормального распределения равными\n",
    "# мат.ожиданию и дисперсии биномиального распределения\n",
    "mu = n * p\n",
    "sigma = sqrt(n * p * (1 - p))\n",
    "\n",
    "# задаём нормальное распределение\n",
    "distr = stats.norm(mu, sigma) \n",
    "\n",
    "# считаем вероятность хвоста слева от 399500\n",
    "result = distr.cdf(399500)\n",
    "print('Вероятность того, что уведомление откроют 399,5 тыс пользователей - {:.2%} '.format(result))"
   ]
  },
  {
   "cell_type": "markdown",
   "id": "9e44dc1b",
   "metadata": {},
   "source": [
    "## Общий вывод"
   ]
  },
  {
   "cell_type": "markdown",
   "id": "53a0d157",
   "metadata": {},
   "source": [
    "### Входные данные"
   ]
  },
  {
   "cell_type": "markdown",
   "id": "709617f3",
   "metadata": {},
   "source": [
    "В вашем распоряжении были данные сервиса аренды самокатов GoFast — данные о некоторых пользователях из нескольких городов, а так же об их поездках (путь к файлам: /datasets/users_go.csv, /datasets/rides_go.csv и /datasets/subscriptions_go.csv).\n",
    "\n",
    "Было необходимо провести исследовательский анализ данных и проверить некоторые гипотезы, которые могут помочь бизнесу вырасти.\n",
    "\n",
    "**Описание данных:**\n",
    "\n",
    "В основных данных есть информация о пользователях, их поездках и подписках.\n",
    "\n",
    "***Пользователи***\n",
    "- `user_id` -   уникальный идентификатор пользователя\n",
    "- `name`    -   имя пользователя\n",
    "- `age` -   возраст\n",
    "- `city`    -   город\n",
    "- `subscription_type`   -   тип подписки (free, ultra)\n",
    "\n",
    "***Поездки***\n",
    "- `user_id` -   уникальный идентификатор пользователя\n",
    "- `distance`    -   расстояние, которое пользователь проехал в текущей сессии (в метрах)\n",
    "- `duration`    -   продолжительность сессии (в минутах) — время с того момента, как пользователь нажал кнопку «Начать поездку» до момента, как он нажал кнопку «Завершить поездку»\n",
    "- `date`    -   дата совершения поездки\n",
    "\n",
    "***Подписки***\n",
    "- `subscription_type`   -   тип подписки\n",
    "- `minute_price`    -   стоимость одной минуты поездки по данной подписке\n",
    "- `start_ride_price`    -   стоимость начала поездки\n",
    "- `subscription_fee`    -   стоимость ежемесячного платежа\n"
   ]
  },
  {
   "cell_type": "markdown",
   "id": "6dc80d0a",
   "metadata": {},
   "source": [
    "### Анализ и преобработка данных"
   ]
  },
  {
   "cell_type": "markdown",
   "id": "ec10506a",
   "metadata": {},
   "source": [
    "1. Во всех предложенных датафреймах столбцы имеют правильное и корректное название, никаких преобразований делать не надо было.\n",
    "2. Выявлено несоотвествия типа данных в датафрейме `rides`: `date` преобразован в `datetime64[ns]`.\n",
    "3. Добавлен новый столбец в датафрейм `rides` `month` - номер месяца на основе столбца `date`.\n",
    "4. Не выявлено пропущенных значений.\n",
    "5. Удалены явные дубликаты в users (2%), в других датафреймах дубли не выявлены.\n",
    "\n"
   ]
  },
  {
   "cell_type": "markdown",
   "id": "4e7d20c2",
   "metadata": {},
   "source": [
    "### Исследовательский анализ данных"
   ]
  },
  {
   "cell_type": "markdown",
   "id": "eefe642a",
   "metadata": {},
   "source": [
    "***Частота втречаемости городов***\n",
    "\n",
    "Больше всего пользователей в Пятигорске, меньше всего в Москве, но в целом в каждом городе примерно одинаковое количество пользователей от 150 до 220. \n",
    "\n",
    "По количеству заездов тоже лидируют Пятигорск и Екатеринбург, Москва на последнем месте. Значения по городам распределены в пределе от 1800 до 2550 поездок.\n",
    "\n",
    "\n",
    "***Соотношение пользователей с подпиской и без***\n",
    "\n",
    "Количество пользователей с подпиской и без примерно поравну, но бесплатных на 10% больше: 54% и 45% соотвественно. \n",
    "\n",
    "Количество поездок с подпиской меньше почти на 30%, чем без подписки. Кажется, что пользователи с подпиской совершают меньше поездок.\n",
    "\n",
    "\n",
    "***Возраст пользователей***\n",
    "\n",
    "Возраст пользователей имеет равномерное распределение, и это очень похоже на правду. Никаких всплесков на графике нет. Минимальный возраст 12 лет, максимальный - 43 года. Самый часто встречающийся возраст пользователя - 25 лет (причем и медина, и среднее значение почти равны).\n",
    "\n",
    "\n",
    "***Расстояние, которое пользователь преодолел за одну поездку***\n",
    "\n",
    "На графике мы смогли наблюдать два пика: один в районе 500м, второй в районе 3000 метров.\n",
    "\n",
    "Такое поведение гистограммы может быть обусловлено:\n",
    "- разные цели поездки (кто-то использует самокат, чтобы ежедневно добираться на работу в своем районе, а кто-то в качестве прогулки по городу в выходной день);\n",
    "- сезонность: время года и время суток;\n",
    "- территориальные особенности городов;\n",
    "- возраст пользователя, например, можно предположить, что ребенок, оплачивает своей картой небольшие расстояния до школы и обртано.\n",
    "\n",
    "После того, как данные о поездках были выделены в две отдельные группы, два пика все так же остались на каждой гистограмме в отдельности, значит тарифный план не влияет на такое поведение.\n",
    "\n",
    "Среднее значение расстояния поездок пользователей без подписки около 3000 метров, причем среднее и медианное значения примерно равны.\n",
    "\n",
    "Среднее значение расстояния поездок пользователей без подписки около 3100 метров, среднее и медианное значения так же примерно равны.\n",
    "\n",
    "***Продолжительность поездок***\n",
    "\n",
    "На гистограмме можно наблюдать небольшой пик в районе нулевых значений, более внимательный анализ показал, что есть 95 записей в датафрейме rides с длительностью поездки меньше минуты (причем все такие значения у пользователей без подписки). При этом расстояние поездки не менее 4 км. Эти значения мы никак не удаляли и не изменяли, оставили в исходном состоянии.\n",
    "\n",
    "Можно предположить, что это некие промокоды от сервиса, которые проставляют пользователям значения длительности меньше минуты, чтобы в дальнейшем никак их не тарифицировать. Или это какой то технический сбой. В любом случае для дальнейшего анализа такие данные нам пригодятся.\n",
    "\n",
    "После того, как данные о поездках были выделены в две отдельные группы, параметр был проанализироввн отдельно для каждой группы. \n",
    "\n",
    "Среднее значение времени поездок пользователей без подписки около 17 минут.\n",
    "\n",
    "Среднее значение времени поездок пользователей без подписки около 18 минут.\n",
    "\n",
    "***Подсчет выручки***\n",
    "\n",
    "На основе всех данных был сформирован новый датафрейм `data_stat` с агрегированными данными о поездках на основе основного датафрейма: суммарное расстояние, количество поездок и суммарное время для каждого пользователя за каждый месяц. \n",
    "\n",
    "Добавлен столбец с помесячной выручкой, которую принес каждый пользователь. Для этого мы обратились к информации об условиях оплаты для подписчиков и тех, у кого нет подписки. Продлжительность каждой поездки в каждой строке исходного датафрейма для подсчета стоимости округлили до следующего целого числа.\n",
    "\n",
    "Средняя помесячная выручка, которую принес каждый пользователь имеет среднее значение 320-340 рублей вне зависимости от месяца и типа подписки. Разброс значений составляет от 58 до 1444 рублей."
   ]
  },
  {
   "cell_type": "markdown",
   "id": "1b1cd14d",
   "metadata": {},
   "source": [
    "### Проверка гипотез"
   ]
  },
  {
   "cell_type": "markdown",
   "id": "1d0f0fed",
   "metadata": {},
   "source": [
    "**Гипотеза: пользователи с подпиской тратят больше времени на поездки**\n",
    "\n",
    "- ***Нулевая гипотеза***: средние значения длительностей поездок пользователей из двух групп равны.\n",
    "- ***Альтернативная гипотеза***: среднее значение длительностей поездок пользователей с подпиской больше, чем среднее значение длительностей поездок пользователей без подписки.\n",
    "\n",
    "p-value получили меньше уровня значимости в 5%\n",
    "\n",
    "**Вывод**: Полученное значение p-value меньше заданного уровня значимости, поэтому можно отвергнуть нулевую гипотезу. Есть основания говорить, что пользователи с подпиской тратят в поездках больше времени.\n",
    "\n",
    "Действительно:\n",
    "\n",
    "Средняя продолжительность поездок без подписки - 17.39 минут\n",
    "\n",
    "Средняя продолжительность поездок с подпиской - 18.54 минут\n",
    "\n",
    "В целом разница средних значений длительности поездок с подпиской и без отличается на 1 минуту.\n",
    "\n",
    "\n",
    "**Гипотеза: расстояние, которое проезжают пользователи с подпиской за одну поездку, не превышает 3130 метров**\n",
    "\n",
    "- ***Нулевая гипотеза***: средние расстояние поездки пользователей с подпиской равно 3130 метров.\n",
    "- ***Альтернативная гипотеза***: среднее расстояние поездки пользователей с подпиской больше, чем 3130.\n",
    "\n",
    "p-value получили больше уровня значимости в 5%\n",
    "\n",
    "**Вывод**: Полученное значение p-value больше заданного уровня значимости, поэтому у нас недостаточно оснований для того, чтобы отвергнуть нулевую гипотезу. \n",
    "\n",
    "Средняя расстояние поездок с подпиской - 3115.45\n",
    "\n",
    "\n",
    "**Гипотеза: помесячная выручка от пользователей с подпиской по месяцам выше, чем выручка от пользователей без подписки**\n",
    "\n",
    "- ***Нулевая гипотеза***: средняя помесячная выручка от пользователей из двух групп равна.\n",
    "- ***Альтернативная гипотеза***: средняя помесячная выручка от пользователей с подпиской больше, чем средняя помесячная выручка от пользователей без подписки.\n",
    "\n",
    "p-value получили меньше уровня значимости в 5%\n",
    "\n",
    "**Вывод**: Полученное значение p-value меньше заданного уровня значимости, поэтому можно отвергнуть нулевую гипотезу. Есть основания говорить, что помесячная выручка от пользователей с подпиской больше, чем у пользователей без подписки.\n",
    "\n",
    "Действительно:\n",
    "\n",
    "Средняя помесячная выручка пользователей без подписки - 328.64\n",
    "\n",
    "Средняя помесячная выручка пользователей с подпиской - 362.79\n",
    "\n",
    "**Гипотеза про обращение в тех.поддержку**\n",
    "\n",
    "В данном случае будут анализироваться две зависимые выборки. Будет проверяться гипотеза о равенстве среднего значения генеральной совокупности до и после изменения\n",
    "Использовать в такой ситуации правильно метод scipy.stats.ttest_rel. Аргументы - парные выборки до и после изменения, а так же alternative='greater' - проверится правосторонняя гипотеза, истинное среднее генеральной совокупности после изменения меньше, чем до изменений.\n",
    "\n",
    "\n"
   ]
  },
  {
   "cell_type": "markdown",
   "id": "44f4bc90",
   "metadata": {},
   "source": [
    "### Задания на тему \"Распределение\""
   ]
  },
  {
   "cell_type": "markdown",
   "id": "dfa14bda",
   "metadata": {},
   "source": [
    "**Промокоды**\n",
    "\n",
    "Метод .cdf() выведет вероятность, с которой выполняется удачное действие k раз с вероятность удачи p при общем количестве действий n раз.\n",
    "\n",
    "Значит нам надо подобрать такое значение n, при котором k = 100 (ровно столько подписчиков нам нужно) с вероястностью удачи p = 0.1 (10% продлевают подписку).\n",
    "\n",
    "Переберем в цикле от 100 и найдем такое значение, при котором вероятность все еще больше 5%\n",
    "\n",
    "Необходимо разослать 1173 промокодов\n",
    "\n",
    "Вероятность не выполнить план будет равна - 4.95%\n",
    "\n",
    "\n",
    "**Push-уведомления в мобильном приложении**\n",
    "\n",
    "Биномиальное распределение можно апроксимировать нормальным распределением. Математическое ожидание и стандартное отклонение нормального распределения, которым аппроксимируется биномиальное, просто берутся равными математическому ожиданию и стандартному отклонения биномиального распределения.\n",
    "\n",
    "Вероятность того, что уведомление откроют 399,5 тыс пользователей - 15.37% \n",
    "\n"
   ]
  },
  {
   "cell_type": "markdown",
   "id": "570c6d0d",
   "metadata": {},
   "source": [
    "### Итог"
   ]
  },
  {
   "cell_type": "markdown",
   "id": "7701b0fa",
   "metadata": {},
   "source": [
    "Мы получили данные, предобработали их там, где это было необходимо, проанализировали отдельные показатели поездок. Построили графики, по исследуемым данным. Проанализировалы данные о поездках в зависимости от подписки пользователя.\n",
    "\n",
    "Создали таблицу с агрегированными данными и помесячной выручкой по каждому пользователю.\n",
    "\n",
    "В результате исследования можно сделать вывод, что пользователи с подпиской тратят больше времени на поездки, при этом пользователей примерно равное количества с подписикой и без, а вот самих поездок пока гораздо меньше (почти на 30%).\n",
    "\n",
    "Средняя выручка от пользователей с подпиской больше, чем без подписки.\n",
    "\n",
    "Гипотезу о том, что расстояние одной поездки в 3130 метров, оптимальное с точки зрания износа самоката, в среднем равно расстоянию поездки для пользоватлей с подпиской опровергнуть не получилось: недостаточно оснований по текущей выборке данных."
   ]
  }
 ],
 "metadata": {
  "ExecuteTimeLog": [
   {
    "duration": 842,
    "start_time": "2023-10-05T18:56:03.693Z"
   },
   {
    "duration": 3,
    "start_time": "2023-10-05T18:58:02.712Z"
   },
   {
    "duration": 117,
    "start_time": "2023-10-05T18:58:03.944Z"
   },
   {
    "duration": 408,
    "start_time": "2023-10-05T18:58:04.590Z"
   },
   {
    "duration": 75,
    "start_time": "2023-10-05T18:58:05.114Z"
   },
   {
    "duration": 27,
    "start_time": "2023-10-05T19:00:18.383Z"
   },
   {
    "duration": 10,
    "start_time": "2023-10-05T19:00:18.807Z"
   },
   {
    "duration": 45,
    "start_time": "2023-10-05T19:00:21.129Z"
   },
   {
    "duration": 7,
    "start_time": "2023-10-05T19:00:21.882Z"
   },
   {
    "duration": 25,
    "start_time": "2023-10-05T19:00:23.880Z"
   },
   {
    "duration": 6,
    "start_time": "2023-10-05T19:00:24.417Z"
   },
   {
    "duration": 39,
    "start_time": "2023-10-05T19:00:32.995Z"
   },
   {
    "duration": 14,
    "start_time": "2023-10-05T19:00:34.346Z"
   },
   {
    "duration": 44,
    "start_time": "2023-10-05T19:00:37.608Z"
   },
   {
    "duration": 7,
    "start_time": "2023-10-05T19:00:42.032Z"
   },
   {
    "duration": 37,
    "start_time": "2023-10-05T19:00:50.492Z"
   },
   {
    "duration": 12,
    "start_time": "2023-10-05T19:00:51.580Z"
   },
   {
    "duration": 26,
    "start_time": "2023-10-05T19:00:57.406Z"
   },
   {
    "duration": 7,
    "start_time": "2023-10-05T19:00:58.106Z"
   },
   {
    "duration": 37,
    "start_time": "2023-10-05T19:09:20.739Z"
   },
   {
    "duration": 27,
    "start_time": "2023-10-05T19:11:37.912Z"
   },
   {
    "duration": 9,
    "start_time": "2023-10-05T19:11:38.729Z"
   },
   {
    "duration": 47,
    "start_time": "2023-10-05T19:11:41.918Z"
   },
   {
    "duration": 13,
    "start_time": "2023-10-05T19:11:42.721Z"
   },
   {
    "duration": 25,
    "start_time": "2023-10-05T19:11:45.495Z"
   },
   {
    "duration": 7,
    "start_time": "2023-10-05T19:11:46.095Z"
   },
   {
    "duration": 13,
    "start_time": "2023-10-05T19:13:15.392Z"
   },
   {
    "duration": 94,
    "start_time": "2023-10-05T19:13:16.291Z"
   },
   {
    "duration": 14,
    "start_time": "2023-10-05T19:13:16.817Z"
   },
   {
    "duration": 13,
    "start_time": "2023-10-05T19:13:53.508Z"
   },
   {
    "duration": 13,
    "start_time": "2023-10-05T19:23:47.276Z"
   },
   {
    "duration": 9,
    "start_time": "2023-10-05T19:24:27.589Z"
   },
   {
    "duration": 11,
    "start_time": "2023-10-05T19:24:38.173Z"
   },
   {
    "duration": 9,
    "start_time": "2023-10-05T19:24:42.076Z"
   },
   {
    "duration": 6,
    "start_time": "2023-10-05T19:27:13.969Z"
   },
   {
    "duration": 13,
    "start_time": "2023-10-05T19:28:16.457Z"
   },
   {
    "duration": 6,
    "start_time": "2023-10-05T19:29:08.604Z"
   },
   {
    "duration": 7,
    "start_time": "2023-10-05T19:29:09.196Z"
   },
   {
    "duration": 16,
    "start_time": "2023-10-05T19:29:09.665Z"
   },
   {
    "duration": 7,
    "start_time": "2023-10-05T19:29:25.173Z"
   },
   {
    "duration": 733,
    "start_time": "2023-10-05T19:29:34.773Z"
   },
   {
    "duration": 28,
    "start_time": "2023-10-05T19:29:35.508Z"
   },
   {
    "duration": 26,
    "start_time": "2023-10-05T19:29:35.538Z"
   },
   {
    "duration": 60,
    "start_time": "2023-10-05T19:29:35.568Z"
   },
   {
    "duration": 16,
    "start_time": "2023-10-05T19:29:35.632Z"
   },
   {
    "duration": 37,
    "start_time": "2023-10-05T19:29:35.655Z"
   },
   {
    "duration": 9,
    "start_time": "2023-10-05T19:29:35.694Z"
   },
   {
    "duration": 15,
    "start_time": "2023-10-05T19:29:35.704Z"
   },
   {
    "duration": 13,
    "start_time": "2023-10-05T19:29:35.720Z"
   },
   {
    "duration": 86,
    "start_time": "2023-10-05T19:29:35.734Z"
   },
   {
    "duration": 0,
    "start_time": "2023-10-05T19:29:35.822Z"
   },
   {
    "duration": 0,
    "start_time": "2023-10-05T19:29:35.823Z"
   },
   {
    "duration": 0,
    "start_time": "2023-10-05T19:29:35.824Z"
   },
   {
    "duration": 0,
    "start_time": "2023-10-05T19:29:35.825Z"
   },
   {
    "duration": 0,
    "start_time": "2023-10-05T19:29:35.826Z"
   },
   {
    "duration": 719,
    "start_time": "2023-10-05T19:30:05.876Z"
   },
   {
    "duration": 29,
    "start_time": "2023-10-05T19:30:06.597Z"
   },
   {
    "duration": 18,
    "start_time": "2023-10-05T19:30:06.627Z"
   },
   {
    "duration": 45,
    "start_time": "2023-10-05T19:30:06.647Z"
   },
   {
    "duration": 19,
    "start_time": "2023-10-05T19:30:06.694Z"
   },
   {
    "duration": 53,
    "start_time": "2023-10-05T19:30:06.716Z"
   },
   {
    "duration": 7,
    "start_time": "2023-10-05T19:30:06.771Z"
   },
   {
    "duration": 51,
    "start_time": "2023-10-05T19:30:06.780Z"
   },
   {
    "duration": 260,
    "start_time": "2023-10-05T19:30:06.833Z"
   },
   {
    "duration": 48,
    "start_time": "2023-10-05T19:30:07.095Z"
   },
   {
    "duration": 77,
    "start_time": "2023-10-05T19:30:07.145Z"
   },
   {
    "duration": 43,
    "start_time": "2023-10-05T19:30:07.224Z"
   },
   {
    "duration": 31,
    "start_time": "2023-10-05T19:30:07.268Z"
   },
   {
    "duration": 29,
    "start_time": "2023-10-05T19:30:07.302Z"
   },
   {
    "duration": 25,
    "start_time": "2023-10-05T19:30:07.333Z"
   },
   {
    "duration": 11,
    "start_time": "2023-10-05T19:32:22.513Z"
   },
   {
    "duration": 10,
    "start_time": "2023-10-05T19:34:20.084Z"
   },
   {
    "duration": 13,
    "start_time": "2023-10-05T19:34:41.095Z"
   },
   {
    "duration": 10,
    "start_time": "2023-10-05T19:34:45.419Z"
   },
   {
    "duration": 699,
    "start_time": "2023-10-05T19:34:56.522Z"
   },
   {
    "duration": 48,
    "start_time": "2023-10-05T19:34:57.223Z"
   },
   {
    "duration": 19,
    "start_time": "2023-10-05T19:34:57.273Z"
   },
   {
    "duration": 30,
    "start_time": "2023-10-05T19:34:57.294Z"
   },
   {
    "duration": 10,
    "start_time": "2023-10-05T19:34:57.326Z"
   },
   {
    "duration": 39,
    "start_time": "2023-10-05T19:34:57.337Z"
   },
   {
    "duration": 8,
    "start_time": "2023-10-05T19:34:57.377Z"
   },
   {
    "duration": 19,
    "start_time": "2023-10-05T19:34:57.387Z"
   },
   {
    "duration": 12,
    "start_time": "2023-10-05T19:34:57.407Z"
   },
   {
    "duration": 12,
    "start_time": "2023-10-05T19:34:57.421Z"
   },
   {
    "duration": 20,
    "start_time": "2023-10-05T19:34:57.435Z"
   },
   {
    "duration": 14,
    "start_time": "2023-10-05T19:34:57.456Z"
   },
   {
    "duration": 6,
    "start_time": "2023-10-05T19:34:57.472Z"
   },
   {
    "duration": 7,
    "start_time": "2023-10-05T19:34:57.480Z"
   },
   {
    "duration": 8,
    "start_time": "2023-10-05T19:34:57.488Z"
   },
   {
    "duration": 11,
    "start_time": "2023-10-05T19:34:57.497Z"
   },
   {
    "duration": 10,
    "start_time": "2023-10-05T19:34:57.510Z"
   },
   {
    "duration": 30,
    "start_time": "2023-10-05T19:34:57.522Z"
   },
   {
    "duration": 18,
    "start_time": "2023-10-05T19:34:57.554Z"
   },
   {
    "duration": 783,
    "start_time": "2023-10-05T19:38:33.827Z"
   },
   {
    "duration": 28,
    "start_time": "2023-10-05T19:38:34.612Z"
   },
   {
    "duration": 23,
    "start_time": "2023-10-05T19:38:34.641Z"
   },
   {
    "duration": 39,
    "start_time": "2023-10-05T19:38:34.671Z"
   },
   {
    "duration": 13,
    "start_time": "2023-10-05T19:38:34.712Z"
   },
   {
    "duration": 25,
    "start_time": "2023-10-05T19:38:34.726Z"
   },
   {
    "duration": 10,
    "start_time": "2023-10-05T19:38:34.758Z"
   },
   {
    "duration": 21,
    "start_time": "2023-10-05T19:38:34.769Z"
   },
   {
    "duration": 17,
    "start_time": "2023-10-05T19:38:34.792Z"
   },
   {
    "duration": 30,
    "start_time": "2023-10-05T19:38:34.811Z"
   },
   {
    "duration": 25,
    "start_time": "2023-10-05T19:38:34.843Z"
   },
   {
    "duration": 6,
    "start_time": "2023-10-05T19:38:34.873Z"
   },
   {
    "duration": 41,
    "start_time": "2023-10-05T19:38:34.881Z"
   },
   {
    "duration": 16,
    "start_time": "2023-10-05T19:38:34.924Z"
   },
   {
    "duration": 18,
    "start_time": "2023-10-05T19:38:34.942Z"
   },
   {
    "duration": 29,
    "start_time": "2023-10-05T19:38:34.962Z"
   },
   {
    "duration": 59,
    "start_time": "2023-10-05T19:38:34.992Z"
   },
   {
    "duration": 33,
    "start_time": "2023-10-05T19:38:35.053Z"
   },
   {
    "duration": 25,
    "start_time": "2023-10-05T19:38:35.087Z"
   },
   {
    "duration": 95,
    "start_time": "2023-10-05T19:42:04.580Z"
   },
   {
    "duration": 288,
    "start_time": "2023-10-05T19:42:44.693Z"
   },
   {
    "duration": 245,
    "start_time": "2023-10-05T19:43:02.512Z"
   },
   {
    "duration": 253,
    "start_time": "2023-10-05T19:44:20.239Z"
   },
   {
    "duration": 6,
    "start_time": "2023-10-05T19:45:29.695Z"
   },
   {
    "duration": 128,
    "start_time": "2023-10-05T19:46:36.302Z"
   },
   {
    "duration": 241,
    "start_time": "2023-10-05T19:48:42.190Z"
   },
   {
    "duration": 176,
    "start_time": "2023-10-05T19:49:35.540Z"
   },
   {
    "duration": 167,
    "start_time": "2023-10-05T19:51:46.822Z"
   },
   {
    "duration": 189,
    "start_time": "2023-10-05T19:52:13.192Z"
   },
   {
    "duration": 184,
    "start_time": "2023-10-05T19:54:14.724Z"
   },
   {
    "duration": 8,
    "start_time": "2023-10-05T19:56:27.187Z"
   },
   {
    "duration": 7,
    "start_time": "2023-10-05T19:56:32.069Z"
   },
   {
    "duration": 13,
    "start_time": "2023-10-05T19:56:57.487Z"
   },
   {
    "duration": 10,
    "start_time": "2023-10-05T19:57:07.302Z"
   },
   {
    "duration": 8,
    "start_time": "2023-10-05T19:57:42.207Z"
   },
   {
    "duration": 5,
    "start_time": "2023-10-05T19:57:46.110Z"
   },
   {
    "duration": 5,
    "start_time": "2023-10-05T19:58:00.788Z"
   },
   {
    "duration": 172,
    "start_time": "2023-10-05T19:58:25.149Z"
   },
   {
    "duration": 202,
    "start_time": "2023-10-05T19:59:17.584Z"
   },
   {
    "duration": 184,
    "start_time": "2023-10-05T19:59:26.534Z"
   },
   {
    "duration": 169,
    "start_time": "2023-10-05T19:59:39.322Z"
   },
   {
    "duration": 20,
    "start_time": "2023-10-05T20:02:28.140Z"
   },
   {
    "duration": 131,
    "start_time": "2023-10-05T20:02:45.501Z"
   },
   {
    "duration": 160,
    "start_time": "2023-10-05T20:03:24.078Z"
   },
   {
    "duration": 11,
    "start_time": "2023-10-05T20:03:31.382Z"
   },
   {
    "duration": 227,
    "start_time": "2023-10-05T20:03:37.125Z"
   },
   {
    "duration": 279,
    "start_time": "2023-10-05T20:05:35.381Z"
   },
   {
    "duration": 293,
    "start_time": "2023-10-05T20:05:49.206Z"
   },
   {
    "duration": 8,
    "start_time": "2023-10-05T20:06:21.186Z"
   },
   {
    "duration": 311,
    "start_time": "2023-10-05T20:06:34.799Z"
   },
   {
    "duration": 176,
    "start_time": "2023-10-05T20:06:59.552Z"
   },
   {
    "duration": 271,
    "start_time": "2023-10-05T20:07:06.011Z"
   },
   {
    "duration": 222,
    "start_time": "2023-10-05T20:07:14.580Z"
   },
   {
    "duration": 315,
    "start_time": "2023-10-05T20:07:19.869Z"
   },
   {
    "duration": 267,
    "start_time": "2023-10-05T20:07:27.258Z"
   },
   {
    "duration": 327,
    "start_time": "2023-10-05T20:07:36.478Z"
   },
   {
    "duration": 157,
    "start_time": "2023-10-05T20:09:04.642Z"
   },
   {
    "duration": 299,
    "start_time": "2023-10-05T20:10:07.160Z"
   },
   {
    "duration": 9,
    "start_time": "2023-10-05T20:10:28.801Z"
   },
   {
    "duration": 310,
    "start_time": "2023-10-05T20:10:53.904Z"
   },
   {
    "duration": 335,
    "start_time": "2023-10-05T20:12:40.795Z"
   },
   {
    "duration": 14,
    "start_time": "2023-10-05T20:12:46.182Z"
   },
   {
    "duration": 254,
    "start_time": "2023-10-05T20:12:47.117Z"
   },
   {
    "duration": 218,
    "start_time": "2023-10-05T20:13:15.594Z"
   },
   {
    "duration": 701,
    "start_time": "2023-10-05T20:14:19.526Z"
   },
   {
    "duration": 34,
    "start_time": "2023-10-05T20:14:20.229Z"
   },
   {
    "duration": 12,
    "start_time": "2023-10-05T20:14:20.265Z"
   },
   {
    "duration": 28,
    "start_time": "2023-10-05T20:14:20.279Z"
   },
   {
    "duration": 9,
    "start_time": "2023-10-05T20:14:20.310Z"
   },
   {
    "duration": 27,
    "start_time": "2023-10-05T20:14:20.321Z"
   },
   {
    "duration": 6,
    "start_time": "2023-10-05T20:14:20.358Z"
   },
   {
    "duration": 11,
    "start_time": "2023-10-05T20:14:20.366Z"
   },
   {
    "duration": 15,
    "start_time": "2023-10-05T20:14:20.378Z"
   },
   {
    "duration": 12,
    "start_time": "2023-10-05T20:14:20.395Z"
   },
   {
    "duration": 9,
    "start_time": "2023-10-05T20:14:20.408Z"
   },
   {
    "duration": 5,
    "start_time": "2023-10-05T20:14:20.418Z"
   },
   {
    "duration": 5,
    "start_time": "2023-10-05T20:14:20.424Z"
   },
   {
    "duration": 25,
    "start_time": "2023-10-05T20:14:20.431Z"
   },
   {
    "duration": 10,
    "start_time": "2023-10-05T20:14:20.458Z"
   },
   {
    "duration": 11,
    "start_time": "2023-10-05T20:14:20.469Z"
   },
   {
    "duration": 9,
    "start_time": "2023-10-05T20:14:20.482Z"
   },
   {
    "duration": 16,
    "start_time": "2023-10-05T20:14:20.492Z"
   },
   {
    "duration": 11,
    "start_time": "2023-10-05T20:14:20.510Z"
   },
   {
    "duration": 175,
    "start_time": "2023-10-05T20:14:20.523Z"
   },
   {
    "duration": 132,
    "start_time": "2023-10-05T20:14:20.700Z"
   },
   {
    "duration": 22,
    "start_time": "2023-10-05T20:14:20.833Z"
   },
   {
    "duration": 378,
    "start_time": "2023-10-05T20:14:20.856Z"
   },
   {
    "duration": 24,
    "start_time": "2023-10-05T20:14:21.236Z"
   },
   {
    "duration": 319,
    "start_time": "2023-10-05T20:14:21.261Z"
   },
   {
    "duration": 7,
    "start_time": "2023-10-05T20:14:21.582Z"
   },
   {
    "duration": 244,
    "start_time": "2023-10-05T20:14:21.591Z"
   },
   {
    "duration": 675,
    "start_time": "2023-10-05T20:15:36.849Z"
   },
   {
    "duration": 32,
    "start_time": "2023-10-05T20:15:37.526Z"
   },
   {
    "duration": 13,
    "start_time": "2023-10-05T20:15:37.559Z"
   },
   {
    "duration": 28,
    "start_time": "2023-10-05T20:15:37.574Z"
   },
   {
    "duration": 9,
    "start_time": "2023-10-05T20:15:37.603Z"
   },
   {
    "duration": 22,
    "start_time": "2023-10-05T20:15:37.613Z"
   },
   {
    "duration": 7,
    "start_time": "2023-10-05T20:15:37.636Z"
   },
   {
    "duration": 19,
    "start_time": "2023-10-05T20:15:37.647Z"
   },
   {
    "duration": 29,
    "start_time": "2023-10-05T20:15:37.667Z"
   },
   {
    "duration": 9,
    "start_time": "2023-10-05T20:15:37.699Z"
   },
   {
    "duration": 19,
    "start_time": "2023-10-05T20:15:37.709Z"
   },
   {
    "duration": 27,
    "start_time": "2023-10-05T20:15:37.730Z"
   },
   {
    "duration": 24,
    "start_time": "2023-10-05T20:15:37.758Z"
   },
   {
    "duration": 23,
    "start_time": "2023-10-05T20:15:37.783Z"
   },
   {
    "duration": 5,
    "start_time": "2023-10-05T20:15:37.807Z"
   },
   {
    "duration": 42,
    "start_time": "2023-10-05T20:15:37.814Z"
   },
   {
    "duration": 9,
    "start_time": "2023-10-05T20:15:37.858Z"
   },
   {
    "duration": 13,
    "start_time": "2023-10-05T20:15:37.869Z"
   },
   {
    "duration": 8,
    "start_time": "2023-10-05T20:15:37.883Z"
   },
   {
    "duration": 180,
    "start_time": "2023-10-05T20:15:37.893Z"
   },
   {
    "duration": 144,
    "start_time": "2023-10-05T20:15:38.074Z"
   },
   {
    "duration": 8,
    "start_time": "2023-10-05T20:15:38.220Z"
   },
   {
    "duration": 267,
    "start_time": "2023-10-05T20:15:38.229Z"
   },
   {
    "duration": 8,
    "start_time": "2023-10-05T20:15:38.498Z"
   },
   {
    "duration": 314,
    "start_time": "2023-10-05T20:15:38.507Z"
   },
   {
    "duration": 8,
    "start_time": "2023-10-05T20:15:38.823Z"
   },
   {
    "duration": 254,
    "start_time": "2023-10-05T20:15:38.833Z"
   },
   {
    "duration": 624,
    "start_time": "2023-10-05T20:18:18.981Z"
   },
   {
    "duration": 28,
    "start_time": "2023-10-05T20:18:19.606Z"
   },
   {
    "duration": 22,
    "start_time": "2023-10-05T20:18:19.636Z"
   },
   {
    "duration": 27,
    "start_time": "2023-10-05T20:18:19.659Z"
   },
   {
    "duration": 9,
    "start_time": "2023-10-05T20:18:19.688Z"
   },
   {
    "duration": 18,
    "start_time": "2023-10-05T20:18:19.698Z"
   },
   {
    "duration": 7,
    "start_time": "2023-10-05T20:18:19.717Z"
   },
   {
    "duration": 10,
    "start_time": "2023-10-05T20:18:19.726Z"
   },
   {
    "duration": 21,
    "start_time": "2023-10-05T20:18:19.738Z"
   },
   {
    "duration": 10,
    "start_time": "2023-10-05T20:18:19.760Z"
   },
   {
    "duration": 14,
    "start_time": "2023-10-05T20:18:19.771Z"
   },
   {
    "duration": 5,
    "start_time": "2023-10-05T20:18:19.786Z"
   },
   {
    "duration": 10,
    "start_time": "2023-10-05T20:18:19.792Z"
   },
   {
    "duration": 7,
    "start_time": "2023-10-05T20:18:19.805Z"
   },
   {
    "duration": 5,
    "start_time": "2023-10-05T20:18:19.814Z"
   },
   {
    "duration": 29,
    "start_time": "2023-10-05T20:18:19.820Z"
   },
   {
    "duration": 16,
    "start_time": "2023-10-05T20:18:19.851Z"
   },
   {
    "duration": 21,
    "start_time": "2023-10-05T20:18:19.869Z"
   },
   {
    "duration": 18,
    "start_time": "2023-10-05T20:18:19.892Z"
   },
   {
    "duration": 198,
    "start_time": "2023-10-05T20:18:19.911Z"
   },
   {
    "duration": 156,
    "start_time": "2023-10-05T20:18:20.111Z"
   },
   {
    "duration": 8,
    "start_time": "2023-10-05T20:18:20.269Z"
   },
   {
    "duration": 280,
    "start_time": "2023-10-05T20:18:20.279Z"
   },
   {
    "duration": 10,
    "start_time": "2023-10-05T20:18:20.560Z"
   },
   {
    "duration": 315,
    "start_time": "2023-10-05T20:18:20.572Z"
   },
   {
    "duration": 9,
    "start_time": "2023-10-05T20:18:20.889Z"
   },
   {
    "duration": 288,
    "start_time": "2023-10-05T20:18:20.900Z"
   },
   {
    "duration": 245,
    "start_time": "2023-10-05T20:19:29.872Z"
   },
   {
    "duration": 231,
    "start_time": "2023-10-05T20:22:37.530Z"
   },
   {
    "duration": 237,
    "start_time": "2023-10-05T20:22:58.199Z"
   },
   {
    "duration": 305,
    "start_time": "2023-10-05T20:24:07.800Z"
   },
   {
    "duration": 225,
    "start_time": "2023-10-05T20:24:18.541Z"
   },
   {
    "duration": 251,
    "start_time": "2023-10-05T20:26:40.863Z"
   },
   {
    "duration": 320,
    "start_time": "2023-10-05T20:27:33.962Z"
   },
   {
    "duration": 106,
    "start_time": "2023-10-05T20:27:46.421Z"
   },
   {
    "duration": 76,
    "start_time": "2023-10-05T20:27:52.751Z"
   },
   {
    "duration": 234,
    "start_time": "2023-10-05T20:28:52.322Z"
   },
   {
    "duration": 120,
    "start_time": "2023-10-05T20:29:10.407Z"
   },
   {
    "duration": 8,
    "start_time": "2023-10-05T20:30:16.186Z"
   },
   {
    "duration": 648,
    "start_time": "2023-10-05T20:30:52.834Z"
   },
   {
    "duration": 28,
    "start_time": "2023-10-05T20:30:53.483Z"
   },
   {
    "duration": 11,
    "start_time": "2023-10-05T20:30:53.512Z"
   },
   {
    "duration": 27,
    "start_time": "2023-10-05T20:30:53.525Z"
   },
   {
    "duration": 9,
    "start_time": "2023-10-05T20:30:53.553Z"
   },
   {
    "duration": 16,
    "start_time": "2023-10-05T20:30:53.563Z"
   },
   {
    "duration": 6,
    "start_time": "2023-10-05T20:30:53.581Z"
   },
   {
    "duration": 18,
    "start_time": "2023-10-05T20:30:53.588Z"
   },
   {
    "duration": 17,
    "start_time": "2023-10-05T20:30:53.608Z"
   },
   {
    "duration": 9,
    "start_time": "2023-10-05T20:30:53.627Z"
   },
   {
    "duration": 12,
    "start_time": "2023-10-05T20:30:53.637Z"
   },
   {
    "duration": 6,
    "start_time": "2023-10-05T20:30:53.650Z"
   },
   {
    "duration": 5,
    "start_time": "2023-10-05T20:30:53.657Z"
   },
   {
    "duration": 20,
    "start_time": "2023-10-05T20:30:53.664Z"
   },
   {
    "duration": 18,
    "start_time": "2023-10-05T20:30:53.686Z"
   },
   {
    "duration": 24,
    "start_time": "2023-10-05T20:30:53.706Z"
   },
   {
    "duration": 20,
    "start_time": "2023-10-05T20:30:53.731Z"
   },
   {
    "duration": 29,
    "start_time": "2023-10-05T20:30:53.753Z"
   },
   {
    "duration": 21,
    "start_time": "2023-10-05T20:30:53.783Z"
   },
   {
    "duration": 161,
    "start_time": "2023-10-05T20:30:53.806Z"
   },
   {
    "duration": 166,
    "start_time": "2023-10-05T20:30:53.968Z"
   },
   {
    "duration": 15,
    "start_time": "2023-10-05T20:30:54.136Z"
   },
   {
    "duration": 280,
    "start_time": "2023-10-05T20:30:54.153Z"
   },
   {
    "duration": 16,
    "start_time": "2023-10-05T20:30:54.435Z"
   },
   {
    "duration": 284,
    "start_time": "2023-10-05T20:30:54.453Z"
   },
   {
    "duration": 11,
    "start_time": "2023-10-05T20:30:54.739Z"
   },
   {
    "duration": 234,
    "start_time": "2023-10-05T20:30:54.752Z"
   },
   {
    "duration": 656,
    "start_time": "2023-10-05T20:31:54.057Z"
   },
   {
    "duration": 29,
    "start_time": "2023-10-05T20:31:54.715Z"
   },
   {
    "duration": 11,
    "start_time": "2023-10-05T20:31:54.746Z"
   },
   {
    "duration": 45,
    "start_time": "2023-10-05T20:31:54.759Z"
   },
   {
    "duration": 9,
    "start_time": "2023-10-05T20:31:54.806Z"
   },
   {
    "duration": 42,
    "start_time": "2023-10-05T20:31:54.817Z"
   },
   {
    "duration": 15,
    "start_time": "2023-10-05T20:31:54.861Z"
   },
   {
    "duration": 20,
    "start_time": "2023-10-05T20:31:54.878Z"
   },
   {
    "duration": 30,
    "start_time": "2023-10-05T20:31:54.899Z"
   },
   {
    "duration": 25,
    "start_time": "2023-10-05T20:31:54.932Z"
   },
   {
    "duration": 20,
    "start_time": "2023-10-05T20:31:54.959Z"
   },
   {
    "duration": 24,
    "start_time": "2023-10-05T20:31:54.980Z"
   },
   {
    "duration": 51,
    "start_time": "2023-10-05T20:31:55.005Z"
   },
   {
    "duration": 27,
    "start_time": "2023-10-05T20:31:55.058Z"
   },
   {
    "duration": 38,
    "start_time": "2023-10-05T20:31:55.086Z"
   },
   {
    "duration": 46,
    "start_time": "2023-10-05T20:31:55.126Z"
   },
   {
    "duration": 27,
    "start_time": "2023-10-05T20:31:55.173Z"
   },
   {
    "duration": 75,
    "start_time": "2023-10-05T20:31:55.202Z"
   },
   {
    "duration": 36,
    "start_time": "2023-10-05T20:31:55.279Z"
   },
   {
    "duration": 199,
    "start_time": "2023-10-05T20:31:55.316Z"
   },
   {
    "duration": 128,
    "start_time": "2023-10-05T20:31:55.516Z"
   },
   {
    "duration": 9,
    "start_time": "2023-10-05T20:31:55.645Z"
   },
   {
    "duration": 17919,
    "start_time": "2023-10-05T20:31:55.655Z"
   },
   {
    "duration": 8,
    "start_time": "2023-10-05T20:32:13.575Z"
   },
   {
    "duration": 247,
    "start_time": "2023-10-05T20:32:13.584Z"
   },
   {
    "duration": 13,
    "start_time": "2023-10-05T20:32:13.832Z"
   },
   {
    "duration": 269,
    "start_time": "2023-10-05T20:32:13.846Z"
   },
   {
    "duration": 494,
    "start_time": "2023-10-05T20:32:31.274Z"
   },
   {
    "duration": 224,
    "start_time": "2023-10-05T20:32:41.572Z"
   },
   {
    "duration": 229,
    "start_time": "2023-10-05T20:32:47.234Z"
   },
   {
    "duration": 13,
    "start_time": "2023-10-06T06:05:44.352Z"
   },
   {
    "duration": 663,
    "start_time": "2023-10-06T06:06:21.024Z"
   },
   {
    "duration": 29,
    "start_time": "2023-10-06T06:06:21.689Z"
   },
   {
    "duration": 11,
    "start_time": "2023-10-06T06:06:21.719Z"
   },
   {
    "duration": 29,
    "start_time": "2023-10-06T06:06:21.732Z"
   },
   {
    "duration": 8,
    "start_time": "2023-10-06T06:06:21.763Z"
   },
   {
    "duration": 26,
    "start_time": "2023-10-06T06:06:21.772Z"
   },
   {
    "duration": 6,
    "start_time": "2023-10-06T06:06:21.800Z"
   },
   {
    "duration": 20,
    "start_time": "2023-10-06T06:06:21.808Z"
   },
   {
    "duration": 22,
    "start_time": "2023-10-06T06:06:21.829Z"
   },
   {
    "duration": 11,
    "start_time": "2023-10-06T06:06:21.853Z"
   },
   {
    "duration": 42,
    "start_time": "2023-10-06T06:06:21.866Z"
   },
   {
    "duration": 25,
    "start_time": "2023-10-06T06:06:21.909Z"
   },
   {
    "duration": 24,
    "start_time": "2023-10-06T06:06:21.936Z"
   },
   {
    "duration": 19,
    "start_time": "2023-10-06T06:06:21.961Z"
   },
   {
    "duration": 11,
    "start_time": "2023-10-06T06:06:21.981Z"
   },
   {
    "duration": 12,
    "start_time": "2023-10-06T06:06:21.994Z"
   },
   {
    "duration": 29,
    "start_time": "2023-10-06T06:06:22.007Z"
   },
   {
    "duration": 15,
    "start_time": "2023-10-06T06:06:22.038Z"
   },
   {
    "duration": 9,
    "start_time": "2023-10-06T06:06:22.055Z"
   },
   {
    "duration": 170,
    "start_time": "2023-10-06T06:06:22.066Z"
   },
   {
    "duration": 128,
    "start_time": "2023-10-06T06:06:22.243Z"
   },
   {
    "duration": 7,
    "start_time": "2023-10-06T06:06:22.373Z"
   },
   {
    "duration": 247,
    "start_time": "2023-10-06T06:06:22.381Z"
   },
   {
    "duration": 8,
    "start_time": "2023-10-06T06:06:22.629Z"
   },
   {
    "duration": 279,
    "start_time": "2023-10-06T06:06:22.643Z"
   },
   {
    "duration": 8,
    "start_time": "2023-10-06T06:06:22.923Z"
   },
   {
    "duration": 232,
    "start_time": "2023-10-06T06:06:22.932Z"
   },
   {
    "duration": 183,
    "start_time": "2023-10-06T06:07:34.850Z"
   },
   {
    "duration": 73,
    "start_time": "2023-10-06T06:08:31.273Z"
   },
   {
    "duration": 146,
    "start_time": "2023-10-06T06:08:48.343Z"
   },
   {
    "duration": 160,
    "start_time": "2023-10-06T06:10:07.935Z"
   },
   {
    "duration": 140,
    "start_time": "2023-10-06T06:10:23.781Z"
   },
   {
    "duration": 76,
    "start_time": "2023-10-06T06:11:05.909Z"
   },
   {
    "duration": 7,
    "start_time": "2023-10-06T06:11:11.023Z"
   },
   {
    "duration": 80,
    "start_time": "2023-10-06T06:11:21.321Z"
   },
   {
    "duration": 9,
    "start_time": "2023-10-06T06:15:32.274Z"
   },
   {
    "duration": 9,
    "start_time": "2023-10-06T06:16:02.425Z"
   },
   {
    "duration": 104,
    "start_time": "2023-10-06T06:16:53.470Z"
   },
   {
    "duration": 114,
    "start_time": "2023-10-06T06:16:59.485Z"
   },
   {
    "duration": 54,
    "start_time": "2023-10-06T06:17:08.132Z"
   },
   {
    "duration": 58,
    "start_time": "2023-10-06T06:17:34.369Z"
   },
   {
    "duration": 175,
    "start_time": "2023-10-06T06:21:04.041Z"
   },
   {
    "duration": 86,
    "start_time": "2023-10-06T06:21:41.975Z"
   },
   {
    "duration": 122,
    "start_time": "2023-10-06T06:23:17.070Z"
   },
   {
    "duration": 127,
    "start_time": "2023-10-06T06:23:57.216Z"
   },
   {
    "duration": 127,
    "start_time": "2023-10-06T06:25:08.618Z"
   },
   {
    "duration": 139,
    "start_time": "2023-10-06T06:25:37.860Z"
   },
   {
    "duration": 177,
    "start_time": "2023-10-06T06:28:23.934Z"
   },
   {
    "duration": 149,
    "start_time": "2023-10-06T06:29:07.230Z"
   },
   {
    "duration": 166,
    "start_time": "2023-10-06T06:29:35.905Z"
   },
   {
    "duration": 125,
    "start_time": "2023-10-06T06:29:41.974Z"
   },
   {
    "duration": 161,
    "start_time": "2023-10-06T06:30:26.498Z"
   },
   {
    "duration": 181,
    "start_time": "2023-10-06T06:30:57.867Z"
   },
   {
    "duration": 124,
    "start_time": "2023-10-06T06:31:43.218Z"
   },
   {
    "duration": 144,
    "start_time": "2023-10-06T06:31:55.325Z"
   },
   {
    "duration": 164,
    "start_time": "2023-10-06T06:32:06.147Z"
   },
   {
    "duration": 153,
    "start_time": "2023-10-06T06:32:23.839Z"
   },
   {
    "duration": 3,
    "start_time": "2023-10-06T06:33:32.781Z"
   },
   {
    "duration": 9,
    "start_time": "2023-10-06T06:34:44.235Z"
   },
   {
    "duration": 4,
    "start_time": "2023-10-06T06:35:04.875Z"
   },
   {
    "duration": 4,
    "start_time": "2023-10-06T06:36:07.821Z"
   },
   {
    "duration": 9,
    "start_time": "2023-10-06T06:36:11.691Z"
   },
   {
    "duration": 3,
    "start_time": "2023-10-06T06:37:03.578Z"
   },
   {
    "duration": 3,
    "start_time": "2023-10-06T06:37:06.991Z"
   },
   {
    "duration": 10,
    "start_time": "2023-10-06T06:37:09.685Z"
   },
   {
    "duration": 92,
    "start_time": "2023-10-06T06:37:59.730Z"
   },
   {
    "duration": 89,
    "start_time": "2023-10-06T06:38:08.603Z"
   },
   {
    "duration": 80,
    "start_time": "2023-10-06T06:38:14.537Z"
   },
   {
    "duration": 9,
    "start_time": "2023-10-06T06:38:58.066Z"
   },
   {
    "duration": 87,
    "start_time": "2023-10-06T06:39:01.370Z"
   },
   {
    "duration": 30,
    "start_time": "2023-10-06T06:39:52.838Z"
   },
   {
    "duration": 11,
    "start_time": "2023-10-06T06:40:03.434Z"
   },
   {
    "duration": 265,
    "start_time": "2023-10-06T06:41:14.470Z"
   },
   {
    "duration": 318,
    "start_time": "2023-10-06T06:42:20.051Z"
   },
   {
    "duration": 289,
    "start_time": "2023-10-06T06:42:24.349Z"
   },
   {
    "duration": 420,
    "start_time": "2023-10-06T06:42:30.522Z"
   },
   {
    "duration": 3,
    "start_time": "2023-10-06T06:46:34.281Z"
   },
   {
    "duration": 405,
    "start_time": "2023-10-06T06:48:54.983Z"
   },
   {
    "duration": 490,
    "start_time": "2023-10-06T06:49:17.738Z"
   },
   {
    "duration": 395,
    "start_time": "2023-10-06T06:49:57.998Z"
   },
   {
    "duration": 21,
    "start_time": "2023-10-06T06:52:05.853Z"
   },
   {
    "duration": 28,
    "start_time": "2023-10-06T06:52:57.955Z"
   },
   {
    "duration": 28,
    "start_time": "2023-10-06T06:55:33.078Z"
   },
   {
    "duration": 9,
    "start_time": "2023-10-06T06:56:00.909Z"
   },
   {
    "duration": 19,
    "start_time": "2023-10-06T06:56:10.720Z"
   },
   {
    "duration": 19,
    "start_time": "2023-10-06T06:56:45.467Z"
   },
   {
    "duration": 22,
    "start_time": "2023-10-06T06:57:23.174Z"
   },
   {
    "duration": 16,
    "start_time": "2023-10-06T06:57:26.374Z"
   },
   {
    "duration": 14,
    "start_time": "2023-10-06T06:57:31.860Z"
   },
   {
    "duration": 8,
    "start_time": "2023-10-06T06:58:14.544Z"
   },
   {
    "duration": 233,
    "start_time": "2023-10-06T06:58:16.077Z"
   },
   {
    "duration": 331,
    "start_time": "2023-10-06T06:58:40.647Z"
   },
   {
    "duration": 699,
    "start_time": "2023-10-06T07:16:00.015Z"
   },
   {
    "duration": 29,
    "start_time": "2023-10-06T07:16:00.716Z"
   },
   {
    "duration": 53,
    "start_time": "2023-10-06T07:16:00.749Z"
   },
   {
    "duration": 65,
    "start_time": "2023-10-06T07:16:00.804Z"
   },
   {
    "duration": 21,
    "start_time": "2023-10-06T07:16:00.871Z"
   },
   {
    "duration": 75,
    "start_time": "2023-10-06T07:16:00.894Z"
   },
   {
    "duration": 50,
    "start_time": "2023-10-06T07:16:00.970Z"
   },
   {
    "duration": 99,
    "start_time": "2023-10-06T07:16:01.022Z"
   },
   {
    "duration": 71,
    "start_time": "2023-10-06T07:16:01.124Z"
   },
   {
    "duration": 104,
    "start_time": "2023-10-06T07:16:01.197Z"
   },
   {
    "duration": 81,
    "start_time": "2023-10-06T07:16:01.302Z"
   },
   {
    "duration": 40,
    "start_time": "2023-10-06T07:16:01.385Z"
   },
   {
    "duration": 59,
    "start_time": "2023-10-06T07:16:01.426Z"
   },
   {
    "duration": 38,
    "start_time": "2023-10-06T07:16:01.486Z"
   },
   {
    "duration": 63,
    "start_time": "2023-10-06T07:16:01.526Z"
   },
   {
    "duration": 56,
    "start_time": "2023-10-06T07:16:01.591Z"
   },
   {
    "duration": 86,
    "start_time": "2023-10-06T07:16:01.649Z"
   },
   {
    "duration": 45,
    "start_time": "2023-10-06T07:16:01.737Z"
   },
   {
    "duration": 52,
    "start_time": "2023-10-06T07:16:01.783Z"
   },
   {
    "duration": 305,
    "start_time": "2023-10-06T07:16:01.836Z"
   },
   {
    "duration": 201,
    "start_time": "2023-10-06T07:16:02.142Z"
   },
   {
    "duration": 130,
    "start_time": "2023-10-06T07:16:02.345Z"
   },
   {
    "duration": 67,
    "start_time": "2023-10-06T07:16:02.477Z"
   },
   {
    "duration": 566,
    "start_time": "2023-10-06T07:16:02.545Z"
   },
   {
    "duration": 9,
    "start_time": "2023-10-06T07:16:03.113Z"
   },
   {
    "duration": 275,
    "start_time": "2023-10-06T07:16:03.124Z"
   },
   {
    "duration": 9,
    "start_time": "2023-10-06T07:16:03.402Z"
   },
   {
    "duration": 270,
    "start_time": "2023-10-06T07:16:03.413Z"
   },
   {
    "duration": 26,
    "start_time": "2023-10-06T07:16:03.684Z"
   },
   {
    "duration": 36,
    "start_time": "2023-10-06T07:16:03.712Z"
   },
   {
    "duration": 25,
    "start_time": "2023-10-06T07:16:03.750Z"
   },
   {
    "duration": 65,
    "start_time": "2023-10-06T07:16:03.776Z"
   },
   {
    "duration": 289,
    "start_time": "2023-10-06T07:16:03.842Z"
   },
   {
    "duration": 79,
    "start_time": "2023-10-06T07:17:28.821Z"
   },
   {
    "duration": 234,
    "start_time": "2023-10-06T07:18:00.630Z"
   },
   {
    "duration": 311,
    "start_time": "2023-10-06T07:18:13.521Z"
   },
   {
    "duration": 233,
    "start_time": "2023-10-06T07:19:06.367Z"
   },
   {
    "duration": 238,
    "start_time": "2023-10-06T07:20:19.596Z"
   },
   {
    "duration": 274,
    "start_time": "2023-10-06T07:20:53.980Z"
   },
   {
    "duration": 252,
    "start_time": "2023-10-06T07:22:02.619Z"
   },
   {
    "duration": 1970,
    "start_time": "2023-10-06T07:22:20.281Z"
   },
   {
    "duration": 312,
    "start_time": "2023-10-06T07:22:25.727Z"
   },
   {
    "duration": 244,
    "start_time": "2023-10-06T07:22:45.821Z"
   },
   {
    "duration": 1481,
    "start_time": "2023-10-06T07:23:25.847Z"
   },
   {
    "duration": 267,
    "start_time": "2023-10-06T07:23:52.819Z"
   },
   {
    "duration": 253,
    "start_time": "2023-10-06T07:24:30.154Z"
   },
   {
    "duration": 240,
    "start_time": "2023-10-06T07:25:34.628Z"
   },
   {
    "duration": 375,
    "start_time": "2023-10-06T07:26:32.798Z"
   },
   {
    "duration": 238,
    "start_time": "2023-10-06T07:26:44.441Z"
   },
   {
    "duration": 223,
    "start_time": "2023-10-06T07:27:09.190Z"
   },
   {
    "duration": 8,
    "start_time": "2023-10-06T07:27:20.492Z"
   },
   {
    "duration": 227,
    "start_time": "2023-10-06T07:27:40.824Z"
   },
   {
    "duration": 9,
    "start_time": "2023-10-06T07:27:55.577Z"
   },
   {
    "duration": 226,
    "start_time": "2023-10-06T07:28:07.952Z"
   },
   {
    "duration": 333,
    "start_time": "2023-10-06T07:28:52.061Z"
   },
   {
    "duration": 244,
    "start_time": "2023-10-06T07:29:04.991Z"
   },
   {
    "duration": 267,
    "start_time": "2023-10-06T07:29:17.854Z"
   },
   {
    "duration": 241,
    "start_time": "2023-10-06T07:29:37.323Z"
   },
   {
    "duration": 157,
    "start_time": "2023-10-06T10:18:47.907Z"
   },
   {
    "duration": 18,
    "start_time": "2023-10-06T10:51:07.437Z"
   },
   {
    "duration": 13,
    "start_time": "2023-10-06T10:51:31.084Z"
   },
   {
    "duration": 9,
    "start_time": "2023-10-06T10:51:50.012Z"
   },
   {
    "duration": 9,
    "start_time": "2023-10-06T10:51:54.484Z"
   },
   {
    "duration": 10,
    "start_time": "2023-10-06T10:52:07.764Z"
   },
   {
    "duration": 17,
    "start_time": "2023-10-06T10:53:40.604Z"
   },
   {
    "duration": 17,
    "start_time": "2023-10-06T10:53:46.742Z"
   },
   {
    "duration": 22,
    "start_time": "2023-10-06T10:54:25.297Z"
   },
   {
    "duration": 13,
    "start_time": "2023-10-06T10:55:04.117Z"
   },
   {
    "duration": 11,
    "start_time": "2023-10-06T10:55:19.805Z"
   },
   {
    "duration": 12,
    "start_time": "2023-10-06T10:55:28.116Z"
   },
   {
    "duration": 16,
    "start_time": "2023-10-06T10:57:21.841Z"
   },
   {
    "duration": 11,
    "start_time": "2023-10-06T10:57:28.913Z"
   },
   {
    "duration": 23,
    "start_time": "2023-10-06T10:57:37.299Z"
   },
   {
    "duration": 11,
    "start_time": "2023-10-06T10:58:32.846Z"
   },
   {
    "duration": 30,
    "start_time": "2023-10-06T10:58:55.223Z"
   },
   {
    "duration": 44,
    "start_time": "2023-10-07T08:58:12.758Z"
   },
   {
    "duration": 739,
    "start_time": "2023-10-07T08:58:20.495Z"
   },
   {
    "duration": 74,
    "start_time": "2023-10-07T08:58:21.236Z"
   },
   {
    "duration": 13,
    "start_time": "2023-10-07T08:58:21.312Z"
   },
   {
    "duration": 81,
    "start_time": "2023-10-07T08:58:21.327Z"
   },
   {
    "duration": 10,
    "start_time": "2023-10-07T08:58:21.409Z"
   },
   {
    "duration": 82,
    "start_time": "2023-10-07T08:58:21.420Z"
   },
   {
    "duration": 8,
    "start_time": "2023-10-07T08:58:21.503Z"
   },
   {
    "duration": 22,
    "start_time": "2023-10-07T08:58:21.513Z"
   },
   {
    "duration": 20,
    "start_time": "2023-10-07T08:58:21.537Z"
   },
   {
    "duration": 11,
    "start_time": "2023-10-07T08:58:21.560Z"
   },
   {
    "duration": 14,
    "start_time": "2023-10-07T08:58:21.572Z"
   },
   {
    "duration": 13,
    "start_time": "2023-10-07T08:58:21.588Z"
   },
   {
    "duration": 6,
    "start_time": "2023-10-07T08:58:21.602Z"
   },
   {
    "duration": 13,
    "start_time": "2023-10-07T08:58:21.610Z"
   },
   {
    "duration": 7,
    "start_time": "2023-10-07T08:58:21.624Z"
   },
   {
    "duration": 12,
    "start_time": "2023-10-07T08:58:21.649Z"
   },
   {
    "duration": 27,
    "start_time": "2023-10-07T08:58:21.663Z"
   },
   {
    "duration": 14,
    "start_time": "2023-10-07T08:58:21.692Z"
   },
   {
    "duration": 12,
    "start_time": "2023-10-07T08:58:21.708Z"
   },
   {
    "duration": 15,
    "start_time": "2023-10-07T08:58:21.722Z"
   },
   {
    "duration": 187,
    "start_time": "2023-10-07T08:58:21.738Z"
   },
   {
    "duration": 182,
    "start_time": "2023-10-07T08:58:21.927Z"
   },
   {
    "duration": 138,
    "start_time": "2023-10-07T08:58:22.111Z"
   },
   {
    "duration": 9,
    "start_time": "2023-10-07T08:58:22.251Z"
   },
   {
    "duration": 482,
    "start_time": "2023-10-07T08:58:22.261Z"
   },
   {
    "duration": 11,
    "start_time": "2023-10-07T08:58:22.745Z"
   },
   {
    "duration": 250,
    "start_time": "2023-10-07T08:58:22.758Z"
   },
   {
    "duration": 9,
    "start_time": "2023-10-07T08:58:23.012Z"
   },
   {
    "duration": 225,
    "start_time": "2023-10-07T08:58:23.022Z"
   },
   {
    "duration": 29,
    "start_time": "2023-10-07T08:58:23.249Z"
   },
   {
    "duration": 21,
    "start_time": "2023-10-07T08:58:23.280Z"
   },
   {
    "duration": 22,
    "start_time": "2023-10-07T08:58:23.303Z"
   },
   {
    "duration": 37,
    "start_time": "2023-10-07T08:58:23.326Z"
   },
   {
    "duration": 32,
    "start_time": "2023-10-07T08:58:23.365Z"
   },
   {
    "duration": 257,
    "start_time": "2023-10-07T08:58:23.399Z"
   },
   {
    "duration": 150,
    "start_time": "2023-10-07T08:58:46.832Z"
   },
   {
    "duration": 160,
    "start_time": "2023-10-07T08:59:04.644Z"
   },
   {
    "duration": 215,
    "start_time": "2023-10-07T08:59:13.083Z"
   },
   {
    "duration": 146,
    "start_time": "2023-10-07T08:59:30.035Z"
   },
   {
    "duration": 27,
    "start_time": "2023-10-07T09:03:58.799Z"
   },
   {
    "duration": 29,
    "start_time": "2023-10-07T09:04:23.143Z"
   },
   {
    "duration": 6,
    "start_time": "2023-10-07T09:05:31.320Z"
   },
   {
    "duration": 10,
    "start_time": "2023-10-07T09:05:42.472Z"
   },
   {
    "duration": 283,
    "start_time": "2023-10-07T09:06:27.900Z"
   },
   {
    "duration": 205,
    "start_time": "2023-10-07T09:06:35.070Z"
   },
   {
    "duration": 221,
    "start_time": "2023-10-07T09:06:51.546Z"
   },
   {
    "duration": 218,
    "start_time": "2023-10-07T09:11:22.180Z"
   },
   {
    "duration": 330,
    "start_time": "2023-10-07T09:12:16.435Z"
   },
   {
    "duration": 222,
    "start_time": "2023-10-07T09:12:32.104Z"
   },
   {
    "duration": 1788,
    "start_time": "2023-10-07T09:13:00.041Z"
   },
   {
    "duration": 212,
    "start_time": "2023-10-07T09:13:13.466Z"
   },
   {
    "duration": 221,
    "start_time": "2023-10-07T09:13:35.330Z"
   },
   {
    "duration": 219,
    "start_time": "2023-10-07T09:15:21.755Z"
   },
   {
    "duration": 790,
    "start_time": "2023-10-08T07:24:07.943Z"
   },
   {
    "duration": 88,
    "start_time": "2023-10-08T07:24:08.735Z"
   },
   {
    "duration": 12,
    "start_time": "2023-10-08T07:24:08.824Z"
   },
   {
    "duration": 156,
    "start_time": "2023-10-08T07:24:08.837Z"
   },
   {
    "duration": 9,
    "start_time": "2023-10-08T07:24:08.994Z"
   },
   {
    "duration": 99,
    "start_time": "2023-10-08T07:24:09.005Z"
   },
   {
    "duration": 6,
    "start_time": "2023-10-08T07:24:09.106Z"
   },
   {
    "duration": 48,
    "start_time": "2023-10-08T07:24:09.114Z"
   },
   {
    "duration": 46,
    "start_time": "2023-10-08T07:24:09.164Z"
   },
   {
    "duration": 35,
    "start_time": "2023-10-08T07:24:09.212Z"
   },
   {
    "duration": 34,
    "start_time": "2023-10-08T07:24:09.249Z"
   },
   {
    "duration": 50,
    "start_time": "2023-10-08T07:24:09.284Z"
   },
   {
    "duration": 39,
    "start_time": "2023-10-08T07:24:09.336Z"
   },
   {
    "duration": 10,
    "start_time": "2023-10-08T07:24:09.376Z"
   },
   {
    "duration": 20,
    "start_time": "2023-10-08T07:24:09.388Z"
   },
   {
    "duration": 28,
    "start_time": "2023-10-08T07:24:09.410Z"
   },
   {
    "duration": 10,
    "start_time": "2023-10-08T07:24:09.439Z"
   },
   {
    "duration": 34,
    "start_time": "2023-10-08T07:24:09.451Z"
   },
   {
    "duration": 17,
    "start_time": "2023-10-08T07:24:09.486Z"
   },
   {
    "duration": 62,
    "start_time": "2023-10-08T07:24:09.505Z"
   },
   {
    "duration": 185,
    "start_time": "2023-10-08T07:24:09.568Z"
   },
   {
    "duration": 156,
    "start_time": "2023-10-08T07:24:09.755Z"
   },
   {
    "duration": 128,
    "start_time": "2023-10-08T07:24:09.913Z"
   },
   {
    "duration": 62,
    "start_time": "2023-10-08T07:24:10.043Z"
   },
   {
    "duration": 492,
    "start_time": "2023-10-08T07:24:10.107Z"
   },
   {
    "duration": 7,
    "start_time": "2023-10-08T07:24:10.601Z"
   },
   {
    "duration": 250,
    "start_time": "2023-10-08T07:24:10.609Z"
   },
   {
    "duration": 9,
    "start_time": "2023-10-08T07:24:10.861Z"
   },
   {
    "duration": 233,
    "start_time": "2023-10-08T07:24:10.871Z"
   },
   {
    "duration": 233,
    "start_time": "2023-10-08T07:24:11.106Z"
   },
   {
    "duration": 10,
    "start_time": "2023-10-08T07:24:11.340Z"
   },
   {
    "duration": 69,
    "start_time": "2023-10-08T07:24:11.352Z"
   },
   {
    "duration": 28,
    "start_time": "2023-10-08T07:24:11.422Z"
   },
   {
    "duration": 21,
    "start_time": "2023-10-08T07:24:11.452Z"
   },
   {
    "duration": 26,
    "start_time": "2023-10-08T07:24:11.475Z"
   },
   {
    "duration": 265,
    "start_time": "2023-10-08T07:24:11.502Z"
   },
   {
    "duration": 8,
    "start_time": "2023-10-08T07:44:13.605Z"
   },
   {
    "duration": 14,
    "start_time": "2023-10-08T07:44:34.401Z"
   },
   {
    "duration": 76,
    "start_time": "2023-10-08T07:46:19.965Z"
   },
   {
    "duration": 69,
    "start_time": "2023-10-08T07:46:36.209Z"
   },
   {
    "duration": 9,
    "start_time": "2023-10-08T07:46:41.579Z"
   },
   {
    "duration": 8,
    "start_time": "2023-10-08T07:47:18.182Z"
   },
   {
    "duration": 14,
    "start_time": "2023-10-08T07:48:23.550Z"
   },
   {
    "duration": 68,
    "start_time": "2023-10-08T07:51:26.289Z"
   },
   {
    "duration": 6,
    "start_time": "2023-10-08T07:51:31.255Z"
   },
   {
    "duration": 6,
    "start_time": "2023-10-08T07:51:45.776Z"
   },
   {
    "duration": 7,
    "start_time": "2023-10-08T07:53:26.583Z"
   },
   {
    "duration": 10,
    "start_time": "2023-10-08T07:56:55.199Z"
   },
   {
    "duration": 7,
    "start_time": "2023-10-08T07:57:10.283Z"
   },
   {
    "duration": 676,
    "start_time": "2023-10-08T07:57:47.848Z"
   },
   {
    "duration": 39,
    "start_time": "2023-10-08T07:57:48.525Z"
   },
   {
    "duration": 12,
    "start_time": "2023-10-08T07:57:48.566Z"
   },
   {
    "duration": 32,
    "start_time": "2023-10-08T07:57:48.580Z"
   },
   {
    "duration": 9,
    "start_time": "2023-10-08T07:57:48.614Z"
   },
   {
    "duration": 31,
    "start_time": "2023-10-08T07:57:48.624Z"
   },
   {
    "duration": 8,
    "start_time": "2023-10-08T07:57:48.658Z"
   },
   {
    "duration": 14,
    "start_time": "2023-10-08T07:57:48.668Z"
   },
   {
    "duration": 16,
    "start_time": "2023-10-08T07:57:48.684Z"
   },
   {
    "duration": 8,
    "start_time": "2023-10-08T07:57:48.703Z"
   },
   {
    "duration": 14,
    "start_time": "2023-10-08T07:57:48.712Z"
   },
   {
    "duration": 27,
    "start_time": "2023-10-08T07:57:48.727Z"
   },
   {
    "duration": 12,
    "start_time": "2023-10-08T07:57:48.757Z"
   },
   {
    "duration": 10,
    "start_time": "2023-10-08T07:57:48.771Z"
   },
   {
    "duration": 5,
    "start_time": "2023-10-08T07:57:48.783Z"
   },
   {
    "duration": 14,
    "start_time": "2023-10-08T07:57:48.789Z"
   },
   {
    "duration": 10,
    "start_time": "2023-10-08T07:57:48.805Z"
   },
   {
    "duration": 43,
    "start_time": "2023-10-08T07:57:48.816Z"
   },
   {
    "duration": 25,
    "start_time": "2023-10-08T07:57:48.862Z"
   },
   {
    "duration": 34,
    "start_time": "2023-10-08T07:57:48.888Z"
   },
   {
    "duration": 203,
    "start_time": "2023-10-08T07:57:48.924Z"
   },
   {
    "duration": 211,
    "start_time": "2023-10-08T07:57:49.129Z"
   },
   {
    "duration": 171,
    "start_time": "2023-10-08T07:57:49.342Z"
   },
   {
    "duration": 7,
    "start_time": "2023-10-08T07:57:49.515Z"
   },
   {
    "duration": 546,
    "start_time": "2023-10-08T07:57:49.524Z"
   },
   {
    "duration": 9,
    "start_time": "2023-10-08T07:57:50.071Z"
   },
   {
    "duration": 250,
    "start_time": "2023-10-08T07:57:50.081Z"
   },
   {
    "duration": 7,
    "start_time": "2023-10-08T07:57:50.334Z"
   },
   {
    "duration": 242,
    "start_time": "2023-10-08T07:57:50.349Z"
   },
   {
    "duration": 9,
    "start_time": "2023-10-08T07:57:50.593Z"
   },
   {
    "duration": 21,
    "start_time": "2023-10-08T07:57:50.604Z"
   },
   {
    "duration": 21,
    "start_time": "2023-10-08T07:57:50.626Z"
   },
   {
    "duration": 23,
    "start_time": "2023-10-08T07:57:50.649Z"
   },
   {
    "duration": 39,
    "start_time": "2023-10-08T07:57:50.673Z"
   },
   {
    "duration": 17,
    "start_time": "2023-10-08T07:57:50.713Z"
   },
   {
    "duration": 36,
    "start_time": "2023-10-08T07:57:50.731Z"
   },
   {
    "duration": 27,
    "start_time": "2023-10-08T07:57:50.769Z"
   },
   {
    "duration": 299,
    "start_time": "2023-10-08T07:57:50.798Z"
   },
   {
    "duration": 247,
    "start_time": "2023-10-08T07:58:11.947Z"
   },
   {
    "duration": 15,
    "start_time": "2023-10-08T08:01:30.522Z"
   },
   {
    "duration": 14,
    "start_time": "2023-10-08T08:01:38.021Z"
   },
   {
    "duration": 293,
    "start_time": "2023-10-08T08:03:18.066Z"
   },
   {
    "duration": 9,
    "start_time": "2023-10-08T08:03:43.932Z"
   },
   {
    "duration": 229,
    "start_time": "2023-10-08T08:03:45.701Z"
   },
   {
    "duration": 8,
    "start_time": "2023-10-08T08:04:22.931Z"
   },
   {
    "duration": 250,
    "start_time": "2023-10-08T08:04:23.898Z"
   },
   {
    "duration": 9,
    "start_time": "2023-10-08T08:04:45.761Z"
   },
   {
    "duration": 235,
    "start_time": "2023-10-08T08:04:46.339Z"
   },
   {
    "duration": 259,
    "start_time": "2023-10-08T08:04:54.439Z"
   },
   {
    "duration": 298,
    "start_time": "2023-10-08T08:05:03.237Z"
   },
   {
    "duration": 134,
    "start_time": "2023-10-08T08:34:21.570Z"
   },
   {
    "duration": 158,
    "start_time": "2023-10-08T08:34:55.985Z"
   },
   {
    "duration": 153,
    "start_time": "2023-10-08T08:36:21.493Z"
   },
   {
    "duration": 598,
    "start_time": "2023-10-08T08:42:39.996Z"
   },
   {
    "duration": 30,
    "start_time": "2023-10-08T08:42:40.596Z"
   },
   {
    "duration": 10,
    "start_time": "2023-10-08T08:42:40.628Z"
   },
   {
    "duration": 46,
    "start_time": "2023-10-08T08:42:40.640Z"
   },
   {
    "duration": 9,
    "start_time": "2023-10-08T08:42:40.687Z"
   },
   {
    "duration": 32,
    "start_time": "2023-10-08T08:42:40.697Z"
   },
   {
    "duration": 9,
    "start_time": "2023-10-08T08:42:40.730Z"
   },
   {
    "duration": 30,
    "start_time": "2023-10-08T08:42:40.740Z"
   },
   {
    "duration": 12,
    "start_time": "2023-10-08T08:42:40.772Z"
   },
   {
    "duration": 12,
    "start_time": "2023-10-08T08:42:40.786Z"
   },
   {
    "duration": 15,
    "start_time": "2023-10-08T08:42:40.800Z"
   },
   {
    "duration": 12,
    "start_time": "2023-10-08T08:42:40.817Z"
   },
   {
    "duration": 36,
    "start_time": "2023-10-08T08:42:40.831Z"
   },
   {
    "duration": 20,
    "start_time": "2023-10-08T08:42:40.868Z"
   },
   {
    "duration": 9,
    "start_time": "2023-10-08T08:42:40.889Z"
   },
   {
    "duration": 25,
    "start_time": "2023-10-08T08:42:40.900Z"
   },
   {
    "duration": 17,
    "start_time": "2023-10-08T08:42:40.927Z"
   },
   {
    "duration": 39,
    "start_time": "2023-10-08T08:42:40.945Z"
   },
   {
    "duration": 10,
    "start_time": "2023-10-08T08:42:40.985Z"
   },
   {
    "duration": 15,
    "start_time": "2023-10-08T08:42:40.997Z"
   },
   {
    "duration": 206,
    "start_time": "2023-10-08T08:42:41.013Z"
   },
   {
    "duration": 161,
    "start_time": "2023-10-08T08:42:41.221Z"
   },
   {
    "duration": 128,
    "start_time": "2023-10-08T08:42:41.384Z"
   },
   {
    "duration": 154,
    "start_time": "2023-10-08T08:42:41.514Z"
   },
   {
    "duration": 8,
    "start_time": "2023-10-08T08:42:41.669Z"
   },
   {
    "duration": 484,
    "start_time": "2023-10-08T08:42:41.679Z"
   },
   {
    "duration": 8,
    "start_time": "2023-10-08T08:42:42.165Z"
   },
   {
    "duration": 239,
    "start_time": "2023-10-08T08:42:42.176Z"
   },
   {
    "duration": 8,
    "start_time": "2023-10-08T08:42:42.416Z"
   },
   {
    "duration": 240,
    "start_time": "2023-10-08T08:42:42.425Z"
   },
   {
    "duration": 8,
    "start_time": "2023-10-08T08:42:42.666Z"
   },
   {
    "duration": 17,
    "start_time": "2023-10-08T08:42:42.676Z"
   },
   {
    "duration": 5,
    "start_time": "2023-10-08T08:42:42.694Z"
   },
   {
    "duration": 10,
    "start_time": "2023-10-08T08:42:42.700Z"
   },
   {
    "duration": 259,
    "start_time": "2023-10-08T08:42:42.712Z"
   },
   {
    "duration": 24,
    "start_time": "2023-10-08T08:42:42.973Z"
   },
   {
    "duration": 17,
    "start_time": "2023-10-08T08:42:42.998Z"
   },
   {
    "duration": 34,
    "start_time": "2023-10-08T08:42:43.017Z"
   },
   {
    "duration": 8,
    "start_time": "2023-10-08T08:42:43.052Z"
   },
   {
    "duration": 335,
    "start_time": "2023-10-08T08:42:43.061Z"
   },
   {
    "duration": 11,
    "start_time": "2023-10-08T08:42:43.397Z"
   },
   {
    "duration": 291,
    "start_time": "2023-10-08T08:42:43.410Z"
   },
   {
    "duration": 8,
    "start_time": "2023-10-08T08:42:43.703Z"
   },
   {
    "duration": 249,
    "start_time": "2023-10-08T08:42:43.713Z"
   },
   {
    "duration": 8,
    "start_time": "2023-10-08T08:42:43.963Z"
   },
   {
    "duration": 289,
    "start_time": "2023-10-08T08:42:43.973Z"
   },
   {
    "duration": 714,
    "start_time": "2023-10-08T08:48:16.233Z"
   },
   {
    "duration": 42,
    "start_time": "2023-10-08T08:48:16.948Z"
   },
   {
    "duration": 10,
    "start_time": "2023-10-08T08:48:16.992Z"
   },
   {
    "duration": 28,
    "start_time": "2023-10-08T08:48:17.005Z"
   },
   {
    "duration": 10,
    "start_time": "2023-10-08T08:48:17.034Z"
   },
   {
    "duration": 41,
    "start_time": "2023-10-08T08:48:17.045Z"
   },
   {
    "duration": 21,
    "start_time": "2023-10-08T08:48:17.087Z"
   },
   {
    "duration": 16,
    "start_time": "2023-10-08T08:48:17.110Z"
   },
   {
    "duration": 12,
    "start_time": "2023-10-08T08:48:17.128Z"
   },
   {
    "duration": 15,
    "start_time": "2023-10-08T08:48:17.142Z"
   },
   {
    "duration": 17,
    "start_time": "2023-10-08T08:48:17.158Z"
   },
   {
    "duration": 4,
    "start_time": "2023-10-08T08:48:17.177Z"
   },
   {
    "duration": 18,
    "start_time": "2023-10-08T08:48:17.183Z"
   },
   {
    "duration": 25,
    "start_time": "2023-10-08T08:48:17.202Z"
   },
   {
    "duration": 17,
    "start_time": "2023-10-08T08:48:17.228Z"
   },
   {
    "duration": 33,
    "start_time": "2023-10-08T08:48:17.247Z"
   },
   {
    "duration": 10,
    "start_time": "2023-10-08T08:48:17.281Z"
   },
   {
    "duration": 20,
    "start_time": "2023-10-08T08:48:17.293Z"
   },
   {
    "duration": 19,
    "start_time": "2023-10-08T08:48:17.315Z"
   },
   {
    "duration": 111,
    "start_time": "2023-10-08T08:48:17.335Z"
   },
   {
    "duration": 178,
    "start_time": "2023-10-08T08:48:17.447Z"
   },
   {
    "duration": 173,
    "start_time": "2023-10-08T08:48:17.626Z"
   },
   {
    "duration": 134,
    "start_time": "2023-10-08T08:48:17.800Z"
   },
   {
    "duration": 166,
    "start_time": "2023-10-08T08:48:17.935Z"
   },
   {
    "duration": 7,
    "start_time": "2023-10-08T08:48:18.102Z"
   },
   {
    "duration": 519,
    "start_time": "2023-10-08T08:48:18.111Z"
   },
   {
    "duration": 9,
    "start_time": "2023-10-08T08:48:18.631Z"
   },
   {
    "duration": 254,
    "start_time": "2023-10-08T08:48:18.649Z"
   },
   {
    "duration": 8,
    "start_time": "2023-10-08T08:48:18.905Z"
   },
   {
    "duration": 258,
    "start_time": "2023-10-08T08:48:18.915Z"
   },
   {
    "duration": 9,
    "start_time": "2023-10-08T08:48:19.175Z"
   },
   {
    "duration": 44,
    "start_time": "2023-10-08T08:48:19.186Z"
   },
   {
    "duration": 14,
    "start_time": "2023-10-08T08:48:19.231Z"
   },
   {
    "duration": 29,
    "start_time": "2023-10-08T08:48:19.247Z"
   },
   {
    "duration": 219,
    "start_time": "2023-10-08T08:48:19.277Z"
   },
   {
    "duration": 22,
    "start_time": "2023-10-08T08:48:19.497Z"
   },
   {
    "duration": 24,
    "start_time": "2023-10-08T08:48:19.520Z"
   },
   {
    "duration": 32,
    "start_time": "2023-10-08T08:48:19.551Z"
   },
   {
    "duration": 22,
    "start_time": "2023-10-08T08:48:19.584Z"
   },
   {
    "duration": 352,
    "start_time": "2023-10-08T08:48:19.608Z"
   },
   {
    "duration": 16,
    "start_time": "2023-10-08T08:48:19.961Z"
   },
   {
    "duration": 246,
    "start_time": "2023-10-08T08:48:19.979Z"
   },
   {
    "duration": 8,
    "start_time": "2023-10-08T08:48:20.226Z"
   },
   {
    "duration": 321,
    "start_time": "2023-10-08T08:48:20.235Z"
   },
   {
    "duration": 11,
    "start_time": "2023-10-08T08:48:20.561Z"
   },
   {
    "duration": 381,
    "start_time": "2023-10-08T08:48:20.573Z"
   },
   {
    "duration": 80,
    "start_time": "2023-10-08T08:58:40.929Z"
   },
   {
    "duration": 6,
    "start_time": "2023-10-08T08:58:47.962Z"
   },
   {
    "duration": 11,
    "start_time": "2023-10-08T08:58:54.782Z"
   },
   {
    "duration": 2046,
    "start_time": "2023-10-08T09:00:08.291Z"
   },
   {
    "duration": 11,
    "start_time": "2023-10-08T09:00:25.661Z"
   },
   {
    "duration": 10,
    "start_time": "2023-10-08T09:00:37.570Z"
   },
   {
    "duration": 12,
    "start_time": "2023-10-08T09:02:34.195Z"
   },
   {
    "duration": 350,
    "start_time": "2023-10-08T09:02:45.919Z"
   },
   {
    "duration": 13,
    "start_time": "2023-10-08T09:03:23.969Z"
   },
   {
    "duration": 9683,
    "start_time": "2023-10-08T09:06:08.124Z"
   },
   {
    "duration": 9416,
    "start_time": "2023-10-08T09:06:36.392Z"
   },
   {
    "duration": 11384,
    "start_time": "2023-10-08T09:07:08.860Z"
   },
   {
    "duration": 0,
    "start_time": "2023-10-08T09:09:28.755Z"
   },
   {
    "duration": 0,
    "start_time": "2023-10-08T09:09:28.756Z"
   },
   {
    "duration": 0,
    "start_time": "2023-10-08T09:09:28.756Z"
   },
   {
    "duration": 0,
    "start_time": "2023-10-08T09:09:28.757Z"
   },
   {
    "duration": 0,
    "start_time": "2023-10-08T09:09:28.758Z"
   },
   {
    "duration": 0,
    "start_time": "2023-10-08T09:09:28.759Z"
   },
   {
    "duration": 0,
    "start_time": "2023-10-08T09:09:28.760Z"
   },
   {
    "duration": 0,
    "start_time": "2023-10-08T09:09:28.761Z"
   },
   {
    "duration": 0,
    "start_time": "2023-10-08T09:09:28.762Z"
   },
   {
    "duration": 0,
    "start_time": "2023-10-08T09:09:28.763Z"
   },
   {
    "duration": 0,
    "start_time": "2023-10-08T09:09:28.763Z"
   },
   {
    "duration": 0,
    "start_time": "2023-10-08T09:09:28.764Z"
   },
   {
    "duration": 0,
    "start_time": "2023-10-08T09:09:28.765Z"
   },
   {
    "duration": 0,
    "start_time": "2023-10-08T09:09:28.765Z"
   },
   {
    "duration": 0,
    "start_time": "2023-10-08T09:09:28.766Z"
   },
   {
    "duration": 0,
    "start_time": "2023-10-08T09:09:28.767Z"
   },
   {
    "duration": 0,
    "start_time": "2023-10-08T09:09:28.768Z"
   },
   {
    "duration": 0,
    "start_time": "2023-10-08T09:09:28.769Z"
   },
   {
    "duration": 0,
    "start_time": "2023-10-08T09:09:28.770Z"
   },
   {
    "duration": 0,
    "start_time": "2023-10-08T09:09:28.771Z"
   },
   {
    "duration": 0,
    "start_time": "2023-10-08T09:09:28.772Z"
   },
   {
    "duration": 0,
    "start_time": "2023-10-08T09:09:28.773Z"
   },
   {
    "duration": 0,
    "start_time": "2023-10-08T09:09:28.774Z"
   },
   {
    "duration": 0,
    "start_time": "2023-10-08T09:09:28.775Z"
   },
   {
    "duration": 0,
    "start_time": "2023-10-08T09:09:28.776Z"
   },
   {
    "duration": 1,
    "start_time": "2023-10-08T09:09:28.777Z"
   },
   {
    "duration": 0,
    "start_time": "2023-10-08T09:09:28.778Z"
   },
   {
    "duration": 0,
    "start_time": "2023-10-08T09:09:28.779Z"
   },
   {
    "duration": 0,
    "start_time": "2023-10-08T09:09:28.780Z"
   },
   {
    "duration": 0,
    "start_time": "2023-10-08T09:09:28.781Z"
   },
   {
    "duration": 0,
    "start_time": "2023-10-08T09:09:28.782Z"
   },
   {
    "duration": 0,
    "start_time": "2023-10-08T09:09:28.783Z"
   },
   {
    "duration": 0,
    "start_time": "2023-10-08T09:09:28.784Z"
   },
   {
    "duration": 0,
    "start_time": "2023-10-08T09:09:28.785Z"
   },
   {
    "duration": 0,
    "start_time": "2023-10-08T09:09:28.786Z"
   },
   {
    "duration": 0,
    "start_time": "2023-10-08T09:09:28.849Z"
   },
   {
    "duration": 0,
    "start_time": "2023-10-08T09:09:28.850Z"
   },
   {
    "duration": 0,
    "start_time": "2023-10-08T09:09:28.851Z"
   },
   {
    "duration": 0,
    "start_time": "2023-10-08T09:09:28.852Z"
   },
   {
    "duration": 0,
    "start_time": "2023-10-08T09:09:28.853Z"
   },
   {
    "duration": 0,
    "start_time": "2023-10-08T09:09:28.854Z"
   },
   {
    "duration": 0,
    "start_time": "2023-10-08T09:09:28.855Z"
   },
   {
    "duration": 0,
    "start_time": "2023-10-08T09:09:28.856Z"
   },
   {
    "duration": 0,
    "start_time": "2023-10-08T09:09:28.857Z"
   },
   {
    "duration": 0,
    "start_time": "2023-10-08T09:09:28.857Z"
   },
   {
    "duration": 0,
    "start_time": "2023-10-08T09:09:28.858Z"
   },
   {
    "duration": 0,
    "start_time": "2023-10-08T09:09:28.859Z"
   },
   {
    "duration": 651,
    "start_time": "2023-10-08T09:10:58.516Z"
   },
   {
    "duration": 31,
    "start_time": "2023-10-08T09:10:59.169Z"
   },
   {
    "duration": 41,
    "start_time": "2023-10-08T09:10:59.201Z"
   },
   {
    "duration": 58,
    "start_time": "2023-10-08T09:10:59.243Z"
   },
   {
    "duration": 9,
    "start_time": "2023-10-08T09:10:59.303Z"
   },
   {
    "duration": 41,
    "start_time": "2023-10-08T09:10:59.314Z"
   },
   {
    "duration": 10,
    "start_time": "2023-10-08T09:10:59.356Z"
   },
   {
    "duration": 54,
    "start_time": "2023-10-08T09:10:59.367Z"
   },
   {
    "duration": 46,
    "start_time": "2023-10-08T09:10:59.423Z"
   },
   {
    "duration": 51,
    "start_time": "2023-10-08T09:10:59.471Z"
   },
   {
    "duration": 32,
    "start_time": "2023-10-08T09:10:59.523Z"
   },
   {
    "duration": 43,
    "start_time": "2023-10-08T09:10:59.556Z"
   },
   {
    "duration": 35,
    "start_time": "2023-10-08T09:10:59.600Z"
   },
   {
    "duration": 36,
    "start_time": "2023-10-08T09:10:59.638Z"
   },
   {
    "duration": 14,
    "start_time": "2023-10-08T09:10:59.676Z"
   },
   {
    "duration": 46,
    "start_time": "2023-10-08T09:10:59.691Z"
   },
   {
    "duration": 29,
    "start_time": "2023-10-08T09:10:59.738Z"
   },
   {
    "duration": 50,
    "start_time": "2023-10-08T09:10:59.769Z"
   },
   {
    "duration": 39,
    "start_time": "2023-10-08T09:10:59.820Z"
   },
   {
    "duration": 9,
    "start_time": "2023-10-08T09:10:59.860Z"
   },
   {
    "duration": 177,
    "start_time": "2023-10-08T09:10:59.870Z"
   },
   {
    "duration": 158,
    "start_time": "2023-10-08T09:11:00.048Z"
   },
   {
    "duration": 128,
    "start_time": "2023-10-08T09:11:00.207Z"
   },
   {
    "duration": 173,
    "start_time": "2023-10-08T09:11:00.336Z"
   },
   {
    "duration": 163,
    "start_time": "2023-10-08T09:11:00.511Z"
   },
   {
    "duration": 605,
    "start_time": "2023-10-08T09:11:00.675Z"
   },
   {
    "duration": 8,
    "start_time": "2023-10-08T09:11:01.281Z"
   },
   {
    "duration": 546,
    "start_time": "2023-10-08T09:11:01.290Z"
   },
   {
    "duration": 15,
    "start_time": "2023-10-08T09:11:01.837Z"
   },
   {
    "duration": 292,
    "start_time": "2023-10-08T09:11:01.853Z"
   },
   {
    "duration": 9,
    "start_time": "2023-10-08T09:11:02.147Z"
   },
   {
    "duration": 61,
    "start_time": "2023-10-08T09:11:02.158Z"
   },
   {
    "duration": 28,
    "start_time": "2023-10-08T09:11:02.221Z"
   },
   {
    "duration": 41,
    "start_time": "2023-10-08T09:11:02.250Z"
   },
   {
    "duration": 277,
    "start_time": "2023-10-08T09:11:02.293Z"
   },
   {
    "duration": 21,
    "start_time": "2023-10-08T09:11:02.572Z"
   },
   {
    "duration": 72,
    "start_time": "2023-10-08T09:11:02.594Z"
   },
   {
    "duration": 57,
    "start_time": "2023-10-08T09:11:02.668Z"
   },
   {
    "duration": 79,
    "start_time": "2023-10-08T09:11:02.727Z"
   },
   {
    "duration": 447,
    "start_time": "2023-10-08T09:11:02.808Z"
   },
   {
    "duration": 10,
    "start_time": "2023-10-08T09:11:03.258Z"
   },
   {
    "duration": 260,
    "start_time": "2023-10-08T09:11:03.270Z"
   },
   {
    "duration": 7,
    "start_time": "2023-10-08T09:11:03.532Z"
   },
   {
    "duration": 250,
    "start_time": "2023-10-08T09:11:03.540Z"
   },
   {
    "duration": 7,
    "start_time": "2023-10-08T09:11:03.792Z"
   },
   {
    "duration": 240,
    "start_time": "2023-10-08T09:11:03.800Z"
   },
   {
    "duration": 7523,
    "start_time": "2023-10-08T09:11:04.042Z"
   },
   {
    "duration": 74,
    "start_time": "2023-10-08T09:13:23.235Z"
   },
   {
    "duration": 6142,
    "start_time": "2023-10-08T09:13:35.122Z"
   },
   {
    "duration": 6077,
    "start_time": "2023-10-08T09:14:05.123Z"
   },
   {
    "duration": 5245,
    "start_time": "2023-10-08T09:14:29.221Z"
   },
   {
    "duration": 5210,
    "start_time": "2023-10-08T09:16:42.708Z"
   },
   {
    "duration": 5188,
    "start_time": "2023-10-08T09:17:42.409Z"
   },
   {
    "duration": 12,
    "start_time": "2023-10-08T09:20:25.874Z"
   },
   {
    "duration": 3,
    "start_time": "2023-10-08T09:21:15.907Z"
   },
   {
    "duration": 11,
    "start_time": "2023-10-08T09:21:19.975Z"
   },
   {
    "duration": 101,
    "start_time": "2023-10-08T09:21:32.736Z"
   },
   {
    "duration": 8,
    "start_time": "2023-10-08T09:21:40.333Z"
   },
   {
    "duration": 14,
    "start_time": "2023-10-08T09:21:54.690Z"
   },
   {
    "duration": 14,
    "start_time": "2023-10-08T09:22:31.995Z"
   },
   {
    "duration": 340,
    "start_time": "2023-10-08T09:23:45.969Z"
   },
   {
    "duration": 14,
    "start_time": "2023-10-08T09:23:57.992Z"
   },
   {
    "duration": 18,
    "start_time": "2023-10-08T09:24:09.623Z"
   },
   {
    "duration": 18,
    "start_time": "2023-10-08T09:24:55.893Z"
   },
   {
    "duration": 380,
    "start_time": "2023-10-08T09:25:00.236Z"
   },
   {
    "duration": 18,
    "start_time": "2023-10-08T09:25:08.079Z"
   },
   {
    "duration": 28,
    "start_time": "2023-10-08T09:25:19.673Z"
   },
   {
    "duration": 11,
    "start_time": "2023-10-08T09:26:07.265Z"
   },
   {
    "duration": 37,
    "start_time": "2023-10-08T09:26:23.329Z"
   },
   {
    "duration": 5395,
    "start_time": "2023-10-08T09:27:16.162Z"
   },
   {
    "duration": 3222,
    "start_time": "2023-10-08T09:28:31.679Z"
   },
   {
    "duration": 3043,
    "start_time": "2023-10-08T09:29:09.966Z"
   },
   {
    "duration": 3050,
    "start_time": "2023-10-08T09:29:58.348Z"
   },
   {
    "duration": 7426,
    "start_time": "2023-10-08T09:30:10.455Z"
   },
   {
    "duration": 15748,
    "start_time": "2023-10-08T09:31:02.139Z"
   },
   {
    "duration": 15,
    "start_time": "2023-10-08T09:34:02.439Z"
   },
   {
    "duration": 29,
    "start_time": "2023-10-08T09:35:35.371Z"
   },
   {
    "duration": 18,
    "start_time": "2023-10-08T09:35:52.714Z"
   },
   {
    "duration": 12,
    "start_time": "2023-10-08T09:36:59.135Z"
   },
   {
    "duration": 13,
    "start_time": "2023-10-08T09:37:03.643Z"
   },
   {
    "duration": 5,
    "start_time": "2023-10-08T09:38:18.342Z"
   },
   {
    "duration": 5,
    "start_time": "2023-10-08T09:38:23.682Z"
   },
   {
    "duration": 1442,
    "start_time": "2023-10-08T09:39:43.244Z"
   },
   {
    "duration": 1330,
    "start_time": "2023-10-08T09:40:28.544Z"
   },
   {
    "duration": 1502,
    "start_time": "2023-10-08T09:40:51.502Z"
   },
   {
    "duration": 617,
    "start_time": "2023-10-08T09:41:03.983Z"
   },
   {
    "duration": 30,
    "start_time": "2023-10-08T09:41:04.601Z"
   },
   {
    "duration": 13,
    "start_time": "2023-10-08T09:41:04.633Z"
   },
   {
    "duration": 31,
    "start_time": "2023-10-08T09:41:04.649Z"
   },
   {
    "duration": 9,
    "start_time": "2023-10-08T09:41:04.681Z"
   },
   {
    "duration": 19,
    "start_time": "2023-10-08T09:41:04.691Z"
   },
   {
    "duration": 8,
    "start_time": "2023-10-08T09:41:04.712Z"
   },
   {
    "duration": 30,
    "start_time": "2023-10-08T09:41:04.721Z"
   },
   {
    "duration": 21,
    "start_time": "2023-10-08T09:41:04.752Z"
   },
   {
    "duration": 13,
    "start_time": "2023-10-08T09:41:04.775Z"
   },
   {
    "duration": 8,
    "start_time": "2023-10-08T09:41:04.789Z"
   },
   {
    "duration": 4,
    "start_time": "2023-10-08T09:41:04.799Z"
   },
   {
    "duration": 6,
    "start_time": "2023-10-08T09:41:04.805Z"
   },
   {
    "duration": 7,
    "start_time": "2023-10-08T09:41:04.813Z"
   },
   {
    "duration": 15,
    "start_time": "2023-10-08T09:41:04.821Z"
   },
   {
    "duration": 16,
    "start_time": "2023-10-08T09:41:04.838Z"
   },
   {
    "duration": 32,
    "start_time": "2023-10-08T09:41:04.856Z"
   },
   {
    "duration": 12,
    "start_time": "2023-10-08T09:41:04.889Z"
   },
   {
    "duration": 16,
    "start_time": "2023-10-08T09:41:04.902Z"
   },
   {
    "duration": 34,
    "start_time": "2023-10-08T09:41:04.919Z"
   },
   {
    "duration": 9,
    "start_time": "2023-10-08T09:41:04.955Z"
   },
   {
    "duration": 161,
    "start_time": "2023-10-08T09:41:04.965Z"
   },
   {
    "duration": 158,
    "start_time": "2023-10-08T09:41:05.127Z"
   },
   {
    "duration": 123,
    "start_time": "2023-10-08T09:41:05.286Z"
   },
   {
    "duration": 149,
    "start_time": "2023-10-08T09:41:05.411Z"
   },
   {
    "duration": 7,
    "start_time": "2023-10-08T09:41:05.561Z"
   },
   {
    "duration": 507,
    "start_time": "2023-10-08T09:41:05.569Z"
   },
   {
    "duration": 10,
    "start_time": "2023-10-08T09:41:06.081Z"
   },
   {
    "duration": 276,
    "start_time": "2023-10-08T09:41:06.093Z"
   },
   {
    "duration": 8,
    "start_time": "2023-10-08T09:41:06.371Z"
   },
   {
    "duration": 234,
    "start_time": "2023-10-08T09:41:06.381Z"
   },
   {
    "duration": 8,
    "start_time": "2023-10-08T09:41:06.616Z"
   },
   {
    "duration": 55,
    "start_time": "2023-10-08T09:41:06.626Z"
   },
   {
    "duration": 6,
    "start_time": "2023-10-08T09:41:06.682Z"
   },
   {
    "duration": 28,
    "start_time": "2023-10-08T09:41:06.689Z"
   },
   {
    "duration": 209,
    "start_time": "2023-10-08T09:41:06.719Z"
   },
   {
    "duration": 30,
    "start_time": "2023-10-08T09:41:06.929Z"
   },
   {
    "duration": 108,
    "start_time": "2023-10-08T09:41:06.961Z"
   },
   {
    "duration": 13,
    "start_time": "2023-10-08T09:41:07.071Z"
   },
   {
    "duration": 18,
    "start_time": "2023-10-08T09:41:07.086Z"
   },
   {
    "duration": 292,
    "start_time": "2023-10-08T09:41:07.106Z"
   },
   {
    "duration": 7,
    "start_time": "2023-10-08T09:41:07.399Z"
   },
   {
    "duration": 223,
    "start_time": "2023-10-08T09:41:07.408Z"
   },
   {
    "duration": 8,
    "start_time": "2023-10-08T09:41:07.632Z"
   },
   {
    "duration": 238,
    "start_time": "2023-10-08T09:41:07.650Z"
   },
   {
    "duration": 9,
    "start_time": "2023-10-08T09:41:07.890Z"
   },
   {
    "duration": 226,
    "start_time": "2023-10-08T09:41:07.900Z"
   },
   {
    "duration": 27,
    "start_time": "2023-10-08T09:41:08.128Z"
   },
   {
    "duration": 4,
    "start_time": "2023-10-08T09:41:08.157Z"
   },
   {
    "duration": 5,
    "start_time": "2023-10-08T09:41:28.210Z"
   },
   {
    "duration": 5,
    "start_time": "2023-10-08T09:41:38.499Z"
   },
   {
    "duration": 5,
    "start_time": "2023-10-08T09:43:05.535Z"
   },
   {
    "duration": 5,
    "start_time": "2023-10-08T09:43:29.389Z"
   },
   {
    "duration": 66,
    "start_time": "2023-10-08T09:43:37.280Z"
   },
   {
    "duration": 5,
    "start_time": "2023-10-08T09:43:46.206Z"
   },
   {
    "duration": 6,
    "start_time": "2023-10-08T09:44:05.803Z"
   },
   {
    "duration": 6,
    "start_time": "2023-10-08T09:44:22.564Z"
   },
   {
    "duration": 5,
    "start_time": "2023-10-08T09:44:32.090Z"
   },
   {
    "duration": 4,
    "start_time": "2023-10-08T09:44:52.905Z"
   },
   {
    "duration": 31,
    "start_time": "2023-10-08T09:45:10.437Z"
   },
   {
    "duration": 9,
    "start_time": "2023-10-08T09:45:58.670Z"
   },
   {
    "duration": 7,
    "start_time": "2023-10-08T09:46:03.704Z"
   },
   {
    "duration": 105,
    "start_time": "2023-10-08T09:46:19.884Z"
   },
   {
    "duration": 8,
    "start_time": "2023-10-08T09:46:24.168Z"
   },
   {
    "duration": 7,
    "start_time": "2023-10-08T09:47:13.020Z"
   },
   {
    "duration": 699,
    "start_time": "2023-10-08T09:48:27.923Z"
   },
   {
    "duration": 6,
    "start_time": "2023-10-08T09:48:36.631Z"
   },
   {
    "duration": 5,
    "start_time": "2023-10-08T09:48:51.263Z"
   },
   {
    "duration": 626,
    "start_time": "2023-10-08T09:48:59.679Z"
   },
   {
    "duration": 9,
    "start_time": "2023-10-08T09:49:07.037Z"
   },
   {
    "duration": 18,
    "start_time": "2023-10-08T09:49:49.891Z"
   },
   {
    "duration": 29,
    "start_time": "2023-10-08T09:50:50.544Z"
   },
   {
    "duration": 27,
    "start_time": "2023-10-08T09:53:33.230Z"
   },
   {
    "duration": 18,
    "start_time": "2023-10-08T09:54:34.881Z"
   },
   {
    "duration": 32,
    "start_time": "2023-10-08T09:54:43.954Z"
   },
   {
    "duration": 29,
    "start_time": "2023-10-08T09:55:31.079Z"
   },
   {
    "duration": 26,
    "start_time": "2023-10-08T09:57:39.180Z"
   },
   {
    "duration": 645,
    "start_time": "2023-10-08T09:57:46.367Z"
   },
   {
    "duration": 29,
    "start_time": "2023-10-08T09:57:47.014Z"
   },
   {
    "duration": 13,
    "start_time": "2023-10-08T09:57:47.045Z"
   },
   {
    "duration": 51,
    "start_time": "2023-10-08T09:57:47.059Z"
   },
   {
    "duration": 8,
    "start_time": "2023-10-08T09:57:47.113Z"
   },
   {
    "duration": 29,
    "start_time": "2023-10-08T09:57:47.123Z"
   },
   {
    "duration": 13,
    "start_time": "2023-10-08T09:57:47.153Z"
   },
   {
    "duration": 44,
    "start_time": "2023-10-08T09:57:47.168Z"
   },
   {
    "duration": 28,
    "start_time": "2023-10-08T09:57:47.213Z"
   },
   {
    "duration": 25,
    "start_time": "2023-10-08T09:57:47.242Z"
   },
   {
    "duration": 15,
    "start_time": "2023-10-08T09:57:47.268Z"
   },
   {
    "duration": 75,
    "start_time": "2023-10-08T09:57:47.284Z"
   },
   {
    "duration": 12,
    "start_time": "2023-10-08T09:57:47.361Z"
   },
   {
    "duration": 40,
    "start_time": "2023-10-08T09:57:47.376Z"
   },
   {
    "duration": 33,
    "start_time": "2023-10-08T09:57:47.418Z"
   },
   {
    "duration": 41,
    "start_time": "2023-10-08T09:57:47.453Z"
   },
   {
    "duration": 57,
    "start_time": "2023-10-08T09:57:47.496Z"
   },
   {
    "duration": 24,
    "start_time": "2023-10-08T09:57:47.554Z"
   },
   {
    "duration": 56,
    "start_time": "2023-10-08T09:57:47.579Z"
   },
   {
    "duration": 25,
    "start_time": "2023-10-08T09:57:47.636Z"
   },
   {
    "duration": 16,
    "start_time": "2023-10-08T09:57:47.662Z"
   },
   {
    "duration": 166,
    "start_time": "2023-10-08T09:57:47.680Z"
   },
   {
    "duration": 163,
    "start_time": "2023-10-08T09:57:47.850Z"
   },
   {
    "duration": 136,
    "start_time": "2023-10-08T09:57:48.015Z"
   },
   {
    "duration": 148,
    "start_time": "2023-10-08T09:57:48.153Z"
   },
   {
    "duration": 8,
    "start_time": "2023-10-08T09:57:48.302Z"
   },
   {
    "duration": 520,
    "start_time": "2023-10-08T09:57:48.311Z"
   },
   {
    "duration": 17,
    "start_time": "2023-10-08T09:57:48.833Z"
   },
   {
    "duration": 264,
    "start_time": "2023-10-08T09:57:48.851Z"
   },
   {
    "duration": 9,
    "start_time": "2023-10-08T09:57:49.117Z"
   },
   {
    "duration": 272,
    "start_time": "2023-10-08T09:57:49.127Z"
   },
   {
    "duration": 8,
    "start_time": "2023-10-08T09:57:49.401Z"
   },
   {
    "duration": 43,
    "start_time": "2023-10-08T09:57:49.410Z"
   },
   {
    "duration": 44,
    "start_time": "2023-10-08T09:57:49.455Z"
   },
   {
    "duration": 20,
    "start_time": "2023-10-08T09:57:49.501Z"
   },
   {
    "duration": 319,
    "start_time": "2023-10-08T09:57:49.523Z"
   },
   {
    "duration": 34,
    "start_time": "2023-10-08T09:57:49.844Z"
   },
   {
    "duration": 36,
    "start_time": "2023-10-08T09:57:49.881Z"
   },
   {
    "duration": 15,
    "start_time": "2023-10-08T09:57:49.919Z"
   },
   {
    "duration": 30,
    "start_time": "2023-10-08T09:57:49.935Z"
   },
   {
    "duration": 364,
    "start_time": "2023-10-08T09:57:49.970Z"
   },
   {
    "duration": 15,
    "start_time": "2023-10-08T09:57:50.336Z"
   },
   {
    "duration": 258,
    "start_time": "2023-10-08T09:57:50.352Z"
   },
   {
    "duration": 8,
    "start_time": "2023-10-08T09:57:50.612Z"
   },
   {
    "duration": 247,
    "start_time": "2023-10-08T09:57:50.621Z"
   },
   {
    "duration": 8,
    "start_time": "2023-10-08T09:57:50.869Z"
   },
   {
    "duration": 262,
    "start_time": "2023-10-08T09:57:50.879Z"
   },
   {
    "duration": 31,
    "start_time": "2023-10-08T09:57:51.143Z"
   },
   {
    "duration": 644,
    "start_time": "2023-10-08T10:06:34.995Z"
   },
   {
    "duration": 42,
    "start_time": "2023-10-08T10:06:35.641Z"
   },
   {
    "duration": 67,
    "start_time": "2023-10-08T10:06:35.685Z"
   },
   {
    "duration": 64,
    "start_time": "2023-10-08T10:06:35.758Z"
   },
   {
    "duration": 52,
    "start_time": "2023-10-08T10:06:35.823Z"
   },
   {
    "duration": 49,
    "start_time": "2023-10-08T10:06:35.876Z"
   },
   {
    "duration": 14,
    "start_time": "2023-10-08T10:06:35.927Z"
   },
   {
    "duration": 54,
    "start_time": "2023-10-08T10:06:35.942Z"
   },
   {
    "duration": 23,
    "start_time": "2023-10-08T10:06:35.997Z"
   },
   {
    "duration": 39,
    "start_time": "2023-10-08T10:06:36.024Z"
   },
   {
    "duration": 41,
    "start_time": "2023-10-08T10:06:36.068Z"
   },
   {
    "duration": 107,
    "start_time": "2023-10-08T10:06:36.112Z"
   },
   {
    "duration": 0,
    "start_time": "2023-10-08T10:06:36.222Z"
   },
   {
    "duration": 0,
    "start_time": "2023-10-08T10:06:36.223Z"
   },
   {
    "duration": 0,
    "start_time": "2023-10-08T10:06:36.225Z"
   },
   {
    "duration": 0,
    "start_time": "2023-10-08T10:06:36.226Z"
   },
   {
    "duration": 0,
    "start_time": "2023-10-08T10:06:36.227Z"
   },
   {
    "duration": 0,
    "start_time": "2023-10-08T10:06:36.229Z"
   },
   {
    "duration": 0,
    "start_time": "2023-10-08T10:06:36.230Z"
   },
   {
    "duration": 0,
    "start_time": "2023-10-08T10:06:36.231Z"
   },
   {
    "duration": 0,
    "start_time": "2023-10-08T10:06:36.249Z"
   },
   {
    "duration": 0,
    "start_time": "2023-10-08T10:06:36.262Z"
   },
   {
    "duration": 0,
    "start_time": "2023-10-08T10:06:36.263Z"
   },
   {
    "duration": 0,
    "start_time": "2023-10-08T10:06:36.265Z"
   },
   {
    "duration": 0,
    "start_time": "2023-10-08T10:06:36.266Z"
   },
   {
    "duration": 0,
    "start_time": "2023-10-08T10:06:36.266Z"
   },
   {
    "duration": 0,
    "start_time": "2023-10-08T10:06:36.267Z"
   },
   {
    "duration": 0,
    "start_time": "2023-10-08T10:06:36.268Z"
   },
   {
    "duration": 0,
    "start_time": "2023-10-08T10:06:36.268Z"
   },
   {
    "duration": 0,
    "start_time": "2023-10-08T10:06:36.271Z"
   },
   {
    "duration": 0,
    "start_time": "2023-10-08T10:06:36.276Z"
   },
   {
    "duration": 0,
    "start_time": "2023-10-08T10:06:36.276Z"
   },
   {
    "duration": 0,
    "start_time": "2023-10-08T10:06:36.277Z"
   },
   {
    "duration": 0,
    "start_time": "2023-10-08T10:06:36.277Z"
   },
   {
    "duration": 0,
    "start_time": "2023-10-08T10:06:36.278Z"
   },
   {
    "duration": 0,
    "start_time": "2023-10-08T10:06:36.279Z"
   },
   {
    "duration": 0,
    "start_time": "2023-10-08T10:06:36.279Z"
   },
   {
    "duration": 0,
    "start_time": "2023-10-08T10:06:36.282Z"
   },
   {
    "duration": 0,
    "start_time": "2023-10-08T10:06:36.283Z"
   },
   {
    "duration": 0,
    "start_time": "2023-10-08T10:06:36.284Z"
   },
   {
    "duration": 0,
    "start_time": "2023-10-08T10:06:36.285Z"
   },
   {
    "duration": 0,
    "start_time": "2023-10-08T10:06:36.286Z"
   },
   {
    "duration": 0,
    "start_time": "2023-10-08T10:06:36.290Z"
   },
   {
    "duration": 0,
    "start_time": "2023-10-08T10:06:36.291Z"
   },
   {
    "duration": 0,
    "start_time": "2023-10-08T10:06:36.292Z"
   },
   {
    "duration": 0,
    "start_time": "2023-10-08T10:06:36.294Z"
   },
   {
    "duration": 0,
    "start_time": "2023-10-08T10:06:36.295Z"
   },
   {
    "duration": 0,
    "start_time": "2023-10-08T10:06:36.296Z"
   },
   {
    "duration": 650,
    "start_time": "2023-10-08T10:06:52.165Z"
   },
   {
    "duration": 29,
    "start_time": "2023-10-08T10:06:52.817Z"
   },
   {
    "duration": 24,
    "start_time": "2023-10-08T10:06:52.847Z"
   },
   {
    "duration": 38,
    "start_time": "2023-10-08T10:06:52.879Z"
   },
   {
    "duration": 9,
    "start_time": "2023-10-08T10:06:52.919Z"
   },
   {
    "duration": 48,
    "start_time": "2023-10-08T10:06:52.929Z"
   },
   {
    "duration": 7,
    "start_time": "2023-10-08T10:06:52.978Z"
   },
   {
    "duration": 16,
    "start_time": "2023-10-08T10:06:52.987Z"
   },
   {
    "duration": 17,
    "start_time": "2023-10-08T10:06:53.005Z"
   },
   {
    "duration": 20,
    "start_time": "2023-10-08T10:06:53.024Z"
   },
   {
    "duration": 36,
    "start_time": "2023-10-08T10:06:53.046Z"
   },
   {
    "duration": 115,
    "start_time": "2023-10-08T10:06:53.083Z"
   },
   {
    "duration": 0,
    "start_time": "2023-10-08T10:06:53.200Z"
   },
   {
    "duration": 0,
    "start_time": "2023-10-08T10:06:53.201Z"
   },
   {
    "duration": 0,
    "start_time": "2023-10-08T10:06:53.202Z"
   },
   {
    "duration": 0,
    "start_time": "2023-10-08T10:06:53.203Z"
   },
   {
    "duration": 0,
    "start_time": "2023-10-08T10:06:53.204Z"
   },
   {
    "duration": 0,
    "start_time": "2023-10-08T10:06:53.206Z"
   },
   {
    "duration": 0,
    "start_time": "2023-10-08T10:06:53.207Z"
   },
   {
    "duration": 0,
    "start_time": "2023-10-08T10:06:53.208Z"
   },
   {
    "duration": 0,
    "start_time": "2023-10-08T10:06:53.209Z"
   },
   {
    "duration": 0,
    "start_time": "2023-10-08T10:06:53.210Z"
   },
   {
    "duration": 0,
    "start_time": "2023-10-08T10:06:53.210Z"
   },
   {
    "duration": 0,
    "start_time": "2023-10-08T10:06:53.211Z"
   },
   {
    "duration": 0,
    "start_time": "2023-10-08T10:06:53.212Z"
   },
   {
    "duration": 0,
    "start_time": "2023-10-08T10:06:53.213Z"
   },
   {
    "duration": 0,
    "start_time": "2023-10-08T10:06:53.214Z"
   },
   {
    "duration": 0,
    "start_time": "2023-10-08T10:06:53.215Z"
   },
   {
    "duration": 0,
    "start_time": "2023-10-08T10:06:53.216Z"
   },
   {
    "duration": 0,
    "start_time": "2023-10-08T10:06:53.217Z"
   },
   {
    "duration": 0,
    "start_time": "2023-10-08T10:06:53.218Z"
   },
   {
    "duration": 0,
    "start_time": "2023-10-08T10:06:53.219Z"
   },
   {
    "duration": 1,
    "start_time": "2023-10-08T10:06:53.219Z"
   },
   {
    "duration": 0,
    "start_time": "2023-10-08T10:06:53.220Z"
   },
   {
    "duration": 0,
    "start_time": "2023-10-08T10:06:53.221Z"
   },
   {
    "duration": 0,
    "start_time": "2023-10-08T10:06:53.222Z"
   },
   {
    "duration": 0,
    "start_time": "2023-10-08T10:06:53.249Z"
   },
   {
    "duration": 0,
    "start_time": "2023-10-08T10:06:53.255Z"
   },
   {
    "duration": 0,
    "start_time": "2023-10-08T10:06:53.255Z"
   },
   {
    "duration": 0,
    "start_time": "2023-10-08T10:06:53.256Z"
   },
   {
    "duration": 0,
    "start_time": "2023-10-08T10:06:53.258Z"
   },
   {
    "duration": 0,
    "start_time": "2023-10-08T10:06:53.259Z"
   },
   {
    "duration": 0,
    "start_time": "2023-10-08T10:06:53.261Z"
   },
   {
    "duration": 0,
    "start_time": "2023-10-08T10:06:53.262Z"
   },
   {
    "duration": 0,
    "start_time": "2023-10-08T10:06:53.264Z"
   },
   {
    "duration": 0,
    "start_time": "2023-10-08T10:06:53.265Z"
   },
   {
    "duration": 0,
    "start_time": "2023-10-08T10:06:53.267Z"
   },
   {
    "duration": 0,
    "start_time": "2023-10-08T10:06:53.268Z"
   },
   {
    "duration": 10,
    "start_time": "2023-10-08T10:07:52.830Z"
   },
   {
    "duration": 10,
    "start_time": "2023-10-08T10:08:01.825Z"
   },
   {
    "duration": 9,
    "start_time": "2023-10-08T10:08:33.212Z"
   },
   {
    "duration": 11,
    "start_time": "2023-10-08T10:08:40.574Z"
   },
   {
    "duration": 641,
    "start_time": "2023-10-08T10:09:23.916Z"
   },
   {
    "duration": 35,
    "start_time": "2023-10-08T10:09:24.562Z"
   },
   {
    "duration": 14,
    "start_time": "2023-10-08T10:09:24.598Z"
   },
   {
    "duration": 29,
    "start_time": "2023-10-08T10:09:24.614Z"
   },
   {
    "duration": 16,
    "start_time": "2023-10-08T10:09:24.647Z"
   },
   {
    "duration": 29,
    "start_time": "2023-10-08T10:09:24.665Z"
   },
   {
    "duration": 8,
    "start_time": "2023-10-08T10:09:24.696Z"
   },
   {
    "duration": 16,
    "start_time": "2023-10-08T10:09:24.705Z"
   },
   {
    "duration": 25,
    "start_time": "2023-10-08T10:09:24.723Z"
   },
   {
    "duration": 11,
    "start_time": "2023-10-08T10:09:24.751Z"
   },
   {
    "duration": 9,
    "start_time": "2023-10-08T10:09:24.768Z"
   },
   {
    "duration": 11,
    "start_time": "2023-10-08T10:09:24.780Z"
   },
   {
    "duration": 15,
    "start_time": "2023-10-08T10:09:24.792Z"
   },
   {
    "duration": 5,
    "start_time": "2023-10-08T10:09:24.809Z"
   },
   {
    "duration": 7,
    "start_time": "2023-10-08T10:09:24.816Z"
   },
   {
    "duration": 107,
    "start_time": "2023-10-08T10:09:24.824Z"
   },
   {
    "duration": 0,
    "start_time": "2023-10-08T10:09:24.933Z"
   },
   {
    "duration": 0,
    "start_time": "2023-10-08T10:09:24.934Z"
   },
   {
    "duration": 0,
    "start_time": "2023-10-08T10:09:24.935Z"
   },
   {
    "duration": 0,
    "start_time": "2023-10-08T10:09:24.936Z"
   },
   {
    "duration": 0,
    "start_time": "2023-10-08T10:09:24.937Z"
   },
   {
    "duration": 0,
    "start_time": "2023-10-08T10:09:24.938Z"
   },
   {
    "duration": 0,
    "start_time": "2023-10-08T10:09:24.939Z"
   },
   {
    "duration": 0,
    "start_time": "2023-10-08T10:09:24.940Z"
   },
   {
    "duration": 1,
    "start_time": "2023-10-08T10:09:24.940Z"
   },
   {
    "duration": 0,
    "start_time": "2023-10-08T10:09:24.941Z"
   },
   {
    "duration": 0,
    "start_time": "2023-10-08T10:09:24.942Z"
   },
   {
    "duration": 0,
    "start_time": "2023-10-08T10:09:24.943Z"
   },
   {
    "duration": 0,
    "start_time": "2023-10-08T10:09:24.944Z"
   },
   {
    "duration": 0,
    "start_time": "2023-10-08T10:09:24.945Z"
   },
   {
    "duration": 0,
    "start_time": "2023-10-08T10:09:24.946Z"
   },
   {
    "duration": 0,
    "start_time": "2023-10-08T10:09:24.948Z"
   },
   {
    "duration": 0,
    "start_time": "2023-10-08T10:09:24.949Z"
   },
   {
    "duration": 0,
    "start_time": "2023-10-08T10:09:24.950Z"
   },
   {
    "duration": 0,
    "start_time": "2023-10-08T10:09:24.950Z"
   },
   {
    "duration": 0,
    "start_time": "2023-10-08T10:09:24.951Z"
   },
   {
    "duration": 0,
    "start_time": "2023-10-08T10:09:24.952Z"
   },
   {
    "duration": 0,
    "start_time": "2023-10-08T10:09:24.952Z"
   },
   {
    "duration": 0,
    "start_time": "2023-10-08T10:09:24.955Z"
   },
   {
    "duration": 0,
    "start_time": "2023-10-08T10:09:24.956Z"
   },
   {
    "duration": 0,
    "start_time": "2023-10-08T10:09:24.957Z"
   },
   {
    "duration": 0,
    "start_time": "2023-10-08T10:09:24.958Z"
   },
   {
    "duration": 0,
    "start_time": "2023-10-08T10:09:24.958Z"
   },
   {
    "duration": 0,
    "start_time": "2023-10-08T10:09:24.963Z"
   },
   {
    "duration": 0,
    "start_time": "2023-10-08T10:09:24.964Z"
   },
   {
    "duration": 0,
    "start_time": "2023-10-08T10:09:24.965Z"
   },
   {
    "duration": 0,
    "start_time": "2023-10-08T10:09:24.966Z"
   },
   {
    "duration": 0,
    "start_time": "2023-10-08T10:09:24.967Z"
   },
   {
    "duration": 7,
    "start_time": "2023-10-08T10:09:46.110Z"
   },
   {
    "duration": 655,
    "start_time": "2023-10-08T10:09:52.437Z"
   },
   {
    "duration": 29,
    "start_time": "2023-10-08T10:09:53.094Z"
   },
   {
    "duration": 10,
    "start_time": "2023-10-08T10:09:53.125Z"
   },
   {
    "duration": 54,
    "start_time": "2023-10-08T10:09:53.137Z"
   },
   {
    "duration": 8,
    "start_time": "2023-10-08T10:09:53.193Z"
   },
   {
    "duration": 40,
    "start_time": "2023-10-08T10:09:53.203Z"
   },
   {
    "duration": 20,
    "start_time": "2023-10-08T10:09:53.245Z"
   },
   {
    "duration": 33,
    "start_time": "2023-10-08T10:09:53.267Z"
   },
   {
    "duration": 27,
    "start_time": "2023-10-08T10:09:53.302Z"
   },
   {
    "duration": 16,
    "start_time": "2023-10-08T10:09:53.331Z"
   },
   {
    "duration": 38,
    "start_time": "2023-10-08T10:09:53.349Z"
   },
   {
    "duration": 33,
    "start_time": "2023-10-08T10:09:53.389Z"
   },
   {
    "duration": 36,
    "start_time": "2023-10-08T10:09:53.424Z"
   },
   {
    "duration": 16,
    "start_time": "2023-10-08T10:09:53.464Z"
   },
   {
    "duration": 15,
    "start_time": "2023-10-08T10:09:53.481Z"
   },
   {
    "duration": 18,
    "start_time": "2023-10-08T10:09:53.497Z"
   },
   {
    "duration": 91,
    "start_time": "2023-10-08T10:09:53.517Z"
   },
   {
    "duration": 0,
    "start_time": "2023-10-08T10:09:53.610Z"
   },
   {
    "duration": 0,
    "start_time": "2023-10-08T10:09:53.611Z"
   },
   {
    "duration": 0,
    "start_time": "2023-10-08T10:09:53.612Z"
   },
   {
    "duration": 0,
    "start_time": "2023-10-08T10:09:53.613Z"
   },
   {
    "duration": 0,
    "start_time": "2023-10-08T10:09:53.614Z"
   },
   {
    "duration": 0,
    "start_time": "2023-10-08T10:09:53.615Z"
   },
   {
    "duration": 0,
    "start_time": "2023-10-08T10:09:53.616Z"
   },
   {
    "duration": 0,
    "start_time": "2023-10-08T10:09:53.617Z"
   },
   {
    "duration": 0,
    "start_time": "2023-10-08T10:09:53.618Z"
   },
   {
    "duration": 0,
    "start_time": "2023-10-08T10:09:53.619Z"
   },
   {
    "duration": 0,
    "start_time": "2023-10-08T10:09:53.620Z"
   },
   {
    "duration": 0,
    "start_time": "2023-10-08T10:09:53.620Z"
   },
   {
    "duration": 0,
    "start_time": "2023-10-08T10:09:53.621Z"
   },
   {
    "duration": 0,
    "start_time": "2023-10-08T10:09:53.622Z"
   },
   {
    "duration": 0,
    "start_time": "2023-10-08T10:09:53.623Z"
   },
   {
    "duration": 0,
    "start_time": "2023-10-08T10:09:53.624Z"
   },
   {
    "duration": 0,
    "start_time": "2023-10-08T10:09:53.625Z"
   },
   {
    "duration": 0,
    "start_time": "2023-10-08T10:09:53.654Z"
   },
   {
    "duration": 0,
    "start_time": "2023-10-08T10:09:53.657Z"
   },
   {
    "duration": 0,
    "start_time": "2023-10-08T10:09:53.658Z"
   },
   {
    "duration": 0,
    "start_time": "2023-10-08T10:09:53.658Z"
   },
   {
    "duration": 0,
    "start_time": "2023-10-08T10:09:53.661Z"
   },
   {
    "duration": 0,
    "start_time": "2023-10-08T10:09:53.662Z"
   },
   {
    "duration": 0,
    "start_time": "2023-10-08T10:09:53.664Z"
   },
   {
    "duration": 0,
    "start_time": "2023-10-08T10:09:53.665Z"
   },
   {
    "duration": 0,
    "start_time": "2023-10-08T10:09:53.666Z"
   },
   {
    "duration": 0,
    "start_time": "2023-10-08T10:09:53.667Z"
   },
   {
    "duration": 0,
    "start_time": "2023-10-08T10:09:53.670Z"
   },
   {
    "duration": 0,
    "start_time": "2023-10-08T10:09:53.672Z"
   },
   {
    "duration": 0,
    "start_time": "2023-10-08T10:09:53.673Z"
   },
   {
    "duration": 0,
    "start_time": "2023-10-08T10:09:53.674Z"
   },
   {
    "duration": 628,
    "start_time": "2023-10-08T10:10:21.905Z"
   },
   {
    "duration": 31,
    "start_time": "2023-10-08T10:10:22.535Z"
   },
   {
    "duration": 12,
    "start_time": "2023-10-08T10:10:22.568Z"
   },
   {
    "duration": 28,
    "start_time": "2023-10-08T10:10:22.582Z"
   },
   {
    "duration": 10,
    "start_time": "2023-10-08T10:10:22.611Z"
   },
   {
    "duration": 41,
    "start_time": "2023-10-08T10:10:22.622Z"
   },
   {
    "duration": 6,
    "start_time": "2023-10-08T10:10:22.665Z"
   },
   {
    "duration": 19,
    "start_time": "2023-10-08T10:10:22.673Z"
   },
   {
    "duration": 24,
    "start_time": "2023-10-08T10:10:22.694Z"
   },
   {
    "duration": 9,
    "start_time": "2023-10-08T10:10:22.720Z"
   },
   {
    "duration": 8,
    "start_time": "2023-10-08T10:10:22.731Z"
   },
   {
    "duration": 28,
    "start_time": "2023-10-08T10:10:22.740Z"
   },
   {
    "duration": 21,
    "start_time": "2023-10-08T10:10:22.769Z"
   },
   {
    "duration": 15,
    "start_time": "2023-10-08T10:10:22.792Z"
   },
   {
    "duration": 13,
    "start_time": "2023-10-08T10:10:22.809Z"
   },
   {
    "duration": 6,
    "start_time": "2023-10-08T10:10:22.823Z"
   },
   {
    "duration": 11,
    "start_time": "2023-10-08T10:10:22.831Z"
   },
   {
    "duration": 23,
    "start_time": "2023-10-08T10:10:22.844Z"
   },
   {
    "duration": 15,
    "start_time": "2023-10-08T10:10:22.869Z"
   },
   {
    "duration": 94,
    "start_time": "2023-10-08T10:10:22.885Z"
   },
   {
    "duration": 0,
    "start_time": "2023-10-08T10:10:22.981Z"
   },
   {
    "duration": 0,
    "start_time": "2023-10-08T10:10:22.982Z"
   },
   {
    "duration": 0,
    "start_time": "2023-10-08T10:10:22.983Z"
   },
   {
    "duration": 0,
    "start_time": "2023-10-08T10:10:22.984Z"
   },
   {
    "duration": 0,
    "start_time": "2023-10-08T10:10:22.985Z"
   },
   {
    "duration": 0,
    "start_time": "2023-10-08T10:10:22.985Z"
   },
   {
    "duration": 0,
    "start_time": "2023-10-08T10:10:22.986Z"
   },
   {
    "duration": 0,
    "start_time": "2023-10-08T10:10:22.988Z"
   },
   {
    "duration": 0,
    "start_time": "2023-10-08T10:10:22.989Z"
   },
   {
    "duration": 0,
    "start_time": "2023-10-08T10:10:22.990Z"
   },
   {
    "duration": 0,
    "start_time": "2023-10-08T10:10:22.991Z"
   },
   {
    "duration": 0,
    "start_time": "2023-10-08T10:10:22.992Z"
   },
   {
    "duration": 0,
    "start_time": "2023-10-08T10:10:22.992Z"
   },
   {
    "duration": 0,
    "start_time": "2023-10-08T10:10:22.993Z"
   },
   {
    "duration": 0,
    "start_time": "2023-10-08T10:10:22.994Z"
   },
   {
    "duration": 0,
    "start_time": "2023-10-08T10:10:22.996Z"
   },
   {
    "duration": 1,
    "start_time": "2023-10-08T10:10:22.997Z"
   },
   {
    "duration": 0,
    "start_time": "2023-10-08T10:10:22.999Z"
   },
   {
    "duration": 0,
    "start_time": "2023-10-08T10:10:23.000Z"
   },
   {
    "duration": 0,
    "start_time": "2023-10-08T10:10:23.001Z"
   },
   {
    "duration": 1,
    "start_time": "2023-10-08T10:10:23.002Z"
   },
   {
    "duration": 0,
    "start_time": "2023-10-08T10:10:23.004Z"
   },
   {
    "duration": 0,
    "start_time": "2023-10-08T10:10:23.005Z"
   },
   {
    "duration": 0,
    "start_time": "2023-10-08T10:10:23.006Z"
   },
   {
    "duration": 0,
    "start_time": "2023-10-08T10:10:23.008Z"
   },
   {
    "duration": 0,
    "start_time": "2023-10-08T10:10:23.009Z"
   },
   {
    "duration": 0,
    "start_time": "2023-10-08T10:10:23.010Z"
   },
   {
    "duration": 1,
    "start_time": "2023-10-08T10:10:23.011Z"
   },
   {
    "duration": 744,
    "start_time": "2023-10-08T10:10:44.728Z"
   },
   {
    "duration": 30,
    "start_time": "2023-10-08T10:10:45.474Z"
   },
   {
    "duration": 12,
    "start_time": "2023-10-08T10:10:45.505Z"
   },
   {
    "duration": 72,
    "start_time": "2023-10-08T10:10:45.518Z"
   },
   {
    "duration": 9,
    "start_time": "2023-10-08T10:10:45.591Z"
   },
   {
    "duration": 20,
    "start_time": "2023-10-08T10:10:45.601Z"
   },
   {
    "duration": 7,
    "start_time": "2023-10-08T10:10:45.623Z"
   },
   {
    "duration": 14,
    "start_time": "2023-10-08T10:10:45.631Z"
   },
   {
    "duration": 31,
    "start_time": "2023-10-08T10:10:45.646Z"
   },
   {
    "duration": 12,
    "start_time": "2023-10-08T10:10:45.680Z"
   },
   {
    "duration": 31,
    "start_time": "2023-10-08T10:10:45.694Z"
   },
   {
    "duration": 10,
    "start_time": "2023-10-08T10:10:45.727Z"
   },
   {
    "duration": 28,
    "start_time": "2023-10-08T10:10:45.739Z"
   },
   {
    "duration": 14,
    "start_time": "2023-10-08T10:10:45.770Z"
   },
   {
    "duration": 34,
    "start_time": "2023-10-08T10:10:45.786Z"
   },
   {
    "duration": 44,
    "start_time": "2023-10-08T10:10:45.822Z"
   },
   {
    "duration": 15,
    "start_time": "2023-10-08T10:10:45.869Z"
   },
   {
    "duration": 21,
    "start_time": "2023-10-08T10:10:45.886Z"
   },
   {
    "duration": 29,
    "start_time": "2023-10-08T10:10:45.909Z"
   },
   {
    "duration": 23,
    "start_time": "2023-10-08T10:10:45.939Z"
   },
   {
    "duration": 10,
    "start_time": "2023-10-08T10:10:45.964Z"
   },
   {
    "duration": 224,
    "start_time": "2023-10-08T10:10:45.976Z"
   },
   {
    "duration": 203,
    "start_time": "2023-10-08T10:10:46.202Z"
   },
   {
    "duration": 164,
    "start_time": "2023-10-08T10:10:46.407Z"
   },
   {
    "duration": 141,
    "start_time": "2023-10-08T10:10:46.575Z"
   },
   {
    "duration": 7,
    "start_time": "2023-10-08T10:10:46.718Z"
   },
   {
    "duration": 549,
    "start_time": "2023-10-08T10:10:46.727Z"
   },
   {
    "duration": 8,
    "start_time": "2023-10-08T10:10:47.283Z"
   },
   {
    "duration": 252,
    "start_time": "2023-10-08T10:10:47.292Z"
   },
   {
    "duration": 18,
    "start_time": "2023-10-08T10:10:47.545Z"
   },
   {
    "duration": 270,
    "start_time": "2023-10-08T10:10:47.565Z"
   },
   {
    "duration": 21,
    "start_time": "2023-10-08T10:10:47.836Z"
   },
   {
    "duration": 21,
    "start_time": "2023-10-08T10:10:47.863Z"
   },
   {
    "duration": 9,
    "start_time": "2023-10-08T10:10:47.886Z"
   },
   {
    "duration": 89,
    "start_time": "2023-10-08T10:10:47.896Z"
   },
   {
    "duration": 0,
    "start_time": "2023-10-08T10:10:47.986Z"
   },
   {
    "duration": 0,
    "start_time": "2023-10-08T10:10:47.988Z"
   },
   {
    "duration": 0,
    "start_time": "2023-10-08T10:10:47.989Z"
   },
   {
    "duration": 0,
    "start_time": "2023-10-08T10:10:47.990Z"
   },
   {
    "duration": 0,
    "start_time": "2023-10-08T10:10:47.991Z"
   },
   {
    "duration": 0,
    "start_time": "2023-10-08T10:10:47.992Z"
   },
   {
    "duration": 0,
    "start_time": "2023-10-08T10:10:47.993Z"
   },
   {
    "duration": 0,
    "start_time": "2023-10-08T10:10:47.994Z"
   },
   {
    "duration": 0,
    "start_time": "2023-10-08T10:10:47.996Z"
   },
   {
    "duration": 0,
    "start_time": "2023-10-08T10:10:47.997Z"
   },
   {
    "duration": 0,
    "start_time": "2023-10-08T10:10:47.998Z"
   },
   {
    "duration": 0,
    "start_time": "2023-10-08T10:10:47.999Z"
   },
   {
    "duration": 0,
    "start_time": "2023-10-08T10:10:48.000Z"
   },
   {
    "duration": 9,
    "start_time": "2023-10-08T10:11:08.772Z"
   },
   {
    "duration": 637,
    "start_time": "2023-10-08T10:11:15.372Z"
   },
   {
    "duration": 29,
    "start_time": "2023-10-08T10:11:16.011Z"
   },
   {
    "duration": 18,
    "start_time": "2023-10-08T10:11:16.041Z"
   },
   {
    "duration": 34,
    "start_time": "2023-10-08T10:11:16.060Z"
   },
   {
    "duration": 9,
    "start_time": "2023-10-08T10:11:16.095Z"
   },
   {
    "duration": 24,
    "start_time": "2023-10-08T10:11:16.105Z"
   },
   {
    "duration": 6,
    "start_time": "2023-10-08T10:11:16.131Z"
   },
   {
    "duration": 32,
    "start_time": "2023-10-08T10:11:16.139Z"
   },
   {
    "duration": 14,
    "start_time": "2023-10-08T10:11:16.176Z"
   },
   {
    "duration": 37,
    "start_time": "2023-10-08T10:11:16.191Z"
   },
   {
    "duration": 12,
    "start_time": "2023-10-08T10:11:16.230Z"
   },
   {
    "duration": 24,
    "start_time": "2023-10-08T10:11:16.244Z"
   },
   {
    "duration": 6,
    "start_time": "2023-10-08T10:11:16.274Z"
   },
   {
    "duration": 10,
    "start_time": "2023-10-08T10:11:16.284Z"
   },
   {
    "duration": 35,
    "start_time": "2023-10-08T10:11:16.295Z"
   },
   {
    "duration": 7,
    "start_time": "2023-10-08T10:11:16.331Z"
   },
   {
    "duration": 14,
    "start_time": "2023-10-08T10:11:16.339Z"
   },
   {
    "duration": 27,
    "start_time": "2023-10-08T10:11:16.357Z"
   },
   {
    "duration": 41,
    "start_time": "2023-10-08T10:11:16.387Z"
   },
   {
    "duration": 33,
    "start_time": "2023-10-08T10:11:16.430Z"
   },
   {
    "duration": 18,
    "start_time": "2023-10-08T10:11:16.465Z"
   },
   {
    "duration": 209,
    "start_time": "2023-10-08T10:11:16.485Z"
   },
   {
    "duration": 165,
    "start_time": "2023-10-08T10:11:16.696Z"
   },
   {
    "duration": 144,
    "start_time": "2023-10-08T10:11:16.865Z"
   },
   {
    "duration": 165,
    "start_time": "2023-10-08T10:11:17.010Z"
   },
   {
    "duration": 7,
    "start_time": "2023-10-08T10:11:17.178Z"
   },
   {
    "duration": 475,
    "start_time": "2023-10-08T10:11:17.186Z"
   },
   {
    "duration": 12,
    "start_time": "2023-10-08T10:11:17.666Z"
   },
   {
    "duration": 251,
    "start_time": "2023-10-08T10:11:17.680Z"
   },
   {
    "duration": 8,
    "start_time": "2023-10-08T10:11:17.932Z"
   },
   {
    "duration": 246,
    "start_time": "2023-10-08T10:11:17.949Z"
   },
   {
    "duration": 8,
    "start_time": "2023-10-08T10:11:18.196Z"
   },
   {
    "duration": 29,
    "start_time": "2023-10-08T10:11:18.206Z"
   },
   {
    "duration": 31,
    "start_time": "2023-10-08T10:11:18.236Z"
   },
   {
    "duration": 21,
    "start_time": "2023-10-08T10:11:18.268Z"
   },
   {
    "duration": 245,
    "start_time": "2023-10-08T10:11:18.290Z"
   },
   {
    "duration": 37,
    "start_time": "2023-10-08T10:11:18.537Z"
   },
   {
    "duration": 18,
    "start_time": "2023-10-08T10:11:18.577Z"
   },
   {
    "duration": 23,
    "start_time": "2023-10-08T10:11:18.597Z"
   },
   {
    "duration": 10,
    "start_time": "2023-10-08T10:11:18.622Z"
   },
   {
    "duration": 355,
    "start_time": "2023-10-08T10:11:18.651Z"
   },
   {
    "duration": 9,
    "start_time": "2023-10-08T10:11:19.008Z"
   },
   {
    "duration": 292,
    "start_time": "2023-10-08T10:11:19.019Z"
   },
   {
    "duration": 8,
    "start_time": "2023-10-08T10:11:19.312Z"
   },
   {
    "duration": 270,
    "start_time": "2023-10-08T10:11:19.321Z"
   },
   {
    "duration": 7,
    "start_time": "2023-10-08T10:11:19.592Z"
   },
   {
    "duration": 242,
    "start_time": "2023-10-08T10:11:19.600Z"
   },
   {
    "duration": 35,
    "start_time": "2023-10-08T10:11:19.844Z"
   },
   {
    "duration": 4,
    "start_time": "2023-10-08T10:17:35.844Z"
   },
   {
    "duration": 3,
    "start_time": "2023-10-08T10:17:50.942Z"
   },
   {
    "duration": 83,
    "start_time": "2023-10-08T10:18:04.033Z"
   },
   {
    "duration": 41,
    "start_time": "2023-10-08T10:19:38.464Z"
   },
   {
    "duration": 37,
    "start_time": "2023-10-08T10:20:27.679Z"
   },
   {
    "duration": 7,
    "start_time": "2023-10-08T10:20:32.794Z"
   },
   {
    "duration": 6,
    "start_time": "2023-10-08T10:20:42.782Z"
   },
   {
    "duration": 116,
    "start_time": "2023-10-08T10:20:52.360Z"
   },
   {
    "duration": 634,
    "start_time": "2023-10-08T10:22:17.580Z"
   },
   {
    "duration": 25,
    "start_time": "2023-10-08T10:22:54.313Z"
   },
   {
    "duration": 25,
    "start_time": "2023-10-08T10:23:24.119Z"
   },
   {
    "duration": 511,
    "start_time": "2023-10-08T10:27:46.727Z"
   },
   {
    "duration": 35,
    "start_time": "2023-10-08T10:27:55.832Z"
   },
   {
    "duration": 21,
    "start_time": "2023-10-08T10:28:27.926Z"
   },
   {
    "duration": 22,
    "start_time": "2023-10-08T10:30:19.115Z"
   },
   {
    "duration": 25,
    "start_time": "2023-10-08T10:52:53.344Z"
   },
   {
    "duration": 46,
    "start_time": "2023-10-08T10:53:03.962Z"
   },
   {
    "duration": 655,
    "start_time": "2023-10-08T10:53:24.268Z"
   },
   {
    "duration": 57,
    "start_time": "2023-10-08T10:53:24.925Z"
   },
   {
    "duration": 14,
    "start_time": "2023-10-08T10:53:24.986Z"
   },
   {
    "duration": 39,
    "start_time": "2023-10-08T10:53:25.002Z"
   },
   {
    "duration": 22,
    "start_time": "2023-10-08T10:53:25.043Z"
   },
   {
    "duration": 46,
    "start_time": "2023-10-08T10:53:25.069Z"
   },
   {
    "duration": 20,
    "start_time": "2023-10-08T10:53:25.117Z"
   },
   {
    "duration": 39,
    "start_time": "2023-10-08T10:53:25.138Z"
   },
   {
    "duration": 59,
    "start_time": "2023-10-08T10:53:25.180Z"
   },
   {
    "duration": 79,
    "start_time": "2023-10-08T10:53:25.240Z"
   },
   {
    "duration": 36,
    "start_time": "2023-10-08T10:53:25.320Z"
   },
   {
    "duration": 42,
    "start_time": "2023-10-08T10:53:25.358Z"
   },
   {
    "duration": 19,
    "start_time": "2023-10-08T10:53:25.402Z"
   },
   {
    "duration": 30,
    "start_time": "2023-10-08T10:53:25.424Z"
   },
   {
    "duration": 33,
    "start_time": "2023-10-08T10:53:25.457Z"
   },
   {
    "duration": 31,
    "start_time": "2023-10-08T10:53:25.491Z"
   },
   {
    "duration": 57,
    "start_time": "2023-10-08T10:53:25.524Z"
   },
   {
    "duration": 20,
    "start_time": "2023-10-08T10:53:25.587Z"
   },
   {
    "duration": 55,
    "start_time": "2023-10-08T10:53:25.608Z"
   },
   {
    "duration": 28,
    "start_time": "2023-10-08T10:53:25.665Z"
   },
   {
    "duration": 32,
    "start_time": "2023-10-08T10:53:25.694Z"
   },
   {
    "duration": 211,
    "start_time": "2023-10-08T10:53:25.728Z"
   },
   {
    "duration": 191,
    "start_time": "2023-10-08T10:53:25.940Z"
   },
   {
    "duration": 181,
    "start_time": "2023-10-08T10:53:26.133Z"
   },
   {
    "duration": 184,
    "start_time": "2023-10-08T10:53:26.316Z"
   },
   {
    "duration": 8,
    "start_time": "2023-10-08T10:53:26.502Z"
   },
   {
    "duration": 561,
    "start_time": "2023-10-08T10:53:26.512Z"
   },
   {
    "duration": 12,
    "start_time": "2023-10-08T10:53:27.074Z"
   },
   {
    "duration": 256,
    "start_time": "2023-10-08T10:53:27.088Z"
   },
   {
    "duration": 28,
    "start_time": "2023-10-08T10:53:27.346Z"
   },
   {
    "duration": 227,
    "start_time": "2023-10-08T10:53:27.378Z"
   },
   {
    "duration": 8,
    "start_time": "2023-10-08T10:53:27.607Z"
   },
   {
    "duration": 19,
    "start_time": "2023-10-08T10:53:27.616Z"
   },
   {
    "duration": 15,
    "start_time": "2023-10-08T10:53:27.637Z"
   },
   {
    "duration": 19,
    "start_time": "2023-10-08T10:53:27.655Z"
   },
   {
    "duration": 239,
    "start_time": "2023-10-08T10:53:27.678Z"
   },
   {
    "duration": 21,
    "start_time": "2023-10-08T10:53:27.919Z"
   },
   {
    "duration": 28,
    "start_time": "2023-10-08T10:53:27.941Z"
   },
   {
    "duration": 17,
    "start_time": "2023-10-08T10:53:27.971Z"
   },
   {
    "duration": 7,
    "start_time": "2023-10-08T10:53:27.992Z"
   },
   {
    "duration": 359,
    "start_time": "2023-10-08T10:53:28.002Z"
   },
   {
    "duration": 9,
    "start_time": "2023-10-08T10:53:28.363Z"
   },
   {
    "duration": 284,
    "start_time": "2023-10-08T10:53:28.376Z"
   },
   {
    "duration": 11,
    "start_time": "2023-10-08T10:53:28.664Z"
   },
   {
    "duration": 266,
    "start_time": "2023-10-08T10:53:28.676Z"
   },
   {
    "duration": 12,
    "start_time": "2023-10-08T10:53:28.955Z"
   },
   {
    "duration": 344,
    "start_time": "2023-10-08T10:53:28.968Z"
   },
   {
    "duration": 26,
    "start_time": "2023-10-08T10:53:29.314Z"
   },
   {
    "duration": 664,
    "start_time": "2023-10-08T10:55:06.793Z"
   },
   {
    "duration": 498,
    "start_time": "2023-10-08T10:55:15.836Z"
   },
   {
    "duration": 69,
    "start_time": "2023-10-08T10:55:21.838Z"
   },
   {
    "duration": 39,
    "start_time": "2023-10-08T10:55:46.866Z"
   },
   {
    "duration": 44,
    "start_time": "2023-10-08T10:55:54.373Z"
   },
   {
    "duration": 31,
    "start_time": "2023-10-08T11:16:40.173Z"
   },
   {
    "duration": 10,
    "start_time": "2023-10-08T11:18:59.486Z"
   },
   {
    "duration": 7,
    "start_time": "2023-10-08T11:20:14.593Z"
   },
   {
    "duration": 36,
    "start_time": "2023-10-08T11:20:20.464Z"
   },
   {
    "duration": 34,
    "start_time": "2023-10-08T11:20:53.383Z"
   },
   {
    "duration": 3,
    "start_time": "2023-10-08T11:23:42.901Z"
   },
   {
    "duration": 22,
    "start_time": "2023-10-08T11:24:01.726Z"
   },
   {
    "duration": 106,
    "start_time": "2023-10-08T11:24:13.030Z"
   },
   {
    "duration": 3,
    "start_time": "2023-10-08T11:24:28.706Z"
   },
   {
    "duration": 1532,
    "start_time": "2023-10-08T11:25:24.401Z"
   },
   {
    "duration": 1657,
    "start_time": "2023-10-08T11:26:06.072Z"
   },
   {
    "duration": 28,
    "start_time": "2023-10-08T11:26:29.879Z"
   },
   {
    "duration": 47,
    "start_time": "2023-10-08T11:27:58.342Z"
   },
   {
    "duration": 42,
    "start_time": "2023-10-08T11:29:10.920Z"
   },
   {
    "duration": 36,
    "start_time": "2023-10-08T11:30:32.976Z"
   },
   {
    "duration": 141,
    "start_time": "2023-10-08T11:31:03.969Z"
   },
   {
    "duration": 7,
    "start_time": "2023-10-08T11:32:15.383Z"
   },
   {
    "duration": 13,
    "start_time": "2023-10-08T11:32:41.146Z"
   },
   {
    "duration": 10,
    "start_time": "2023-10-08T11:33:05.424Z"
   },
   {
    "duration": 15,
    "start_time": "2023-10-08T11:34:46.999Z"
   },
   {
    "duration": 14,
    "start_time": "2023-10-08T11:35:10.512Z"
   },
   {
    "duration": 13,
    "start_time": "2023-10-08T11:35:36.035Z"
   },
   {
    "duration": 759,
    "start_time": "2023-10-08T11:35:45.785Z"
   },
   {
    "duration": 40,
    "start_time": "2023-10-08T11:35:46.546Z"
   },
   {
    "duration": 98,
    "start_time": "2023-10-08T11:35:46.589Z"
   },
   {
    "duration": 29,
    "start_time": "2023-10-08T11:35:46.689Z"
   },
   {
    "duration": 14,
    "start_time": "2023-10-08T11:35:46.720Z"
   },
   {
    "duration": 47,
    "start_time": "2023-10-08T11:35:46.736Z"
   },
   {
    "duration": 42,
    "start_time": "2023-10-08T11:35:46.785Z"
   },
   {
    "duration": 56,
    "start_time": "2023-10-08T11:35:46.829Z"
   },
   {
    "duration": 92,
    "start_time": "2023-10-08T11:35:46.887Z"
   },
   {
    "duration": 39,
    "start_time": "2023-10-08T11:35:46.981Z"
   },
   {
    "duration": 26,
    "start_time": "2023-10-08T11:35:47.021Z"
   },
   {
    "duration": 39,
    "start_time": "2023-10-08T11:35:47.049Z"
   },
   {
    "duration": 23,
    "start_time": "2023-10-08T11:35:47.089Z"
   },
   {
    "duration": 6,
    "start_time": "2023-10-08T11:35:47.115Z"
   },
   {
    "duration": 44,
    "start_time": "2023-10-08T11:35:47.123Z"
   },
   {
    "duration": 17,
    "start_time": "2023-10-08T11:35:47.169Z"
   },
   {
    "duration": 41,
    "start_time": "2023-10-08T11:35:47.187Z"
   },
   {
    "duration": 11,
    "start_time": "2023-10-08T11:35:47.230Z"
   },
   {
    "duration": 39,
    "start_time": "2023-10-08T11:35:47.243Z"
   },
   {
    "duration": 17,
    "start_time": "2023-10-08T11:35:47.284Z"
   },
   {
    "duration": 28,
    "start_time": "2023-10-08T11:35:47.302Z"
   },
   {
    "duration": 187,
    "start_time": "2023-10-08T11:35:47.331Z"
   },
   {
    "duration": 176,
    "start_time": "2023-10-08T11:35:47.519Z"
   },
   {
    "duration": 135,
    "start_time": "2023-10-08T11:35:47.697Z"
   },
   {
    "duration": 154,
    "start_time": "2023-10-08T11:35:47.834Z"
   },
   {
    "duration": 7,
    "start_time": "2023-10-08T11:35:47.989Z"
   },
   {
    "duration": 610,
    "start_time": "2023-10-08T11:35:47.998Z"
   },
   {
    "duration": 8,
    "start_time": "2023-10-08T11:35:48.609Z"
   },
   {
    "duration": 270,
    "start_time": "2023-10-08T11:35:48.618Z"
   },
   {
    "duration": 9,
    "start_time": "2023-10-08T11:35:48.891Z"
   },
   {
    "duration": 300,
    "start_time": "2023-10-08T11:35:48.902Z"
   },
   {
    "duration": 9,
    "start_time": "2023-10-08T11:35:49.204Z"
   },
   {
    "duration": 20,
    "start_time": "2023-10-08T11:35:49.215Z"
   },
   {
    "duration": 28,
    "start_time": "2023-10-08T11:35:49.237Z"
   },
   {
    "duration": 11,
    "start_time": "2023-10-08T11:35:49.271Z"
   },
   {
    "duration": 310,
    "start_time": "2023-10-08T11:35:49.283Z"
   },
   {
    "duration": 31,
    "start_time": "2023-10-08T11:35:49.595Z"
   },
   {
    "duration": 45,
    "start_time": "2023-10-08T11:35:49.627Z"
   },
   {
    "duration": 18,
    "start_time": "2023-10-08T11:35:49.676Z"
   },
   {
    "duration": 43,
    "start_time": "2023-10-08T11:35:49.696Z"
   },
   {
    "duration": 355,
    "start_time": "2023-10-08T11:35:49.743Z"
   },
   {
    "duration": 8,
    "start_time": "2023-10-08T11:35:50.100Z"
   },
   {
    "duration": 276,
    "start_time": "2023-10-08T11:35:50.110Z"
   },
   {
    "duration": 8,
    "start_time": "2023-10-08T11:35:50.387Z"
   },
   {
    "duration": 296,
    "start_time": "2023-10-08T11:35:50.396Z"
   },
   {
    "duration": 8,
    "start_time": "2023-10-08T11:35:50.693Z"
   },
   {
    "duration": 272,
    "start_time": "2023-10-08T11:35:50.702Z"
   },
   {
    "duration": 37,
    "start_time": "2023-10-08T11:35:50.976Z"
   },
   {
    "duration": 108,
    "start_time": "2023-10-08T11:35:51.014Z"
   },
   {
    "duration": 7,
    "start_time": "2023-10-08T11:35:57.695Z"
   },
   {
    "duration": 11,
    "start_time": "2023-10-08T11:36:08.893Z"
   },
   {
    "duration": 22,
    "start_time": "2023-10-08T11:36:13.375Z"
   },
   {
    "duration": 12,
    "start_time": "2023-10-08T11:36:27.770Z"
   },
   {
    "duration": 10,
    "start_time": "2023-10-08T11:37:36.137Z"
   },
   {
    "duration": 80,
    "start_time": "2023-10-08T11:41:42.662Z"
   },
   {
    "duration": 9,
    "start_time": "2023-10-08T11:41:48.595Z"
   },
   {
    "duration": 7,
    "start_time": "2023-10-08T11:42:10.186Z"
   },
   {
    "duration": 12,
    "start_time": "2023-10-08T11:42:14.243Z"
   },
   {
    "duration": 6,
    "start_time": "2023-10-08T11:42:18.132Z"
   },
   {
    "duration": 7,
    "start_time": "2023-10-08T11:42:21.573Z"
   },
   {
    "duration": 6,
    "start_time": "2023-10-08T11:42:24.936Z"
   },
   {
    "duration": 7,
    "start_time": "2023-10-08T11:42:27.925Z"
   },
   {
    "duration": 7,
    "start_time": "2023-10-08T11:42:31.195Z"
   },
   {
    "duration": 6,
    "start_time": "2023-10-08T11:42:34.704Z"
   },
   {
    "duration": 8,
    "start_time": "2023-10-08T11:42:37.293Z"
   },
   {
    "duration": 7,
    "start_time": "2023-10-08T11:42:41.371Z"
   },
   {
    "duration": 7,
    "start_time": "2023-10-08T11:42:45.018Z"
   },
   {
    "duration": 6,
    "start_time": "2023-10-08T11:42:48.587Z"
   },
   {
    "duration": 8,
    "start_time": "2023-10-08T11:44:34.397Z"
   },
   {
    "duration": 29,
    "start_time": "2023-10-08T11:44:47.067Z"
   },
   {
    "duration": 98,
    "start_time": "2023-10-08T11:45:41.202Z"
   },
   {
    "duration": 9,
    "start_time": "2023-10-08T11:45:52.302Z"
   },
   {
    "duration": 41,
    "start_time": "2023-10-08T11:46:01.939Z"
   },
   {
    "duration": 9,
    "start_time": "2023-10-08T11:46:16.864Z"
   },
   {
    "duration": 39,
    "start_time": "2023-10-08T11:46:26.261Z"
   },
   {
    "duration": 13,
    "start_time": "2023-10-08T11:46:46.545Z"
   },
   {
    "duration": 1479,
    "start_time": "2023-10-08T11:47:29.068Z"
   },
   {
    "duration": 1238,
    "start_time": "2023-10-08T11:47:45.044Z"
   },
   {
    "duration": 1481,
    "start_time": "2023-10-08T11:47:57.245Z"
   },
   {
    "duration": 5,
    "start_time": "2023-10-08T11:48:41.474Z"
   },
   {
    "duration": 13,
    "start_time": "2023-10-08T11:49:11.602Z"
   },
   {
    "duration": 12,
    "start_time": "2023-10-08T11:49:58.778Z"
   },
   {
    "duration": 14,
    "start_time": "2023-10-08T11:50:09.367Z"
   },
   {
    "duration": 20,
    "start_time": "2023-10-08T11:50:36.154Z"
   },
   {
    "duration": 20,
    "start_time": "2023-10-08T11:51:06.661Z"
   },
   {
    "duration": 129,
    "start_time": "2023-10-08T11:51:38.462Z"
   },
   {
    "duration": 521,
    "start_time": "2023-10-08T11:51:45.798Z"
   },
   {
    "duration": 14,
    "start_time": "2023-10-08T11:52:05.111Z"
   },
   {
    "duration": 15,
    "start_time": "2023-10-08T11:52:18.468Z"
   },
   {
    "duration": 16,
    "start_time": "2023-10-08T11:52:52.655Z"
   },
   {
    "duration": 5,
    "start_time": "2023-10-08T11:53:02.934Z"
   },
   {
    "duration": 1651,
    "start_time": "2023-10-08T11:53:49.264Z"
   },
   {
    "duration": 27,
    "start_time": "2023-10-08T11:54:46.720Z"
   },
   {
    "duration": 618,
    "start_time": "2023-10-08T11:55:58.780Z"
   },
   {
    "duration": 569,
    "start_time": "2023-10-08T11:56:10.818Z"
   },
   {
    "duration": 36,
    "start_time": "2023-10-08T11:56:26.793Z"
   },
   {
    "duration": 31,
    "start_time": "2023-10-08T11:56:57.498Z"
   },
   {
    "duration": 26,
    "start_time": "2023-10-08T11:57:13.421Z"
   },
   {
    "duration": 26,
    "start_time": "2023-10-08T11:57:34.382Z"
   },
   {
    "duration": 98,
    "start_time": "2023-10-08T11:58:50.466Z"
   },
   {
    "duration": 3,
    "start_time": "2023-10-08T11:59:02.020Z"
   },
   {
    "duration": 4,
    "start_time": "2023-10-08T11:59:17.305Z"
   },
   {
    "duration": 9,
    "start_time": "2023-10-08T11:59:20.824Z"
   },
   {
    "duration": 10,
    "start_time": "2023-10-08T11:59:28.217Z"
   },
   {
    "duration": 11,
    "start_time": "2023-10-08T11:59:36.165Z"
   },
   {
    "duration": 11,
    "start_time": "2023-10-08T11:59:44.312Z"
   },
   {
    "duration": 1749,
    "start_time": "2023-10-08T11:59:57.040Z"
   },
   {
    "duration": 9,
    "start_time": "2023-10-08T12:00:12.957Z"
   },
   {
    "duration": 5,
    "start_time": "2023-10-08T12:00:29.185Z"
   },
   {
    "duration": 1688,
    "start_time": "2023-10-08T12:07:11.487Z"
   },
   {
    "duration": 8,
    "start_time": "2023-10-08T12:07:27.538Z"
   },
   {
    "duration": 2120,
    "start_time": "2023-10-08T12:07:40.993Z"
   },
   {
    "duration": 1690,
    "start_time": "2023-10-08T12:08:04.910Z"
   },
   {
    "duration": 26,
    "start_time": "2023-10-08T12:09:19.379Z"
   },
   {
    "duration": 39,
    "start_time": "2023-10-08T12:09:25.785Z"
   },
   {
    "duration": 17,
    "start_time": "2023-10-08T12:11:24.135Z"
   },
   {
    "duration": 15,
    "start_time": "2023-10-08T12:11:28.815Z"
   },
   {
    "duration": 522,
    "start_time": "2023-10-08T12:11:53.679Z"
   },
   {
    "duration": 41,
    "start_time": "2023-10-08T12:11:59.881Z"
   },
   {
    "duration": 16,
    "start_time": "2023-10-08T12:12:17.315Z"
   },
   {
    "duration": 57,
    "start_time": "2023-10-08T12:12:22.065Z"
   },
   {
    "duration": 26,
    "start_time": "2023-10-08T12:12:36.692Z"
   },
   {
    "duration": 25,
    "start_time": "2023-10-08T12:13:57.209Z"
   },
   {
    "duration": 27,
    "start_time": "2023-10-08T12:14:30.309Z"
   },
   {
    "duration": 40,
    "start_time": "2023-10-08T12:15:07.006Z"
   },
   {
    "duration": 38,
    "start_time": "2023-10-08T12:15:20.980Z"
   },
   {
    "duration": 839,
    "start_time": "2023-10-08T19:59:00.328Z"
   },
   {
    "duration": 88,
    "start_time": "2023-10-08T19:59:01.170Z"
   },
   {
    "duration": 13,
    "start_time": "2023-10-08T19:59:01.260Z"
   },
   {
    "duration": 126,
    "start_time": "2023-10-08T19:59:01.275Z"
   },
   {
    "duration": 9,
    "start_time": "2023-10-08T19:59:01.402Z"
   },
   {
    "duration": 91,
    "start_time": "2023-10-08T19:59:01.413Z"
   },
   {
    "duration": 7,
    "start_time": "2023-10-08T19:59:01.506Z"
   },
   {
    "duration": 73,
    "start_time": "2023-10-08T19:59:01.514Z"
   },
   {
    "duration": 57,
    "start_time": "2023-10-08T19:59:01.589Z"
   },
   {
    "duration": 46,
    "start_time": "2023-10-08T19:59:01.649Z"
   },
   {
    "duration": 73,
    "start_time": "2023-10-08T19:59:01.697Z"
   },
   {
    "duration": 62,
    "start_time": "2023-10-08T19:59:01.772Z"
   },
   {
    "duration": 37,
    "start_time": "2023-10-08T19:59:01.836Z"
   },
   {
    "duration": 45,
    "start_time": "2023-10-08T19:59:01.875Z"
   },
   {
    "duration": 43,
    "start_time": "2023-10-08T19:59:01.922Z"
   },
   {
    "duration": 49,
    "start_time": "2023-10-08T19:59:01.967Z"
   },
   {
    "duration": 56,
    "start_time": "2023-10-08T19:59:02.018Z"
   },
   {
    "duration": 38,
    "start_time": "2023-10-08T19:59:02.076Z"
   },
   {
    "duration": 119,
    "start_time": "2023-10-08T19:59:02.116Z"
   },
   {
    "duration": 32,
    "start_time": "2023-10-08T19:59:02.237Z"
   },
   {
    "duration": 161,
    "start_time": "2023-10-08T19:59:02.271Z"
   },
   {
    "duration": 233,
    "start_time": "2023-10-08T19:59:02.434Z"
   },
   {
    "duration": 168,
    "start_time": "2023-10-08T19:59:02.669Z"
   },
   {
    "duration": 140,
    "start_time": "2023-10-08T19:59:02.843Z"
   },
   {
    "duration": 148,
    "start_time": "2023-10-08T19:59:02.984Z"
   },
   {
    "duration": 14,
    "start_time": "2023-10-08T19:59:03.134Z"
   },
   {
    "duration": 513,
    "start_time": "2023-10-08T19:59:03.149Z"
   },
   {
    "duration": 9,
    "start_time": "2023-10-08T19:59:03.666Z"
   },
   {
    "duration": 301,
    "start_time": "2023-10-08T19:59:03.677Z"
   },
   {
    "duration": 8,
    "start_time": "2023-10-08T19:59:03.980Z"
   },
   {
    "duration": 230,
    "start_time": "2023-10-08T19:59:03.989Z"
   },
   {
    "duration": 9,
    "start_time": "2023-10-08T19:59:04.220Z"
   },
   {
    "duration": 32,
    "start_time": "2023-10-08T19:59:04.230Z"
   },
   {
    "duration": 24,
    "start_time": "2023-10-08T19:59:04.264Z"
   },
   {
    "duration": 92,
    "start_time": "2023-10-08T19:59:04.290Z"
   },
   {
    "duration": 298,
    "start_time": "2023-10-08T19:59:04.384Z"
   },
   {
    "duration": 31,
    "start_time": "2023-10-08T19:59:04.684Z"
   },
   {
    "duration": 33,
    "start_time": "2023-10-08T19:59:04.716Z"
   },
   {
    "duration": 30,
    "start_time": "2023-10-08T19:59:04.751Z"
   },
   {
    "duration": 19,
    "start_time": "2023-10-08T19:59:04.783Z"
   },
   {
    "duration": 319,
    "start_time": "2023-10-08T19:59:04.803Z"
   },
   {
    "duration": 8,
    "start_time": "2023-10-08T19:59:05.124Z"
   },
   {
    "duration": 249,
    "start_time": "2023-10-08T19:59:05.143Z"
   },
   {
    "duration": 9,
    "start_time": "2023-10-08T19:59:05.393Z"
   },
   {
    "duration": 253,
    "start_time": "2023-10-08T19:59:05.403Z"
   },
   {
    "duration": 8,
    "start_time": "2023-10-08T19:59:05.657Z"
   },
   {
    "duration": 249,
    "start_time": "2023-10-08T19:59:05.666Z"
   },
   {
    "duration": 44,
    "start_time": "2023-10-08T19:59:05.916Z"
   },
   {
    "duration": 8,
    "start_time": "2023-10-08T20:02:41.068Z"
   },
   {
    "duration": 69,
    "start_time": "2023-10-08T20:03:50.064Z"
   },
   {
    "duration": 26,
    "start_time": "2023-10-08T20:04:21.558Z"
   },
   {
    "duration": 2,
    "start_time": "2023-10-08T20:04:51.290Z"
   },
   {
    "duration": 27,
    "start_time": "2023-10-08T20:05:12.646Z"
   },
   {
    "duration": 24,
    "start_time": "2023-10-08T20:05:29.659Z"
   },
   {
    "duration": 666,
    "start_time": "2023-10-08T20:06:02.624Z"
   },
   {
    "duration": 29,
    "start_time": "2023-10-08T20:06:03.292Z"
   },
   {
    "duration": 13,
    "start_time": "2023-10-08T20:06:03.323Z"
   },
   {
    "duration": 44,
    "start_time": "2023-10-08T20:06:03.337Z"
   },
   {
    "duration": 8,
    "start_time": "2023-10-08T20:06:03.384Z"
   },
   {
    "duration": 34,
    "start_time": "2023-10-08T20:06:03.394Z"
   },
   {
    "duration": 8,
    "start_time": "2023-10-08T20:06:03.429Z"
   },
   {
    "duration": 24,
    "start_time": "2023-10-08T20:06:03.439Z"
   },
   {
    "duration": 27,
    "start_time": "2023-10-08T20:06:03.464Z"
   },
   {
    "duration": 17,
    "start_time": "2023-10-08T20:06:03.493Z"
   },
   {
    "duration": 37,
    "start_time": "2023-10-08T20:06:03.511Z"
   },
   {
    "duration": 37,
    "start_time": "2023-10-08T20:06:03.550Z"
   },
   {
    "duration": 43,
    "start_time": "2023-10-08T20:06:03.589Z"
   },
   {
    "duration": 31,
    "start_time": "2023-10-08T20:06:03.636Z"
   },
   {
    "duration": 21,
    "start_time": "2023-10-08T20:06:03.669Z"
   },
   {
    "duration": 26,
    "start_time": "2023-10-08T20:06:03.692Z"
   },
   {
    "duration": 71,
    "start_time": "2023-10-08T20:06:03.720Z"
   },
   {
    "duration": 39,
    "start_time": "2023-10-08T20:06:03.794Z"
   },
   {
    "duration": 28,
    "start_time": "2023-10-08T20:06:03.835Z"
   },
   {
    "duration": 35,
    "start_time": "2023-10-08T20:06:03.865Z"
   },
   {
    "duration": 30,
    "start_time": "2023-10-08T20:06:03.902Z"
   },
   {
    "duration": 235,
    "start_time": "2023-10-08T20:06:03.934Z"
   },
   {
    "duration": 170,
    "start_time": "2023-10-08T20:06:04.171Z"
   },
   {
    "duration": 163,
    "start_time": "2023-10-08T20:06:04.344Z"
   },
   {
    "duration": 171,
    "start_time": "2023-10-08T20:06:04.509Z"
   },
   {
    "duration": 9,
    "start_time": "2023-10-08T20:06:04.681Z"
   },
   {
    "duration": 491,
    "start_time": "2023-10-08T20:06:04.692Z"
   },
   {
    "duration": 9,
    "start_time": "2023-10-08T20:06:05.185Z"
   },
   {
    "duration": 295,
    "start_time": "2023-10-08T20:06:05.196Z"
   },
   {
    "duration": 9,
    "start_time": "2023-10-08T20:06:05.492Z"
   },
   {
    "duration": 256,
    "start_time": "2023-10-08T20:06:05.503Z"
   },
   {
    "duration": 11,
    "start_time": "2023-10-08T20:06:05.760Z"
   },
   {
    "duration": 61,
    "start_time": "2023-10-08T20:06:05.772Z"
   },
   {
    "duration": 24,
    "start_time": "2023-10-08T20:06:05.835Z"
   },
   {
    "duration": 35,
    "start_time": "2023-10-08T20:06:05.860Z"
   },
   {
    "duration": 243,
    "start_time": "2023-10-08T20:06:05.896Z"
   },
   {
    "duration": 23,
    "start_time": "2023-10-08T20:06:06.143Z"
   },
   {
    "duration": 28,
    "start_time": "2023-10-08T20:06:06.167Z"
   },
   {
    "duration": 31,
    "start_time": "2023-10-08T20:06:06.196Z"
   },
   {
    "duration": 23,
    "start_time": "2023-10-08T20:06:06.229Z"
   },
   {
    "duration": 331,
    "start_time": "2023-10-08T20:06:06.255Z"
   },
   {
    "duration": 8,
    "start_time": "2023-10-08T20:06:06.587Z"
   },
   {
    "duration": 249,
    "start_time": "2023-10-08T20:06:06.596Z"
   },
   {
    "duration": 8,
    "start_time": "2023-10-08T20:06:06.847Z"
   },
   {
    "duration": 252,
    "start_time": "2023-10-08T20:06:06.856Z"
   },
   {
    "duration": 8,
    "start_time": "2023-10-08T20:06:07.110Z"
   },
   {
    "duration": 249,
    "start_time": "2023-10-08T20:06:07.119Z"
   },
   {
    "duration": 39,
    "start_time": "2023-10-08T20:06:07.370Z"
   },
   {
    "duration": 34,
    "start_time": "2023-10-08T20:06:07.411Z"
   },
   {
    "duration": 32,
    "start_time": "2023-10-08T20:13:10.698Z"
   },
   {
    "duration": 25,
    "start_time": "2023-10-08T20:13:27.779Z"
   },
   {
    "duration": 23,
    "start_time": "2023-10-08T20:14:18.436Z"
   },
   {
    "duration": 74,
    "start_time": "2023-10-08T20:16:47.265Z"
   },
   {
    "duration": 646,
    "start_time": "2023-10-08T20:16:58.107Z"
   },
   {
    "duration": 30,
    "start_time": "2023-10-08T20:16:58.755Z"
   },
   {
    "duration": 13,
    "start_time": "2023-10-08T20:16:58.787Z"
   },
   {
    "duration": 34,
    "start_time": "2023-10-08T20:16:58.802Z"
   },
   {
    "duration": 10,
    "start_time": "2023-10-08T20:16:58.837Z"
   },
   {
    "duration": 30,
    "start_time": "2023-10-08T20:16:58.848Z"
   },
   {
    "duration": 6,
    "start_time": "2023-10-08T20:16:58.880Z"
   },
   {
    "duration": 12,
    "start_time": "2023-10-08T20:16:58.888Z"
   },
   {
    "duration": 17,
    "start_time": "2023-10-08T20:16:58.902Z"
   },
   {
    "duration": 9,
    "start_time": "2023-10-08T20:16:58.921Z"
   },
   {
    "duration": 14,
    "start_time": "2023-10-08T20:16:58.931Z"
   },
   {
    "duration": 11,
    "start_time": "2023-10-08T20:16:58.946Z"
   },
   {
    "duration": 9,
    "start_time": "2023-10-08T20:16:58.958Z"
   },
   {
    "duration": 9,
    "start_time": "2023-10-08T20:16:58.969Z"
   },
   {
    "duration": 13,
    "start_time": "2023-10-08T20:16:58.979Z"
   },
   {
    "duration": 11,
    "start_time": "2023-10-08T20:16:58.993Z"
   },
   {
    "duration": 13,
    "start_time": "2023-10-08T20:16:59.006Z"
   },
   {
    "duration": 9,
    "start_time": "2023-10-08T20:16:59.021Z"
   },
   {
    "duration": 21,
    "start_time": "2023-10-08T20:16:59.032Z"
   },
   {
    "duration": 9,
    "start_time": "2023-10-08T20:16:59.055Z"
   },
   {
    "duration": 6,
    "start_time": "2023-10-08T20:16:59.066Z"
   },
   {
    "duration": 187,
    "start_time": "2023-10-08T20:16:59.073Z"
   },
   {
    "duration": 165,
    "start_time": "2023-10-08T20:16:59.262Z"
   },
   {
    "duration": 143,
    "start_time": "2023-10-08T20:16:59.428Z"
   },
   {
    "duration": 149,
    "start_time": "2023-10-08T20:16:59.573Z"
   },
   {
    "duration": 20,
    "start_time": "2023-10-08T20:16:59.724Z"
   },
   {
    "duration": 484,
    "start_time": "2023-10-08T20:16:59.746Z"
   },
   {
    "duration": 13,
    "start_time": "2023-10-08T20:17:00.233Z"
   },
   {
    "duration": 321,
    "start_time": "2023-10-08T20:17:00.247Z"
   },
   {
    "duration": 9,
    "start_time": "2023-10-08T20:17:00.570Z"
   },
   {
    "duration": 260,
    "start_time": "2023-10-08T20:17:00.581Z"
   },
   {
    "duration": 9,
    "start_time": "2023-10-08T20:17:00.843Z"
   },
   {
    "duration": 53,
    "start_time": "2023-10-08T20:17:00.854Z"
   },
   {
    "duration": 42,
    "start_time": "2023-10-08T20:17:00.909Z"
   },
   {
    "duration": 75,
    "start_time": "2023-10-08T20:17:00.953Z"
   },
   {
    "duration": 311,
    "start_time": "2023-10-08T20:17:01.029Z"
   },
   {
    "duration": 23,
    "start_time": "2023-10-08T20:17:01.344Z"
   },
   {
    "duration": 72,
    "start_time": "2023-10-08T20:17:01.369Z"
   },
   {
    "duration": 37,
    "start_time": "2023-10-08T20:17:01.443Z"
   },
   {
    "duration": 95,
    "start_time": "2023-10-08T20:17:01.482Z"
   },
   {
    "duration": 475,
    "start_time": "2023-10-08T20:17:01.578Z"
   },
   {
    "duration": 102,
    "start_time": "2023-10-08T20:17:02.054Z"
   },
   {
    "duration": 440,
    "start_time": "2023-10-08T20:17:02.158Z"
   },
   {
    "duration": 49,
    "start_time": "2023-10-08T20:17:02.600Z"
   },
   {
    "duration": 288,
    "start_time": "2023-10-08T20:17:02.651Z"
   },
   {
    "duration": 7,
    "start_time": "2023-10-08T20:17:02.944Z"
   },
   {
    "duration": 258,
    "start_time": "2023-10-08T20:17:02.953Z"
   },
   {
    "duration": 43,
    "start_time": "2023-10-08T20:17:03.213Z"
   },
   {
    "duration": 22,
    "start_time": "2023-10-08T20:17:03.258Z"
   },
   {
    "duration": 650,
    "start_time": "2023-10-08T20:19:19.849Z"
   },
   {
    "duration": 30,
    "start_time": "2023-10-08T20:19:20.501Z"
   },
   {
    "duration": 12,
    "start_time": "2023-10-08T20:19:20.533Z"
   },
   {
    "duration": 35,
    "start_time": "2023-10-08T20:19:20.547Z"
   },
   {
    "duration": 9,
    "start_time": "2023-10-08T20:19:20.584Z"
   },
   {
    "duration": 32,
    "start_time": "2023-10-08T20:19:20.595Z"
   },
   {
    "duration": 9,
    "start_time": "2023-10-08T20:19:20.629Z"
   },
   {
    "duration": 57,
    "start_time": "2023-10-08T20:19:20.640Z"
   },
   {
    "duration": 18,
    "start_time": "2023-10-08T20:19:20.699Z"
   },
   {
    "duration": 30,
    "start_time": "2023-10-08T20:19:20.720Z"
   },
   {
    "duration": 24,
    "start_time": "2023-10-08T20:19:20.752Z"
   },
   {
    "duration": 16,
    "start_time": "2023-10-08T20:19:20.778Z"
   },
   {
    "duration": 15,
    "start_time": "2023-10-08T20:19:20.795Z"
   },
   {
    "duration": 22,
    "start_time": "2023-10-08T20:19:20.811Z"
   },
   {
    "duration": 30,
    "start_time": "2023-10-08T20:19:20.836Z"
   },
   {
    "duration": 25,
    "start_time": "2023-10-08T20:19:20.868Z"
   },
   {
    "duration": 60,
    "start_time": "2023-10-08T20:19:20.895Z"
   },
   {
    "duration": 17,
    "start_time": "2023-10-08T20:19:20.958Z"
   },
   {
    "duration": 46,
    "start_time": "2023-10-08T20:19:20.978Z"
   },
   {
    "duration": 15,
    "start_time": "2023-10-08T20:19:21.026Z"
   },
   {
    "duration": 25,
    "start_time": "2023-10-08T20:19:21.043Z"
   },
   {
    "duration": 195,
    "start_time": "2023-10-08T20:19:21.070Z"
   },
   {
    "duration": 169,
    "start_time": "2023-10-08T20:19:21.267Z"
   },
   {
    "duration": 142,
    "start_time": "2023-10-08T20:19:21.443Z"
   },
   {
    "duration": 158,
    "start_time": "2023-10-08T20:19:21.587Z"
   },
   {
    "duration": 9,
    "start_time": "2023-10-08T20:19:21.747Z"
   },
   {
    "duration": 580,
    "start_time": "2023-10-08T20:19:21.757Z"
   },
   {
    "duration": 12,
    "start_time": "2023-10-08T20:19:22.343Z"
   },
   {
    "duration": 295,
    "start_time": "2023-10-08T20:19:22.357Z"
   },
   {
    "duration": 9,
    "start_time": "2023-10-08T20:19:22.653Z"
   },
   {
    "duration": 244,
    "start_time": "2023-10-08T20:19:22.664Z"
   },
   {
    "duration": 8,
    "start_time": "2023-10-08T20:19:22.910Z"
   },
   {
    "duration": 33,
    "start_time": "2023-10-08T20:19:22.920Z"
   },
   {
    "duration": 14,
    "start_time": "2023-10-08T20:19:22.955Z"
   },
   {
    "duration": 28,
    "start_time": "2023-10-08T20:19:22.971Z"
   },
   {
    "duration": 277,
    "start_time": "2023-10-08T20:19:23.001Z"
   },
   {
    "duration": 23,
    "start_time": "2023-10-08T20:19:23.280Z"
   },
   {
    "duration": 17,
    "start_time": "2023-10-08T20:19:23.304Z"
   },
   {
    "duration": 16,
    "start_time": "2023-10-08T20:19:23.343Z"
   },
   {
    "duration": 13,
    "start_time": "2023-10-08T20:19:23.361Z"
   },
   {
    "duration": 357,
    "start_time": "2023-10-08T20:19:23.376Z"
   },
   {
    "duration": 19,
    "start_time": "2023-10-08T20:19:23.735Z"
   },
   {
    "duration": 288,
    "start_time": "2023-10-08T20:19:23.756Z"
   },
   {
    "duration": 7,
    "start_time": "2023-10-08T20:19:24.046Z"
   },
   {
    "duration": 261,
    "start_time": "2023-10-08T20:19:24.055Z"
   },
   {
    "duration": 9,
    "start_time": "2023-10-08T20:19:24.317Z"
   },
   {
    "duration": 310,
    "start_time": "2023-10-08T20:19:24.328Z"
   },
   {
    "duration": 40,
    "start_time": "2023-10-08T20:19:24.643Z"
   },
   {
    "duration": 105,
    "start_time": "2023-10-08T20:19:24.685Z"
   },
   {
    "duration": 751,
    "start_time": "2023-10-08T20:20:44.038Z"
   },
   {
    "duration": 34,
    "start_time": "2023-10-08T20:20:44.792Z"
   },
   {
    "duration": 17,
    "start_time": "2023-10-08T20:20:44.828Z"
   },
   {
    "duration": 35,
    "start_time": "2023-10-08T20:20:44.848Z"
   },
   {
    "duration": 10,
    "start_time": "2023-10-08T20:20:44.885Z"
   },
   {
    "duration": 17,
    "start_time": "2023-10-08T20:20:44.897Z"
   },
   {
    "duration": 7,
    "start_time": "2023-10-08T20:20:44.916Z"
   },
   {
    "duration": 23,
    "start_time": "2023-10-08T20:20:44.925Z"
   },
   {
    "duration": 17,
    "start_time": "2023-10-08T20:20:44.951Z"
   },
   {
    "duration": 19,
    "start_time": "2023-10-08T20:20:44.970Z"
   },
   {
    "duration": 14,
    "start_time": "2023-10-08T20:20:44.991Z"
   },
   {
    "duration": 55,
    "start_time": "2023-10-08T20:20:45.007Z"
   },
   {
    "duration": 51,
    "start_time": "2023-10-08T20:20:45.064Z"
   },
   {
    "duration": 35,
    "start_time": "2023-10-08T20:20:45.118Z"
   },
   {
    "duration": 47,
    "start_time": "2023-10-08T20:20:45.154Z"
   },
   {
    "duration": 34,
    "start_time": "2023-10-08T20:20:45.203Z"
   },
   {
    "duration": 30,
    "start_time": "2023-10-08T20:20:45.239Z"
   },
   {
    "duration": 35,
    "start_time": "2023-10-08T20:20:45.271Z"
   },
   {
    "duration": 59,
    "start_time": "2023-10-08T20:20:45.308Z"
   },
   {
    "duration": 26,
    "start_time": "2023-10-08T20:20:45.369Z"
   },
   {
    "duration": 34,
    "start_time": "2023-10-08T20:20:45.397Z"
   },
   {
    "duration": 208,
    "start_time": "2023-10-08T20:20:45.433Z"
   },
   {
    "duration": 178,
    "start_time": "2023-10-08T20:20:45.644Z"
   },
   {
    "duration": 160,
    "start_time": "2023-10-08T20:20:45.824Z"
   },
   {
    "duration": 153,
    "start_time": "2023-10-08T20:20:45.986Z"
   },
   {
    "duration": 8,
    "start_time": "2023-10-08T20:20:46.143Z"
   },
   {
    "duration": 507,
    "start_time": "2023-10-08T20:20:46.152Z"
   },
   {
    "duration": 9,
    "start_time": "2023-10-08T20:20:46.661Z"
   },
   {
    "duration": 303,
    "start_time": "2023-10-08T20:20:46.671Z"
   },
   {
    "duration": 9,
    "start_time": "2023-10-08T20:20:46.976Z"
   },
   {
    "duration": 256,
    "start_time": "2023-10-08T20:20:46.987Z"
   },
   {
    "duration": 8,
    "start_time": "2023-10-08T20:20:47.245Z"
   },
   {
    "duration": 57,
    "start_time": "2023-10-08T20:20:47.255Z"
   },
   {
    "duration": 29,
    "start_time": "2023-10-08T20:20:47.314Z"
   },
   {
    "duration": 8,
    "start_time": "2023-10-08T20:20:47.345Z"
   },
   {
    "duration": 241,
    "start_time": "2023-10-08T20:20:47.355Z"
   },
   {
    "duration": 26,
    "start_time": "2023-10-08T20:20:47.598Z"
   },
   {
    "duration": 36,
    "start_time": "2023-10-08T20:20:47.626Z"
   },
   {
    "duration": 16,
    "start_time": "2023-10-08T20:20:47.663Z"
   },
   {
    "duration": 8,
    "start_time": "2023-10-08T20:20:47.681Z"
   },
   {
    "duration": 386,
    "start_time": "2023-10-08T20:20:47.693Z"
   },
   {
    "duration": 9,
    "start_time": "2023-10-08T20:20:48.081Z"
   },
   {
    "duration": 304,
    "start_time": "2023-10-08T20:20:48.091Z"
   },
   {
    "duration": 8,
    "start_time": "2023-10-08T20:20:48.397Z"
   },
   {
    "duration": 257,
    "start_time": "2023-10-08T20:20:48.406Z"
   },
   {
    "duration": 9,
    "start_time": "2023-10-08T20:20:48.665Z"
   },
   {
    "duration": 257,
    "start_time": "2023-10-08T20:20:48.676Z"
   },
   {
    "duration": 50,
    "start_time": "2023-10-08T20:20:48.934Z"
   },
   {
    "duration": 104,
    "start_time": "2023-10-08T20:20:48.986Z"
   },
   {
    "duration": 42,
    "start_time": "2023-10-08T20:22:15.034Z"
   },
   {
    "duration": 42,
    "start_time": "2023-10-08T20:22:20.388Z"
   },
   {
    "duration": 43,
    "start_time": "2023-10-08T20:22:45.881Z"
   },
   {
    "duration": 666,
    "start_time": "2023-10-08T20:22:53.067Z"
   },
   {
    "duration": 32,
    "start_time": "2023-10-08T20:22:53.740Z"
   },
   {
    "duration": 15,
    "start_time": "2023-10-08T20:22:53.775Z"
   },
   {
    "duration": 34,
    "start_time": "2023-10-08T20:22:53.793Z"
   },
   {
    "duration": 11,
    "start_time": "2023-10-08T20:22:53.829Z"
   },
   {
    "duration": 34,
    "start_time": "2023-10-08T20:22:53.843Z"
   },
   {
    "duration": 6,
    "start_time": "2023-10-08T20:22:53.878Z"
   },
   {
    "duration": 23,
    "start_time": "2023-10-08T20:22:53.885Z"
   },
   {
    "duration": 37,
    "start_time": "2023-10-08T20:22:53.910Z"
   },
   {
    "duration": 19,
    "start_time": "2023-10-08T20:22:53.948Z"
   },
   {
    "duration": 31,
    "start_time": "2023-10-08T20:22:53.968Z"
   },
   {
    "duration": 22,
    "start_time": "2023-10-08T20:22:54.000Z"
   },
   {
    "duration": 22,
    "start_time": "2023-10-08T20:22:54.024Z"
   },
   {
    "duration": 22,
    "start_time": "2023-10-08T20:22:54.049Z"
   },
   {
    "duration": 12,
    "start_time": "2023-10-08T20:22:54.073Z"
   },
   {
    "duration": 29,
    "start_time": "2023-10-08T20:22:54.087Z"
   },
   {
    "duration": 34,
    "start_time": "2023-10-08T20:22:54.117Z"
   },
   {
    "duration": 33,
    "start_time": "2023-10-08T20:22:54.152Z"
   },
   {
    "duration": 14,
    "start_time": "2023-10-08T20:22:54.186Z"
   },
   {
    "duration": 99,
    "start_time": "2023-10-08T20:22:54.202Z"
   },
   {
    "duration": 60,
    "start_time": "2023-10-08T20:22:54.303Z"
   },
   {
    "duration": 328,
    "start_time": "2023-10-08T20:22:54.365Z"
   },
   {
    "duration": 180,
    "start_time": "2023-10-08T20:22:54.695Z"
   },
   {
    "duration": 139,
    "start_time": "2023-10-08T20:22:54.877Z"
   },
   {
    "duration": 147,
    "start_time": "2023-10-08T20:22:55.018Z"
   },
   {
    "duration": 7,
    "start_time": "2023-10-08T20:22:55.166Z"
   },
   {
    "duration": 485,
    "start_time": "2023-10-08T20:22:55.175Z"
   },
   {
    "duration": 9,
    "start_time": "2023-10-08T20:22:55.661Z"
   },
   {
    "duration": 273,
    "start_time": "2023-10-08T20:22:55.672Z"
   },
   {
    "duration": 8,
    "start_time": "2023-10-08T20:22:55.947Z"
   },
   {
    "duration": 236,
    "start_time": "2023-10-08T20:22:55.956Z"
   },
   {
    "duration": 9,
    "start_time": "2023-10-08T20:22:56.193Z"
   },
   {
    "duration": 37,
    "start_time": "2023-10-08T20:22:56.203Z"
   },
   {
    "duration": 19,
    "start_time": "2023-10-08T20:22:56.242Z"
   },
   {
    "duration": 46,
    "start_time": "2023-10-08T20:22:56.263Z"
   },
   {
    "duration": 252,
    "start_time": "2023-10-08T20:22:56.311Z"
   },
   {
    "duration": 22,
    "start_time": "2023-10-08T20:22:56.565Z"
   },
   {
    "duration": 18,
    "start_time": "2023-10-08T20:22:56.589Z"
   },
   {
    "duration": 36,
    "start_time": "2023-10-08T20:22:56.609Z"
   },
   {
    "duration": 8,
    "start_time": "2023-10-08T20:22:56.646Z"
   },
   {
    "duration": 319,
    "start_time": "2023-10-08T20:22:56.658Z"
   },
   {
    "duration": 9,
    "start_time": "2023-10-08T20:22:56.979Z"
   },
   {
    "duration": 244,
    "start_time": "2023-10-08T20:22:56.990Z"
   },
   {
    "duration": 11,
    "start_time": "2023-10-08T20:22:57.236Z"
   },
   {
    "duration": 228,
    "start_time": "2023-10-08T20:22:57.249Z"
   },
   {
    "duration": 8,
    "start_time": "2023-10-08T20:22:57.479Z"
   },
   {
    "duration": 258,
    "start_time": "2023-10-08T20:22:57.488Z"
   },
   {
    "duration": 116,
    "start_time": "2023-10-08T20:22:57.748Z"
   },
   {
    "duration": 0,
    "start_time": "2023-10-08T20:22:57.865Z"
   },
   {
    "duration": 40,
    "start_time": "2023-10-08T20:24:05.450Z"
   },
   {
    "duration": 632,
    "start_time": "2023-10-08T20:24:13.193Z"
   },
   {
    "duration": 30,
    "start_time": "2023-10-08T20:24:13.827Z"
   },
   {
    "duration": 12,
    "start_time": "2023-10-08T20:24:13.858Z"
   },
   {
    "duration": 28,
    "start_time": "2023-10-08T20:24:13.872Z"
   },
   {
    "duration": 9,
    "start_time": "2023-10-08T20:24:13.902Z"
   },
   {
    "duration": 23,
    "start_time": "2023-10-08T20:24:13.912Z"
   },
   {
    "duration": 6,
    "start_time": "2023-10-08T20:24:13.937Z"
   },
   {
    "duration": 11,
    "start_time": "2023-10-08T20:24:13.945Z"
   },
   {
    "duration": 42,
    "start_time": "2023-10-08T20:24:13.957Z"
   },
   {
    "duration": 13,
    "start_time": "2023-10-08T20:24:14.002Z"
   },
   {
    "duration": 60,
    "start_time": "2023-10-08T20:24:14.017Z"
   },
   {
    "duration": 22,
    "start_time": "2023-10-08T20:24:14.078Z"
   },
   {
    "duration": 32,
    "start_time": "2023-10-08T20:24:14.102Z"
   },
   {
    "duration": 61,
    "start_time": "2023-10-08T20:24:14.136Z"
   },
   {
    "duration": 37,
    "start_time": "2023-10-08T20:24:14.198Z"
   },
   {
    "duration": 6,
    "start_time": "2023-10-08T20:24:14.237Z"
   },
   {
    "duration": 27,
    "start_time": "2023-10-08T20:24:14.244Z"
   },
   {
    "duration": 25,
    "start_time": "2023-10-08T20:24:14.273Z"
   },
   {
    "duration": 40,
    "start_time": "2023-10-08T20:24:14.300Z"
   },
   {
    "duration": 43,
    "start_time": "2023-10-08T20:24:14.341Z"
   },
   {
    "duration": 32,
    "start_time": "2023-10-08T20:24:14.386Z"
   },
   {
    "duration": 212,
    "start_time": "2023-10-08T20:24:14.420Z"
   },
   {
    "duration": 174,
    "start_time": "2023-10-08T20:24:14.634Z"
   },
   {
    "duration": 142,
    "start_time": "2023-10-08T20:24:14.810Z"
   },
   {
    "duration": 147,
    "start_time": "2023-10-08T20:24:14.954Z"
   },
   {
    "duration": 8,
    "start_time": "2023-10-08T20:24:15.102Z"
   },
   {
    "duration": 489,
    "start_time": "2023-10-08T20:24:15.112Z"
   },
   {
    "duration": 9,
    "start_time": "2023-10-08T20:24:15.604Z"
   },
   {
    "duration": 270,
    "start_time": "2023-10-08T20:24:15.614Z"
   },
   {
    "duration": 8,
    "start_time": "2023-10-08T20:24:15.886Z"
   },
   {
    "duration": 236,
    "start_time": "2023-10-08T20:24:15.896Z"
   },
   {
    "duration": 13,
    "start_time": "2023-10-08T20:24:16.134Z"
   },
   {
    "duration": 13,
    "start_time": "2023-10-08T20:24:16.149Z"
   },
   {
    "duration": 17,
    "start_time": "2023-10-08T20:24:16.164Z"
   },
   {
    "duration": 47,
    "start_time": "2023-10-08T20:24:16.183Z"
   },
   {
    "duration": 230,
    "start_time": "2023-10-08T20:24:16.232Z"
   },
   {
    "duration": 25,
    "start_time": "2023-10-08T20:24:16.464Z"
   },
   {
    "duration": 17,
    "start_time": "2023-10-08T20:24:16.490Z"
   },
   {
    "duration": 36,
    "start_time": "2023-10-08T20:24:16.508Z"
   },
   {
    "duration": 8,
    "start_time": "2023-10-08T20:24:16.546Z"
   },
   {
    "duration": 329,
    "start_time": "2023-10-08T20:24:16.555Z"
   },
   {
    "duration": 9,
    "start_time": "2023-10-08T20:24:16.886Z"
   },
   {
    "duration": 266,
    "start_time": "2023-10-08T20:24:16.896Z"
   },
   {
    "duration": 7,
    "start_time": "2023-10-08T20:24:17.164Z"
   },
   {
    "duration": 232,
    "start_time": "2023-10-08T20:24:17.172Z"
   },
   {
    "duration": 9,
    "start_time": "2023-10-08T20:24:17.406Z"
   },
   {
    "duration": 257,
    "start_time": "2023-10-08T20:24:17.416Z"
   },
   {
    "duration": 40,
    "start_time": "2023-10-08T20:24:17.675Z"
   },
   {
    "duration": 1552,
    "start_time": "2023-10-08T20:24:17.717Z"
   },
   {
    "duration": 611,
    "start_time": "2023-10-08T20:24:34.676Z"
   },
   {
    "duration": 30,
    "start_time": "2023-10-08T20:24:35.289Z"
   },
   {
    "duration": 12,
    "start_time": "2023-10-08T20:24:35.320Z"
   },
   {
    "duration": 55,
    "start_time": "2023-10-08T20:24:35.333Z"
   },
   {
    "duration": 17,
    "start_time": "2023-10-08T20:24:35.390Z"
   },
   {
    "duration": 57,
    "start_time": "2023-10-08T20:24:35.408Z"
   },
   {
    "duration": 15,
    "start_time": "2023-10-08T20:24:35.467Z"
   },
   {
    "duration": 47,
    "start_time": "2023-10-08T20:24:35.484Z"
   },
   {
    "duration": 28,
    "start_time": "2023-10-08T20:24:35.533Z"
   },
   {
    "duration": 14,
    "start_time": "2023-10-08T20:24:35.565Z"
   },
   {
    "duration": 34,
    "start_time": "2023-10-08T20:24:35.580Z"
   },
   {
    "duration": 44,
    "start_time": "2023-10-08T20:24:35.616Z"
   },
   {
    "duration": 37,
    "start_time": "2023-10-08T20:24:35.661Z"
   },
   {
    "duration": 26,
    "start_time": "2023-10-08T20:24:35.700Z"
   },
   {
    "duration": 30,
    "start_time": "2023-10-08T20:24:35.727Z"
   },
   {
    "duration": 27,
    "start_time": "2023-10-08T20:24:35.759Z"
   },
   {
    "duration": 40,
    "start_time": "2023-10-08T20:24:35.788Z"
   },
   {
    "duration": 15,
    "start_time": "2023-10-08T20:24:35.830Z"
   },
   {
    "duration": 22,
    "start_time": "2023-10-08T20:24:35.847Z"
   },
   {
    "duration": 22,
    "start_time": "2023-10-08T20:24:35.871Z"
   },
   {
    "duration": 23,
    "start_time": "2023-10-08T20:24:35.895Z"
   },
   {
    "duration": 196,
    "start_time": "2023-10-08T20:24:35.919Z"
   },
   {
    "duration": 162,
    "start_time": "2023-10-08T20:24:36.117Z"
   },
   {
    "duration": 156,
    "start_time": "2023-10-08T20:24:36.280Z"
   },
   {
    "duration": 170,
    "start_time": "2023-10-08T20:24:36.438Z"
   },
   {
    "duration": 7,
    "start_time": "2023-10-08T20:24:36.610Z"
   },
   {
    "duration": 496,
    "start_time": "2023-10-08T20:24:36.619Z"
   },
   {
    "duration": 8,
    "start_time": "2023-10-08T20:24:37.119Z"
   },
   {
    "duration": 278,
    "start_time": "2023-10-08T20:24:37.128Z"
   },
   {
    "duration": 8,
    "start_time": "2023-10-08T20:24:37.408Z"
   },
   {
    "duration": 274,
    "start_time": "2023-10-08T20:24:37.418Z"
   },
   {
    "duration": 9,
    "start_time": "2023-10-08T20:24:37.694Z"
   },
   {
    "duration": 31,
    "start_time": "2023-10-08T20:24:37.705Z"
   },
   {
    "duration": 39,
    "start_time": "2023-10-08T20:24:37.737Z"
   },
   {
    "duration": 54,
    "start_time": "2023-10-08T20:24:37.778Z"
   },
   {
    "duration": 261,
    "start_time": "2023-10-08T20:24:37.834Z"
   },
   {
    "duration": 24,
    "start_time": "2023-10-08T20:24:38.097Z"
   },
   {
    "duration": 26,
    "start_time": "2023-10-08T20:24:38.123Z"
   },
   {
    "duration": 24,
    "start_time": "2023-10-08T20:24:38.151Z"
   },
   {
    "duration": 15,
    "start_time": "2023-10-08T20:24:38.177Z"
   },
   {
    "duration": 350,
    "start_time": "2023-10-08T20:24:38.194Z"
   },
   {
    "duration": 8,
    "start_time": "2023-10-08T20:24:38.546Z"
   },
   {
    "duration": 256,
    "start_time": "2023-10-08T20:24:38.556Z"
   },
   {
    "duration": 8,
    "start_time": "2023-10-08T20:24:38.814Z"
   },
   {
    "duration": 263,
    "start_time": "2023-10-08T20:24:38.824Z"
   },
   {
    "duration": 8,
    "start_time": "2023-10-08T20:24:39.089Z"
   },
   {
    "duration": 249,
    "start_time": "2023-10-08T20:24:39.099Z"
   },
   {
    "duration": 38,
    "start_time": "2023-10-08T20:24:39.349Z"
   },
   {
    "duration": 1534,
    "start_time": "2023-10-08T20:24:39.388Z"
   },
   {
    "duration": 642,
    "start_time": "2023-10-08T20:25:12.204Z"
   },
   {
    "duration": 29,
    "start_time": "2023-10-08T20:25:12.848Z"
   },
   {
    "duration": 17,
    "start_time": "2023-10-08T20:25:12.879Z"
   },
   {
    "duration": 37,
    "start_time": "2023-10-08T20:25:12.898Z"
   },
   {
    "duration": 9,
    "start_time": "2023-10-08T20:25:12.937Z"
   },
   {
    "duration": 28,
    "start_time": "2023-10-08T20:25:12.947Z"
   },
   {
    "duration": 7,
    "start_time": "2023-10-08T20:25:12.977Z"
   },
   {
    "duration": 48,
    "start_time": "2023-10-08T20:25:12.985Z"
   },
   {
    "duration": 29,
    "start_time": "2023-10-08T20:25:13.037Z"
   },
   {
    "duration": 31,
    "start_time": "2023-10-08T20:25:13.068Z"
   },
   {
    "duration": 35,
    "start_time": "2023-10-08T20:25:13.101Z"
   },
   {
    "duration": 41,
    "start_time": "2023-10-08T20:25:13.138Z"
   },
   {
    "duration": 30,
    "start_time": "2023-10-08T20:25:13.181Z"
   },
   {
    "duration": 19,
    "start_time": "2023-10-08T20:25:13.214Z"
   },
   {
    "duration": 16,
    "start_time": "2023-10-08T20:25:13.235Z"
   },
   {
    "duration": 15,
    "start_time": "2023-10-08T20:25:13.253Z"
   },
   {
    "duration": 32,
    "start_time": "2023-10-08T20:25:13.270Z"
   },
   {
    "duration": 13,
    "start_time": "2023-10-08T20:25:13.304Z"
   },
   {
    "duration": 19,
    "start_time": "2023-10-08T20:25:13.319Z"
   },
   {
    "duration": 11,
    "start_time": "2023-10-08T20:25:13.339Z"
   },
   {
    "duration": 16,
    "start_time": "2023-10-08T20:25:13.352Z"
   },
   {
    "duration": 173,
    "start_time": "2023-10-08T20:25:13.369Z"
   },
   {
    "duration": 177,
    "start_time": "2023-10-08T20:25:13.544Z"
   },
   {
    "duration": 177,
    "start_time": "2023-10-08T20:25:13.723Z"
   },
   {
    "duration": 148,
    "start_time": "2023-10-08T20:25:13.902Z"
   },
   {
    "duration": 7,
    "start_time": "2023-10-08T20:25:14.052Z"
   },
   {
    "duration": 546,
    "start_time": "2023-10-08T20:25:14.060Z"
   },
   {
    "duration": 11,
    "start_time": "2023-10-08T20:25:14.609Z"
   },
   {
    "duration": 280,
    "start_time": "2023-10-08T20:25:14.623Z"
   },
   {
    "duration": 9,
    "start_time": "2023-10-08T20:25:14.904Z"
   },
   {
    "duration": 292,
    "start_time": "2023-10-08T20:25:14.914Z"
   },
   {
    "duration": 8,
    "start_time": "2023-10-08T20:25:15.208Z"
   },
   {
    "duration": 46,
    "start_time": "2023-10-08T20:25:15.217Z"
   },
   {
    "duration": 25,
    "start_time": "2023-10-08T20:25:15.264Z"
   },
   {
    "duration": 38,
    "start_time": "2023-10-08T20:25:15.291Z"
   },
   {
    "duration": 246,
    "start_time": "2023-10-08T20:25:15.331Z"
   },
   {
    "duration": 26,
    "start_time": "2023-10-08T20:25:15.579Z"
   },
   {
    "duration": 27,
    "start_time": "2023-10-08T20:25:15.607Z"
   },
   {
    "duration": 26,
    "start_time": "2023-10-08T20:25:15.643Z"
   },
   {
    "duration": 20,
    "start_time": "2023-10-08T20:25:15.671Z"
   },
   {
    "duration": 327,
    "start_time": "2023-10-08T20:25:15.695Z"
   },
   {
    "duration": 23,
    "start_time": "2023-10-08T20:25:16.024Z"
   },
   {
    "duration": 241,
    "start_time": "2023-10-08T20:25:16.049Z"
   },
   {
    "duration": 9,
    "start_time": "2023-10-08T20:25:16.292Z"
   },
   {
    "duration": 254,
    "start_time": "2023-10-08T20:25:16.303Z"
   },
   {
    "duration": 9,
    "start_time": "2023-10-08T20:25:16.559Z"
   },
   {
    "duration": 245,
    "start_time": "2023-10-08T20:25:16.569Z"
   },
   {
    "duration": 44,
    "start_time": "2023-10-08T20:25:16.816Z"
   },
   {
    "duration": 12,
    "start_time": "2023-10-08T20:25:16.862Z"
   },
   {
    "duration": 51,
    "start_time": "2023-10-09T11:08:07.733Z"
   },
   {
    "duration": 966,
    "start_time": "2023-10-09T11:08:15.571Z"
   },
   {
    "duration": 94,
    "start_time": "2023-10-09T11:08:16.540Z"
   },
   {
    "duration": 20,
    "start_time": "2023-10-09T11:08:16.636Z"
   },
   {
    "duration": 309,
    "start_time": "2023-10-09T11:08:16.659Z"
   },
   {
    "duration": 124,
    "start_time": "2023-10-09T11:08:16.971Z"
   },
   {
    "duration": 86,
    "start_time": "2023-10-09T11:08:17.097Z"
   },
   {
    "duration": 9,
    "start_time": "2023-10-09T11:08:17.185Z"
   },
   {
    "duration": 29,
    "start_time": "2023-10-09T11:08:17.196Z"
   },
   {
    "duration": 20,
    "start_time": "2023-10-09T11:08:17.230Z"
   },
   {
    "duration": 13,
    "start_time": "2023-10-09T11:08:17.252Z"
   },
   {
    "duration": 22,
    "start_time": "2023-10-09T11:08:17.267Z"
   },
   {
    "duration": 49,
    "start_time": "2023-10-09T11:08:17.291Z"
   },
   {
    "duration": 17,
    "start_time": "2023-10-09T11:08:17.342Z"
   },
   {
    "duration": 37,
    "start_time": "2023-10-09T11:08:17.364Z"
   },
   {
    "duration": 39,
    "start_time": "2023-10-09T11:08:17.403Z"
   },
   {
    "duration": 49,
    "start_time": "2023-10-09T11:08:17.444Z"
   },
   {
    "duration": 24,
    "start_time": "2023-10-09T11:08:17.495Z"
   },
   {
    "duration": 11,
    "start_time": "2023-10-09T11:08:17.521Z"
   },
   {
    "duration": 18,
    "start_time": "2023-10-09T11:08:17.534Z"
   },
   {
    "duration": 12,
    "start_time": "2023-10-09T11:08:17.553Z"
   },
   {
    "duration": 16,
    "start_time": "2023-10-09T11:08:17.566Z"
   },
   {
    "duration": 207,
    "start_time": "2023-10-09T11:08:17.584Z"
   },
   {
    "duration": 197,
    "start_time": "2023-10-09T11:08:17.793Z"
   },
   {
    "duration": 195,
    "start_time": "2023-10-09T11:08:17.993Z"
   },
   {
    "duration": 174,
    "start_time": "2023-10-09T11:08:18.190Z"
   },
   {
    "duration": 10,
    "start_time": "2023-10-09T11:08:18.365Z"
   },
   {
    "duration": 683,
    "start_time": "2023-10-09T11:08:18.377Z"
   },
   {
    "duration": 13,
    "start_time": "2023-10-09T11:08:19.062Z"
   },
   {
    "duration": 391,
    "start_time": "2023-10-09T11:08:19.078Z"
   },
   {
    "duration": 10,
    "start_time": "2023-10-09T11:08:19.471Z"
   },
   {
    "duration": 316,
    "start_time": "2023-10-09T11:08:19.482Z"
   },
   {
    "duration": 9,
    "start_time": "2023-10-09T11:08:19.800Z"
   },
   {
    "duration": 45,
    "start_time": "2023-10-09T11:08:19.811Z"
   },
   {
    "duration": 26,
    "start_time": "2023-10-09T11:08:19.858Z"
   },
   {
    "duration": 41,
    "start_time": "2023-10-09T11:08:19.886Z"
   },
   {
    "duration": 341,
    "start_time": "2023-10-09T11:08:19.928Z"
   },
   {
    "duration": 30,
    "start_time": "2023-10-09T11:08:20.271Z"
   },
   {
    "duration": 251,
    "start_time": "2023-10-09T11:08:20.303Z"
   },
   {
    "duration": 124,
    "start_time": "2023-10-09T11:08:20.556Z"
   },
   {
    "duration": 52,
    "start_time": "2023-10-09T11:08:20.682Z"
   },
   {
    "duration": 392,
    "start_time": "2023-10-09T11:08:20.739Z"
   },
   {
    "duration": 10,
    "start_time": "2023-10-09T11:08:21.133Z"
   },
   {
    "duration": 294,
    "start_time": "2023-10-09T11:08:21.156Z"
   },
   {
    "duration": 10,
    "start_time": "2023-10-09T11:08:21.456Z"
   },
   {
    "duration": 283,
    "start_time": "2023-10-09T11:08:21.467Z"
   },
   {
    "duration": 9,
    "start_time": "2023-10-09T11:08:21.756Z"
   },
   {
    "duration": 274,
    "start_time": "2023-10-09T11:08:21.767Z"
   },
   {
    "duration": 46,
    "start_time": "2023-10-09T11:08:22.042Z"
   },
   {
    "duration": 23,
    "start_time": "2023-10-09T11:08:22.090Z"
   },
   {
    "duration": 99,
    "start_time": "2023-10-09T11:08:22.115Z"
   },
   {
    "duration": 1299,
    "start_time": "2023-10-09T11:09:10.791Z"
   },
   {
    "duration": 34,
    "start_time": "2023-10-09T11:09:12.093Z"
   },
   {
    "duration": 30,
    "start_time": "2023-10-09T11:09:12.130Z"
   },
   {
    "duration": 39,
    "start_time": "2023-10-09T11:09:12.163Z"
   },
   {
    "duration": 12,
    "start_time": "2023-10-09T11:09:12.204Z"
   },
   {
    "duration": 25,
    "start_time": "2023-10-09T11:09:12.218Z"
   },
   {
    "duration": 24,
    "start_time": "2023-10-09T11:09:12.245Z"
   },
   {
    "duration": 27,
    "start_time": "2023-10-09T11:09:12.271Z"
   },
   {
    "duration": 15,
    "start_time": "2023-10-09T11:09:12.300Z"
   },
   {
    "duration": 13,
    "start_time": "2023-10-09T11:09:12.319Z"
   },
   {
    "duration": 22,
    "start_time": "2023-10-09T11:09:12.334Z"
   },
   {
    "duration": 20,
    "start_time": "2023-10-09T11:09:12.358Z"
   },
   {
    "duration": 53,
    "start_time": "2023-10-09T11:09:12.380Z"
   },
   {
    "duration": 43,
    "start_time": "2023-10-09T11:09:12.435Z"
   },
   {
    "duration": 14,
    "start_time": "2023-10-09T11:09:12.480Z"
   },
   {
    "duration": 5,
    "start_time": "2023-10-09T11:09:12.496Z"
   },
   {
    "duration": 17,
    "start_time": "2023-10-09T11:09:12.503Z"
   },
   {
    "duration": 11,
    "start_time": "2023-10-09T11:09:12.522Z"
   },
   {
    "duration": 10,
    "start_time": "2023-10-09T11:09:12.535Z"
   },
   {
    "duration": 16,
    "start_time": "2023-10-09T11:09:12.547Z"
   },
   {
    "duration": 6,
    "start_time": "2023-10-09T11:09:12.565Z"
   },
   {
    "duration": 200,
    "start_time": "2023-10-09T11:09:12.573Z"
   },
   {
    "duration": 198,
    "start_time": "2023-10-09T11:09:12.775Z"
   },
   {
    "duration": 174,
    "start_time": "2023-10-09T11:09:12.975Z"
   },
   {
    "duration": 184,
    "start_time": "2023-10-09T11:09:13.151Z"
   },
   {
    "duration": 9,
    "start_time": "2023-10-09T11:09:13.337Z"
   },
   {
    "duration": 546,
    "start_time": "2023-10-09T11:09:13.357Z"
   },
   {
    "duration": 10,
    "start_time": "2023-10-09T11:09:13.908Z"
   },
   {
    "duration": 432,
    "start_time": "2023-10-09T11:09:13.921Z"
   },
   {
    "duration": 13,
    "start_time": "2023-10-09T11:09:14.361Z"
   },
   {
    "duration": 293,
    "start_time": "2023-10-09T11:09:14.376Z"
   },
   {
    "duration": 10,
    "start_time": "2023-10-09T11:09:14.671Z"
   },
   {
    "duration": 18,
    "start_time": "2023-10-09T11:09:14.683Z"
   },
   {
    "duration": 9,
    "start_time": "2023-10-09T11:09:14.704Z"
   },
   {
    "duration": 13,
    "start_time": "2023-10-09T11:09:14.715Z"
   },
   {
    "duration": 281,
    "start_time": "2023-10-09T11:09:14.729Z"
   },
   {
    "duration": 27,
    "start_time": "2023-10-09T11:09:15.012Z"
   },
   {
    "duration": 178,
    "start_time": "2023-10-09T11:09:15.041Z"
   },
   {
    "duration": 88,
    "start_time": "2023-10-09T11:09:15.221Z"
   },
   {
    "duration": 13,
    "start_time": "2023-10-09T11:09:15.312Z"
   },
   {
    "duration": 278,
    "start_time": "2023-10-09T11:09:15.328Z"
   },
   {
    "duration": 9,
    "start_time": "2023-10-09T11:09:15.608Z"
   },
   {
    "duration": 287,
    "start_time": "2023-10-09T11:09:15.619Z"
   },
   {
    "duration": 9,
    "start_time": "2023-10-09T11:09:15.908Z"
   },
   {
    "duration": 290,
    "start_time": "2023-10-09T11:09:15.919Z"
   },
   {
    "duration": 9,
    "start_time": "2023-10-09T11:09:16.211Z"
   },
   {
    "duration": 377,
    "start_time": "2023-10-09T11:09:16.221Z"
   },
   {
    "duration": 42,
    "start_time": "2023-10-09T11:09:16.600Z"
   },
   {
    "duration": 15,
    "start_time": "2023-10-09T11:09:16.656Z"
   },
   {
    "duration": 259,
    "start_time": "2023-10-09T11:09:16.673Z"
   },
   {
    "duration": 7,
    "start_time": "2023-10-09T11:10:19.863Z"
   },
   {
    "duration": 5,
    "start_time": "2023-10-09T11:13:36.570Z"
   },
   {
    "duration": 1202,
    "start_time": "2023-10-09T11:14:51.261Z"
   },
   {
    "duration": 31,
    "start_time": "2023-10-09T11:14:52.465Z"
   },
   {
    "duration": 14,
    "start_time": "2023-10-09T11:14:52.498Z"
   },
   {
    "duration": 83,
    "start_time": "2023-10-09T11:14:52.514Z"
   },
   {
    "duration": 37,
    "start_time": "2023-10-09T11:14:52.599Z"
   },
   {
    "duration": 81,
    "start_time": "2023-10-09T11:14:52.638Z"
   },
   {
    "duration": 35,
    "start_time": "2023-10-09T11:14:52.720Z"
   },
   {
    "duration": 53,
    "start_time": "2023-10-09T11:14:52.757Z"
   },
   {
    "duration": 69,
    "start_time": "2023-10-09T11:14:52.812Z"
   },
   {
    "duration": 76,
    "start_time": "2023-10-09T11:14:52.884Z"
   },
   {
    "duration": 40,
    "start_time": "2023-10-09T11:14:52.963Z"
   },
   {
    "duration": 47,
    "start_time": "2023-10-09T11:14:53.005Z"
   },
   {
    "duration": 49,
    "start_time": "2023-10-09T11:14:53.054Z"
   },
   {
    "duration": 28,
    "start_time": "2023-10-09T11:14:53.105Z"
   },
   {
    "duration": 46,
    "start_time": "2023-10-09T11:14:53.135Z"
   },
   {
    "duration": 24,
    "start_time": "2023-10-09T11:14:53.183Z"
   },
   {
    "duration": 41,
    "start_time": "2023-10-09T11:14:53.209Z"
   },
   {
    "duration": 21,
    "start_time": "2023-10-09T11:14:53.252Z"
   },
   {
    "duration": 96,
    "start_time": "2023-10-09T11:14:53.275Z"
   },
   {
    "duration": 138,
    "start_time": "2023-10-09T11:14:53.373Z"
   },
   {
    "duration": 64,
    "start_time": "2023-10-09T11:14:53.513Z"
   },
   {
    "duration": 251,
    "start_time": "2023-10-09T11:14:53.579Z"
   },
   {
    "duration": 195,
    "start_time": "2023-10-09T11:14:53.832Z"
   },
   {
    "duration": 172,
    "start_time": "2023-10-09T11:14:54.029Z"
   },
   {
    "duration": 195,
    "start_time": "2023-10-09T11:14:54.203Z"
   },
   {
    "duration": 9,
    "start_time": "2023-10-09T11:14:54.400Z"
   },
   {
    "duration": 496,
    "start_time": "2023-10-09T11:14:54.410Z"
   },
   {
    "duration": 9,
    "start_time": "2023-10-09T11:14:54.910Z"
   },
   {
    "duration": 410,
    "start_time": "2023-10-09T11:14:54.921Z"
   },
   {
    "duration": 9,
    "start_time": "2023-10-09T11:14:55.333Z"
   },
   {
    "duration": 281,
    "start_time": "2023-10-09T11:14:55.344Z"
   },
   {
    "duration": 10,
    "start_time": "2023-10-09T11:14:55.627Z"
   },
   {
    "duration": 38,
    "start_time": "2023-10-09T11:14:55.639Z"
   },
   {
    "duration": 26,
    "start_time": "2023-10-09T11:14:55.678Z"
   },
   {
    "duration": 31,
    "start_time": "2023-10-09T11:14:55.706Z"
   },
   {
    "duration": 300,
    "start_time": "2023-10-09T11:14:55.739Z"
   },
   {
    "duration": 38,
    "start_time": "2023-10-09T11:14:56.041Z"
   },
   {
    "duration": 35,
    "start_time": "2023-10-09T11:14:56.081Z"
   },
   {
    "duration": 17,
    "start_time": "2023-10-09T11:14:56.117Z"
   },
   {
    "duration": 58,
    "start_time": "2023-10-09T11:14:56.136Z"
   },
   {
    "duration": 325,
    "start_time": "2023-10-09T11:14:56.196Z"
   },
   {
    "duration": 12,
    "start_time": "2023-10-09T11:14:56.523Z"
   },
   {
    "duration": 299,
    "start_time": "2023-10-09T11:14:56.536Z"
   },
   {
    "duration": 23,
    "start_time": "2023-10-09T11:14:56.837Z"
   },
   {
    "duration": 305,
    "start_time": "2023-10-09T11:14:56.862Z"
   },
   {
    "duration": 10,
    "start_time": "2023-10-09T11:14:57.169Z"
   },
   {
    "duration": 413,
    "start_time": "2023-10-09T11:14:57.181Z"
   },
   {
    "duration": 44,
    "start_time": "2023-10-09T11:14:57.595Z"
   },
   {
    "duration": 28,
    "start_time": "2023-10-09T11:14:57.641Z"
   },
   {
    "duration": 6,
    "start_time": "2023-10-09T11:14:57.671Z"
   },
   {
    "duration": 7,
    "start_time": "2023-10-09T11:14:57.679Z"
   },
   {
    "duration": 44,
    "start_time": "2023-10-09T17:45:37.714Z"
   },
   {
    "duration": 1217,
    "start_time": "2023-10-09T17:51:26.237Z"
   },
   {
    "duration": 78,
    "start_time": "2023-10-09T17:51:27.456Z"
   },
   {
    "duration": 14,
    "start_time": "2023-10-09T17:51:27.535Z"
   },
   {
    "duration": 77,
    "start_time": "2023-10-09T17:51:27.551Z"
   },
   {
    "duration": 9,
    "start_time": "2023-10-09T17:51:27.630Z"
   },
   {
    "duration": 65,
    "start_time": "2023-10-09T17:51:27.641Z"
   },
   {
    "duration": 7,
    "start_time": "2023-10-09T17:51:27.708Z"
   },
   {
    "duration": 13,
    "start_time": "2023-10-09T17:51:27.717Z"
   },
   {
    "duration": 12,
    "start_time": "2023-10-09T17:51:27.732Z"
   },
   {
    "duration": 12,
    "start_time": "2023-10-09T17:51:27.747Z"
   },
   {
    "duration": 33,
    "start_time": "2023-10-09T17:51:27.760Z"
   },
   {
    "duration": 6,
    "start_time": "2023-10-09T17:51:27.794Z"
   },
   {
    "duration": 13,
    "start_time": "2023-10-09T17:51:27.802Z"
   },
   {
    "duration": 5,
    "start_time": "2023-10-09T17:51:27.816Z"
   },
   {
    "duration": 11,
    "start_time": "2023-10-09T17:51:27.822Z"
   },
   {
    "duration": 6,
    "start_time": "2023-10-09T17:51:27.839Z"
   },
   {
    "duration": 7,
    "start_time": "2023-10-09T17:51:27.846Z"
   },
   {
    "duration": 17,
    "start_time": "2023-10-09T17:51:27.854Z"
   },
   {
    "duration": 9,
    "start_time": "2023-10-09T17:51:27.872Z"
   },
   {
    "duration": 11,
    "start_time": "2023-10-09T17:51:27.882Z"
   },
   {
    "duration": 7,
    "start_time": "2023-10-09T17:51:27.895Z"
   },
   {
    "duration": 3,
    "start_time": "2023-10-09T17:51:27.904Z"
   },
   {
    "duration": 182,
    "start_time": "2023-10-09T17:51:27.908Z"
   },
   {
    "duration": 156,
    "start_time": "2023-10-09T17:51:28.091Z"
   },
   {
    "duration": 125,
    "start_time": "2023-10-09T17:51:28.249Z"
   },
   {
    "duration": 132,
    "start_time": "2023-10-09T17:51:28.376Z"
   },
   {
    "duration": 7,
    "start_time": "2023-10-09T17:51:28.509Z"
   },
   {
    "duration": 380,
    "start_time": "2023-10-09T17:51:28.519Z"
   },
   {
    "duration": 7,
    "start_time": "2023-10-09T17:51:28.900Z"
   },
   {
    "duration": 277,
    "start_time": "2023-10-09T17:51:28.909Z"
   },
   {
    "duration": 8,
    "start_time": "2023-10-09T17:51:29.188Z"
   },
   {
    "duration": 217,
    "start_time": "2023-10-09T17:51:29.197Z"
   },
   {
    "duration": 8,
    "start_time": "2023-10-09T17:51:29.415Z"
   },
   {
    "duration": 26,
    "start_time": "2023-10-09T17:51:29.424Z"
   },
   {
    "duration": 12,
    "start_time": "2023-10-09T17:51:29.452Z"
   },
   {
    "duration": 24,
    "start_time": "2023-10-09T17:51:29.466Z"
   },
   {
    "duration": 235,
    "start_time": "2023-10-09T17:51:29.492Z"
   },
   {
    "duration": 37,
    "start_time": "2023-10-09T17:51:29.728Z"
   },
   {
    "duration": 17,
    "start_time": "2023-10-09T17:51:29.767Z"
   },
   {
    "duration": 15,
    "start_time": "2023-10-09T17:51:29.786Z"
   },
   {
    "duration": 18,
    "start_time": "2023-10-09T17:51:29.803Z"
   },
   {
    "duration": 247,
    "start_time": "2023-10-09T17:51:29.839Z"
   },
   {
    "duration": 8,
    "start_time": "2023-10-09T17:51:30.087Z"
   },
   {
    "duration": 263,
    "start_time": "2023-10-09T17:51:30.096Z"
   },
   {
    "duration": 7,
    "start_time": "2023-10-09T17:51:30.360Z"
   },
   {
    "duration": 369,
    "start_time": "2023-10-09T17:51:30.369Z"
   },
   {
    "duration": 7,
    "start_time": "2023-10-09T17:51:30.740Z"
   },
   {
    "duration": 312,
    "start_time": "2023-10-09T17:51:30.748Z"
   },
   {
    "duration": 104,
    "start_time": "2023-10-09T17:51:31.062Z"
   },
   {
    "duration": 23,
    "start_time": "2023-10-09T17:51:31.167Z"
   },
   {
    "duration": 38,
    "start_time": "2023-10-09T17:51:31.191Z"
   },
   {
    "duration": 37,
    "start_time": "2023-10-09T17:51:31.230Z"
   },
   {
    "duration": 12,
    "start_time": "2023-10-09T17:52:15.989Z"
   },
   {
    "duration": 14,
    "start_time": "2023-10-09T17:52:24.178Z"
   },
   {
    "duration": 1035,
    "start_time": "2023-10-09T17:52:45.999Z"
   },
   {
    "duration": 28,
    "start_time": "2023-10-09T17:52:47.036Z"
   },
   {
    "duration": 12,
    "start_time": "2023-10-09T17:52:47.066Z"
   },
   {
    "duration": 26,
    "start_time": "2023-10-09T17:52:47.079Z"
   },
   {
    "duration": 7,
    "start_time": "2023-10-09T17:52:47.107Z"
   },
   {
    "duration": 16,
    "start_time": "2023-10-09T17:52:47.116Z"
   },
   {
    "duration": 6,
    "start_time": "2023-10-09T17:52:47.133Z"
   },
   {
    "duration": 15,
    "start_time": "2023-10-09T17:52:47.140Z"
   },
   {
    "duration": 11,
    "start_time": "2023-10-09T17:52:47.157Z"
   },
   {
    "duration": 8,
    "start_time": "2023-10-09T17:52:47.169Z"
   },
   {
    "duration": 12,
    "start_time": "2023-10-09T17:52:47.179Z"
   },
   {
    "duration": 14,
    "start_time": "2023-10-09T17:52:47.193Z"
   },
   {
    "duration": 33,
    "start_time": "2023-10-09T17:52:47.208Z"
   },
   {
    "duration": 7,
    "start_time": "2023-10-09T17:52:47.245Z"
   },
   {
    "duration": 16,
    "start_time": "2023-10-09T17:52:47.254Z"
   },
   {
    "duration": 7,
    "start_time": "2023-10-09T17:52:47.272Z"
   },
   {
    "duration": 5,
    "start_time": "2023-10-09T17:52:47.280Z"
   },
   {
    "duration": 7,
    "start_time": "2023-10-09T17:52:47.286Z"
   },
   {
    "duration": 5,
    "start_time": "2023-10-09T17:52:47.294Z"
   },
   {
    "duration": 10,
    "start_time": "2023-10-09T17:52:47.300Z"
   },
   {
    "duration": 35,
    "start_time": "2023-10-09T17:52:47.312Z"
   },
   {
    "duration": 29,
    "start_time": "2023-10-09T17:52:47.349Z"
   },
   {
    "duration": 15,
    "start_time": "2023-10-09T17:52:47.379Z"
   },
   {
    "duration": 13,
    "start_time": "2023-10-09T17:52:47.395Z"
   },
   {
    "duration": 164,
    "start_time": "2023-10-09T17:52:47.410Z"
   },
   {
    "duration": 154,
    "start_time": "2023-10-09T17:52:47.576Z"
   },
   {
    "duration": 123,
    "start_time": "2023-10-09T17:52:47.732Z"
   },
   {
    "duration": 131,
    "start_time": "2023-10-09T17:52:47.857Z"
   },
   {
    "duration": 6,
    "start_time": "2023-10-09T17:52:47.990Z"
   },
   {
    "duration": 372,
    "start_time": "2023-10-09T17:52:47.997Z"
   },
   {
    "duration": 6,
    "start_time": "2023-10-09T17:52:48.371Z"
   },
   {
    "duration": 277,
    "start_time": "2023-10-09T17:52:48.378Z"
   },
   {
    "duration": 7,
    "start_time": "2023-10-09T17:52:48.656Z"
   },
   {
    "duration": 215,
    "start_time": "2023-10-09T17:52:48.664Z"
   },
   {
    "duration": 10,
    "start_time": "2023-10-09T17:52:48.881Z"
   },
   {
    "duration": 12,
    "start_time": "2023-10-09T17:52:48.893Z"
   },
   {
    "duration": 5,
    "start_time": "2023-10-09T17:52:48.907Z"
   },
   {
    "duration": 30,
    "start_time": "2023-10-09T17:52:48.913Z"
   },
   {
    "duration": 203,
    "start_time": "2023-10-09T17:52:48.944Z"
   },
   {
    "duration": 20,
    "start_time": "2023-10-09T17:52:49.148Z"
   },
   {
    "duration": 15,
    "start_time": "2023-10-09T17:52:49.172Z"
   },
   {
    "duration": 14,
    "start_time": "2023-10-09T17:52:49.188Z"
   },
   {
    "duration": 38,
    "start_time": "2023-10-09T17:52:49.204Z"
   },
   {
    "duration": 217,
    "start_time": "2023-10-09T17:52:49.243Z"
   },
   {
    "duration": 7,
    "start_time": "2023-10-09T17:52:49.461Z"
   },
   {
    "duration": 228,
    "start_time": "2023-10-09T17:52:49.469Z"
   },
   {
    "duration": 7,
    "start_time": "2023-10-09T17:52:49.699Z"
   },
   {
    "duration": 219,
    "start_time": "2023-10-09T17:52:49.708Z"
   },
   {
    "duration": 14,
    "start_time": "2023-10-09T17:52:49.928Z"
   },
   {
    "duration": 280,
    "start_time": "2023-10-09T17:52:49.943Z"
   },
   {
    "duration": 41,
    "start_time": "2023-10-09T17:52:50.225Z"
   },
   {
    "duration": 11,
    "start_time": "2023-10-09T17:52:50.267Z"
   },
   {
    "duration": 4,
    "start_time": "2023-10-09T17:52:50.279Z"
   },
   {
    "duration": 12,
    "start_time": "2023-10-09T17:52:50.284Z"
   },
   {
    "duration": 13,
    "start_time": "2023-10-09T17:53:42.058Z"
   },
   {
    "duration": 18,
    "start_time": "2023-10-09T17:53:53.508Z"
   },
   {
    "duration": 15,
    "start_time": "2023-10-09T17:54:02.136Z"
   },
   {
    "duration": 1112,
    "start_time": "2023-10-09T17:54:07.733Z"
   },
   {
    "duration": 29,
    "start_time": "2023-10-09T17:54:08.847Z"
   },
   {
    "duration": 12,
    "start_time": "2023-10-09T17:54:08.877Z"
   },
   {
    "duration": 27,
    "start_time": "2023-10-09T17:54:08.891Z"
   },
   {
    "duration": 8,
    "start_time": "2023-10-09T17:54:08.919Z"
   },
   {
    "duration": 17,
    "start_time": "2023-10-09T17:54:08.928Z"
   },
   {
    "duration": 6,
    "start_time": "2023-10-09T17:54:08.946Z"
   },
   {
    "duration": 23,
    "start_time": "2023-10-09T17:54:08.954Z"
   },
   {
    "duration": 12,
    "start_time": "2023-10-09T17:54:08.978Z"
   },
   {
    "duration": 9,
    "start_time": "2023-10-09T17:54:08.993Z"
   },
   {
    "duration": 16,
    "start_time": "2023-10-09T17:54:09.003Z"
   },
   {
    "duration": 23,
    "start_time": "2023-10-09T17:54:09.020Z"
   },
   {
    "duration": 14,
    "start_time": "2023-10-09T17:54:09.044Z"
   },
   {
    "duration": 16,
    "start_time": "2023-10-09T17:54:09.059Z"
   },
   {
    "duration": 9,
    "start_time": "2023-10-09T17:54:09.076Z"
   },
   {
    "duration": 4,
    "start_time": "2023-10-09T17:54:09.086Z"
   },
   {
    "duration": 4,
    "start_time": "2023-10-09T17:54:09.092Z"
   },
   {
    "duration": 6,
    "start_time": "2023-10-09T17:54:09.098Z"
   },
   {
    "duration": 34,
    "start_time": "2023-10-09T17:54:09.106Z"
   },
   {
    "duration": 14,
    "start_time": "2023-10-09T17:54:09.142Z"
   },
   {
    "duration": 12,
    "start_time": "2023-10-09T17:54:09.157Z"
   },
   {
    "duration": 9,
    "start_time": "2023-10-09T17:54:09.171Z"
   },
   {
    "duration": 9,
    "start_time": "2023-10-09T17:54:09.181Z"
   },
   {
    "duration": 11,
    "start_time": "2023-10-09T17:54:09.191Z"
   },
   {
    "duration": 175,
    "start_time": "2023-10-09T17:54:09.203Z"
   },
   {
    "duration": 155,
    "start_time": "2023-10-09T17:54:09.379Z"
   },
   {
    "duration": 147,
    "start_time": "2023-10-09T17:54:09.535Z"
   },
   {
    "duration": 131,
    "start_time": "2023-10-09T17:54:09.685Z"
   },
   {
    "duration": 7,
    "start_time": "2023-10-09T17:54:09.817Z"
   },
   {
    "duration": 385,
    "start_time": "2023-10-09T17:54:09.825Z"
   },
   {
    "duration": 7,
    "start_time": "2023-10-09T17:54:10.211Z"
   },
   {
    "duration": 284,
    "start_time": "2023-10-09T17:54:10.219Z"
   },
   {
    "duration": 8,
    "start_time": "2023-10-09T17:54:10.505Z"
   },
   {
    "duration": 211,
    "start_time": "2023-10-09T17:54:10.515Z"
   },
   {
    "duration": 13,
    "start_time": "2023-10-09T17:54:10.727Z"
   },
   {
    "duration": 13,
    "start_time": "2023-10-09T17:54:10.742Z"
   },
   {
    "duration": 4,
    "start_time": "2023-10-09T17:54:10.756Z"
   },
   {
    "duration": 6,
    "start_time": "2023-10-09T17:54:10.761Z"
   },
   {
    "duration": 222,
    "start_time": "2023-10-09T17:54:10.769Z"
   },
   {
    "duration": 20,
    "start_time": "2023-10-09T17:54:10.993Z"
   },
   {
    "duration": 32,
    "start_time": "2023-10-09T17:54:11.014Z"
   },
   {
    "duration": 14,
    "start_time": "2023-10-09T17:54:11.047Z"
   },
   {
    "duration": 7,
    "start_time": "2023-10-09T17:54:11.062Z"
   },
   {
    "duration": 240,
    "start_time": "2023-10-09T17:54:11.070Z"
   },
   {
    "duration": 7,
    "start_time": "2023-10-09T17:54:11.311Z"
   },
   {
    "duration": 223,
    "start_time": "2023-10-09T17:54:11.319Z"
   },
   {
    "duration": 7,
    "start_time": "2023-10-09T17:54:11.543Z"
   },
   {
    "duration": 231,
    "start_time": "2023-10-09T17:54:11.551Z"
   },
   {
    "duration": 8,
    "start_time": "2023-10-09T17:54:11.784Z"
   },
   {
    "duration": 289,
    "start_time": "2023-10-09T17:54:11.793Z"
   },
   {
    "duration": 35,
    "start_time": "2023-10-09T17:54:12.083Z"
   },
   {
    "duration": 28,
    "start_time": "2023-10-09T17:54:12.120Z"
   },
   {
    "duration": 5,
    "start_time": "2023-10-09T17:54:12.149Z"
   },
   {
    "duration": 6,
    "start_time": "2023-10-09T17:54:12.155Z"
   },
   {
    "duration": 28,
    "start_time": "2023-10-09T17:59:49.447Z"
   },
   {
    "duration": 28,
    "start_time": "2023-10-09T18:00:11.163Z"
   },
   {
    "duration": 90,
    "start_time": "2023-10-09T18:10:50.053Z"
   },
   {
    "duration": 7,
    "start_time": "2023-10-09T18:11:20.646Z"
   },
   {
    "duration": 1025,
    "start_time": "2023-10-09T18:11:27.141Z"
   },
   {
    "duration": 29,
    "start_time": "2023-10-09T18:11:28.168Z"
   },
   {
    "duration": 23,
    "start_time": "2023-10-09T18:11:28.198Z"
   },
   {
    "duration": 71,
    "start_time": "2023-10-09T18:11:28.223Z"
   },
   {
    "duration": 9,
    "start_time": "2023-10-09T18:11:28.295Z"
   },
   {
    "duration": 19,
    "start_time": "2023-10-09T18:11:28.305Z"
   },
   {
    "duration": 7,
    "start_time": "2023-10-09T18:11:28.326Z"
   },
   {
    "duration": 16,
    "start_time": "2023-10-09T18:11:28.334Z"
   },
   {
    "duration": 16,
    "start_time": "2023-10-09T18:11:28.352Z"
   },
   {
    "duration": 16,
    "start_time": "2023-10-09T18:11:28.371Z"
   },
   {
    "duration": 44,
    "start_time": "2023-10-09T18:11:28.389Z"
   },
   {
    "duration": 11,
    "start_time": "2023-10-09T18:11:28.435Z"
   },
   {
    "duration": 17,
    "start_time": "2023-10-09T18:11:28.448Z"
   },
   {
    "duration": 12,
    "start_time": "2023-10-09T18:11:28.466Z"
   },
   {
    "duration": 21,
    "start_time": "2023-10-09T18:11:28.480Z"
   },
   {
    "duration": 24,
    "start_time": "2023-10-09T18:11:28.503Z"
   },
   {
    "duration": 22,
    "start_time": "2023-10-09T18:11:28.528Z"
   },
   {
    "duration": 9,
    "start_time": "2023-10-09T18:11:28.551Z"
   },
   {
    "duration": 8,
    "start_time": "2023-10-09T18:11:28.561Z"
   },
   {
    "duration": 9,
    "start_time": "2023-10-09T18:11:28.570Z"
   },
   {
    "duration": 39,
    "start_time": "2023-10-09T18:11:28.580Z"
   },
   {
    "duration": 20,
    "start_time": "2023-10-09T18:11:28.621Z"
   },
   {
    "duration": 5,
    "start_time": "2023-10-09T18:11:28.643Z"
   },
   {
    "duration": 160,
    "start_time": "2023-10-09T18:11:28.649Z"
   },
   {
    "duration": 159,
    "start_time": "2023-10-09T18:11:28.810Z"
   },
   {
    "duration": 131,
    "start_time": "2023-10-09T18:11:28.971Z"
   },
   {
    "duration": 130,
    "start_time": "2023-10-09T18:11:29.105Z"
   },
   {
    "duration": 380,
    "start_time": "2023-10-09T18:11:29.239Z"
   },
   {
    "duration": 321,
    "start_time": "2023-10-09T18:11:29.621Z"
   },
   {
    "duration": 231,
    "start_time": "2023-10-09T18:11:29.944Z"
   },
   {
    "duration": 8,
    "start_time": "2023-10-09T18:11:30.176Z"
   },
   {
    "duration": 604,
    "start_time": "2023-10-09T18:11:30.185Z"
   },
   {
    "duration": 225,
    "start_time": "2023-10-09T18:11:30.791Z"
   },
   {
    "duration": 186,
    "start_time": "2023-10-09T18:11:31.018Z"
   },
   {
    "duration": 244,
    "start_time": "2023-10-09T18:11:31.205Z"
   },
   {
    "duration": 20,
    "start_time": "2023-10-09T18:11:31.450Z"
   },
   {
    "duration": 31,
    "start_time": "2023-10-09T18:11:31.472Z"
   },
   {
    "duration": 20,
    "start_time": "2023-10-09T18:11:31.504Z"
   },
   {
    "duration": 53,
    "start_time": "2023-10-09T18:11:31.526Z"
   },
   {
    "duration": 34,
    "start_time": "2023-10-09T18:11:31.580Z"
   },
   {
    "duration": 206,
    "start_time": "2023-10-09T18:11:31.615Z"
   },
   {
    "duration": 207,
    "start_time": "2023-10-09T18:11:31.822Z"
   },
   {
    "duration": 265,
    "start_time": "2023-10-09T18:11:32.030Z"
   },
   {
    "duration": 433,
    "start_time": "2023-10-09T18:11:32.297Z"
   },
   {
    "duration": 12,
    "start_time": "2023-10-09T18:11:32.732Z"
   },
   {
    "duration": 34,
    "start_time": "2023-10-09T18:11:32.746Z"
   },
   {
    "duration": 11,
    "start_time": "2023-10-09T18:11:32.782Z"
   },
   {
    "duration": 108,
    "start_time": "2023-10-09T18:11:32.795Z"
   },
   {
    "duration": 0,
    "start_time": "2023-10-09T18:11:32.905Z"
   },
   {
    "duration": 8,
    "start_time": "2023-10-09T18:13:19.451Z"
   },
   {
    "duration": 3,
    "start_time": "2023-10-09T18:13:23.064Z"
   },
   {
    "duration": 3,
    "start_time": "2023-10-09T18:13:24.889Z"
   },
   {
    "duration": 6,
    "start_time": "2023-10-09T18:13:43.459Z"
   },
   {
    "duration": 3,
    "start_time": "2023-10-09T18:13:46.082Z"
   },
   {
    "duration": 4,
    "start_time": "2023-10-09T18:13:52.862Z"
   },
   {
    "duration": 2,
    "start_time": "2023-10-09T18:13:54.737Z"
   },
   {
    "duration": 5,
    "start_time": "2023-10-09T18:15:43.490Z"
   },
   {
    "duration": 5,
    "start_time": "2023-10-09T18:17:25.595Z"
   },
   {
    "duration": 4,
    "start_time": "2023-10-09T18:17:26.404Z"
   },
   {
    "duration": 4,
    "start_time": "2023-10-09T18:17:37.408Z"
   },
   {
    "duration": 13,
    "start_time": "2023-10-09T18:23:26.828Z"
   },
   {
    "duration": 8,
    "start_time": "2023-10-09T18:24:00.938Z"
   },
   {
    "duration": 5,
    "start_time": "2023-10-09T18:24:56.739Z"
   },
   {
    "duration": 4,
    "start_time": "2023-10-09T18:24:59.643Z"
   },
   {
    "duration": 10,
    "start_time": "2023-10-09T18:29:51.996Z"
   },
   {
    "duration": 3,
    "start_time": "2023-10-09T18:30:03.972Z"
   },
   {
    "duration": 7,
    "start_time": "2023-10-09T18:30:04.755Z"
   },
   {
    "duration": 5,
    "start_time": "2023-10-09T18:30:20.487Z"
   },
   {
    "duration": 4,
    "start_time": "2023-10-09T18:32:08.760Z"
   },
   {
    "duration": 2,
    "start_time": "2023-10-09T18:32:11.148Z"
   },
   {
    "duration": 5,
    "start_time": "2023-10-09T18:32:11.609Z"
   },
   {
    "duration": 3,
    "start_time": "2023-10-09T18:32:12.727Z"
   },
   {
    "duration": 3,
    "start_time": "2023-10-09T18:37:02.389Z"
   },
   {
    "duration": 5,
    "start_time": "2023-10-09T18:37:03.730Z"
   },
   {
    "duration": 2,
    "start_time": "2023-10-09T18:37:09.889Z"
   },
   {
    "duration": 5,
    "start_time": "2023-10-09T18:37:11.913Z"
   },
   {
    "duration": 3,
    "start_time": "2023-10-09T18:37:13.577Z"
   },
   {
    "duration": 2,
    "start_time": "2023-10-09T18:37:19.412Z"
   },
   {
    "duration": 2,
    "start_time": "2023-10-09T18:37:23.951Z"
   },
   {
    "duration": 5,
    "start_time": "2023-10-09T18:37:25.435Z"
   },
   {
    "duration": 2,
    "start_time": "2023-10-09T18:37:43.976Z"
   },
   {
    "duration": 5,
    "start_time": "2023-10-09T18:37:45.407Z"
   },
   {
    "duration": 5,
    "start_time": "2023-10-09T18:37:46.668Z"
   },
   {
    "duration": 4,
    "start_time": "2023-10-09T18:39:12.289Z"
   },
   {
    "duration": 5,
    "start_time": "2023-10-09T18:39:34.954Z"
   },
   {
    "duration": 4,
    "start_time": "2023-10-09T18:39:42.988Z"
   },
   {
    "duration": 6,
    "start_time": "2023-10-09T18:42:06.524Z"
   },
   {
    "duration": 6,
    "start_time": "2023-10-09T18:42:13.822Z"
   },
   {
    "duration": 4,
    "start_time": "2023-10-09T18:43:51.744Z"
   },
   {
    "duration": 3,
    "start_time": "2023-10-09T18:43:55.638Z"
   },
   {
    "duration": 4,
    "start_time": "2023-10-09T18:59:27.281Z"
   },
   {
    "duration": 5,
    "start_time": "2023-10-09T19:00:08.540Z"
   },
   {
    "duration": 4,
    "start_time": "2023-10-09T19:00:17.299Z"
   },
   {
    "duration": 5,
    "start_time": "2023-10-09T19:02:36.389Z"
   },
   {
    "duration": 4,
    "start_time": "2023-10-09T19:03:41.415Z"
   },
   {
    "duration": 3,
    "start_time": "2023-10-09T19:03:47.099Z"
   },
   {
    "duration": 38,
    "start_time": "2023-10-09T19:09:56.824Z"
   },
   {
    "duration": 44,
    "start_time": "2023-10-09T19:10:04.231Z"
   },
   {
    "duration": 13,
    "start_time": "2023-10-09T19:10:11.990Z"
   },
   {
    "duration": 4,
    "start_time": "2023-10-09T19:10:17.785Z"
   },
   {
    "duration": 4,
    "start_time": "2023-10-09T19:10:22.332Z"
   },
   {
    "duration": 1762,
    "start_time": "2023-10-09T19:10:24.515Z"
   },
   {
    "duration": 6,
    "start_time": "2023-10-09T19:11:08.125Z"
   },
   {
    "duration": 3,
    "start_time": "2023-10-09T19:11:12.111Z"
   },
   {
    "duration": 8,
    "start_time": "2023-10-09T19:12:48.405Z"
   },
   {
    "duration": 7,
    "start_time": "2023-10-09T19:12:57.525Z"
   },
   {
    "duration": 12,
    "start_time": "2023-10-09T19:13:18.683Z"
   },
   {
    "duration": 4,
    "start_time": "2023-10-09T19:13:20.672Z"
   },
   {
    "duration": 10,
    "start_time": "2023-10-09T19:13:42.496Z"
   },
   {
    "duration": 4,
    "start_time": "2023-10-09T19:22:24.053Z"
   },
   {
    "duration": 9,
    "start_time": "2023-10-09T19:43:34.395Z"
   },
   {
    "duration": 106,
    "start_time": "2023-10-09T19:43:44.248Z"
   },
   {
    "duration": 8,
    "start_time": "2023-10-09T19:44:19.513Z"
   },
   {
    "duration": 10,
    "start_time": "2023-10-09T19:44:49.307Z"
   },
   {
    "duration": 9,
    "start_time": "2023-10-09T19:45:12.202Z"
   },
   {
    "duration": 74,
    "start_time": "2023-10-09T19:45:48.398Z"
   },
   {
    "duration": 173,
    "start_time": "2023-10-09T19:46:12.047Z"
   },
   {
    "duration": 199,
    "start_time": "2023-10-09T19:46:39.487Z"
   },
   {
    "duration": 192,
    "start_time": "2023-10-09T19:46:50.527Z"
   },
   {
    "duration": 231,
    "start_time": "2023-10-09T19:47:03.052Z"
   },
   {
    "duration": 224,
    "start_time": "2023-10-09T19:47:09.190Z"
   },
   {
    "duration": 188,
    "start_time": "2023-10-09T19:47:17.244Z"
   },
   {
    "duration": 171,
    "start_time": "2023-10-09T19:47:38.107Z"
   },
   {
    "duration": 121,
    "start_time": "2023-10-09T19:48:03.855Z"
   },
   {
    "duration": 149,
    "start_time": "2023-10-09T19:48:08.791Z"
   },
   {
    "duration": 241,
    "start_time": "2023-10-09T19:48:16.257Z"
   },
   {
    "duration": 231,
    "start_time": "2023-10-09T19:56:31.034Z"
   },
   {
    "duration": 306,
    "start_time": "2023-10-09T19:57:15.523Z"
   },
   {
    "duration": 225,
    "start_time": "2023-10-09T19:57:29.618Z"
   },
   {
    "duration": 336,
    "start_time": "2023-10-09T20:00:51.485Z"
   },
   {
    "duration": 1399,
    "start_time": "2023-10-09T20:02:37.058Z"
   },
   {
    "duration": 1250,
    "start_time": "2023-10-09T20:02:44.489Z"
   },
   {
    "duration": 1476,
    "start_time": "2023-10-09T20:02:55.688Z"
   },
   {
    "duration": 330,
    "start_time": "2023-10-09T20:03:11.605Z"
   },
   {
    "duration": 253,
    "start_time": "2023-10-09T20:05:20.559Z"
   },
   {
    "duration": 590,
    "start_time": "2023-10-09T20:05:29.089Z"
   },
   {
    "duration": 1604,
    "start_time": "2023-10-09T20:05:53.732Z"
   },
   {
    "duration": 241,
    "start_time": "2023-10-09T20:06:05.480Z"
   },
   {
    "duration": 246,
    "start_time": "2023-10-09T20:06:40.039Z"
   },
   {
    "duration": 269,
    "start_time": "2023-10-09T20:06:47.799Z"
   },
   {
    "duration": 179,
    "start_time": "2023-10-09T20:07:27.148Z"
   },
   {
    "duration": 141,
    "start_time": "2023-10-09T20:07:36.231Z"
   },
   {
    "duration": 117,
    "start_time": "2023-10-09T20:07:41.293Z"
   },
   {
    "duration": 238,
    "start_time": "2023-10-09T20:07:52.039Z"
   },
   {
    "duration": 274,
    "start_time": "2023-10-09T20:08:34.418Z"
   },
   {
    "duration": 1482,
    "start_time": "2023-10-09T20:08:47.888Z"
   },
   {
    "duration": 119,
    "start_time": "2023-10-09T20:09:01.788Z"
   },
   {
    "duration": 220,
    "start_time": "2023-10-09T20:09:09.202Z"
   },
   {
    "duration": 12,
    "start_time": "2023-10-09T20:09:20.753Z"
   },
   {
    "duration": 6,
    "start_time": "2023-10-09T20:09:25.754Z"
   },
   {
    "duration": 264,
    "start_time": "2023-10-09T20:10:14.751Z"
   },
   {
    "duration": 10,
    "start_time": "2023-10-09T20:13:01.908Z"
   },
   {
    "duration": 255,
    "start_time": "2023-10-09T20:13:14.933Z"
   },
   {
    "duration": 221,
    "start_time": "2023-10-09T20:13:30.978Z"
   },
   {
    "duration": 621,
    "start_time": "2023-10-09T20:14:52.196Z"
   },
   {
    "duration": 278,
    "start_time": "2023-10-09T20:17:40.985Z"
   },
   {
    "duration": 272,
    "start_time": "2023-10-09T20:17:50.219Z"
   },
   {
    "duration": 274,
    "start_time": "2023-10-09T20:23:10.246Z"
   },
   {
    "duration": 239,
    "start_time": "2023-10-09T20:23:18.789Z"
   },
   {
    "duration": 325,
    "start_time": "2023-10-09T20:23:43.226Z"
   },
   {
    "duration": 13838,
    "start_time": "2023-10-09T20:27:01.630Z"
   },
   {
    "duration": 389,
    "start_time": "2023-10-09T20:27:34.502Z"
   },
   {
    "duration": 579,
    "start_time": "2023-10-09T20:27:47.519Z"
   },
   {
    "duration": 280,
    "start_time": "2023-10-09T20:28:10.113Z"
   },
   {
    "duration": 188,
    "start_time": "2023-10-09T20:34:31.790Z"
   },
   {
    "duration": 141,
    "start_time": "2023-10-09T20:35:43.233Z"
   },
   {
    "duration": 124,
    "start_time": "2023-10-09T20:36:17.725Z"
   },
   {
    "duration": 129,
    "start_time": "2023-10-09T20:38:11.073Z"
   },
   {
    "duration": 123,
    "start_time": "2023-10-09T20:38:17.857Z"
   },
   {
    "duration": 187,
    "start_time": "2023-10-09T20:38:36.724Z"
   },
   {
    "duration": 187,
    "start_time": "2023-10-09T20:40:52.706Z"
   },
   {
    "duration": 7,
    "start_time": "2023-10-09T20:41:05.018Z"
   },
   {
    "duration": 145,
    "start_time": "2023-10-09T20:44:06.263Z"
   },
   {
    "duration": 278,
    "start_time": "2023-10-09T20:44:16.718Z"
   },
   {
    "duration": 467,
    "start_time": "2023-10-09T20:44:26.382Z"
   },
   {
    "duration": 355,
    "start_time": "2023-10-09T20:44:34.794Z"
   },
   {
    "duration": 795,
    "start_time": "2023-10-09T20:44:42.797Z"
   },
   {
    "duration": 345,
    "start_time": "2023-10-09T20:45:04.082Z"
   },
   {
    "duration": 172,
    "start_time": "2023-10-09T20:47:20.516Z"
   },
   {
    "duration": 4,
    "start_time": "2023-10-09T20:48:07.686Z"
   },
   {
    "duration": 1476,
    "start_time": "2023-10-09T20:48:15.182Z"
   },
   {
    "duration": 30,
    "start_time": "2023-10-09T20:48:16.661Z"
   },
   {
    "duration": 15,
    "start_time": "2023-10-09T20:48:16.692Z"
   },
   {
    "duration": 96,
    "start_time": "2023-10-09T20:48:16.709Z"
   },
   {
    "duration": 12,
    "start_time": "2023-10-09T20:48:16.807Z"
   },
   {
    "duration": 23,
    "start_time": "2023-10-09T20:48:16.821Z"
   },
   {
    "duration": 10,
    "start_time": "2023-10-09T20:48:16.846Z"
   },
   {
    "duration": 25,
    "start_time": "2023-10-09T20:48:16.858Z"
   },
   {
    "duration": 24,
    "start_time": "2023-10-09T20:48:16.886Z"
   },
   {
    "duration": 27,
    "start_time": "2023-10-09T20:48:16.915Z"
   },
   {
    "duration": 13,
    "start_time": "2023-10-09T20:48:16.944Z"
   },
   {
    "duration": 14,
    "start_time": "2023-10-09T20:48:16.959Z"
   },
   {
    "duration": 6,
    "start_time": "2023-10-09T20:48:16.975Z"
   },
   {
    "duration": 12,
    "start_time": "2023-10-09T20:48:16.983Z"
   },
   {
    "duration": 44,
    "start_time": "2023-10-09T20:48:16.997Z"
   },
   {
    "duration": 16,
    "start_time": "2023-10-09T20:48:17.043Z"
   },
   {
    "duration": 46,
    "start_time": "2023-10-09T20:48:17.061Z"
   },
   {
    "duration": 14,
    "start_time": "2023-10-09T20:48:17.109Z"
   },
   {
    "duration": 41,
    "start_time": "2023-10-09T20:48:17.125Z"
   },
   {
    "duration": 18,
    "start_time": "2023-10-09T20:48:17.168Z"
   },
   {
    "duration": 45,
    "start_time": "2023-10-09T20:48:17.188Z"
   },
   {
    "duration": 36,
    "start_time": "2023-10-09T20:48:17.234Z"
   },
   {
    "duration": 5,
    "start_time": "2023-10-09T20:48:17.273Z"
   },
   {
    "duration": 375,
    "start_time": "2023-10-09T20:48:17.280Z"
   },
   {
    "duration": 216,
    "start_time": "2023-10-09T20:48:17.657Z"
   },
   {
    "duration": 193,
    "start_time": "2023-10-09T20:48:17.875Z"
   },
   {
    "duration": 219,
    "start_time": "2023-10-09T20:48:18.070Z"
   },
   {
    "duration": 630,
    "start_time": "2023-10-09T20:48:18.294Z"
   },
   {
    "duration": 421,
    "start_time": "2023-10-09T20:48:18.926Z"
   },
   {
    "duration": 321,
    "start_time": "2023-10-09T20:48:19.349Z"
   },
   {
    "duration": 14,
    "start_time": "2023-10-09T20:48:19.673Z"
   },
   {
    "duration": 24,
    "start_time": "2023-10-09T20:48:19.689Z"
   },
   {
    "duration": 29,
    "start_time": "2023-10-09T20:48:19.715Z"
   },
   {
    "duration": 12,
    "start_time": "2023-10-09T20:48:19.746Z"
   },
   {
    "duration": 342,
    "start_time": "2023-10-09T20:48:19.760Z"
   },
   {
    "duration": 44,
    "start_time": "2023-10-09T20:48:20.104Z"
   },
   {
    "duration": 27,
    "start_time": "2023-10-09T20:48:20.150Z"
   },
   {
    "duration": 23,
    "start_time": "2023-10-09T20:48:20.179Z"
   },
   {
    "duration": 63,
    "start_time": "2023-10-09T20:48:20.204Z"
   },
   {
    "duration": 41,
    "start_time": "2023-10-09T20:48:20.269Z"
   },
   {
    "duration": 385,
    "start_time": "2023-10-09T20:48:20.312Z"
   },
   {
    "duration": 482,
    "start_time": "2023-10-09T20:48:20.700Z"
   },
   {
    "duration": 301,
    "start_time": "2023-10-09T20:48:21.184Z"
   },
   {
    "duration": 374,
    "start_time": "2023-10-09T20:48:21.487Z"
   },
   {
    "duration": 47,
    "start_time": "2023-10-09T20:48:21.865Z"
   },
   {
    "duration": 61,
    "start_time": "2023-10-09T20:48:21.914Z"
   },
   {
    "duration": 5,
    "start_time": "2023-10-09T20:48:21.977Z"
   },
   {
    "duration": 21,
    "start_time": "2023-10-09T20:48:21.983Z"
   },
   {
    "duration": 18,
    "start_time": "2023-10-09T20:48:22.006Z"
   },
   {
    "duration": 12,
    "start_time": "2023-10-09T20:48:22.026Z"
   },
   {
    "duration": 11,
    "start_time": "2023-10-09T20:48:22.040Z"
   },
   {
    "duration": 13,
    "start_time": "2023-10-09T20:48:22.053Z"
   },
   {
    "duration": 14,
    "start_time": "2023-10-09T20:48:22.068Z"
   },
   {
    "duration": 121,
    "start_time": "2023-10-09T20:48:22.084Z"
   },
   {
    "duration": 0,
    "start_time": "2023-10-09T20:48:22.206Z"
   },
   {
    "duration": 10,
    "start_time": "2023-10-09T20:52:50.982Z"
   },
   {
    "duration": 10,
    "start_time": "2023-10-09T20:53:24.195Z"
   },
   {
    "duration": 99,
    "start_time": "2023-10-09T20:53:57.815Z"
   },
   {
    "duration": 102,
    "start_time": "2023-10-09T20:54:13.484Z"
   },
   {
    "duration": 95,
    "start_time": "2023-10-09T20:54:19.116Z"
   },
   {
    "duration": 108,
    "start_time": "2023-10-09T20:54:23.713Z"
   },
   {
    "duration": 10,
    "start_time": "2023-10-09T20:56:15.662Z"
   },
   {
    "duration": 18,
    "start_time": "2023-10-09T20:56:48.810Z"
   },
   {
    "duration": 9,
    "start_time": "2023-10-09T20:57:13.313Z"
   },
   {
    "duration": 10,
    "start_time": "2023-10-09T20:57:15.481Z"
   },
   {
    "duration": 97,
    "start_time": "2023-10-09T20:57:16.971Z"
   },
   {
    "duration": 28,
    "start_time": "2023-10-09T20:57:18.729Z"
   },
   {
    "duration": 11,
    "start_time": "2023-10-09T20:57:22.371Z"
   },
   {
    "duration": 9,
    "start_time": "2023-10-09T20:58:42.768Z"
   },
   {
    "duration": 7,
    "start_time": "2023-10-09T20:58:50.000Z"
   },
   {
    "duration": 133,
    "start_time": "2023-10-09T20:59:04.972Z"
   },
   {
    "duration": 8,
    "start_time": "2023-10-09T20:59:22.306Z"
   },
   {
    "duration": 99,
    "start_time": "2023-10-09T20:59:23.396Z"
   },
   {
    "duration": 4,
    "start_time": "2023-10-09T20:59:45.332Z"
   },
   {
    "duration": 12,
    "start_time": "2023-10-09T20:59:51.376Z"
   },
   {
    "duration": 7,
    "start_time": "2023-10-09T21:00:23.742Z"
   },
   {
    "duration": 100,
    "start_time": "2023-10-09T21:00:25.896Z"
   },
   {
    "duration": 1133,
    "start_time": "2023-10-09T21:00:36.628Z"
   },
   {
    "duration": 31,
    "start_time": "2023-10-09T21:00:37.763Z"
   },
   {
    "duration": 14,
    "start_time": "2023-10-09T21:00:37.795Z"
   },
   {
    "duration": 34,
    "start_time": "2023-10-09T21:00:37.812Z"
   },
   {
    "duration": 12,
    "start_time": "2023-10-09T21:00:37.848Z"
   },
   {
    "duration": 18,
    "start_time": "2023-10-09T21:00:37.862Z"
   },
   {
    "duration": 7,
    "start_time": "2023-10-09T21:00:37.882Z"
   },
   {
    "duration": 30,
    "start_time": "2023-10-09T21:00:37.891Z"
   },
   {
    "duration": 23,
    "start_time": "2023-10-09T21:00:37.922Z"
   },
   {
    "duration": 11,
    "start_time": "2023-10-09T21:00:37.948Z"
   },
   {
    "duration": 9,
    "start_time": "2023-10-09T21:00:37.961Z"
   },
   {
    "duration": 9,
    "start_time": "2023-10-09T21:00:37.971Z"
   },
   {
    "duration": 8,
    "start_time": "2023-10-09T21:00:37.981Z"
   },
   {
    "duration": 53,
    "start_time": "2023-10-09T21:00:37.990Z"
   },
   {
    "duration": 9,
    "start_time": "2023-10-09T21:00:38.044Z"
   },
   {
    "duration": 5,
    "start_time": "2023-10-09T21:00:38.054Z"
   },
   {
    "duration": 19,
    "start_time": "2023-10-09T21:00:38.061Z"
   },
   {
    "duration": 11,
    "start_time": "2023-10-09T21:00:38.082Z"
   },
   {
    "duration": 11,
    "start_time": "2023-10-09T21:00:38.094Z"
   },
   {
    "duration": 10,
    "start_time": "2023-10-09T21:00:38.139Z"
   },
   {
    "duration": 21,
    "start_time": "2023-10-09T21:00:38.151Z"
   },
   {
    "duration": 19,
    "start_time": "2023-10-09T21:00:38.173Z"
   },
   {
    "duration": 179,
    "start_time": "2023-10-09T21:00:38.194Z"
   },
   {
    "duration": 174,
    "start_time": "2023-10-09T21:00:38.375Z"
   },
   {
    "duration": 177,
    "start_time": "2023-10-09T21:00:38.551Z"
   },
   {
    "duration": 151,
    "start_time": "2023-10-09T21:00:38.730Z"
   },
   {
    "duration": 438,
    "start_time": "2023-10-09T21:00:38.883Z"
   },
   {
    "duration": 304,
    "start_time": "2023-10-09T21:00:39.326Z"
   },
   {
    "duration": 224,
    "start_time": "2023-10-09T21:00:39.632Z"
   },
   {
    "duration": 9,
    "start_time": "2023-10-09T21:00:39.857Z"
   },
   {
    "duration": 21,
    "start_time": "2023-10-09T21:00:39.867Z"
   },
   {
    "duration": 6,
    "start_time": "2023-10-09T21:00:39.889Z"
   },
   {
    "duration": 5,
    "start_time": "2023-10-09T21:00:39.897Z"
   },
   {
    "duration": 245,
    "start_time": "2023-10-09T21:00:39.904Z"
   },
   {
    "duration": 22,
    "start_time": "2023-10-09T21:00:40.151Z"
   },
   {
    "duration": 34,
    "start_time": "2023-10-09T21:00:40.175Z"
   },
   {
    "duration": 31,
    "start_time": "2023-10-09T21:00:40.211Z"
   },
   {
    "duration": 3,
    "start_time": "2023-10-09T21:00:40.243Z"
   },
   {
    "duration": 87,
    "start_time": "2023-10-09T21:00:40.248Z"
   },
   {
    "duration": 75,
    "start_time": "2023-10-09T21:00:40.337Z"
   },
   {
    "duration": 263,
    "start_time": "2023-10-09T21:00:40.413Z"
   },
   {
    "duration": 10,
    "start_time": "2023-10-09T21:00:40.677Z"
   },
   {
    "duration": 116,
    "start_time": "2023-10-09T21:00:40.689Z"
   },
   {
    "duration": 13,
    "start_time": "2023-10-09T21:00:40.807Z"
   },
   {
    "duration": 40,
    "start_time": "2023-10-09T21:00:40.821Z"
   },
   {
    "duration": 106,
    "start_time": "2023-10-09T21:00:40.862Z"
   },
   {
    "duration": 4,
    "start_time": "2023-10-09T21:00:40.970Z"
   },
   {
    "duration": 260,
    "start_time": "2023-10-09T21:00:40.976Z"
   },
   {
    "duration": 307,
    "start_time": "2023-10-09T21:00:41.240Z"
   },
   {
    "duration": 254,
    "start_time": "2023-10-09T21:00:41.548Z"
   },
   {
    "duration": 56,
    "start_time": "2023-10-09T21:00:41.803Z"
   },
   {
    "duration": 13,
    "start_time": "2023-10-09T21:00:41.861Z"
   },
   {
    "duration": 4,
    "start_time": "2023-10-09T21:00:41.876Z"
   },
   {
    "duration": 7,
    "start_time": "2023-10-09T21:00:41.882Z"
   },
   {
    "duration": 9,
    "start_time": "2023-10-09T21:00:41.890Z"
   },
   {
    "duration": 7,
    "start_time": "2023-10-09T21:00:41.901Z"
   },
   {
    "duration": 10,
    "start_time": "2023-10-09T21:00:41.909Z"
   },
   {
    "duration": 21,
    "start_time": "2023-10-09T21:00:41.941Z"
   },
   {
    "duration": 8,
    "start_time": "2023-10-09T21:00:41.964Z"
   },
   {
    "duration": 108,
    "start_time": "2023-10-09T21:00:41.973Z"
   },
   {
    "duration": 0,
    "start_time": "2023-10-09T21:00:42.083Z"
   },
   {
    "duration": 6,
    "start_time": "2023-10-09T21:01:08.032Z"
   },
   {
    "duration": 96,
    "start_time": "2023-10-09T21:01:09.231Z"
   },
   {
    "duration": 4,
    "start_time": "2023-10-09T21:01:12.700Z"
   },
   {
    "duration": 1087,
    "start_time": "2023-10-09T21:01:20.184Z"
   },
   {
    "duration": 29,
    "start_time": "2023-10-09T21:01:21.273Z"
   },
   {
    "duration": 13,
    "start_time": "2023-10-09T21:01:21.304Z"
   },
   {
    "duration": 50,
    "start_time": "2023-10-09T21:01:21.319Z"
   },
   {
    "duration": 25,
    "start_time": "2023-10-09T21:01:21.371Z"
   },
   {
    "duration": 43,
    "start_time": "2023-10-09T21:01:21.397Z"
   },
   {
    "duration": 8,
    "start_time": "2023-10-09T21:01:21.441Z"
   },
   {
    "duration": 27,
    "start_time": "2023-10-09T21:01:21.450Z"
   },
   {
    "duration": 28,
    "start_time": "2023-10-09T21:01:21.478Z"
   },
   {
    "duration": 16,
    "start_time": "2023-10-09T21:01:21.507Z"
   },
   {
    "duration": 19,
    "start_time": "2023-10-09T21:01:21.524Z"
   },
   {
    "duration": 21,
    "start_time": "2023-10-09T21:01:21.545Z"
   },
   {
    "duration": 29,
    "start_time": "2023-10-09T21:01:21.567Z"
   },
   {
    "duration": 22,
    "start_time": "2023-10-09T21:01:21.601Z"
   },
   {
    "duration": 10,
    "start_time": "2023-10-09T21:01:21.625Z"
   },
   {
    "duration": 17,
    "start_time": "2023-10-09T21:01:21.637Z"
   },
   {
    "duration": 22,
    "start_time": "2023-10-09T21:01:21.656Z"
   },
   {
    "duration": 10,
    "start_time": "2023-10-09T21:01:21.680Z"
   },
   {
    "duration": 20,
    "start_time": "2023-10-09T21:01:21.691Z"
   },
   {
    "duration": 9,
    "start_time": "2023-10-09T21:01:21.712Z"
   },
   {
    "duration": 13,
    "start_time": "2023-10-09T21:01:21.723Z"
   },
   {
    "duration": 29,
    "start_time": "2023-10-09T21:01:21.737Z"
   },
   {
    "duration": 183,
    "start_time": "2023-10-09T21:01:21.767Z"
   },
   {
    "duration": 158,
    "start_time": "2023-10-09T21:01:21.951Z"
   },
   {
    "duration": 143,
    "start_time": "2023-10-09T21:01:22.110Z"
   },
   {
    "duration": 143,
    "start_time": "2023-10-09T21:01:22.255Z"
   },
   {
    "duration": 480,
    "start_time": "2023-10-09T21:01:22.400Z"
   },
   {
    "duration": 310,
    "start_time": "2023-10-09T21:01:22.882Z"
   },
   {
    "duration": 215,
    "start_time": "2023-10-09T21:01:23.194Z"
   },
   {
    "duration": 8,
    "start_time": "2023-10-09T21:01:23.410Z"
   },
   {
    "duration": 27,
    "start_time": "2023-10-09T21:01:23.419Z"
   },
   {
    "duration": 5,
    "start_time": "2023-10-09T21:01:23.448Z"
   },
   {
    "duration": 9,
    "start_time": "2023-10-09T21:01:23.455Z"
   },
   {
    "duration": 243,
    "start_time": "2023-10-09T21:01:23.466Z"
   },
   {
    "duration": 21,
    "start_time": "2023-10-09T21:01:23.711Z"
   },
   {
    "duration": 17,
    "start_time": "2023-10-09T21:01:23.740Z"
   },
   {
    "duration": 16,
    "start_time": "2023-10-09T21:01:23.759Z"
   },
   {
    "duration": 22,
    "start_time": "2023-10-09T21:01:23.777Z"
   },
   {
    "duration": 39,
    "start_time": "2023-10-09T21:01:23.800Z"
   },
   {
    "duration": 37,
    "start_time": "2023-10-09T21:01:23.841Z"
   },
   {
    "duration": 242,
    "start_time": "2023-10-09T21:01:23.882Z"
   },
   {
    "duration": 16,
    "start_time": "2023-10-09T21:01:24.125Z"
   },
   {
    "duration": 112,
    "start_time": "2023-10-09T21:01:24.143Z"
   },
   {
    "duration": 9,
    "start_time": "2023-10-09T21:01:24.257Z"
   },
   {
    "duration": 31,
    "start_time": "2023-10-09T21:01:24.268Z"
   },
   {
    "duration": 101,
    "start_time": "2023-10-09T21:01:24.300Z"
   },
   {
    "duration": 4,
    "start_time": "2023-10-09T21:01:24.402Z"
   },
   {
    "duration": 277,
    "start_time": "2023-10-09T21:01:24.408Z"
   },
   {
    "duration": 296,
    "start_time": "2023-10-09T21:01:24.686Z"
   },
   {
    "duration": 227,
    "start_time": "2023-10-09T21:01:24.983Z"
   },
   {
    "duration": 59,
    "start_time": "2023-10-09T21:01:25.212Z"
   },
   {
    "duration": 13,
    "start_time": "2023-10-09T21:01:25.273Z"
   },
   {
    "duration": 3,
    "start_time": "2023-10-09T21:01:25.287Z"
   },
   {
    "duration": 15,
    "start_time": "2023-10-09T21:01:25.291Z"
   },
   {
    "duration": 6,
    "start_time": "2023-10-09T21:01:25.308Z"
   },
   {
    "duration": 5,
    "start_time": "2023-10-09T21:01:25.316Z"
   },
   {
    "duration": 4,
    "start_time": "2023-10-09T21:01:25.340Z"
   },
   {
    "duration": 21,
    "start_time": "2023-10-09T21:01:25.346Z"
   },
   {
    "duration": 10,
    "start_time": "2023-10-09T21:01:25.368Z"
   },
   {
    "duration": 111,
    "start_time": "2023-10-09T21:01:25.379Z"
   },
   {
    "duration": 0,
    "start_time": "2023-10-09T21:01:25.492Z"
   },
   {
    "duration": 11,
    "start_time": "2023-10-09T21:03:08.900Z"
   },
   {
    "duration": 1034,
    "start_time": "2023-10-09T21:05:18.330Z"
   },
   {
    "duration": 29,
    "start_time": "2023-10-09T21:05:19.366Z"
   },
   {
    "duration": 19,
    "start_time": "2023-10-09T21:05:19.397Z"
   },
   {
    "duration": 35,
    "start_time": "2023-10-09T21:05:19.419Z"
   },
   {
    "duration": 12,
    "start_time": "2023-10-09T21:05:19.455Z"
   },
   {
    "duration": 17,
    "start_time": "2023-10-09T21:05:19.468Z"
   },
   {
    "duration": 7,
    "start_time": "2023-10-09T21:05:19.486Z"
   },
   {
    "duration": 18,
    "start_time": "2023-10-09T21:05:19.495Z"
   },
   {
    "duration": 23,
    "start_time": "2023-10-09T21:05:19.515Z"
   },
   {
    "duration": 11,
    "start_time": "2023-10-09T21:05:19.541Z"
   },
   {
    "duration": 15,
    "start_time": "2023-10-09T21:05:19.554Z"
   },
   {
    "duration": 27,
    "start_time": "2023-10-09T21:05:19.572Z"
   },
   {
    "duration": 9,
    "start_time": "2023-10-09T21:05:19.601Z"
   },
   {
    "duration": 18,
    "start_time": "2023-10-09T21:05:19.612Z"
   },
   {
    "duration": 8,
    "start_time": "2023-10-09T21:05:19.631Z"
   },
   {
    "duration": 12,
    "start_time": "2023-10-09T21:05:19.641Z"
   },
   {
    "duration": 19,
    "start_time": "2023-10-09T21:05:19.655Z"
   },
   {
    "duration": 21,
    "start_time": "2023-10-09T21:05:19.676Z"
   },
   {
    "duration": 12,
    "start_time": "2023-10-09T21:05:19.699Z"
   },
   {
    "duration": 15,
    "start_time": "2023-10-09T21:05:19.713Z"
   },
   {
    "duration": 27,
    "start_time": "2023-10-09T21:05:19.730Z"
   },
   {
    "duration": 40,
    "start_time": "2023-10-09T21:05:19.760Z"
   },
   {
    "duration": 169,
    "start_time": "2023-10-09T21:05:19.802Z"
   },
   {
    "duration": 312,
    "start_time": "2023-10-09T21:05:19.973Z"
   },
   {
    "duration": 226,
    "start_time": "2023-10-09T21:05:20.286Z"
   },
   {
    "duration": 152,
    "start_time": "2023-10-09T21:05:20.513Z"
   },
   {
    "duration": 418,
    "start_time": "2023-10-09T21:05:20.667Z"
   },
   {
    "duration": 299,
    "start_time": "2023-10-09T21:05:21.089Z"
   },
   {
    "duration": 232,
    "start_time": "2023-10-09T21:05:21.391Z"
   },
   {
    "duration": 15,
    "start_time": "2023-10-09T21:05:21.626Z"
   },
   {
    "duration": 30,
    "start_time": "2023-10-09T21:05:21.644Z"
   },
   {
    "duration": 8,
    "start_time": "2023-10-09T21:05:21.677Z"
   },
   {
    "duration": 21,
    "start_time": "2023-10-09T21:05:21.687Z"
   },
   {
    "duration": 222,
    "start_time": "2023-10-09T21:05:21.710Z"
   },
   {
    "duration": 34,
    "start_time": "2023-10-09T21:05:21.933Z"
   },
   {
    "duration": 21,
    "start_time": "2023-10-09T21:05:21.969Z"
   },
   {
    "duration": 21,
    "start_time": "2023-10-09T21:05:21.992Z"
   },
   {
    "duration": 4,
    "start_time": "2023-10-09T21:05:22.040Z"
   },
   {
    "duration": 37,
    "start_time": "2023-10-09T21:05:22.045Z"
   },
   {
    "duration": 32,
    "start_time": "2023-10-09T21:05:22.083Z"
   },
   {
    "duration": 256,
    "start_time": "2023-10-09T21:05:22.117Z"
   },
   {
    "duration": 8,
    "start_time": "2023-10-09T21:05:22.375Z"
   },
   {
    "duration": 137,
    "start_time": "2023-10-09T21:05:22.385Z"
   },
   {
    "duration": 30,
    "start_time": "2023-10-09T21:05:22.524Z"
   },
   {
    "duration": 11,
    "start_time": "2023-10-09T21:05:22.557Z"
   },
   {
    "duration": 9,
    "start_time": "2023-10-09T21:05:22.570Z"
   },
   {
    "duration": 165,
    "start_time": "2023-10-09T21:05:22.581Z"
   },
   {
    "duration": 13,
    "start_time": "2023-10-09T21:05:22.747Z"
   },
   {
    "duration": 240,
    "start_time": "2023-10-09T21:05:22.762Z"
   },
   {
    "duration": 100,
    "start_time": "2023-10-09T21:05:23.004Z"
   },
   {
    "duration": 1,
    "start_time": "2023-10-09T21:05:23.105Z"
   },
   {
    "duration": 0,
    "start_time": "2023-10-09T21:05:23.107Z"
   },
   {
    "duration": 0,
    "start_time": "2023-10-09T21:05:23.108Z"
   },
   {
    "duration": 0,
    "start_time": "2023-10-09T21:05:23.109Z"
   },
   {
    "duration": 0,
    "start_time": "2023-10-09T21:05:23.110Z"
   },
   {
    "duration": 0,
    "start_time": "2023-10-09T21:05:23.112Z"
   },
   {
    "duration": 0,
    "start_time": "2023-10-09T21:05:23.113Z"
   },
   {
    "duration": 0,
    "start_time": "2023-10-09T21:05:23.114Z"
   },
   {
    "duration": 0,
    "start_time": "2023-10-09T21:05:23.115Z"
   },
   {
    "duration": 0,
    "start_time": "2023-10-09T21:05:23.116Z"
   },
   {
    "duration": 0,
    "start_time": "2023-10-09T21:05:23.140Z"
   },
   {
    "duration": 0,
    "start_time": "2023-10-09T21:05:23.142Z"
   },
   {
    "duration": 0,
    "start_time": "2023-10-09T21:05:23.143Z"
   },
   {
    "duration": 0,
    "start_time": "2023-10-09T21:05:23.144Z"
   },
   {
    "duration": 0,
    "start_time": "2023-10-09T21:05:23.146Z"
   },
   {
    "duration": 0,
    "start_time": "2023-10-09T21:05:23.147Z"
   },
   {
    "duration": 1201,
    "start_time": "2023-10-09T21:09:16.073Z"
   },
   {
    "duration": 67,
    "start_time": "2023-10-09T21:09:17.275Z"
   },
   {
    "duration": 18,
    "start_time": "2023-10-09T21:09:17.344Z"
   },
   {
    "duration": 80,
    "start_time": "2023-10-09T21:09:17.364Z"
   },
   {
    "duration": 9,
    "start_time": "2023-10-09T21:09:17.445Z"
   },
   {
    "duration": 30,
    "start_time": "2023-10-09T21:09:17.456Z"
   },
   {
    "duration": 9,
    "start_time": "2023-10-09T21:09:17.487Z"
   },
   {
    "duration": 38,
    "start_time": "2023-10-09T21:09:17.497Z"
   },
   {
    "duration": 33,
    "start_time": "2023-10-09T21:09:17.537Z"
   },
   {
    "duration": 9,
    "start_time": "2023-10-09T21:09:17.573Z"
   },
   {
    "duration": 11,
    "start_time": "2023-10-09T21:09:17.584Z"
   },
   {
    "duration": 12,
    "start_time": "2023-10-09T21:09:17.596Z"
   },
   {
    "duration": 43,
    "start_time": "2023-10-09T21:09:17.609Z"
   },
   {
    "duration": 17,
    "start_time": "2023-10-09T21:09:17.653Z"
   },
   {
    "duration": 7,
    "start_time": "2023-10-09T21:09:17.672Z"
   },
   {
    "duration": 6,
    "start_time": "2023-10-09T21:09:17.681Z"
   },
   {
    "duration": 9,
    "start_time": "2023-10-09T21:09:17.689Z"
   },
   {
    "duration": 40,
    "start_time": "2023-10-09T21:09:17.700Z"
   },
   {
    "duration": 14,
    "start_time": "2023-10-09T21:09:17.742Z"
   },
   {
    "duration": 13,
    "start_time": "2023-10-09T21:09:17.758Z"
   },
   {
    "duration": 17,
    "start_time": "2023-10-09T21:09:17.773Z"
   },
   {
    "duration": 24,
    "start_time": "2023-10-09T21:09:17.792Z"
   },
   {
    "duration": 236,
    "start_time": "2023-10-09T21:09:17.818Z"
   },
   {
    "duration": 156,
    "start_time": "2023-10-09T21:09:18.056Z"
   },
   {
    "duration": 142,
    "start_time": "2023-10-09T21:09:18.214Z"
   },
   {
    "duration": 134,
    "start_time": "2023-10-09T21:09:18.357Z"
   },
   {
    "duration": 387,
    "start_time": "2023-10-09T21:09:18.492Z"
   },
   {
    "duration": 300,
    "start_time": "2023-10-09T21:09:18.883Z"
   },
   {
    "duration": 262,
    "start_time": "2023-10-09T21:09:19.184Z"
   },
   {
    "duration": 8,
    "start_time": "2023-10-09T21:09:19.448Z"
   },
   {
    "duration": 35,
    "start_time": "2023-10-09T21:09:19.457Z"
   },
   {
    "duration": 24,
    "start_time": "2023-10-09T21:09:19.493Z"
   },
   {
    "duration": 32,
    "start_time": "2023-10-09T21:09:19.519Z"
   },
   {
    "duration": 235,
    "start_time": "2023-10-09T21:09:19.553Z"
   },
   {
    "duration": 21,
    "start_time": "2023-10-09T21:09:19.839Z"
   },
   {
    "duration": 17,
    "start_time": "2023-10-09T21:09:19.861Z"
   },
   {
    "duration": 70,
    "start_time": "2023-10-09T21:09:19.879Z"
   },
   {
    "duration": 12,
    "start_time": "2023-10-09T21:09:19.951Z"
   },
   {
    "duration": 70,
    "start_time": "2023-10-09T21:09:19.964Z"
   },
   {
    "duration": 61,
    "start_time": "2023-10-09T21:09:20.036Z"
   },
   {
    "duration": 308,
    "start_time": "2023-10-09T21:09:20.099Z"
   },
   {
    "duration": 9,
    "start_time": "2023-10-09T21:09:20.408Z"
   },
   {
    "duration": 106,
    "start_time": "2023-10-09T21:09:20.418Z"
   },
   {
    "duration": 25,
    "start_time": "2023-10-09T21:09:20.526Z"
   },
   {
    "duration": 39,
    "start_time": "2023-10-09T21:09:20.552Z"
   },
   {
    "duration": 51,
    "start_time": "2023-10-09T21:09:20.592Z"
   },
   {
    "duration": 106,
    "start_time": "2023-10-09T21:09:20.644Z"
   },
   {
    "duration": 14,
    "start_time": "2023-10-09T21:09:20.752Z"
   },
   {
    "duration": 245,
    "start_time": "2023-10-09T21:09:20.767Z"
   },
   {
    "duration": 96,
    "start_time": "2023-10-09T21:09:21.013Z"
   },
   {
    "duration": 0,
    "start_time": "2023-10-09T21:09:21.110Z"
   },
   {
    "duration": 0,
    "start_time": "2023-10-09T21:09:21.111Z"
   },
   {
    "duration": 0,
    "start_time": "2023-10-09T21:09:21.112Z"
   },
   {
    "duration": 0,
    "start_time": "2023-10-09T21:09:21.113Z"
   },
   {
    "duration": 0,
    "start_time": "2023-10-09T21:09:21.114Z"
   },
   {
    "duration": 0,
    "start_time": "2023-10-09T21:09:21.115Z"
   },
   {
    "duration": 0,
    "start_time": "2023-10-09T21:09:21.116Z"
   },
   {
    "duration": 0,
    "start_time": "2023-10-09T21:09:21.117Z"
   },
   {
    "duration": 0,
    "start_time": "2023-10-09T21:09:21.118Z"
   },
   {
    "duration": 0,
    "start_time": "2023-10-09T21:09:21.119Z"
   },
   {
    "duration": 0,
    "start_time": "2023-10-09T21:09:21.120Z"
   },
   {
    "duration": 0,
    "start_time": "2023-10-09T21:09:21.139Z"
   },
   {
    "duration": 0,
    "start_time": "2023-10-09T21:09:21.141Z"
   },
   {
    "duration": 0,
    "start_time": "2023-10-09T21:09:21.142Z"
   },
   {
    "duration": 0,
    "start_time": "2023-10-09T21:09:21.143Z"
   },
   {
    "duration": 0,
    "start_time": "2023-10-09T21:09:21.144Z"
   },
   {
    "duration": 11,
    "start_time": "2023-10-09T21:09:58.309Z"
   },
   {
    "duration": 13,
    "start_time": "2023-10-09T21:10:04.769Z"
   },
   {
    "duration": 13,
    "start_time": "2023-10-09T21:10:14.420Z"
   },
   {
    "duration": 13,
    "start_time": "2023-10-09T21:10:35.908Z"
   },
   {
    "duration": 14,
    "start_time": "2023-10-09T21:10:57.213Z"
   },
   {
    "duration": 988,
    "start_time": "2023-10-09T21:11:04.070Z"
   },
   {
    "duration": 29,
    "start_time": "2023-10-09T21:11:05.059Z"
   },
   {
    "duration": 12,
    "start_time": "2023-10-09T21:11:05.090Z"
   },
   {
    "duration": 40,
    "start_time": "2023-10-09T21:11:05.103Z"
   },
   {
    "duration": 15,
    "start_time": "2023-10-09T21:11:05.146Z"
   },
   {
    "duration": 76,
    "start_time": "2023-10-09T21:11:05.163Z"
   },
   {
    "duration": 49,
    "start_time": "2023-10-09T21:11:05.241Z"
   },
   {
    "duration": 32,
    "start_time": "2023-10-09T21:11:05.291Z"
   },
   {
    "duration": 29,
    "start_time": "2023-10-09T21:11:05.325Z"
   },
   {
    "duration": 37,
    "start_time": "2023-10-09T21:11:05.355Z"
   },
   {
    "duration": 86,
    "start_time": "2023-10-09T21:11:05.393Z"
   },
   {
    "duration": 17,
    "start_time": "2023-10-09T21:11:05.480Z"
   },
   {
    "duration": 15,
    "start_time": "2023-10-09T21:11:05.499Z"
   },
   {
    "duration": 21,
    "start_time": "2023-10-09T21:11:05.517Z"
   },
   {
    "duration": 14,
    "start_time": "2023-10-09T21:11:05.540Z"
   },
   {
    "duration": 10,
    "start_time": "2023-10-09T21:11:05.555Z"
   },
   {
    "duration": 14,
    "start_time": "2023-10-09T21:11:05.566Z"
   },
   {
    "duration": 10,
    "start_time": "2023-10-09T21:11:05.582Z"
   },
   {
    "duration": 38,
    "start_time": "2023-10-09T21:11:05.593Z"
   },
   {
    "duration": 15,
    "start_time": "2023-10-09T21:11:05.632Z"
   },
   {
    "duration": 20,
    "start_time": "2023-10-09T21:11:05.648Z"
   },
   {
    "duration": 18,
    "start_time": "2023-10-09T21:11:05.670Z"
   },
   {
    "duration": 266,
    "start_time": "2023-10-09T21:11:05.689Z"
   },
   {
    "duration": 159,
    "start_time": "2023-10-09T21:11:05.957Z"
   },
   {
    "duration": 255,
    "start_time": "2023-10-09T21:11:06.118Z"
   },
   {
    "duration": 132,
    "start_time": "2023-10-09T21:11:06.375Z"
   },
   {
    "duration": 397,
    "start_time": "2023-10-09T21:11:06.509Z"
   },
   {
    "duration": 287,
    "start_time": "2023-10-09T21:11:06.907Z"
   },
   {
    "duration": 208,
    "start_time": "2023-10-09T21:11:07.196Z"
   },
   {
    "duration": 9,
    "start_time": "2023-10-09T21:11:07.406Z"
   },
   {
    "duration": 28,
    "start_time": "2023-10-09T21:11:07.417Z"
   },
   {
    "duration": 5,
    "start_time": "2023-10-09T21:11:07.447Z"
   },
   {
    "duration": 102,
    "start_time": "2023-10-09T21:11:07.454Z"
   },
   {
    "duration": 0,
    "start_time": "2023-10-09T21:11:07.558Z"
   },
   {
    "duration": 0,
    "start_time": "2023-10-09T21:11:07.560Z"
   },
   {
    "duration": 0,
    "start_time": "2023-10-09T21:11:07.561Z"
   },
   {
    "duration": 0,
    "start_time": "2023-10-09T21:11:07.562Z"
   },
   {
    "duration": 0,
    "start_time": "2023-10-09T21:11:07.563Z"
   },
   {
    "duration": 0,
    "start_time": "2023-10-09T21:11:07.564Z"
   },
   {
    "duration": 0,
    "start_time": "2023-10-09T21:11:07.566Z"
   },
   {
    "duration": 0,
    "start_time": "2023-10-09T21:11:07.568Z"
   },
   {
    "duration": 0,
    "start_time": "2023-10-09T21:11:07.570Z"
   },
   {
    "duration": 0,
    "start_time": "2023-10-09T21:11:07.571Z"
   },
   {
    "duration": 0,
    "start_time": "2023-10-09T21:11:07.572Z"
   },
   {
    "duration": 0,
    "start_time": "2023-10-09T21:11:07.573Z"
   },
   {
    "duration": 0,
    "start_time": "2023-10-09T21:11:07.574Z"
   },
   {
    "duration": 0,
    "start_time": "2023-10-09T21:11:07.574Z"
   },
   {
    "duration": 0,
    "start_time": "2023-10-09T21:11:07.576Z"
   },
   {
    "duration": 0,
    "start_time": "2023-10-09T21:11:07.578Z"
   },
   {
    "duration": 0,
    "start_time": "2023-10-09T21:11:07.579Z"
   },
   {
    "duration": 0,
    "start_time": "2023-10-09T21:11:07.580Z"
   },
   {
    "duration": 0,
    "start_time": "2023-10-09T21:11:07.582Z"
   },
   {
    "duration": 0,
    "start_time": "2023-10-09T21:11:07.583Z"
   },
   {
    "duration": 0,
    "start_time": "2023-10-09T21:11:07.585Z"
   },
   {
    "duration": 0,
    "start_time": "2023-10-09T21:11:07.587Z"
   },
   {
    "duration": 0,
    "start_time": "2023-10-09T21:11:07.639Z"
   },
   {
    "duration": 0,
    "start_time": "2023-10-09T21:11:07.641Z"
   },
   {
    "duration": 0,
    "start_time": "2023-10-09T21:11:07.643Z"
   },
   {
    "duration": 0,
    "start_time": "2023-10-09T21:11:07.644Z"
   },
   {
    "duration": 0,
    "start_time": "2023-10-09T21:11:07.645Z"
   },
   {
    "duration": 0,
    "start_time": "2023-10-09T21:11:07.646Z"
   },
   {
    "duration": 0,
    "start_time": "2023-10-09T21:11:07.648Z"
   },
   {
    "duration": 0,
    "start_time": "2023-10-09T21:11:07.649Z"
   },
   {
    "duration": 0,
    "start_time": "2023-10-09T21:11:07.651Z"
   },
   {
    "duration": 0,
    "start_time": "2023-10-09T21:11:07.652Z"
   },
   {
    "duration": 0,
    "start_time": "2023-10-09T21:11:07.653Z"
   },
   {
    "duration": 7,
    "start_time": "2023-10-09T21:11:20.241Z"
   },
   {
    "duration": 7,
    "start_time": "2023-10-09T21:11:24.035Z"
   },
   {
    "duration": 1007,
    "start_time": "2023-10-09T21:11:44.037Z"
   },
   {
    "duration": 29,
    "start_time": "2023-10-09T21:11:45.046Z"
   },
   {
    "duration": 40,
    "start_time": "2023-10-09T21:11:45.076Z"
   },
   {
    "duration": 59,
    "start_time": "2023-10-09T21:11:45.118Z"
   },
   {
    "duration": 10,
    "start_time": "2023-10-09T21:11:45.179Z"
   },
   {
    "duration": 59,
    "start_time": "2023-10-09T21:11:45.190Z"
   },
   {
    "duration": 46,
    "start_time": "2023-10-09T21:11:45.250Z"
   },
   {
    "duration": 36,
    "start_time": "2023-10-09T21:11:45.298Z"
   },
   {
    "duration": 41,
    "start_time": "2023-10-09T21:11:45.336Z"
   },
   {
    "duration": 27,
    "start_time": "2023-10-09T21:11:45.380Z"
   },
   {
    "duration": 14,
    "start_time": "2023-10-09T21:11:45.409Z"
   },
   {
    "duration": 20,
    "start_time": "2023-10-09T21:11:45.425Z"
   },
   {
    "duration": 17,
    "start_time": "2023-10-09T21:11:45.446Z"
   },
   {
    "duration": 11,
    "start_time": "2023-10-09T21:11:45.464Z"
   },
   {
    "duration": 35,
    "start_time": "2023-10-09T21:11:45.477Z"
   },
   {
    "duration": 19,
    "start_time": "2023-10-09T21:11:45.514Z"
   },
   {
    "duration": 51,
    "start_time": "2023-10-09T21:11:45.534Z"
   },
   {
    "duration": 21,
    "start_time": "2023-10-09T21:11:45.586Z"
   },
   {
    "duration": 34,
    "start_time": "2023-10-09T21:11:45.608Z"
   },
   {
    "duration": 9,
    "start_time": "2023-10-09T21:11:45.643Z"
   },
   {
    "duration": 29,
    "start_time": "2023-10-09T21:11:45.654Z"
   },
   {
    "duration": 34,
    "start_time": "2023-10-09T21:11:45.685Z"
   },
   {
    "duration": 154,
    "start_time": "2023-10-09T21:11:45.721Z"
   },
   {
    "duration": 153,
    "start_time": "2023-10-09T21:11:45.876Z"
   },
   {
    "duration": 128,
    "start_time": "2023-10-09T21:11:46.031Z"
   },
   {
    "duration": 136,
    "start_time": "2023-10-09T21:11:46.161Z"
   },
   {
    "duration": 391,
    "start_time": "2023-10-09T21:11:46.299Z"
   },
   {
    "duration": 278,
    "start_time": "2023-10-09T21:11:46.694Z"
   },
   {
    "duration": 207,
    "start_time": "2023-10-09T21:11:46.974Z"
   },
   {
    "duration": 9,
    "start_time": "2023-10-09T21:11:47.182Z"
   },
   {
    "duration": 107,
    "start_time": "2023-10-09T21:11:47.192Z"
   },
   {
    "duration": 18,
    "start_time": "2023-10-09T21:11:47.300Z"
   },
   {
    "duration": 6,
    "start_time": "2023-10-09T21:11:47.321Z"
   },
   {
    "duration": 220,
    "start_time": "2023-10-09T21:11:47.329Z"
   },
   {
    "duration": 22,
    "start_time": "2023-10-09T21:11:47.551Z"
   },
   {
    "duration": 20,
    "start_time": "2023-10-09T21:11:47.575Z"
   },
   {
    "duration": 47,
    "start_time": "2023-10-09T21:11:47.596Z"
   },
   {
    "duration": 4,
    "start_time": "2023-10-09T21:11:47.644Z"
   },
   {
    "duration": 31,
    "start_time": "2023-10-09T21:11:47.649Z"
   },
   {
    "duration": 26,
    "start_time": "2023-10-09T21:11:47.682Z"
   },
   {
    "duration": 233,
    "start_time": "2023-10-09T21:11:47.709Z"
   },
   {
    "duration": 9,
    "start_time": "2023-10-09T21:11:47.943Z"
   },
   {
    "duration": 118,
    "start_time": "2023-10-09T21:11:47.953Z"
   },
   {
    "duration": 49,
    "start_time": "2023-10-09T21:11:48.073Z"
   },
   {
    "duration": 24,
    "start_time": "2023-10-09T21:11:48.125Z"
   },
   {
    "duration": 10,
    "start_time": "2023-10-09T21:11:48.151Z"
   },
   {
    "duration": 131,
    "start_time": "2023-10-09T21:11:48.163Z"
   },
   {
    "duration": 12,
    "start_time": "2023-10-09T21:11:48.295Z"
   },
   {
    "duration": 267,
    "start_time": "2023-10-09T21:11:48.308Z"
   },
   {
    "duration": 139,
    "start_time": "2023-10-09T21:11:48.577Z"
   },
   {
    "duration": 0,
    "start_time": "2023-10-09T21:11:48.718Z"
   },
   {
    "duration": 0,
    "start_time": "2023-10-09T21:11:48.720Z"
   },
   {
    "duration": 0,
    "start_time": "2023-10-09T21:11:48.723Z"
   },
   {
    "duration": 0,
    "start_time": "2023-10-09T21:11:48.724Z"
   },
   {
    "duration": 0,
    "start_time": "2023-10-09T21:11:48.726Z"
   },
   {
    "duration": 0,
    "start_time": "2023-10-09T21:11:48.740Z"
   },
   {
    "duration": 0,
    "start_time": "2023-10-09T21:11:48.742Z"
   },
   {
    "duration": 0,
    "start_time": "2023-10-09T21:11:48.743Z"
   },
   {
    "duration": 0,
    "start_time": "2023-10-09T21:11:48.744Z"
   },
   {
    "duration": 0,
    "start_time": "2023-10-09T21:11:48.746Z"
   },
   {
    "duration": 0,
    "start_time": "2023-10-09T21:11:48.748Z"
   },
   {
    "duration": 0,
    "start_time": "2023-10-09T21:11:48.749Z"
   },
   {
    "duration": 0,
    "start_time": "2023-10-09T21:11:48.751Z"
   },
   {
    "duration": 0,
    "start_time": "2023-10-09T21:11:48.752Z"
   },
   {
    "duration": 0,
    "start_time": "2023-10-09T21:11:48.754Z"
   },
   {
    "duration": 0,
    "start_time": "2023-10-09T21:11:48.755Z"
   },
   {
    "duration": 4,
    "start_time": "2023-10-09T21:12:41.589Z"
   },
   {
    "duration": 324,
    "start_time": "2023-10-09T21:14:19.197Z"
   },
   {
    "duration": 13,
    "start_time": "2023-10-09T21:14:57.543Z"
   },
   {
    "duration": 139,
    "start_time": "2023-10-09T21:15:03.116Z"
   },
   {
    "duration": 135,
    "start_time": "2023-10-09T21:15:07.703Z"
   },
   {
    "duration": 123,
    "start_time": "2023-10-09T21:15:15.095Z"
   },
   {
    "duration": 11,
    "start_time": "2023-10-09T21:15:42.675Z"
   },
   {
    "duration": 10,
    "start_time": "2023-10-09T21:16:23.169Z"
   },
   {
    "duration": 7,
    "start_time": "2023-10-09T21:16:24.606Z"
   },
   {
    "duration": 137,
    "start_time": "2023-10-09T21:16:29.478Z"
   },
   {
    "duration": 3,
    "start_time": "2023-10-09T21:16:35.119Z"
   },
   {
    "duration": 10,
    "start_time": "2023-10-09T21:18:36.295Z"
   },
   {
    "duration": 85,
    "start_time": "2023-10-09T21:19:25.269Z"
   },
   {
    "duration": 87,
    "start_time": "2023-10-09T21:19:35.989Z"
   },
   {
    "duration": 9,
    "start_time": "2023-10-09T21:20:00.581Z"
   },
   {
    "duration": 10,
    "start_time": "2023-10-09T21:20:35.378Z"
   },
   {
    "duration": 9,
    "start_time": "2023-10-09T21:20:43.977Z"
   },
   {
    "duration": 6,
    "start_time": "2023-10-09T21:20:59.613Z"
   },
   {
    "duration": 89,
    "start_time": "2023-10-09T21:21:08.405Z"
   },
   {
    "duration": 85,
    "start_time": "2023-10-09T21:21:12.933Z"
   },
   {
    "duration": 4,
    "start_time": "2023-10-09T21:21:18.017Z"
   },
   {
    "duration": 329,
    "start_time": "2023-10-09T21:22:32.272Z"
   },
   {
    "duration": 8,
    "start_time": "2023-10-09T21:22:49.071Z"
   },
   {
    "duration": 79,
    "start_time": "2023-10-09T21:22:54.579Z"
   },
   {
    "duration": 11,
    "start_time": "2023-10-09T21:23:32.687Z"
   },
   {
    "duration": 5,
    "start_time": "2023-10-09T21:23:47.291Z"
   },
   {
    "duration": 79,
    "start_time": "2023-10-09T21:23:52.234Z"
   },
   {
    "duration": 4,
    "start_time": "2023-10-09T21:23:56.909Z"
   },
   {
    "duration": 1050,
    "start_time": "2023-10-09T21:29:50.798Z"
   },
   {
    "duration": 28,
    "start_time": "2023-10-09T21:29:51.850Z"
   },
   {
    "duration": 11,
    "start_time": "2023-10-09T21:29:51.880Z"
   },
   {
    "duration": 50,
    "start_time": "2023-10-09T21:29:51.893Z"
   },
   {
    "duration": 17,
    "start_time": "2023-10-09T21:29:51.944Z"
   },
   {
    "duration": 23,
    "start_time": "2023-10-09T21:29:51.962Z"
   },
   {
    "duration": 5,
    "start_time": "2023-10-09T21:29:51.986Z"
   },
   {
    "duration": 46,
    "start_time": "2023-10-09T21:29:51.992Z"
   },
   {
    "duration": 20,
    "start_time": "2023-10-09T21:29:52.040Z"
   },
   {
    "duration": 23,
    "start_time": "2023-10-09T21:29:52.063Z"
   },
   {
    "duration": 25,
    "start_time": "2023-10-09T21:29:52.087Z"
   },
   {
    "duration": 27,
    "start_time": "2023-10-09T21:29:52.113Z"
   },
   {
    "duration": 19,
    "start_time": "2023-10-09T21:29:52.142Z"
   },
   {
    "duration": 18,
    "start_time": "2023-10-09T21:29:52.163Z"
   },
   {
    "duration": 17,
    "start_time": "2023-10-09T21:29:52.182Z"
   },
   {
    "duration": 18,
    "start_time": "2023-10-09T21:29:52.201Z"
   },
   {
    "duration": 14,
    "start_time": "2023-10-09T21:29:52.221Z"
   },
   {
    "duration": 15,
    "start_time": "2023-10-09T21:29:52.236Z"
   },
   {
    "duration": 23,
    "start_time": "2023-10-09T21:29:52.252Z"
   },
   {
    "duration": 10,
    "start_time": "2023-10-09T21:29:52.276Z"
   },
   {
    "duration": 33,
    "start_time": "2023-10-09T21:29:52.288Z"
   },
   {
    "duration": 56,
    "start_time": "2023-10-09T21:29:52.323Z"
   },
   {
    "duration": 189,
    "start_time": "2023-10-09T21:29:52.381Z"
   },
   {
    "duration": 215,
    "start_time": "2023-10-09T21:29:52.571Z"
   },
   {
    "duration": 129,
    "start_time": "2023-10-09T21:29:52.788Z"
   },
   {
    "duration": 144,
    "start_time": "2023-10-09T21:29:52.918Z"
   },
   {
    "duration": 396,
    "start_time": "2023-10-09T21:29:53.064Z"
   },
   {
    "duration": 300,
    "start_time": "2023-10-09T21:29:53.465Z"
   },
   {
    "duration": 202,
    "start_time": "2023-10-09T21:29:53.766Z"
   },
   {
    "duration": 8,
    "start_time": "2023-10-09T21:29:53.969Z"
   },
   {
    "duration": 24,
    "start_time": "2023-10-09T21:29:53.978Z"
   },
   {
    "duration": 4,
    "start_time": "2023-10-09T21:29:54.004Z"
   },
   {
    "duration": 12,
    "start_time": "2023-10-09T21:29:54.009Z"
   },
   {
    "duration": 203,
    "start_time": "2023-10-09T21:29:54.022Z"
   },
   {
    "duration": 34,
    "start_time": "2023-10-09T21:29:54.226Z"
   },
   {
    "duration": 18,
    "start_time": "2023-10-09T21:29:54.262Z"
   },
   {
    "duration": 14,
    "start_time": "2023-10-09T21:29:54.281Z"
   },
   {
    "duration": 7,
    "start_time": "2023-10-09T21:29:54.297Z"
   },
   {
    "duration": 48,
    "start_time": "2023-10-09T21:29:54.305Z"
   },
   {
    "duration": 24,
    "start_time": "2023-10-09T21:29:54.354Z"
   },
   {
    "duration": 225,
    "start_time": "2023-10-09T21:29:54.379Z"
   },
   {
    "duration": 10,
    "start_time": "2023-10-09T21:29:54.606Z"
   },
   {
    "duration": 99,
    "start_time": "2023-10-09T21:29:54.618Z"
   },
   {
    "duration": 8,
    "start_time": "2023-10-09T21:29:54.719Z"
   },
   {
    "duration": 10,
    "start_time": "2023-10-09T21:29:54.729Z"
   },
   {
    "duration": 99,
    "start_time": "2023-10-09T21:29:54.741Z"
   },
   {
    "duration": 3,
    "start_time": "2023-10-09T21:29:54.842Z"
   },
   {
    "duration": 215,
    "start_time": "2023-10-09T21:29:54.846Z"
   },
   {
    "duration": 8,
    "start_time": "2023-10-09T21:29:55.063Z"
   },
   {
    "duration": 158,
    "start_time": "2023-10-09T21:29:55.073Z"
   },
   {
    "duration": 13,
    "start_time": "2023-10-09T21:29:55.233Z"
   },
   {
    "duration": 40,
    "start_time": "2023-10-09T21:29:55.248Z"
   },
   {
    "duration": 122,
    "start_time": "2023-10-09T21:29:55.289Z"
   },
   {
    "duration": 4,
    "start_time": "2023-10-09T21:29:55.413Z"
   },
   {
    "duration": 245,
    "start_time": "2023-10-09T21:29:55.418Z"
   },
   {
    "duration": 8,
    "start_time": "2023-10-09T21:29:55.664Z"
   },
   {
    "duration": 115,
    "start_time": "2023-10-09T21:29:55.673Z"
   },
   {
    "duration": 11,
    "start_time": "2023-10-09T21:29:55.790Z"
   },
   {
    "duration": 82,
    "start_time": "2023-10-09T21:29:55.803Z"
   },
   {
    "duration": 91,
    "start_time": "2023-10-09T21:29:55.886Z"
   },
   {
    "duration": 3,
    "start_time": "2023-10-09T21:29:55.978Z"
   },
   {
    "duration": 224,
    "start_time": "2023-10-09T21:29:55.982Z"
   },
   {
    "duration": 8,
    "start_time": "2023-10-09T21:29:56.208Z"
   },
   {
    "duration": 129,
    "start_time": "2023-10-09T21:29:56.217Z"
   },
   {
    "duration": 12,
    "start_time": "2023-10-09T21:29:56.348Z"
   },
   {
    "duration": 16,
    "start_time": "2023-10-09T21:29:56.362Z"
   },
   {
    "duration": 112,
    "start_time": "2023-10-09T21:29:56.380Z"
   },
   {
    "duration": 4,
    "start_time": "2023-10-09T21:29:56.493Z"
   },
   {
    "duration": 100,
    "start_time": "2023-10-09T21:29:56.498Z"
   },
   {
    "duration": 0,
    "start_time": "2023-10-09T21:29:56.600Z"
   },
   {
    "duration": 0,
    "start_time": "2023-10-09T21:29:56.601Z"
   },
   {
    "duration": 0,
    "start_time": "2023-10-09T21:29:56.602Z"
   },
   {
    "duration": 0,
    "start_time": "2023-10-09T21:29:56.603Z"
   },
   {
    "duration": 0,
    "start_time": "2023-10-09T21:29:56.604Z"
   },
   {
    "duration": 0,
    "start_time": "2023-10-09T21:29:56.605Z"
   },
   {
    "duration": 0,
    "start_time": "2023-10-09T21:29:56.606Z"
   },
   {
    "duration": 0,
    "start_time": "2023-10-09T21:29:56.607Z"
   },
   {
    "duration": 0,
    "start_time": "2023-10-09T21:29:56.608Z"
   },
   {
    "duration": 0,
    "start_time": "2023-10-09T21:29:56.609Z"
   },
   {
    "duration": 0,
    "start_time": "2023-10-09T21:29:56.610Z"
   },
   {
    "duration": 0,
    "start_time": "2023-10-09T21:29:56.611Z"
   },
   {
    "duration": 0,
    "start_time": "2023-10-09T21:29:56.612Z"
   },
   {
    "duration": 0,
    "start_time": "2023-10-09T21:29:56.613Z"
   },
   {
    "duration": 0,
    "start_time": "2023-10-09T21:29:56.614Z"
   },
   {
    "duration": 0,
    "start_time": "2023-10-09T21:29:56.615Z"
   },
   {
    "duration": 266,
    "start_time": "2023-10-09T21:32:54.164Z"
   },
   {
    "duration": 1066,
    "start_time": "2023-10-09T21:38:32.479Z"
   },
   {
    "duration": 29,
    "start_time": "2023-10-09T21:38:33.547Z"
   },
   {
    "duration": 12,
    "start_time": "2023-10-09T21:38:33.577Z"
   },
   {
    "duration": 50,
    "start_time": "2023-10-09T21:38:33.592Z"
   },
   {
    "duration": 11,
    "start_time": "2023-10-09T21:38:33.644Z"
   },
   {
    "duration": 18,
    "start_time": "2023-10-09T21:38:33.656Z"
   },
   {
    "duration": 7,
    "start_time": "2023-10-09T21:38:33.675Z"
   },
   {
    "duration": 21,
    "start_time": "2023-10-09T21:38:33.684Z"
   },
   {
    "duration": 12,
    "start_time": "2023-10-09T21:38:33.706Z"
   },
   {
    "duration": 10,
    "start_time": "2023-10-09T21:38:33.721Z"
   },
   {
    "duration": 19,
    "start_time": "2023-10-09T21:38:33.732Z"
   },
   {
    "duration": 11,
    "start_time": "2023-10-09T21:38:33.753Z"
   },
   {
    "duration": 13,
    "start_time": "2023-10-09T21:38:33.766Z"
   },
   {
    "duration": 5,
    "start_time": "2023-10-09T21:38:33.780Z"
   },
   {
    "duration": 8,
    "start_time": "2023-10-09T21:38:33.786Z"
   },
   {
    "duration": 13,
    "start_time": "2023-10-09T21:38:33.795Z"
   },
   {
    "duration": 33,
    "start_time": "2023-10-09T21:38:33.810Z"
   },
   {
    "duration": 12,
    "start_time": "2023-10-09T21:38:33.844Z"
   },
   {
    "duration": 11,
    "start_time": "2023-10-09T21:38:33.857Z"
   },
   {
    "duration": 8,
    "start_time": "2023-10-09T21:38:33.870Z"
   },
   {
    "duration": 24,
    "start_time": "2023-10-09T21:38:33.880Z"
   },
   {
    "duration": 35,
    "start_time": "2023-10-09T21:38:33.905Z"
   },
   {
    "duration": 161,
    "start_time": "2023-10-09T21:38:33.942Z"
   },
   {
    "duration": 155,
    "start_time": "2023-10-09T21:38:34.105Z"
   },
   {
    "duration": 127,
    "start_time": "2023-10-09T21:38:34.263Z"
   },
   {
    "duration": 129,
    "start_time": "2023-10-09T21:38:34.391Z"
   },
   {
    "duration": 410,
    "start_time": "2023-10-09T21:38:34.523Z"
   },
   {
    "duration": 286,
    "start_time": "2023-10-09T21:38:34.938Z"
   },
   {
    "duration": 205,
    "start_time": "2023-10-09T21:38:35.225Z"
   },
   {
    "duration": 13,
    "start_time": "2023-10-09T21:38:35.431Z"
   },
   {
    "duration": 14,
    "start_time": "2023-10-09T21:38:35.446Z"
   },
   {
    "duration": 16,
    "start_time": "2023-10-09T21:38:35.461Z"
   },
   {
    "duration": 8,
    "start_time": "2023-10-09T21:38:35.479Z"
   },
   {
    "duration": 233,
    "start_time": "2023-10-09T21:38:35.489Z"
   },
   {
    "duration": 28,
    "start_time": "2023-10-09T21:38:35.723Z"
   },
   {
    "duration": 17,
    "start_time": "2023-10-09T21:38:35.752Z"
   },
   {
    "duration": 14,
    "start_time": "2023-10-09T21:38:35.770Z"
   },
   {
    "duration": 4,
    "start_time": "2023-10-09T21:38:35.785Z"
   },
   {
    "duration": 69,
    "start_time": "2023-10-09T21:38:35.790Z"
   },
   {
    "duration": 34,
    "start_time": "2023-10-09T21:38:35.861Z"
   },
   {
    "duration": 237,
    "start_time": "2023-10-09T21:38:35.897Z"
   },
   {
    "duration": 11,
    "start_time": "2023-10-09T21:38:36.135Z"
   },
   {
    "duration": 123,
    "start_time": "2023-10-09T21:38:36.148Z"
   },
   {
    "duration": 9,
    "start_time": "2023-10-09T21:38:36.273Z"
   },
   {
    "duration": 19,
    "start_time": "2023-10-09T21:38:36.283Z"
   },
   {
    "duration": 126,
    "start_time": "2023-10-09T21:38:36.303Z"
   },
   {
    "duration": 3,
    "start_time": "2023-10-09T21:38:36.439Z"
   },
   {
    "duration": 227,
    "start_time": "2023-10-09T21:38:36.443Z"
   },
   {
    "duration": 8,
    "start_time": "2023-10-09T21:38:36.672Z"
   },
   {
    "duration": 171,
    "start_time": "2023-10-09T21:38:36.681Z"
   },
   {
    "duration": 10,
    "start_time": "2023-10-09T21:38:36.853Z"
   },
   {
    "duration": 5,
    "start_time": "2023-10-09T21:38:36.864Z"
   },
   {
    "duration": 105,
    "start_time": "2023-10-09T21:38:36.870Z"
   },
   {
    "duration": 3,
    "start_time": "2023-10-09T21:38:36.976Z"
   },
   {
    "duration": 231,
    "start_time": "2023-10-09T21:38:36.981Z"
   },
   {
    "duration": 9,
    "start_time": "2023-10-09T21:38:37.214Z"
   },
   {
    "duration": 90,
    "start_time": "2023-10-09T21:38:37.225Z"
   },
   {
    "duration": 37,
    "start_time": "2023-10-09T21:38:37.317Z"
   },
   {
    "duration": 6,
    "start_time": "2023-10-09T21:38:37.357Z"
   },
   {
    "duration": 98,
    "start_time": "2023-10-09T21:38:37.365Z"
   },
   {
    "duration": 4,
    "start_time": "2023-10-09T21:38:37.464Z"
   },
   {
    "duration": 245,
    "start_time": "2023-10-09T21:38:37.469Z"
   },
   {
    "duration": 7,
    "start_time": "2023-10-09T21:38:37.716Z"
   },
   {
    "duration": 96,
    "start_time": "2023-10-09T21:38:37.725Z"
   },
   {
    "duration": 18,
    "start_time": "2023-10-09T21:38:37.822Z"
   },
   {
    "duration": 15,
    "start_time": "2023-10-09T21:38:37.843Z"
   },
   {
    "duration": 90,
    "start_time": "2023-10-09T21:38:37.859Z"
   },
   {
    "duration": 5,
    "start_time": "2023-10-09T21:38:37.951Z"
   },
   {
    "duration": 158,
    "start_time": "2023-10-09T21:38:37.959Z"
   },
   {
    "duration": 0,
    "start_time": "2023-10-09T21:38:38.118Z"
   },
   {
    "duration": 0,
    "start_time": "2023-10-09T21:38:38.120Z"
   },
   {
    "duration": 0,
    "start_time": "2023-10-09T21:38:38.121Z"
   },
   {
    "duration": 0,
    "start_time": "2023-10-09T21:38:38.122Z"
   },
   {
    "duration": 0,
    "start_time": "2023-10-09T21:38:38.123Z"
   },
   {
    "duration": 0,
    "start_time": "2023-10-09T21:38:38.124Z"
   },
   {
    "duration": 0,
    "start_time": "2023-10-09T21:38:38.124Z"
   },
   {
    "duration": 0,
    "start_time": "2023-10-09T21:38:38.125Z"
   },
   {
    "duration": 0,
    "start_time": "2023-10-09T21:38:38.139Z"
   },
   {
    "duration": 0,
    "start_time": "2023-10-09T21:38:38.141Z"
   },
   {
    "duration": 0,
    "start_time": "2023-10-09T21:38:38.142Z"
   },
   {
    "duration": 0,
    "start_time": "2023-10-09T21:38:38.143Z"
   },
   {
    "duration": 1,
    "start_time": "2023-10-09T21:38:38.143Z"
   },
   {
    "duration": 0,
    "start_time": "2023-10-09T21:38:38.144Z"
   },
   {
    "duration": 0,
    "start_time": "2023-10-09T21:38:38.145Z"
   },
   {
    "duration": 0,
    "start_time": "2023-10-09T21:38:38.146Z"
   },
   {
    "duration": 995,
    "start_time": "2023-10-09T21:41:29.458Z"
   },
   {
    "duration": 30,
    "start_time": "2023-10-09T21:41:30.454Z"
   },
   {
    "duration": 21,
    "start_time": "2023-10-09T21:41:30.485Z"
   },
   {
    "duration": 64,
    "start_time": "2023-10-09T21:41:30.508Z"
   },
   {
    "duration": 34,
    "start_time": "2023-10-09T21:41:30.573Z"
   },
   {
    "duration": 64,
    "start_time": "2023-10-09T21:41:30.608Z"
   },
   {
    "duration": 15,
    "start_time": "2023-10-09T21:41:30.673Z"
   },
   {
    "duration": 38,
    "start_time": "2023-10-09T21:41:30.690Z"
   },
   {
    "duration": 36,
    "start_time": "2023-10-09T21:41:30.730Z"
   },
   {
    "duration": 55,
    "start_time": "2023-10-09T21:41:30.769Z"
   },
   {
    "duration": 29,
    "start_time": "2023-10-09T21:41:30.826Z"
   },
   {
    "duration": 43,
    "start_time": "2023-10-09T21:41:30.857Z"
   },
   {
    "duration": 104,
    "start_time": "2023-10-09T21:41:30.901Z"
   },
   {
    "duration": 26,
    "start_time": "2023-10-09T21:41:31.006Z"
   },
   {
    "duration": 46,
    "start_time": "2023-10-09T21:41:31.033Z"
   },
   {
    "duration": 26,
    "start_time": "2023-10-09T21:41:31.081Z"
   },
   {
    "duration": 32,
    "start_time": "2023-10-09T21:41:31.109Z"
   },
   {
    "duration": 25,
    "start_time": "2023-10-09T21:41:31.142Z"
   },
   {
    "duration": 32,
    "start_time": "2023-10-09T21:41:31.168Z"
   },
   {
    "duration": 22,
    "start_time": "2023-10-09T21:41:31.202Z"
   },
   {
    "duration": 52,
    "start_time": "2023-10-09T21:41:31.225Z"
   },
   {
    "duration": 58,
    "start_time": "2023-10-09T21:41:31.278Z"
   },
   {
    "duration": 178,
    "start_time": "2023-10-09T21:41:31.338Z"
   },
   {
    "duration": 166,
    "start_time": "2023-10-09T21:41:31.517Z"
   },
   {
    "duration": 127,
    "start_time": "2023-10-09T21:41:31.685Z"
   },
   {
    "duration": 136,
    "start_time": "2023-10-09T21:41:31.814Z"
   },
   {
    "duration": 368,
    "start_time": "2023-10-09T21:41:31.951Z"
   },
   {
    "duration": 284,
    "start_time": "2023-10-09T21:41:32.324Z"
   },
   {
    "duration": 246,
    "start_time": "2023-10-09T21:41:32.610Z"
   },
   {
    "duration": 8,
    "start_time": "2023-10-09T21:41:32.858Z"
   },
   {
    "duration": 29,
    "start_time": "2023-10-09T21:41:32.868Z"
   },
   {
    "duration": 60,
    "start_time": "2023-10-09T21:41:32.898Z"
   },
   {
    "duration": 51,
    "start_time": "2023-10-09T21:41:32.960Z"
   },
   {
    "duration": 253,
    "start_time": "2023-10-09T21:41:33.012Z"
   },
   {
    "duration": 49,
    "start_time": "2023-10-09T21:41:33.267Z"
   },
   {
    "duration": 95,
    "start_time": "2023-10-09T21:41:33.318Z"
   },
   {
    "duration": 15,
    "start_time": "2023-10-09T21:41:33.414Z"
   },
   {
    "duration": 9,
    "start_time": "2023-10-09T21:41:33.430Z"
   },
   {
    "duration": 32,
    "start_time": "2023-10-09T21:41:33.441Z"
   },
   {
    "duration": 24,
    "start_time": "2023-10-09T21:41:33.474Z"
   },
   {
    "duration": 234,
    "start_time": "2023-10-09T21:41:33.500Z"
   },
   {
    "duration": 10,
    "start_time": "2023-10-09T21:41:33.736Z"
   },
   {
    "duration": 110,
    "start_time": "2023-10-09T21:41:33.747Z"
   },
   {
    "duration": 10,
    "start_time": "2023-10-09T21:41:33.859Z"
   },
   {
    "duration": 26,
    "start_time": "2023-10-09T21:41:33.870Z"
   },
   {
    "duration": 107,
    "start_time": "2023-10-09T21:41:33.897Z"
   },
   {
    "duration": 3,
    "start_time": "2023-10-09T21:41:34.006Z"
   },
   {
    "duration": 282,
    "start_time": "2023-10-09T21:41:34.011Z"
   },
   {
    "duration": 8,
    "start_time": "2023-10-09T21:41:34.295Z"
   },
   {
    "duration": 178,
    "start_time": "2023-10-09T21:41:34.305Z"
   },
   {
    "duration": 8,
    "start_time": "2023-10-09T21:41:34.484Z"
   },
   {
    "duration": 46,
    "start_time": "2023-10-09T21:41:34.494Z"
   },
   {
    "duration": 105,
    "start_time": "2023-10-09T21:41:34.541Z"
   },
   {
    "duration": 3,
    "start_time": "2023-10-09T21:41:34.647Z"
   },
   {
    "duration": 212,
    "start_time": "2023-10-09T21:41:34.651Z"
   },
   {
    "duration": 9,
    "start_time": "2023-10-09T21:41:34.864Z"
   },
   {
    "duration": 96,
    "start_time": "2023-10-09T21:41:34.875Z"
   },
   {
    "duration": 9,
    "start_time": "2023-10-09T21:41:34.973Z"
   },
   {
    "duration": 4,
    "start_time": "2023-10-09T21:41:34.984Z"
   },
   {
    "duration": 100,
    "start_time": "2023-10-09T21:41:34.990Z"
   },
   {
    "duration": 3,
    "start_time": "2023-10-09T21:41:35.092Z"
   },
   {
    "duration": 233,
    "start_time": "2023-10-09T21:41:35.097Z"
   },
   {
    "duration": 11,
    "start_time": "2023-10-09T21:41:35.331Z"
   },
   {
    "duration": 99,
    "start_time": "2023-10-09T21:41:35.344Z"
   },
   {
    "duration": 9,
    "start_time": "2023-10-09T21:41:35.445Z"
   },
   {
    "duration": 28,
    "start_time": "2023-10-09T21:41:35.456Z"
   },
   {
    "duration": 126,
    "start_time": "2023-10-09T21:41:35.486Z"
   },
   {
    "duration": 3,
    "start_time": "2023-10-09T21:41:35.614Z"
   },
   {
    "duration": 54,
    "start_time": "2023-10-09T21:41:35.619Z"
   },
   {
    "duration": 10,
    "start_time": "2023-10-09T21:41:35.675Z"
   },
   {
    "duration": 23,
    "start_time": "2023-10-09T21:41:35.687Z"
   },
   {
    "duration": 16,
    "start_time": "2023-10-09T21:41:35.711Z"
   },
   {
    "duration": 14,
    "start_time": "2023-10-09T21:41:35.728Z"
   },
   {
    "duration": 16,
    "start_time": "2023-10-09T21:41:35.744Z"
   },
   {
    "duration": 33,
    "start_time": "2023-10-09T21:41:35.761Z"
   },
   {
    "duration": 17,
    "start_time": "2023-10-09T21:41:35.795Z"
   },
   {
    "duration": 13,
    "start_time": "2023-10-09T21:41:35.813Z"
   },
   {
    "duration": 15,
    "start_time": "2023-10-09T21:41:35.828Z"
   },
   {
    "duration": 101,
    "start_time": "2023-10-09T21:41:35.844Z"
   },
   {
    "duration": 0,
    "start_time": "2023-10-09T21:41:35.947Z"
   },
   {
    "duration": 0,
    "start_time": "2023-10-09T21:41:35.948Z"
   },
   {
    "duration": 0,
    "start_time": "2023-10-09T21:41:35.948Z"
   },
   {
    "duration": 0,
    "start_time": "2023-10-09T21:41:35.949Z"
   },
   {
    "duration": 0,
    "start_time": "2023-10-09T21:41:35.949Z"
   },
   {
    "duration": 0,
    "start_time": "2023-10-09T21:41:35.950Z"
   },
   {
    "duration": 7,
    "start_time": "2023-10-09T21:50:58.981Z"
   },
   {
    "duration": 1030,
    "start_time": "2023-10-09T21:53:20.915Z"
   },
   {
    "duration": 29,
    "start_time": "2023-10-09T21:53:21.947Z"
   },
   {
    "duration": 12,
    "start_time": "2023-10-09T21:53:21.977Z"
   },
   {
    "duration": 27,
    "start_time": "2023-10-09T21:53:21.991Z"
   },
   {
    "duration": 8,
    "start_time": "2023-10-09T21:53:22.019Z"
   },
   {
    "duration": 21,
    "start_time": "2023-10-09T21:53:22.028Z"
   },
   {
    "duration": 18,
    "start_time": "2023-10-09T21:53:22.050Z"
   },
   {
    "duration": 29,
    "start_time": "2023-10-09T21:53:22.070Z"
   },
   {
    "duration": 28,
    "start_time": "2023-10-09T21:53:22.100Z"
   },
   {
    "duration": 8,
    "start_time": "2023-10-09T21:53:22.130Z"
   },
   {
    "duration": 12,
    "start_time": "2023-10-09T21:53:22.139Z"
   },
   {
    "duration": 12,
    "start_time": "2023-10-09T21:53:22.152Z"
   },
   {
    "duration": 18,
    "start_time": "2023-10-09T21:53:22.165Z"
   },
   {
    "duration": 20,
    "start_time": "2023-10-09T21:53:22.184Z"
   },
   {
    "duration": 19,
    "start_time": "2023-10-09T21:53:22.205Z"
   },
   {
    "duration": 25,
    "start_time": "2023-10-09T21:53:22.225Z"
   },
   {
    "duration": 17,
    "start_time": "2023-10-09T21:53:22.251Z"
   },
   {
    "duration": 16,
    "start_time": "2023-10-09T21:53:22.270Z"
   },
   {
    "duration": 27,
    "start_time": "2023-10-09T21:53:22.288Z"
   },
   {
    "duration": 10,
    "start_time": "2023-10-09T21:53:22.316Z"
   },
   {
    "duration": 28,
    "start_time": "2023-10-09T21:53:22.327Z"
   },
   {
    "duration": 18,
    "start_time": "2023-10-09T21:53:22.356Z"
   },
   {
    "duration": 188,
    "start_time": "2023-10-09T21:53:22.376Z"
   },
   {
    "duration": 165,
    "start_time": "2023-10-09T21:53:22.565Z"
   },
   {
    "duration": 141,
    "start_time": "2023-10-09T21:53:22.731Z"
   },
   {
    "duration": 131,
    "start_time": "2023-10-09T21:53:22.873Z"
   },
   {
    "duration": 372,
    "start_time": "2023-10-09T21:53:23.005Z"
   },
   {
    "duration": 264,
    "start_time": "2023-10-09T21:53:23.381Z"
   },
   {
    "duration": 202,
    "start_time": "2023-10-09T21:53:23.647Z"
   },
   {
    "duration": 8,
    "start_time": "2023-10-09T21:53:23.851Z"
   },
   {
    "duration": 25,
    "start_time": "2023-10-09T21:53:23.860Z"
   },
   {
    "duration": 16,
    "start_time": "2023-10-09T21:53:23.886Z"
   },
   {
    "duration": 13,
    "start_time": "2023-10-09T21:53:23.903Z"
   },
   {
    "duration": 213,
    "start_time": "2023-10-09T21:53:23.917Z"
   },
   {
    "duration": 25,
    "start_time": "2023-10-09T21:53:24.131Z"
   },
   {
    "duration": 17,
    "start_time": "2023-10-09T21:53:24.157Z"
   },
   {
    "duration": 33,
    "start_time": "2023-10-09T21:53:24.175Z"
   },
   {
    "duration": 14,
    "start_time": "2023-10-09T21:53:24.209Z"
   },
   {
    "duration": 39,
    "start_time": "2023-10-09T21:53:24.224Z"
   },
   {
    "duration": 25,
    "start_time": "2023-10-09T21:53:24.265Z"
   },
   {
    "duration": 218,
    "start_time": "2023-10-09T21:53:24.292Z"
   },
   {
    "duration": 8,
    "start_time": "2023-10-09T21:53:24.511Z"
   },
   {
    "duration": 106,
    "start_time": "2023-10-09T21:53:24.520Z"
   },
   {
    "duration": 14,
    "start_time": "2023-10-09T21:53:24.628Z"
   },
   {
    "duration": 15,
    "start_time": "2023-10-09T21:53:24.643Z"
   },
   {
    "duration": 103,
    "start_time": "2023-10-09T21:53:24.659Z"
   },
   {
    "duration": 4,
    "start_time": "2023-10-09T21:53:24.763Z"
   },
   {
    "duration": 216,
    "start_time": "2023-10-09T21:53:24.768Z"
   },
   {
    "duration": 8,
    "start_time": "2023-10-09T21:53:24.985Z"
   },
   {
    "duration": 161,
    "start_time": "2023-10-09T21:53:24.995Z"
   },
   {
    "duration": 9,
    "start_time": "2023-10-09T21:53:25.157Z"
   },
   {
    "duration": 40,
    "start_time": "2023-10-09T21:53:25.167Z"
   },
   {
    "duration": 105,
    "start_time": "2023-10-09T21:53:25.208Z"
   },
   {
    "duration": 4,
    "start_time": "2023-10-09T21:53:25.314Z"
   },
   {
    "duration": 229,
    "start_time": "2023-10-09T21:53:25.319Z"
   },
   {
    "duration": 8,
    "start_time": "2023-10-09T21:53:25.549Z"
   },
   {
    "duration": 96,
    "start_time": "2023-10-09T21:53:25.559Z"
   },
   {
    "duration": 8,
    "start_time": "2023-10-09T21:53:25.657Z"
   },
   {
    "duration": 18,
    "start_time": "2023-10-09T21:53:25.666Z"
   },
   {
    "duration": 112,
    "start_time": "2023-10-09T21:53:25.686Z"
   },
   {
    "duration": 3,
    "start_time": "2023-10-09T21:53:25.800Z"
   },
   {
    "duration": 217,
    "start_time": "2023-10-09T21:53:25.805Z"
   },
   {
    "duration": 17,
    "start_time": "2023-10-09T21:53:26.023Z"
   },
   {
    "duration": 96,
    "start_time": "2023-10-09T21:53:26.041Z"
   },
   {
    "duration": 8,
    "start_time": "2023-10-09T21:53:26.138Z"
   },
   {
    "duration": 41,
    "start_time": "2023-10-09T21:53:26.147Z"
   },
   {
    "duration": 109,
    "start_time": "2023-10-09T21:53:26.190Z"
   },
   {
    "duration": 4,
    "start_time": "2023-10-09T21:53:26.301Z"
   },
   {
    "duration": 86,
    "start_time": "2023-10-09T21:53:26.306Z"
   },
   {
    "duration": 12,
    "start_time": "2023-10-09T21:53:26.393Z"
   },
   {
    "duration": 7,
    "start_time": "2023-10-09T21:53:26.407Z"
   },
   {
    "duration": 30,
    "start_time": "2023-10-09T21:53:26.415Z"
   },
   {
    "duration": 14,
    "start_time": "2023-10-09T21:53:26.446Z"
   },
   {
    "duration": 26,
    "start_time": "2023-10-09T21:53:26.461Z"
   },
   {
    "duration": 20,
    "start_time": "2023-10-09T21:53:26.488Z"
   },
   {
    "duration": 45,
    "start_time": "2023-10-09T21:53:26.510Z"
   },
   {
    "duration": 10,
    "start_time": "2023-10-09T21:53:26.557Z"
   },
   {
    "duration": 109,
    "start_time": "2023-10-09T21:53:26.568Z"
   },
   {
    "duration": 0,
    "start_time": "2023-10-09T21:53:26.679Z"
   },
   {
    "duration": 0,
    "start_time": "2023-10-09T21:53:26.680Z"
   },
   {
    "duration": 296,
    "start_time": "2023-10-09T21:53:52.203Z"
   },
   {
    "duration": 122,
    "start_time": "2023-10-09T21:54:01.209Z"
   },
   {
    "duration": 118,
    "start_time": "2023-10-09T21:54:06.948Z"
   },
   {
    "duration": 123,
    "start_time": "2023-10-09T21:54:37.496Z"
   },
   {
    "duration": 156,
    "start_time": "2023-10-09T21:54:42.350Z"
   },
   {
    "duration": 117,
    "start_time": "2023-10-09T21:54:53.687Z"
   },
   {
    "duration": 131,
    "start_time": "2023-10-09T21:55:07.183Z"
   },
   {
    "duration": 5,
    "start_time": "2023-10-09T21:56:17.028Z"
   },
   {
    "duration": 1134,
    "start_time": "2023-10-09T22:01:50.792Z"
   },
   {
    "duration": 29,
    "start_time": "2023-10-09T22:01:51.928Z"
   },
   {
    "duration": 11,
    "start_time": "2023-10-09T22:01:51.958Z"
   },
   {
    "duration": 33,
    "start_time": "2023-10-09T22:01:51.971Z"
   },
   {
    "duration": 7,
    "start_time": "2023-10-09T22:01:52.006Z"
   },
   {
    "duration": 23,
    "start_time": "2023-10-09T22:01:52.014Z"
   },
   {
    "duration": 6,
    "start_time": "2023-10-09T22:01:52.038Z"
   },
   {
    "duration": 11,
    "start_time": "2023-10-09T22:01:52.045Z"
   },
   {
    "duration": 8,
    "start_time": "2023-10-09T22:01:52.057Z"
   },
   {
    "duration": 8,
    "start_time": "2023-10-09T22:01:52.068Z"
   },
   {
    "duration": 13,
    "start_time": "2023-10-09T22:01:52.077Z"
   },
   {
    "duration": 10,
    "start_time": "2023-10-09T22:01:52.091Z"
   },
   {
    "duration": 24,
    "start_time": "2023-10-09T22:01:52.102Z"
   },
   {
    "duration": 5,
    "start_time": "2023-10-09T22:01:52.127Z"
   },
   {
    "duration": 17,
    "start_time": "2023-10-09T22:01:52.139Z"
   },
   {
    "duration": 4,
    "start_time": "2023-10-09T22:01:52.158Z"
   },
   {
    "duration": 10,
    "start_time": "2023-10-09T22:01:52.164Z"
   },
   {
    "duration": 8,
    "start_time": "2023-10-09T22:01:52.175Z"
   },
   {
    "duration": 10,
    "start_time": "2023-10-09T22:01:52.185Z"
   },
   {
    "duration": 8,
    "start_time": "2023-10-09T22:01:52.196Z"
   },
   {
    "duration": 35,
    "start_time": "2023-10-09T22:01:52.205Z"
   },
   {
    "duration": 17,
    "start_time": "2023-10-09T22:01:52.242Z"
   },
   {
    "duration": 174,
    "start_time": "2023-10-09T22:01:52.260Z"
   },
   {
    "duration": 205,
    "start_time": "2023-10-09T22:01:52.440Z"
   },
   {
    "duration": 123,
    "start_time": "2023-10-09T22:01:52.647Z"
   },
   {
    "duration": 128,
    "start_time": "2023-10-09T22:01:52.771Z"
   },
   {
    "duration": 369,
    "start_time": "2023-10-09T22:01:52.901Z"
   },
   {
    "duration": 273,
    "start_time": "2023-10-09T22:01:53.275Z"
   },
   {
    "duration": 203,
    "start_time": "2023-10-09T22:01:53.550Z"
   },
   {
    "duration": 8,
    "start_time": "2023-10-09T22:01:53.755Z"
   },
   {
    "duration": 21,
    "start_time": "2023-10-09T22:01:53.764Z"
   },
   {
    "duration": 109,
    "start_time": "2023-10-09T22:01:53.787Z"
   },
   {
    "duration": 40,
    "start_time": "2023-10-09T22:01:53.897Z"
   },
   {
    "duration": 201,
    "start_time": "2023-10-09T22:01:53.938Z"
   },
   {
    "duration": 21,
    "start_time": "2023-10-09T22:01:54.141Z"
   },
   {
    "duration": 17,
    "start_time": "2023-10-09T22:01:54.164Z"
   },
   {
    "duration": 15,
    "start_time": "2023-10-09T22:01:54.182Z"
   },
   {
    "duration": 5,
    "start_time": "2023-10-09T22:01:54.199Z"
   },
   {
    "duration": 58,
    "start_time": "2023-10-09T22:01:54.205Z"
   },
   {
    "duration": 25,
    "start_time": "2023-10-09T22:01:54.265Z"
   },
   {
    "duration": 225,
    "start_time": "2023-10-09T22:01:54.291Z"
   },
   {
    "duration": 9,
    "start_time": "2023-10-09T22:01:54.518Z"
   },
   {
    "duration": 88,
    "start_time": "2023-10-09T22:01:54.539Z"
   },
   {
    "duration": 17,
    "start_time": "2023-10-09T22:01:54.628Z"
   },
   {
    "duration": 6,
    "start_time": "2023-10-09T22:01:54.646Z"
   },
   {
    "duration": 94,
    "start_time": "2023-10-09T22:01:54.654Z"
   },
   {
    "duration": 3,
    "start_time": "2023-10-09T22:01:54.750Z"
   },
   {
    "duration": 224,
    "start_time": "2023-10-09T22:01:54.754Z"
   },
   {
    "duration": 9,
    "start_time": "2023-10-09T22:01:54.980Z"
   },
   {
    "duration": 162,
    "start_time": "2023-10-09T22:01:54.991Z"
   },
   {
    "duration": 9,
    "start_time": "2023-10-09T22:01:55.155Z"
   },
   {
    "duration": 15,
    "start_time": "2023-10-09T22:01:55.166Z"
   },
   {
    "duration": 96,
    "start_time": "2023-10-09T22:01:55.182Z"
   },
   {
    "duration": 5,
    "start_time": "2023-10-09T22:01:55.279Z"
   },
   {
    "duration": 216,
    "start_time": "2023-10-09T22:01:55.285Z"
   },
   {
    "duration": 9,
    "start_time": "2023-10-09T22:01:55.502Z"
   },
   {
    "duration": 92,
    "start_time": "2023-10-09T22:01:55.512Z"
   },
   {
    "duration": 9,
    "start_time": "2023-10-09T22:01:55.606Z"
   },
   {
    "duration": 22,
    "start_time": "2023-10-09T22:01:55.617Z"
   },
   {
    "duration": 81,
    "start_time": "2023-10-09T22:01:55.641Z"
   },
   {
    "duration": 4,
    "start_time": "2023-10-09T22:01:55.723Z"
   },
   {
    "duration": 230,
    "start_time": "2023-10-09T22:01:55.728Z"
   },
   {
    "duration": 9,
    "start_time": "2023-10-09T22:01:55.959Z"
   },
   {
    "duration": 97,
    "start_time": "2023-10-09T22:01:55.970Z"
   },
   {
    "duration": 9,
    "start_time": "2023-10-09T22:01:56.069Z"
   },
   {
    "duration": 8,
    "start_time": "2023-10-09T22:01:56.080Z"
   },
   {
    "duration": 93,
    "start_time": "2023-10-09T22:01:56.090Z"
   },
   {
    "duration": 3,
    "start_time": "2023-10-09T22:01:56.185Z"
   },
   {
    "duration": 51,
    "start_time": "2023-10-09T22:01:56.189Z"
   },
   {
    "duration": 12,
    "start_time": "2023-10-09T22:01:56.242Z"
   },
   {
    "duration": 2,
    "start_time": "2023-10-09T22:01:56.255Z"
   },
   {
    "duration": 6,
    "start_time": "2023-10-09T22:01:56.258Z"
   },
   {
    "duration": 8,
    "start_time": "2023-10-09T22:01:56.266Z"
   },
   {
    "duration": 6,
    "start_time": "2023-10-09T22:01:56.275Z"
   },
   {
    "duration": 4,
    "start_time": "2023-10-09T22:01:56.282Z"
   },
   {
    "duration": 9,
    "start_time": "2023-10-09T22:01:56.287Z"
   },
   {
    "duration": 48,
    "start_time": "2023-10-09T22:01:56.297Z"
   },
   {
    "duration": 288,
    "start_time": "2023-10-09T22:01:56.347Z"
   },
   {
    "duration": 121,
    "start_time": "2023-10-09T22:01:56.639Z"
   },
   {
    "duration": 42,
    "start_time": "2023-10-09T22:05:26.617Z"
   },
   {
    "duration": 1397,
    "start_time": "2023-10-09T22:05:42.247Z"
   },
   {
    "duration": 56,
    "start_time": "2023-10-09T22:05:46.373Z"
   },
   {
    "duration": 5,
    "start_time": "2023-10-09T22:05:59.730Z"
   },
   {
    "duration": 4,
    "start_time": "2023-10-09T22:06:25.019Z"
   },
   {
    "duration": 4,
    "start_time": "2023-10-09T22:10:19.496Z"
   },
   {
    "duration": 12,
    "start_time": "2023-10-09T22:10:37.585Z"
   },
   {
    "duration": 6,
    "start_time": "2023-10-09T22:11:10.337Z"
   },
   {
    "duration": 11,
    "start_time": "2023-10-09T22:12:23.038Z"
   },
   {
    "duration": 9,
    "start_time": "2023-10-09T22:12:41.621Z"
   },
   {
    "duration": 3,
    "start_time": "2023-10-09T22:12:42.896Z"
   },
   {
    "duration": 5,
    "start_time": "2023-10-09T22:13:00.517Z"
   },
   {
    "duration": 5,
    "start_time": "2023-10-09T22:13:06.761Z"
   },
   {
    "duration": 127,
    "start_time": "2023-10-09T22:13:21.226Z"
   },
   {
    "duration": 4,
    "start_time": "2023-10-09T22:13:25.804Z"
   },
   {
    "duration": 988,
    "start_time": "2023-10-09T22:13:39.273Z"
   },
   {
    "duration": 77,
    "start_time": "2023-10-09T22:13:40.262Z"
   },
   {
    "duration": 13,
    "start_time": "2023-10-09T22:13:40.340Z"
   },
   {
    "duration": 69,
    "start_time": "2023-10-09T22:13:40.355Z"
   },
   {
    "duration": 8,
    "start_time": "2023-10-09T22:13:40.425Z"
   },
   {
    "duration": 61,
    "start_time": "2023-10-09T22:13:40.434Z"
   },
   {
    "duration": 8,
    "start_time": "2023-10-09T22:13:40.497Z"
   },
   {
    "duration": 16,
    "start_time": "2023-10-09T22:13:40.507Z"
   },
   {
    "duration": 12,
    "start_time": "2023-10-09T22:13:40.525Z"
   },
   {
    "duration": 8,
    "start_time": "2023-10-09T22:13:40.540Z"
   },
   {
    "duration": 15,
    "start_time": "2023-10-09T22:13:40.549Z"
   },
   {
    "duration": 12,
    "start_time": "2023-10-09T22:13:40.565Z"
   },
   {
    "duration": 6,
    "start_time": "2023-10-09T22:13:40.578Z"
   },
   {
    "duration": 9,
    "start_time": "2023-10-09T22:13:40.585Z"
   },
   {
    "duration": 7,
    "start_time": "2023-10-09T22:13:40.596Z"
   },
   {
    "duration": 5,
    "start_time": "2023-10-09T22:13:40.605Z"
   },
   {
    "duration": 39,
    "start_time": "2023-10-09T22:13:40.612Z"
   },
   {
    "duration": 12,
    "start_time": "2023-10-09T22:13:40.652Z"
   },
   {
    "duration": 13,
    "start_time": "2023-10-09T22:13:40.665Z"
   },
   {
    "duration": 12,
    "start_time": "2023-10-09T22:13:40.680Z"
   },
   {
    "duration": 46,
    "start_time": "2023-10-09T22:13:40.695Z"
   },
   {
    "duration": 18,
    "start_time": "2023-10-09T22:13:40.743Z"
   },
   {
    "duration": 179,
    "start_time": "2023-10-09T22:13:40.763Z"
   },
   {
    "duration": 159,
    "start_time": "2023-10-09T22:13:40.944Z"
   },
   {
    "duration": 127,
    "start_time": "2023-10-09T22:13:41.105Z"
   },
   {
    "duration": 130,
    "start_time": "2023-10-09T22:13:41.233Z"
   },
   {
    "duration": 403,
    "start_time": "2023-10-09T22:13:41.365Z"
   },
   {
    "duration": 356,
    "start_time": "2023-10-09T22:13:41.772Z"
   },
   {
    "duration": 206,
    "start_time": "2023-10-09T22:13:42.129Z"
   },
   {
    "duration": 7,
    "start_time": "2023-10-09T22:13:42.339Z"
   },
   {
    "duration": 22,
    "start_time": "2023-10-09T22:13:42.348Z"
   },
   {
    "duration": 6,
    "start_time": "2023-10-09T22:13:42.372Z"
   },
   {
    "duration": 11,
    "start_time": "2023-10-09T22:13:42.379Z"
   },
   {
    "duration": 252,
    "start_time": "2023-10-09T22:13:42.391Z"
   },
   {
    "duration": 20,
    "start_time": "2023-10-09T22:13:42.645Z"
   },
   {
    "duration": 17,
    "start_time": "2023-10-09T22:13:42.666Z"
   },
   {
    "duration": 13,
    "start_time": "2023-10-09T22:13:42.684Z"
   },
   {
    "duration": 12,
    "start_time": "2023-10-09T22:13:42.698Z"
   },
   {
    "duration": 45,
    "start_time": "2023-10-09T22:13:42.711Z"
   },
   {
    "duration": 26,
    "start_time": "2023-10-09T22:13:42.757Z"
   },
   {
    "duration": 223,
    "start_time": "2023-10-09T22:13:42.784Z"
   },
   {
    "duration": 9,
    "start_time": "2023-10-09T22:13:43.008Z"
   },
   {
    "duration": 103,
    "start_time": "2023-10-09T22:13:43.018Z"
   },
   {
    "duration": 21,
    "start_time": "2023-10-09T22:13:43.123Z"
   },
   {
    "duration": 11,
    "start_time": "2023-10-09T22:13:43.145Z"
   },
   {
    "duration": 119,
    "start_time": "2023-10-09T22:13:43.158Z"
   },
   {
    "duration": 4,
    "start_time": "2023-10-09T22:13:43.279Z"
   },
   {
    "duration": 236,
    "start_time": "2023-10-09T22:13:43.284Z"
   },
   {
    "duration": 19,
    "start_time": "2023-10-09T22:13:43.521Z"
   },
   {
    "duration": 146,
    "start_time": "2023-10-09T22:13:43.542Z"
   },
   {
    "duration": 9,
    "start_time": "2023-10-09T22:13:43.690Z"
   },
   {
    "duration": 13,
    "start_time": "2023-10-09T22:13:43.700Z"
   },
   {
    "duration": 100,
    "start_time": "2023-10-09T22:13:43.715Z"
   },
   {
    "duration": 3,
    "start_time": "2023-10-09T22:13:43.817Z"
   },
   {
    "duration": 253,
    "start_time": "2023-10-09T22:13:43.822Z"
   },
   {
    "duration": 10,
    "start_time": "2023-10-09T22:13:44.077Z"
   },
   {
    "duration": 118,
    "start_time": "2023-10-09T22:13:44.089Z"
   },
   {
    "duration": 8,
    "start_time": "2023-10-09T22:13:44.209Z"
   },
   {
    "duration": 6,
    "start_time": "2023-10-09T22:13:44.219Z"
   },
   {
    "duration": 95,
    "start_time": "2023-10-09T22:13:44.226Z"
   },
   {
    "duration": 3,
    "start_time": "2023-10-09T22:13:44.322Z"
   },
   {
    "duration": 222,
    "start_time": "2023-10-09T22:13:44.326Z"
   },
   {
    "duration": 8,
    "start_time": "2023-10-09T22:13:44.549Z"
   },
   {
    "duration": 90,
    "start_time": "2023-10-09T22:13:44.558Z"
   },
   {
    "duration": 9,
    "start_time": "2023-10-09T22:13:44.650Z"
   },
   {
    "duration": 11,
    "start_time": "2023-10-09T22:13:44.662Z"
   },
   {
    "duration": 85,
    "start_time": "2023-10-09T22:13:44.675Z"
   },
   {
    "duration": 4,
    "start_time": "2023-10-09T22:13:44.761Z"
   },
   {
    "duration": 44,
    "start_time": "2023-10-09T22:13:44.767Z"
   },
   {
    "duration": 31,
    "start_time": "2023-10-09T22:13:44.812Z"
   },
   {
    "duration": 3,
    "start_time": "2023-10-09T22:13:44.844Z"
   },
   {
    "duration": 6,
    "start_time": "2023-10-09T22:13:44.848Z"
   },
   {
    "duration": 5,
    "start_time": "2023-10-09T22:13:44.855Z"
   },
   {
    "duration": 9,
    "start_time": "2023-10-09T22:13:44.861Z"
   },
   {
    "duration": 8,
    "start_time": "2023-10-09T22:13:44.871Z"
   },
   {
    "duration": 27,
    "start_time": "2023-10-09T22:13:44.881Z"
   },
   {
    "duration": 7,
    "start_time": "2023-10-09T22:13:44.909Z"
   },
   {
    "duration": 303,
    "start_time": "2023-10-09T22:13:44.917Z"
   },
   {
    "duration": 156,
    "start_time": "2023-10-09T22:13:45.221Z"
   },
   {
    "duration": 5,
    "start_time": "2023-10-09T22:13:45.378Z"
   },
   {
    "duration": 116,
    "start_time": "2023-10-09T22:16:56.705Z"
   },
   {
    "duration": 117,
    "start_time": "2023-10-09T22:17:13.341Z"
   },
   {
    "duration": 5,
    "start_time": "2023-10-09T22:18:47.909Z"
   },
   {
    "duration": 1028,
    "start_time": "2023-10-09T22:18:56.728Z"
   },
   {
    "duration": 29,
    "start_time": "2023-10-09T22:18:57.758Z"
   },
   {
    "duration": 12,
    "start_time": "2023-10-09T22:18:57.789Z"
   },
   {
    "duration": 27,
    "start_time": "2023-10-09T22:18:57.802Z"
   },
   {
    "duration": 8,
    "start_time": "2023-10-09T22:18:57.831Z"
   },
   {
    "duration": 27,
    "start_time": "2023-10-09T22:18:57.841Z"
   },
   {
    "duration": 6,
    "start_time": "2023-10-09T22:18:57.869Z"
   },
   {
    "duration": 10,
    "start_time": "2023-10-09T22:18:57.877Z"
   },
   {
    "duration": 10,
    "start_time": "2023-10-09T22:18:57.888Z"
   },
   {
    "duration": 9,
    "start_time": "2023-10-09T22:18:57.900Z"
   },
   {
    "duration": 7,
    "start_time": "2023-10-09T22:18:57.910Z"
   },
   {
    "duration": 25,
    "start_time": "2023-10-09T22:18:57.918Z"
   },
   {
    "duration": 5,
    "start_time": "2023-10-09T22:18:57.945Z"
   },
   {
    "duration": 4,
    "start_time": "2023-10-09T22:18:57.954Z"
   },
   {
    "duration": 6,
    "start_time": "2023-10-09T22:18:57.960Z"
   },
   {
    "duration": 4,
    "start_time": "2023-10-09T22:18:57.968Z"
   },
   {
    "duration": 10,
    "start_time": "2023-10-09T22:18:57.973Z"
   },
   {
    "duration": 8,
    "start_time": "2023-10-09T22:18:57.984Z"
   },
   {
    "duration": 9,
    "start_time": "2023-10-09T22:18:57.993Z"
   },
   {
    "duration": 44,
    "start_time": "2023-10-09T22:18:58.003Z"
   },
   {
    "duration": 18,
    "start_time": "2023-10-09T22:18:58.048Z"
   },
   {
    "duration": 20,
    "start_time": "2023-10-09T22:18:58.067Z"
   },
   {
    "duration": 172,
    "start_time": "2023-10-09T22:18:58.089Z"
   },
   {
    "duration": 151,
    "start_time": "2023-10-09T22:18:58.262Z"
   },
   {
    "duration": 127,
    "start_time": "2023-10-09T22:18:58.415Z"
   },
   {
    "duration": 127,
    "start_time": "2023-10-09T22:18:58.544Z"
   },
   {
    "duration": 366,
    "start_time": "2023-10-09T22:18:58.672Z"
   },
   {
    "duration": 268,
    "start_time": "2023-10-09T22:18:59.040Z"
   },
   {
    "duration": 202,
    "start_time": "2023-10-09T22:18:59.310Z"
   },
   {
    "duration": 9,
    "start_time": "2023-10-09T22:18:59.513Z"
   },
   {
    "duration": 24,
    "start_time": "2023-10-09T22:18:59.524Z"
   },
   {
    "duration": 5,
    "start_time": "2023-10-09T22:18:59.549Z"
   },
   {
    "duration": 12,
    "start_time": "2023-10-09T22:18:59.556Z"
   },
   {
    "duration": 214,
    "start_time": "2023-10-09T22:18:59.570Z"
   },
   {
    "duration": 20,
    "start_time": "2023-10-09T22:18:59.786Z"
   },
   {
    "duration": 34,
    "start_time": "2023-10-09T22:18:59.807Z"
   },
   {
    "duration": 15,
    "start_time": "2023-10-09T22:18:59.843Z"
   },
   {
    "duration": 3,
    "start_time": "2023-10-09T22:18:59.860Z"
   },
   {
    "duration": 30,
    "start_time": "2023-10-09T22:18:59.864Z"
   },
   {
    "duration": 43,
    "start_time": "2023-10-09T22:18:59.896Z"
   },
   {
    "duration": 221,
    "start_time": "2023-10-09T22:18:59.944Z"
   },
   {
    "duration": 8,
    "start_time": "2023-10-09T22:19:00.167Z"
   },
   {
    "duration": 156,
    "start_time": "2023-10-09T22:19:00.176Z"
   },
   {
    "duration": 9,
    "start_time": "2023-10-09T22:19:00.334Z"
   },
   {
    "duration": 20,
    "start_time": "2023-10-09T22:19:00.344Z"
   },
   {
    "duration": 124,
    "start_time": "2023-10-09T22:19:00.365Z"
   },
   {
    "duration": 3,
    "start_time": "2023-10-09T22:19:00.491Z"
   },
   {
    "duration": 278,
    "start_time": "2023-10-09T22:19:00.495Z"
   },
   {
    "duration": 27,
    "start_time": "2023-10-09T22:19:00.775Z"
   },
   {
    "duration": 311,
    "start_time": "2023-10-09T22:19:00.804Z"
   },
   {
    "duration": 63,
    "start_time": "2023-10-09T22:19:01.116Z"
   },
   {
    "duration": 149,
    "start_time": "2023-10-09T22:19:01.180Z"
   },
   {
    "duration": 122,
    "start_time": "2023-10-09T22:19:01.330Z"
   },
   {
    "duration": 76,
    "start_time": "2023-10-09T22:19:01.453Z"
   },
   {
    "duration": 384,
    "start_time": "2023-10-09T22:19:01.530Z"
   },
   {
    "duration": 8,
    "start_time": "2023-10-09T22:19:01.916Z"
   },
   {
    "duration": 121,
    "start_time": "2023-10-09T22:19:01.926Z"
   },
   {
    "duration": 10,
    "start_time": "2023-10-09T22:19:02.049Z"
   },
   {
    "duration": 23,
    "start_time": "2023-10-09T22:19:02.061Z"
   },
   {
    "duration": 112,
    "start_time": "2023-10-09T22:19:02.086Z"
   },
   {
    "duration": 3,
    "start_time": "2023-10-09T22:19:02.200Z"
   },
   {
    "duration": 241,
    "start_time": "2023-10-09T22:19:02.205Z"
   },
   {
    "duration": 10,
    "start_time": "2023-10-09T22:19:02.448Z"
   },
   {
    "duration": 129,
    "start_time": "2023-10-09T22:19:02.460Z"
   },
   {
    "duration": 11,
    "start_time": "2023-10-09T22:19:02.590Z"
   },
   {
    "duration": 18,
    "start_time": "2023-10-09T22:19:02.603Z"
   },
   {
    "duration": 94,
    "start_time": "2023-10-09T22:19:02.622Z"
   },
   {
    "duration": 4,
    "start_time": "2023-10-09T22:19:02.717Z"
   },
   {
    "duration": 56,
    "start_time": "2023-10-09T22:19:02.722Z"
   },
   {
    "duration": 11,
    "start_time": "2023-10-09T22:19:02.780Z"
   },
   {
    "duration": 4,
    "start_time": "2023-10-09T22:19:02.793Z"
   },
   {
    "duration": 10,
    "start_time": "2023-10-09T22:19:02.799Z"
   },
   {
    "duration": 4,
    "start_time": "2023-10-09T22:19:02.811Z"
   },
   {
    "duration": 24,
    "start_time": "2023-10-09T22:19:02.817Z"
   },
   {
    "duration": 5,
    "start_time": "2023-10-09T22:19:02.842Z"
   },
   {
    "duration": 18,
    "start_time": "2023-10-09T22:19:02.848Z"
   },
   {
    "duration": 9,
    "start_time": "2023-10-09T22:19:02.868Z"
   },
   {
    "duration": 282,
    "start_time": "2023-10-09T22:19:02.879Z"
   },
   {
    "duration": 124,
    "start_time": "2023-10-09T22:19:03.163Z"
   },
   {
    "duration": 5,
    "start_time": "2023-10-09T22:19:03.288Z"
   },
   {
    "duration": 1054,
    "start_time": "2023-10-09T22:25:31.536Z"
   },
   {
    "duration": 29,
    "start_time": "2023-10-09T22:25:32.592Z"
   },
   {
    "duration": 18,
    "start_time": "2023-10-09T22:25:32.622Z"
   },
   {
    "duration": 26,
    "start_time": "2023-10-09T22:25:32.642Z"
   },
   {
    "duration": 8,
    "start_time": "2023-10-09T22:25:32.669Z"
   },
   {
    "duration": 16,
    "start_time": "2023-10-09T22:25:32.678Z"
   },
   {
    "duration": 6,
    "start_time": "2023-10-09T22:25:32.695Z"
   },
   {
    "duration": 53,
    "start_time": "2023-10-09T22:25:32.702Z"
   },
   {
    "duration": 50,
    "start_time": "2023-10-09T22:25:32.757Z"
   },
   {
    "duration": 10,
    "start_time": "2023-10-09T22:25:32.810Z"
   },
   {
    "duration": 26,
    "start_time": "2023-10-09T22:25:32.822Z"
   },
   {
    "duration": 26,
    "start_time": "2023-10-09T22:25:32.849Z"
   },
   {
    "duration": 21,
    "start_time": "2023-10-09T22:25:32.876Z"
   },
   {
    "duration": 29,
    "start_time": "2023-10-09T22:25:32.899Z"
   },
   {
    "duration": 30,
    "start_time": "2023-10-09T22:25:32.929Z"
   },
   {
    "duration": 12,
    "start_time": "2023-10-09T22:25:32.961Z"
   },
   {
    "duration": 17,
    "start_time": "2023-10-09T22:25:32.975Z"
   },
   {
    "duration": 9,
    "start_time": "2023-10-09T22:25:32.994Z"
   },
   {
    "duration": 13,
    "start_time": "2023-10-09T22:25:33.005Z"
   },
   {
    "duration": 8,
    "start_time": "2023-10-09T22:25:33.020Z"
   },
   {
    "duration": 32,
    "start_time": "2023-10-09T22:25:33.029Z"
   },
   {
    "duration": 18,
    "start_time": "2023-10-09T22:25:33.062Z"
   },
   {
    "duration": 196,
    "start_time": "2023-10-09T22:25:33.081Z"
   },
   {
    "duration": 154,
    "start_time": "2023-10-09T22:25:33.279Z"
   },
   {
    "duration": 144,
    "start_time": "2023-10-09T22:25:33.439Z"
   },
   {
    "duration": 132,
    "start_time": "2023-10-09T22:25:33.584Z"
   },
   {
    "duration": 376,
    "start_time": "2023-10-09T22:25:33.717Z"
   },
   {
    "duration": 272,
    "start_time": "2023-10-09T22:25:34.096Z"
   },
   {
    "duration": 200,
    "start_time": "2023-10-09T22:25:34.369Z"
   },
   {
    "duration": 8,
    "start_time": "2023-10-09T22:25:34.571Z"
   },
   {
    "duration": 13,
    "start_time": "2023-10-09T22:25:34.580Z"
   },
   {
    "duration": 5,
    "start_time": "2023-10-09T22:25:34.594Z"
   },
   {
    "duration": 23,
    "start_time": "2023-10-09T22:25:34.600Z"
   },
   {
    "duration": 208,
    "start_time": "2023-10-09T22:25:34.625Z"
   },
   {
    "duration": 22,
    "start_time": "2023-10-09T22:25:34.835Z"
   },
   {
    "duration": 16,
    "start_time": "2023-10-09T22:25:34.859Z"
   },
   {
    "duration": 13,
    "start_time": "2023-10-09T22:25:34.877Z"
   },
   {
    "duration": 3,
    "start_time": "2023-10-09T22:25:34.891Z"
   },
   {
    "duration": 51,
    "start_time": "2023-10-09T22:25:34.896Z"
   },
   {
    "duration": 25,
    "start_time": "2023-10-09T22:25:34.949Z"
   },
   {
    "duration": 223,
    "start_time": "2023-10-09T22:25:34.976Z"
   },
   {
    "duration": 8,
    "start_time": "2023-10-09T22:25:35.201Z"
   },
   {
    "duration": 99,
    "start_time": "2023-10-09T22:25:35.211Z"
   },
   {
    "duration": 9,
    "start_time": "2023-10-09T22:25:35.312Z"
   },
   {
    "duration": 17,
    "start_time": "2023-10-09T22:25:35.322Z"
   },
   {
    "duration": 98,
    "start_time": "2023-10-09T22:25:35.341Z"
   },
   {
    "duration": 3,
    "start_time": "2023-10-09T22:25:35.441Z"
   },
   {
    "duration": 230,
    "start_time": "2023-10-09T22:25:35.445Z"
   },
   {
    "duration": 7,
    "start_time": "2023-10-09T22:25:35.677Z"
   },
   {
    "duration": 156,
    "start_time": "2023-10-09T22:25:35.685Z"
   },
   {
    "duration": 9,
    "start_time": "2023-10-09T22:25:35.842Z"
   },
   {
    "duration": 13,
    "start_time": "2023-10-09T22:25:35.852Z"
   },
   {
    "duration": 97,
    "start_time": "2023-10-09T22:25:35.866Z"
   },
   {
    "duration": 4,
    "start_time": "2023-10-09T22:25:35.964Z"
   },
   {
    "duration": 221,
    "start_time": "2023-10-09T22:25:35.969Z"
   },
   {
    "duration": 8,
    "start_time": "2023-10-09T22:25:36.191Z"
   },
   {
    "duration": 98,
    "start_time": "2023-10-09T22:25:36.200Z"
   },
   {
    "duration": 10,
    "start_time": "2023-10-09T22:25:36.300Z"
   },
   {
    "duration": 10,
    "start_time": "2023-10-09T22:25:36.312Z"
   },
   {
    "duration": 98,
    "start_time": "2023-10-09T22:25:36.341Z"
   },
   {
    "duration": 4,
    "start_time": "2023-10-09T22:25:36.441Z"
   },
   {
    "duration": 223,
    "start_time": "2023-10-09T22:25:36.446Z"
   },
   {
    "duration": 8,
    "start_time": "2023-10-09T22:25:36.671Z"
   },
   {
    "duration": 94,
    "start_time": "2023-10-09T22:25:36.680Z"
   },
   {
    "duration": 9,
    "start_time": "2023-10-09T22:25:36.775Z"
   },
   {
    "duration": 11,
    "start_time": "2023-10-09T22:25:36.785Z"
   },
   {
    "duration": 85,
    "start_time": "2023-10-09T22:25:36.797Z"
   },
   {
    "duration": 3,
    "start_time": "2023-10-09T22:25:36.884Z"
   },
   {
    "duration": 55,
    "start_time": "2023-10-09T22:25:36.889Z"
   },
   {
    "duration": 12,
    "start_time": "2023-10-09T22:25:36.945Z"
   },
   {
    "duration": 35,
    "start_time": "2023-10-09T22:25:36.959Z"
   },
   {
    "duration": 27,
    "start_time": "2023-10-09T22:25:36.996Z"
   },
   {
    "duration": 5,
    "start_time": "2023-10-09T22:25:37.024Z"
   },
   {
    "duration": 6,
    "start_time": "2023-10-09T22:25:37.030Z"
   },
   {
    "duration": 4,
    "start_time": "2023-10-09T22:25:37.037Z"
   },
   {
    "duration": 8,
    "start_time": "2023-10-09T22:25:37.042Z"
   },
   {
    "duration": 6,
    "start_time": "2023-10-09T22:25:37.051Z"
   },
   {
    "duration": 296,
    "start_time": "2023-10-09T22:25:37.059Z"
   },
   {
    "duration": 129,
    "start_time": "2023-10-09T22:25:37.356Z"
   },
   {
    "duration": 4,
    "start_time": "2023-10-09T22:25:37.486Z"
   },
   {
    "duration": 1080,
    "start_time": "2023-10-09T22:41:10.372Z"
   },
   {
    "duration": 29,
    "start_time": "2023-10-09T22:41:11.454Z"
   },
   {
    "duration": 12,
    "start_time": "2023-10-09T22:41:11.484Z"
   },
   {
    "duration": 27,
    "start_time": "2023-10-09T22:41:11.497Z"
   },
   {
    "duration": 8,
    "start_time": "2023-10-09T22:41:11.525Z"
   },
   {
    "duration": 21,
    "start_time": "2023-10-09T22:41:11.534Z"
   },
   {
    "duration": 6,
    "start_time": "2023-10-09T22:41:11.556Z"
   },
   {
    "duration": 9,
    "start_time": "2023-10-09T22:41:11.563Z"
   },
   {
    "duration": 10,
    "start_time": "2023-10-09T22:41:11.574Z"
   },
   {
    "duration": 22,
    "start_time": "2023-10-09T22:41:11.586Z"
   },
   {
    "duration": 10,
    "start_time": "2023-10-09T22:41:11.609Z"
   },
   {
    "duration": 10,
    "start_time": "2023-10-09T22:41:11.621Z"
   },
   {
    "duration": 9,
    "start_time": "2023-10-09T22:41:11.639Z"
   },
   {
    "duration": 6,
    "start_time": "2023-10-09T22:41:11.649Z"
   },
   {
    "duration": 9,
    "start_time": "2023-10-09T22:41:11.656Z"
   },
   {
    "duration": 5,
    "start_time": "2023-10-09T22:41:11.666Z"
   },
   {
    "duration": 10,
    "start_time": "2023-10-09T22:41:11.672Z"
   },
   {
    "duration": 9,
    "start_time": "2023-10-09T22:41:11.683Z"
   },
   {
    "duration": 18,
    "start_time": "2023-10-09T22:41:11.693Z"
   },
   {
    "duration": 11,
    "start_time": "2023-10-09T22:41:11.712Z"
   },
   {
    "duration": 24,
    "start_time": "2023-10-09T22:41:11.724Z"
   },
   {
    "duration": 18,
    "start_time": "2023-10-09T22:41:11.749Z"
   },
   {
    "duration": 171,
    "start_time": "2023-10-09T22:41:11.768Z"
   },
   {
    "duration": 155,
    "start_time": "2023-10-09T22:41:11.941Z"
   },
   {
    "duration": 126,
    "start_time": "2023-10-09T22:41:12.097Z"
   },
   {
    "duration": 130,
    "start_time": "2023-10-09T22:41:12.224Z"
   },
   {
    "duration": 402,
    "start_time": "2023-10-09T22:41:12.356Z"
   },
   {
    "duration": 267,
    "start_time": "2023-10-09T22:41:12.762Z"
   },
   {
    "duration": 199,
    "start_time": "2023-10-09T22:41:13.030Z"
   },
   {
    "duration": 14,
    "start_time": "2023-10-09T22:41:13.230Z"
   },
   {
    "duration": 12,
    "start_time": "2023-10-09T22:41:13.246Z"
   },
   {
    "duration": 6,
    "start_time": "2023-10-09T22:41:13.259Z"
   },
   {
    "duration": 6,
    "start_time": "2023-10-09T22:41:13.267Z"
   },
   {
    "duration": 217,
    "start_time": "2023-10-09T22:41:13.275Z"
   },
   {
    "duration": 20,
    "start_time": "2023-10-09T22:41:13.493Z"
   },
   {
    "duration": 27,
    "start_time": "2023-10-09T22:41:13.514Z"
   },
   {
    "duration": 14,
    "start_time": "2023-10-09T22:41:13.543Z"
   },
   {
    "duration": 21,
    "start_time": "2023-10-09T22:41:13.558Z"
   },
   {
    "duration": 37,
    "start_time": "2023-10-09T22:41:13.581Z"
   },
   {
    "duration": 48,
    "start_time": "2023-10-09T22:41:13.619Z"
   },
   {
    "duration": 217,
    "start_time": "2023-10-09T22:41:13.668Z"
   },
   {
    "duration": 8,
    "start_time": "2023-10-09T22:41:13.887Z"
   },
   {
    "duration": 104,
    "start_time": "2023-10-09T22:41:13.896Z"
   },
   {
    "duration": 9,
    "start_time": "2023-10-09T22:41:14.001Z"
   },
   {
    "duration": 15,
    "start_time": "2023-10-09T22:41:14.011Z"
   },
   {
    "duration": 97,
    "start_time": "2023-10-09T22:41:14.028Z"
   },
   {
    "duration": 14,
    "start_time": "2023-10-09T22:41:14.126Z"
   },
   {
    "duration": 211,
    "start_time": "2023-10-09T22:41:14.142Z"
   },
   {
    "duration": 8,
    "start_time": "2023-10-09T22:41:14.354Z"
   },
   {
    "duration": 159,
    "start_time": "2023-10-09T22:41:14.363Z"
   },
   {
    "duration": 7,
    "start_time": "2023-10-09T22:41:14.524Z"
   },
   {
    "duration": 23,
    "start_time": "2023-10-09T22:41:14.532Z"
   },
   {
    "duration": 99,
    "start_time": "2023-10-09T22:41:14.556Z"
   },
   {
    "duration": 3,
    "start_time": "2023-10-09T22:41:14.657Z"
   },
   {
    "duration": 221,
    "start_time": "2023-10-09T22:41:14.661Z"
   },
   {
    "duration": 8,
    "start_time": "2023-10-09T22:41:14.884Z"
   },
   {
    "duration": 98,
    "start_time": "2023-10-09T22:41:14.893Z"
   },
   {
    "duration": 9,
    "start_time": "2023-10-09T22:41:14.992Z"
   },
   {
    "duration": 82,
    "start_time": "2023-10-09T22:41:15.002Z"
   },
   {
    "duration": 118,
    "start_time": "2023-10-09T22:41:15.085Z"
   },
   {
    "duration": 3,
    "start_time": "2023-10-09T22:41:15.205Z"
   },
   {
    "duration": 217,
    "start_time": "2023-10-09T22:41:15.210Z"
   },
   {
    "duration": 16,
    "start_time": "2023-10-09T22:41:15.428Z"
   },
   {
    "duration": 79,
    "start_time": "2023-10-09T22:41:15.446Z"
   },
   {
    "duration": 9,
    "start_time": "2023-10-09T22:41:15.539Z"
   },
   {
    "duration": 13,
    "start_time": "2023-10-09T22:41:15.549Z"
   },
   {
    "duration": 106,
    "start_time": "2023-10-09T22:41:15.563Z"
   },
   {
    "duration": 3,
    "start_time": "2023-10-09T22:41:15.670Z"
   },
   {
    "duration": 57,
    "start_time": "2023-10-09T22:41:15.675Z"
   },
   {
    "duration": 16,
    "start_time": "2023-10-09T22:41:15.733Z"
   },
   {
    "duration": 10,
    "start_time": "2023-10-09T22:41:15.751Z"
   },
   {
    "duration": 14,
    "start_time": "2023-10-09T22:41:15.762Z"
   },
   {
    "duration": 15,
    "start_time": "2023-10-09T22:41:15.778Z"
   },
   {
    "duration": 5,
    "start_time": "2023-10-09T22:41:15.794Z"
   },
   {
    "duration": 8,
    "start_time": "2023-10-09T22:41:15.800Z"
   },
   {
    "duration": 15,
    "start_time": "2023-10-09T22:41:15.810Z"
   },
   {
    "duration": 22,
    "start_time": "2023-10-09T22:41:15.827Z"
   },
   {
    "duration": 309,
    "start_time": "2023-10-09T22:41:15.851Z"
   },
   {
    "duration": 145,
    "start_time": "2023-10-09T22:41:16.162Z"
   },
   {
    "duration": 4,
    "start_time": "2023-10-09T22:41:16.309Z"
   },
   {
    "duration": 11,
    "start_time": "2023-10-10T06:39:15.094Z"
   },
   {
    "duration": 1028,
    "start_time": "2023-10-10T06:58:51.919Z"
   },
   {
    "duration": 28,
    "start_time": "2023-10-10T06:58:52.949Z"
   },
   {
    "duration": 29,
    "start_time": "2023-10-10T06:58:52.979Z"
   },
   {
    "duration": 74,
    "start_time": "2023-10-10T06:58:53.010Z"
   },
   {
    "duration": 44,
    "start_time": "2023-10-10T06:58:53.085Z"
   },
   {
    "duration": 58,
    "start_time": "2023-10-10T06:58:53.130Z"
   },
   {
    "duration": 54,
    "start_time": "2023-10-10T06:58:53.189Z"
   },
   {
    "duration": 59,
    "start_time": "2023-10-10T06:58:53.245Z"
   },
   {
    "duration": 38,
    "start_time": "2023-10-10T06:58:53.305Z"
   },
   {
    "duration": 39,
    "start_time": "2023-10-10T06:58:53.346Z"
   },
   {
    "duration": 51,
    "start_time": "2023-10-10T06:58:53.386Z"
   },
   {
    "duration": 32,
    "start_time": "2023-10-10T06:58:53.439Z"
   },
   {
    "duration": 46,
    "start_time": "2023-10-10T06:58:53.472Z"
   },
   {
    "duration": 67,
    "start_time": "2023-10-10T06:58:53.520Z"
   },
   {
    "duration": 42,
    "start_time": "2023-10-10T06:58:53.589Z"
   },
   {
    "duration": 49,
    "start_time": "2023-10-10T06:58:53.633Z"
   },
   {
    "duration": 30,
    "start_time": "2023-10-10T06:58:53.683Z"
   },
   {
    "duration": 51,
    "start_time": "2023-10-10T06:58:53.714Z"
   },
   {
    "duration": 37,
    "start_time": "2023-10-10T06:58:53.766Z"
   },
   {
    "duration": 53,
    "start_time": "2023-10-10T06:58:53.805Z"
   },
   {
    "duration": 147,
    "start_time": "2023-10-10T06:58:53.860Z"
   },
   {
    "duration": 64,
    "start_time": "2023-10-10T06:58:54.008Z"
   },
   {
    "duration": 175,
    "start_time": "2023-10-10T06:58:54.074Z"
   },
   {
    "duration": 145,
    "start_time": "2023-10-10T06:58:54.251Z"
   },
   {
    "duration": 124,
    "start_time": "2023-10-10T06:58:54.397Z"
   },
   {
    "duration": 128,
    "start_time": "2023-10-10T06:58:54.523Z"
   },
   {
    "duration": 358,
    "start_time": "2023-10-10T06:58:54.653Z"
   },
   {
    "duration": 263,
    "start_time": "2023-10-10T06:58:55.015Z"
   },
   {
    "duration": 199,
    "start_time": "2023-10-10T06:58:55.280Z"
   },
   {
    "duration": 8,
    "start_time": "2023-10-10T06:58:55.480Z"
   },
   {
    "duration": 38,
    "start_time": "2023-10-10T06:58:55.490Z"
   },
   {
    "duration": 34,
    "start_time": "2023-10-10T06:58:55.529Z"
   },
   {
    "duration": 44,
    "start_time": "2023-10-10T06:58:55.564Z"
   },
   {
    "duration": 217,
    "start_time": "2023-10-10T06:58:55.610Z"
   },
   {
    "duration": 30,
    "start_time": "2023-10-10T06:58:55.829Z"
   },
   {
    "duration": 43,
    "start_time": "2023-10-10T06:58:55.860Z"
   },
   {
    "duration": 38,
    "start_time": "2023-10-10T06:58:55.905Z"
   },
   {
    "duration": 39,
    "start_time": "2023-10-10T06:58:55.944Z"
   },
   {
    "duration": 79,
    "start_time": "2023-10-10T06:58:55.984Z"
   },
   {
    "duration": 32,
    "start_time": "2023-10-10T06:58:56.065Z"
   },
   {
    "duration": 239,
    "start_time": "2023-10-10T06:58:56.098Z"
   },
   {
    "duration": 9,
    "start_time": "2023-10-10T06:58:56.340Z"
   },
   {
    "duration": 115,
    "start_time": "2023-10-10T06:58:56.350Z"
   },
   {
    "duration": 52,
    "start_time": "2023-10-10T06:58:56.467Z"
   },
   {
    "duration": 74,
    "start_time": "2023-10-10T06:58:56.520Z"
   },
   {
    "duration": 110,
    "start_time": "2023-10-10T06:58:56.595Z"
   },
   {
    "duration": 3,
    "start_time": "2023-10-10T06:58:56.706Z"
   },
   {
    "duration": 247,
    "start_time": "2023-10-10T06:58:56.710Z"
   },
   {
    "duration": 8,
    "start_time": "2023-10-10T06:58:56.958Z"
   },
   {
    "duration": 197,
    "start_time": "2023-10-10T06:58:56.967Z"
   },
   {
    "duration": 8,
    "start_time": "2023-10-10T06:58:57.165Z"
   },
   {
    "duration": 67,
    "start_time": "2023-10-10T06:58:57.174Z"
   },
   {
    "duration": 130,
    "start_time": "2023-10-10T06:58:57.242Z"
   },
   {
    "duration": 3,
    "start_time": "2023-10-10T06:58:57.373Z"
   },
   {
    "duration": 220,
    "start_time": "2023-10-10T06:58:57.377Z"
   },
   {
    "duration": 10,
    "start_time": "2023-10-10T06:58:57.599Z"
   },
   {
    "duration": 101,
    "start_time": "2023-10-10T06:58:57.611Z"
   },
   {
    "duration": 8,
    "start_time": "2023-10-10T06:58:57.713Z"
   },
   {
    "duration": 52,
    "start_time": "2023-10-10T06:58:57.722Z"
   },
   {
    "duration": 110,
    "start_time": "2023-10-10T06:58:57.776Z"
   },
   {
    "duration": 3,
    "start_time": "2023-10-10T06:58:57.887Z"
   },
   {
    "duration": 236,
    "start_time": "2023-10-10T06:58:57.891Z"
   },
   {
    "duration": 17,
    "start_time": "2023-10-10T06:58:58.128Z"
   },
   {
    "duration": 136,
    "start_time": "2023-10-10T06:58:58.146Z"
   },
   {
    "duration": 9,
    "start_time": "2023-10-10T06:58:58.283Z"
   },
   {
    "duration": 60,
    "start_time": "2023-10-10T06:58:58.293Z"
   },
   {
    "duration": 116,
    "start_time": "2023-10-10T06:58:58.354Z"
   },
   {
    "duration": 3,
    "start_time": "2023-10-10T06:58:58.471Z"
   },
   {
    "duration": 490,
    "start_time": "2023-10-10T06:58:58.476Z"
   },
   {
    "duration": 0,
    "start_time": "2023-10-10T06:58:58.967Z"
   },
   {
    "duration": 0,
    "start_time": "2023-10-10T06:58:58.968Z"
   },
   {
    "duration": 0,
    "start_time": "2023-10-10T06:58:58.969Z"
   },
   {
    "duration": 0,
    "start_time": "2023-10-10T06:58:58.970Z"
   },
   {
    "duration": 0,
    "start_time": "2023-10-10T06:58:58.970Z"
   },
   {
    "duration": 0,
    "start_time": "2023-10-10T06:58:58.972Z"
   },
   {
    "duration": 0,
    "start_time": "2023-10-10T06:58:58.973Z"
   },
   {
    "duration": 0,
    "start_time": "2023-10-10T06:58:58.973Z"
   },
   {
    "duration": 0,
    "start_time": "2023-10-10T06:58:58.974Z"
   },
   {
    "duration": 0,
    "start_time": "2023-10-10T06:58:58.975Z"
   },
   {
    "duration": 0,
    "start_time": "2023-10-10T06:58:58.976Z"
   },
   {
    "duration": 362,
    "start_time": "2023-10-10T06:59:32.607Z"
   },
   {
    "duration": 23,
    "start_time": "2023-10-10T06:59:46.655Z"
   },
   {
    "duration": 982,
    "start_time": "2023-10-10T07:04:56.764Z"
   },
   {
    "duration": 29,
    "start_time": "2023-10-10T07:04:57.748Z"
   },
   {
    "duration": 12,
    "start_time": "2023-10-10T07:04:57.779Z"
   },
   {
    "duration": 50,
    "start_time": "2023-10-10T07:04:57.793Z"
   },
   {
    "duration": 8,
    "start_time": "2023-10-10T07:04:57.844Z"
   },
   {
    "duration": 29,
    "start_time": "2023-10-10T07:04:57.854Z"
   },
   {
    "duration": 18,
    "start_time": "2023-10-10T07:04:57.884Z"
   },
   {
    "duration": 31,
    "start_time": "2023-10-10T07:04:57.903Z"
   },
   {
    "duration": 35,
    "start_time": "2023-10-10T07:04:57.935Z"
   },
   {
    "duration": 27,
    "start_time": "2023-10-10T07:04:57.972Z"
   },
   {
    "duration": 19,
    "start_time": "2023-10-10T07:04:58.000Z"
   },
   {
    "duration": 50,
    "start_time": "2023-10-10T07:04:58.020Z"
   },
   {
    "duration": 18,
    "start_time": "2023-10-10T07:04:58.072Z"
   },
   {
    "duration": 12,
    "start_time": "2023-10-10T07:04:58.091Z"
   },
   {
    "duration": 33,
    "start_time": "2023-10-10T07:04:58.104Z"
   },
   {
    "duration": 25,
    "start_time": "2023-10-10T07:04:58.139Z"
   },
   {
    "duration": 37,
    "start_time": "2023-10-10T07:04:58.165Z"
   },
   {
    "duration": 24,
    "start_time": "2023-10-10T07:04:58.204Z"
   },
   {
    "duration": 14,
    "start_time": "2023-10-10T07:04:58.229Z"
   },
   {
    "duration": 22,
    "start_time": "2023-10-10T07:04:58.245Z"
   },
   {
    "duration": 26,
    "start_time": "2023-10-10T07:04:58.268Z"
   },
   {
    "duration": 26,
    "start_time": "2023-10-10T07:04:58.295Z"
   },
   {
    "duration": 166,
    "start_time": "2023-10-10T07:04:58.322Z"
   },
   {
    "duration": 156,
    "start_time": "2023-10-10T07:04:58.489Z"
   },
   {
    "duration": 124,
    "start_time": "2023-10-10T07:04:58.646Z"
   },
   {
    "duration": 129,
    "start_time": "2023-10-10T07:04:58.771Z"
   },
   {
    "duration": 362,
    "start_time": "2023-10-10T07:04:58.902Z"
   },
   {
    "duration": 267,
    "start_time": "2023-10-10T07:04:59.268Z"
   },
   {
    "duration": 207,
    "start_time": "2023-10-10T07:04:59.536Z"
   },
   {
    "duration": 8,
    "start_time": "2023-10-10T07:04:59.744Z"
   },
   {
    "duration": 14,
    "start_time": "2023-10-10T07:04:59.753Z"
   },
   {
    "duration": 4,
    "start_time": "2023-10-10T07:04:59.768Z"
   },
   {
    "duration": 15,
    "start_time": "2023-10-10T07:04:59.774Z"
   },
   {
    "duration": 221,
    "start_time": "2023-10-10T07:04:59.791Z"
   },
   {
    "duration": 29,
    "start_time": "2023-10-10T07:05:00.013Z"
   },
   {
    "duration": 41,
    "start_time": "2023-10-10T07:05:00.043Z"
   },
   {
    "duration": 56,
    "start_time": "2023-10-10T07:05:00.085Z"
   },
   {
    "duration": 190,
    "start_time": "2023-10-10T07:05:00.142Z"
   },
   {
    "duration": 72,
    "start_time": "2023-10-10T07:05:00.333Z"
   },
   {
    "duration": 37,
    "start_time": "2023-10-10T07:05:00.406Z"
   },
   {
    "duration": 275,
    "start_time": "2023-10-10T07:05:00.445Z"
   },
   {
    "duration": 18,
    "start_time": "2023-10-10T07:05:00.722Z"
   },
   {
    "duration": 136,
    "start_time": "2023-10-10T07:05:00.741Z"
   },
   {
    "duration": 8,
    "start_time": "2023-10-10T07:05:00.878Z"
   },
   {
    "duration": 339,
    "start_time": "2023-10-10T07:05:00.887Z"
   },
   {
    "duration": 320,
    "start_time": "2023-10-10T07:05:01.227Z"
   },
   {
    "duration": 3,
    "start_time": "2023-10-10T07:05:01.548Z"
   },
   {
    "duration": 244,
    "start_time": "2023-10-10T07:05:01.553Z"
   },
   {
    "duration": 7,
    "start_time": "2023-10-10T07:05:01.798Z"
   },
   {
    "duration": 196,
    "start_time": "2023-10-10T07:05:01.807Z"
   },
   {
    "duration": 18,
    "start_time": "2023-10-10T07:05:02.005Z"
   },
   {
    "duration": 256,
    "start_time": "2023-10-10T07:05:02.024Z"
   },
   {
    "duration": 363,
    "start_time": "2023-10-10T07:05:02.281Z"
   },
   {
    "duration": 3,
    "start_time": "2023-10-10T07:05:02.646Z"
   },
   {
    "duration": 243,
    "start_time": "2023-10-10T07:05:02.650Z"
   },
   {
    "duration": 8,
    "start_time": "2023-10-10T07:05:02.894Z"
   },
   {
    "duration": 112,
    "start_time": "2023-10-10T07:05:02.903Z"
   },
   {
    "duration": 9,
    "start_time": "2023-10-10T07:05:03.016Z"
   },
   {
    "duration": 29,
    "start_time": "2023-10-10T07:05:03.026Z"
   },
   {
    "duration": 100,
    "start_time": "2023-10-10T07:05:03.057Z"
   },
   {
    "duration": 4,
    "start_time": "2023-10-10T07:05:03.158Z"
   },
   {
    "duration": 234,
    "start_time": "2023-10-10T07:05:03.163Z"
   },
   {
    "duration": 7,
    "start_time": "2023-10-10T07:05:03.399Z"
   },
   {
    "duration": 129,
    "start_time": "2023-10-10T07:05:03.408Z"
   },
   {
    "duration": 9,
    "start_time": "2023-10-10T07:05:03.538Z"
   },
   {
    "duration": 34,
    "start_time": "2023-10-10T07:05:03.548Z"
   },
   {
    "duration": 101,
    "start_time": "2023-10-10T07:05:03.583Z"
   },
   {
    "duration": 3,
    "start_time": "2023-10-10T07:05:03.686Z"
   },
   {
    "duration": 73,
    "start_time": "2023-10-10T07:05:03.690Z"
   },
   {
    "duration": 1854,
    "start_time": "2023-10-10T07:05:03.764Z"
   },
   {
    "duration": 0,
    "start_time": "2023-10-10T07:05:05.620Z"
   },
   {
    "duration": 0,
    "start_time": "2023-10-10T07:05:05.621Z"
   },
   {
    "duration": 0,
    "start_time": "2023-10-10T07:05:05.622Z"
   },
   {
    "duration": 0,
    "start_time": "2023-10-10T07:05:05.624Z"
   },
   {
    "duration": 0,
    "start_time": "2023-10-10T07:05:05.625Z"
   },
   {
    "duration": 0,
    "start_time": "2023-10-10T07:05:05.627Z"
   },
   {
    "duration": 0,
    "start_time": "2023-10-10T07:05:05.628Z"
   },
   {
    "duration": 1,
    "start_time": "2023-10-10T07:05:05.629Z"
   },
   {
    "duration": 0,
    "start_time": "2023-10-10T07:05:05.630Z"
   },
   {
    "duration": 0,
    "start_time": "2023-10-10T07:05:05.632Z"
   },
   {
    "duration": 1000,
    "start_time": "2023-10-10T07:05:22.940Z"
   },
   {
    "duration": 29,
    "start_time": "2023-10-10T07:05:23.941Z"
   },
   {
    "duration": 12,
    "start_time": "2023-10-10T07:05:23.971Z"
   },
   {
    "duration": 29,
    "start_time": "2023-10-10T07:05:23.985Z"
   },
   {
    "duration": 8,
    "start_time": "2023-10-10T07:05:24.015Z"
   },
   {
    "duration": 27,
    "start_time": "2023-10-10T07:05:24.025Z"
   },
   {
    "duration": 7,
    "start_time": "2023-10-10T07:05:24.054Z"
   },
   {
    "duration": 45,
    "start_time": "2023-10-10T07:05:24.062Z"
   },
   {
    "duration": 10,
    "start_time": "2023-10-10T07:05:24.109Z"
   },
   {
    "duration": 8,
    "start_time": "2023-10-10T07:05:24.122Z"
   },
   {
    "duration": 17,
    "start_time": "2023-10-10T07:05:24.131Z"
   },
   {
    "duration": 19,
    "start_time": "2023-10-10T07:05:24.150Z"
   },
   {
    "duration": 17,
    "start_time": "2023-10-10T07:05:24.170Z"
   },
   {
    "duration": 4,
    "start_time": "2023-10-10T07:05:24.189Z"
   },
   {
    "duration": 19,
    "start_time": "2023-10-10T07:05:24.194Z"
   },
   {
    "duration": 4,
    "start_time": "2023-10-10T07:05:24.215Z"
   },
   {
    "duration": 11,
    "start_time": "2023-10-10T07:05:24.220Z"
   },
   {
    "duration": 8,
    "start_time": "2023-10-10T07:05:24.232Z"
   },
   {
    "duration": 8,
    "start_time": "2023-10-10T07:05:24.241Z"
   },
   {
    "duration": 15,
    "start_time": "2023-10-10T07:05:24.251Z"
   },
   {
    "duration": 20,
    "start_time": "2023-10-10T07:05:24.267Z"
   },
   {
    "duration": 19,
    "start_time": "2023-10-10T07:05:24.288Z"
   },
   {
    "duration": 154,
    "start_time": "2023-10-10T07:05:24.308Z"
   },
   {
    "duration": 151,
    "start_time": "2023-10-10T07:05:24.463Z"
   },
   {
    "duration": 132,
    "start_time": "2023-10-10T07:05:24.615Z"
   },
   {
    "duration": 127,
    "start_time": "2023-10-10T07:05:24.749Z"
   },
   {
    "duration": 359,
    "start_time": "2023-10-10T07:05:24.878Z"
   },
   {
    "duration": 262,
    "start_time": "2023-10-10T07:05:25.242Z"
   },
   {
    "duration": 198,
    "start_time": "2023-10-10T07:05:25.506Z"
   },
   {
    "duration": 8,
    "start_time": "2023-10-10T07:05:25.705Z"
   },
   {
    "duration": 31,
    "start_time": "2023-10-10T07:05:25.715Z"
   },
   {
    "duration": 7,
    "start_time": "2023-10-10T07:05:25.747Z"
   },
   {
    "duration": 7,
    "start_time": "2023-10-10T07:05:25.756Z"
   },
   {
    "duration": 204,
    "start_time": "2023-10-10T07:05:25.765Z"
   },
   {
    "duration": 21,
    "start_time": "2023-10-10T07:05:25.970Z"
   },
   {
    "duration": 16,
    "start_time": "2023-10-10T07:05:25.992Z"
   },
   {
    "duration": 32,
    "start_time": "2023-10-10T07:05:26.010Z"
   },
   {
    "duration": 17,
    "start_time": "2023-10-10T07:05:26.044Z"
   },
   {
    "duration": 55,
    "start_time": "2023-10-10T07:05:26.063Z"
   },
   {
    "duration": 24,
    "start_time": "2023-10-10T07:05:26.119Z"
   },
   {
    "duration": 233,
    "start_time": "2023-10-10T07:05:26.145Z"
   },
   {
    "duration": 8,
    "start_time": "2023-10-10T07:05:26.380Z"
   },
   {
    "duration": 110,
    "start_time": "2023-10-10T07:05:26.389Z"
   },
   {
    "duration": 10,
    "start_time": "2023-10-10T07:05:26.500Z"
   },
   {
    "duration": 18,
    "start_time": "2023-10-10T07:05:26.511Z"
   },
   {
    "duration": 106,
    "start_time": "2023-10-10T07:05:26.530Z"
   },
   {
    "duration": 3,
    "start_time": "2023-10-10T07:05:26.638Z"
   },
   {
    "duration": 217,
    "start_time": "2023-10-10T07:05:26.643Z"
   },
   {
    "duration": 9,
    "start_time": "2023-10-10T07:05:26.862Z"
   },
   {
    "duration": 161,
    "start_time": "2023-10-10T07:05:26.872Z"
   },
   {
    "duration": 9,
    "start_time": "2023-10-10T07:05:27.039Z"
   },
   {
    "duration": 37,
    "start_time": "2023-10-10T07:05:27.050Z"
   },
   {
    "duration": 93,
    "start_time": "2023-10-10T07:05:27.089Z"
   },
   {
    "duration": 4,
    "start_time": "2023-10-10T07:05:27.183Z"
   },
   {
    "duration": 214,
    "start_time": "2023-10-10T07:05:27.188Z"
   },
   {
    "duration": 9,
    "start_time": "2023-10-10T07:05:27.404Z"
   },
   {
    "duration": 96,
    "start_time": "2023-10-10T07:05:27.414Z"
   },
   {
    "duration": 9,
    "start_time": "2023-10-10T07:05:27.512Z"
   },
   {
    "duration": 23,
    "start_time": "2023-10-10T07:05:27.522Z"
   },
   {
    "duration": 105,
    "start_time": "2023-10-10T07:05:27.546Z"
   },
   {
    "duration": 3,
    "start_time": "2023-10-10T07:05:27.652Z"
   },
   {
    "duration": 215,
    "start_time": "2023-10-10T07:05:27.657Z"
   },
   {
    "duration": 7,
    "start_time": "2023-10-10T07:05:27.874Z"
   },
   {
    "duration": 84,
    "start_time": "2023-10-10T07:05:27.882Z"
   },
   {
    "duration": 9,
    "start_time": "2023-10-10T07:05:27.967Z"
   },
   {
    "duration": 13,
    "start_time": "2023-10-10T07:05:27.978Z"
   },
   {
    "duration": 97,
    "start_time": "2023-10-10T07:05:27.993Z"
   },
   {
    "duration": 4,
    "start_time": "2023-10-10T07:05:28.091Z"
   },
   {
    "duration": 53,
    "start_time": "2023-10-10T07:05:28.096Z"
   },
   {
    "duration": 12,
    "start_time": "2023-10-10T07:05:28.151Z"
   },
   {
    "duration": 8,
    "start_time": "2023-10-10T07:05:28.165Z"
   },
   {
    "duration": 7,
    "start_time": "2023-10-10T07:05:28.174Z"
   },
   {
    "duration": 5,
    "start_time": "2023-10-10T07:05:28.182Z"
   },
   {
    "duration": 9,
    "start_time": "2023-10-10T07:05:28.189Z"
   },
   {
    "duration": 17,
    "start_time": "2023-10-10T07:05:28.199Z"
   },
   {
    "duration": 24,
    "start_time": "2023-10-10T07:05:28.218Z"
   },
   {
    "duration": 32,
    "start_time": "2023-10-10T07:05:28.243Z"
   },
   {
    "duration": 337,
    "start_time": "2023-10-10T07:05:28.277Z"
   },
   {
    "duration": 129,
    "start_time": "2023-10-10T07:05:28.616Z"
   },
   {
    "duration": 5,
    "start_time": "2023-10-10T07:05:28.747Z"
   },
   {
    "duration": 7,
    "start_time": "2023-10-10T07:10:16.598Z"
   },
   {
    "duration": 40,
    "start_time": "2023-10-10T07:10:18.323Z"
   },
   {
    "duration": 12,
    "start_time": "2023-10-10T07:10:21.698Z"
   },
   {
    "duration": 985,
    "start_time": "2023-10-10T07:10:29.571Z"
   },
   {
    "duration": 30,
    "start_time": "2023-10-10T07:10:30.557Z"
   },
   {
    "duration": 157,
    "start_time": "2023-10-10T07:10:30.589Z"
   },
   {
    "duration": 57,
    "start_time": "2023-10-10T07:10:30.749Z"
   },
   {
    "duration": 23,
    "start_time": "2023-10-10T07:10:30.808Z"
   },
   {
    "duration": 44,
    "start_time": "2023-10-10T07:10:30.833Z"
   },
   {
    "duration": 26,
    "start_time": "2023-10-10T07:10:30.878Z"
   },
   {
    "duration": 69,
    "start_time": "2023-10-10T07:10:30.905Z"
   },
   {
    "duration": 72,
    "start_time": "2023-10-10T07:10:30.976Z"
   },
   {
    "duration": 52,
    "start_time": "2023-10-10T07:10:31.051Z"
   },
   {
    "duration": 150,
    "start_time": "2023-10-10T07:10:31.105Z"
   },
   {
    "duration": 170,
    "start_time": "2023-10-10T07:10:31.256Z"
   },
   {
    "duration": 80,
    "start_time": "2023-10-10T07:10:31.428Z"
   },
   {
    "duration": 49,
    "start_time": "2023-10-10T07:10:31.509Z"
   },
   {
    "duration": 36,
    "start_time": "2023-10-10T07:10:31.560Z"
   },
   {
    "duration": 34,
    "start_time": "2023-10-10T07:10:31.598Z"
   },
   {
    "duration": 67,
    "start_time": "2023-10-10T07:10:31.633Z"
   },
   {
    "duration": 59,
    "start_time": "2023-10-10T07:10:31.701Z"
   },
   {
    "duration": 52,
    "start_time": "2023-10-10T07:10:31.761Z"
   },
   {
    "duration": 50,
    "start_time": "2023-10-10T07:10:31.815Z"
   },
   {
    "duration": 60,
    "start_time": "2023-10-10T07:10:31.867Z"
   },
   {
    "duration": 42,
    "start_time": "2023-10-10T07:10:31.929Z"
   },
   {
    "duration": 152,
    "start_time": "2023-10-10T07:10:31.972Z"
   },
   {
    "duration": 151,
    "start_time": "2023-10-10T07:10:32.126Z"
   },
   {
    "duration": 125,
    "start_time": "2023-10-10T07:10:32.279Z"
   },
   {
    "duration": 138,
    "start_time": "2023-10-10T07:10:32.406Z"
   },
   {
    "duration": 358,
    "start_time": "2023-10-10T07:10:32.545Z"
   },
   {
    "duration": 266,
    "start_time": "2023-10-10T07:10:32.907Z"
   },
   {
    "duration": 195,
    "start_time": "2023-10-10T07:10:33.174Z"
   },
   {
    "duration": 8,
    "start_time": "2023-10-10T07:10:33.370Z"
   },
   {
    "duration": 14,
    "start_time": "2023-10-10T07:10:33.379Z"
   },
   {
    "duration": 5,
    "start_time": "2023-10-10T07:10:33.394Z"
   },
   {
    "duration": 8,
    "start_time": "2023-10-10T07:10:33.400Z"
   },
   {
    "duration": 217,
    "start_time": "2023-10-10T07:10:33.409Z"
   },
   {
    "duration": 29,
    "start_time": "2023-10-10T07:10:33.627Z"
   },
   {
    "duration": 16,
    "start_time": "2023-10-10T07:10:33.657Z"
   },
   {
    "duration": 14,
    "start_time": "2023-10-10T07:10:33.675Z"
   },
   {
    "duration": 3,
    "start_time": "2023-10-10T07:10:33.690Z"
   },
   {
    "duration": 48,
    "start_time": "2023-10-10T07:10:33.695Z"
   },
   {
    "duration": 25,
    "start_time": "2023-10-10T07:10:33.745Z"
   },
   {
    "duration": 324,
    "start_time": "2023-10-10T07:10:33.772Z"
   },
   {
    "duration": 9,
    "start_time": "2023-10-10T07:10:34.098Z"
   },
   {
    "duration": 283,
    "start_time": "2023-10-10T07:10:34.109Z"
   },
   {
    "duration": 32,
    "start_time": "2023-10-10T07:10:34.393Z"
   },
   {
    "duration": 47,
    "start_time": "2023-10-10T07:10:34.427Z"
   },
   {
    "duration": 107,
    "start_time": "2023-10-10T07:10:34.475Z"
   },
   {
    "duration": 4,
    "start_time": "2023-10-10T07:10:34.583Z"
   },
   {
    "duration": 234,
    "start_time": "2023-10-10T07:10:34.588Z"
   },
   {
    "duration": 16,
    "start_time": "2023-10-10T07:10:34.824Z"
   },
   {
    "duration": 175,
    "start_time": "2023-10-10T07:10:34.841Z"
   },
   {
    "duration": 8,
    "start_time": "2023-10-10T07:10:35.017Z"
   },
   {
    "duration": 20,
    "start_time": "2023-10-10T07:10:35.027Z"
   },
   {
    "duration": 93,
    "start_time": "2023-10-10T07:10:35.049Z"
   },
   {
    "duration": 3,
    "start_time": "2023-10-10T07:10:35.144Z"
   },
   {
    "duration": 223,
    "start_time": "2023-10-10T07:10:35.149Z"
   },
   {
    "duration": 9,
    "start_time": "2023-10-10T07:10:35.373Z"
   },
   {
    "duration": 92,
    "start_time": "2023-10-10T07:10:35.383Z"
   },
   {
    "duration": 10,
    "start_time": "2023-10-10T07:10:35.476Z"
   },
   {
    "duration": 20,
    "start_time": "2023-10-10T07:10:35.488Z"
   },
   {
    "duration": 99,
    "start_time": "2023-10-10T07:10:35.509Z"
   },
   {
    "duration": 3,
    "start_time": "2023-10-10T07:10:35.610Z"
   },
   {
    "duration": 220,
    "start_time": "2023-10-10T07:10:35.615Z"
   },
   {
    "duration": 7,
    "start_time": "2023-10-10T07:10:35.839Z"
   },
   {
    "duration": 93,
    "start_time": "2023-10-10T07:10:35.848Z"
   },
   {
    "duration": 8,
    "start_time": "2023-10-10T07:10:35.943Z"
   },
   {
    "duration": 57,
    "start_time": "2023-10-10T07:10:35.952Z"
   },
   {
    "duration": 83,
    "start_time": "2023-10-10T07:10:36.011Z"
   },
   {
    "duration": 4,
    "start_time": "2023-10-10T07:10:36.095Z"
   },
   {
    "duration": 83,
    "start_time": "2023-10-10T07:10:36.100Z"
   },
   {
    "duration": 43,
    "start_time": "2023-10-10T07:10:36.185Z"
   },
   {
    "duration": 11,
    "start_time": "2023-10-10T07:10:36.229Z"
   },
   {
    "duration": 2,
    "start_time": "2023-10-10T07:10:36.242Z"
   },
   {
    "duration": 7,
    "start_time": "2023-10-10T07:10:36.246Z"
   },
   {
    "duration": 4,
    "start_time": "2023-10-10T07:10:36.254Z"
   },
   {
    "duration": 5,
    "start_time": "2023-10-10T07:10:36.260Z"
   },
   {
    "duration": 10,
    "start_time": "2023-10-10T07:10:36.267Z"
   },
   {
    "duration": 15,
    "start_time": "2023-10-10T07:10:36.278Z"
   },
   {
    "duration": 13,
    "start_time": "2023-10-10T07:10:36.294Z"
   },
   {
    "duration": 299,
    "start_time": "2023-10-10T07:10:36.308Z"
   },
   {
    "duration": 139,
    "start_time": "2023-10-10T07:10:36.608Z"
   },
   {
    "duration": 4,
    "start_time": "2023-10-10T07:10:36.749Z"
   },
   {
    "duration": 1058,
    "start_time": "2023-10-10T07:14:48.945Z"
   },
   {
    "duration": 29,
    "start_time": "2023-10-10T07:14:50.006Z"
   },
   {
    "duration": 11,
    "start_time": "2023-10-10T07:14:50.036Z"
   },
   {
    "duration": 28,
    "start_time": "2023-10-10T07:14:50.049Z"
   },
   {
    "duration": 8,
    "start_time": "2023-10-10T07:14:50.078Z"
   },
   {
    "duration": 26,
    "start_time": "2023-10-10T07:14:50.087Z"
   },
   {
    "duration": 6,
    "start_time": "2023-10-10T07:14:50.114Z"
   },
   {
    "duration": 15,
    "start_time": "2023-10-10T07:14:50.121Z"
   },
   {
    "duration": 11,
    "start_time": "2023-10-10T07:14:50.137Z"
   },
   {
    "duration": 10,
    "start_time": "2023-10-10T07:14:50.151Z"
   },
   {
    "duration": 11,
    "start_time": "2023-10-10T07:14:50.162Z"
   },
   {
    "duration": 12,
    "start_time": "2023-10-10T07:14:50.174Z"
   },
   {
    "duration": 4,
    "start_time": "2023-10-10T07:14:50.188Z"
   },
   {
    "duration": 14,
    "start_time": "2023-10-10T07:14:50.193Z"
   },
   {
    "duration": 11,
    "start_time": "2023-10-10T07:14:50.208Z"
   },
   {
    "duration": 22,
    "start_time": "2023-10-10T07:14:50.220Z"
   },
   {
    "duration": 12,
    "start_time": "2023-10-10T07:14:50.244Z"
   },
   {
    "duration": 10,
    "start_time": "2023-10-10T07:14:50.258Z"
   },
   {
    "duration": 15,
    "start_time": "2023-10-10T07:14:50.269Z"
   },
   {
    "duration": 10,
    "start_time": "2023-10-10T07:14:50.286Z"
   },
   {
    "duration": 13,
    "start_time": "2023-10-10T07:14:50.297Z"
   },
   {
    "duration": 46,
    "start_time": "2023-10-10T07:14:50.311Z"
   },
   {
    "duration": 161,
    "start_time": "2023-10-10T07:14:50.358Z"
   },
   {
    "duration": 151,
    "start_time": "2023-10-10T07:14:50.521Z"
   },
   {
    "duration": 121,
    "start_time": "2023-10-10T07:14:50.673Z"
   },
   {
    "duration": 129,
    "start_time": "2023-10-10T07:14:50.795Z"
   },
   {
    "duration": 363,
    "start_time": "2023-10-10T07:14:50.925Z"
   },
   {
    "duration": 262,
    "start_time": "2023-10-10T07:14:51.291Z"
   },
   {
    "duration": 200,
    "start_time": "2023-10-10T07:14:51.555Z"
   },
   {
    "duration": 7,
    "start_time": "2023-10-10T07:14:51.756Z"
   },
   {
    "duration": 51,
    "start_time": "2023-10-10T07:14:51.765Z"
   },
   {
    "duration": 4,
    "start_time": "2023-10-10T07:14:51.818Z"
   },
   {
    "duration": 16,
    "start_time": "2023-10-10T07:14:51.823Z"
   },
   {
    "duration": 202,
    "start_time": "2023-10-10T07:14:51.841Z"
   },
   {
    "duration": 18,
    "start_time": "2023-10-10T07:14:52.045Z"
   },
   {
    "duration": 64,
    "start_time": "2023-10-10T07:14:52.064Z"
   },
   {
    "duration": 31,
    "start_time": "2023-10-10T07:14:52.130Z"
   },
   {
    "duration": 26,
    "start_time": "2023-10-10T07:14:52.163Z"
   },
   {
    "duration": 57,
    "start_time": "2023-10-10T07:14:52.190Z"
   },
   {
    "duration": 24,
    "start_time": "2023-10-10T07:14:52.248Z"
   },
   {
    "duration": 239,
    "start_time": "2023-10-10T07:14:52.273Z"
   },
   {
    "duration": 8,
    "start_time": "2023-10-10T07:14:52.513Z"
   },
   {
    "duration": 109,
    "start_time": "2023-10-10T07:14:52.522Z"
   },
   {
    "duration": 8,
    "start_time": "2023-10-10T07:14:52.632Z"
   },
   {
    "duration": 17,
    "start_time": "2023-10-10T07:14:52.641Z"
   },
   {
    "duration": 89,
    "start_time": "2023-10-10T07:14:52.659Z"
   },
   {
    "duration": 3,
    "start_time": "2023-10-10T07:14:52.749Z"
   },
   {
    "duration": 212,
    "start_time": "2023-10-10T07:14:52.753Z"
   },
   {
    "duration": 7,
    "start_time": "2023-10-10T07:14:52.966Z"
   },
   {
    "duration": 257,
    "start_time": "2023-10-10T07:14:52.975Z"
   },
   {
    "duration": 11,
    "start_time": "2023-10-10T07:14:53.233Z"
   },
   {
    "duration": 25,
    "start_time": "2023-10-10T07:14:53.245Z"
   },
   {
    "duration": 104,
    "start_time": "2023-10-10T07:14:53.271Z"
   },
   {
    "duration": 3,
    "start_time": "2023-10-10T07:14:53.376Z"
   },
   {
    "duration": 230,
    "start_time": "2023-10-10T07:14:53.380Z"
   },
   {
    "duration": 8,
    "start_time": "2023-10-10T07:14:53.611Z"
   },
   {
    "duration": 91,
    "start_time": "2023-10-10T07:14:53.620Z"
   },
   {
    "duration": 8,
    "start_time": "2023-10-10T07:14:53.712Z"
   },
   {
    "duration": 20,
    "start_time": "2023-10-10T07:14:53.721Z"
   },
   {
    "duration": 85,
    "start_time": "2023-10-10T07:14:53.742Z"
   },
   {
    "duration": 3,
    "start_time": "2023-10-10T07:14:53.828Z"
   },
   {
    "duration": 223,
    "start_time": "2023-10-10T07:14:53.839Z"
   },
   {
    "duration": 8,
    "start_time": "2023-10-10T07:14:54.063Z"
   },
   {
    "duration": 89,
    "start_time": "2023-10-10T07:14:54.072Z"
   },
   {
    "duration": 8,
    "start_time": "2023-10-10T07:14:54.162Z"
   },
   {
    "duration": 10,
    "start_time": "2023-10-10T07:14:54.172Z"
   },
   {
    "duration": 92,
    "start_time": "2023-10-10T07:14:54.183Z"
   },
   {
    "duration": 2,
    "start_time": "2023-10-10T07:14:54.277Z"
   },
   {
    "duration": 9,
    "start_time": "2023-10-10T07:14:54.281Z"
   },
   {
    "duration": 81,
    "start_time": "2023-10-10T07:14:54.291Z"
   },
   {
    "duration": 14,
    "start_time": "2023-10-10T07:14:54.374Z"
   },
   {
    "duration": 21,
    "start_time": "2023-10-10T07:14:54.390Z"
   },
   {
    "duration": 27,
    "start_time": "2023-10-10T07:14:54.412Z"
   },
   {
    "duration": 15,
    "start_time": "2023-10-10T07:14:54.440Z"
   },
   {
    "duration": 5,
    "start_time": "2023-10-10T07:14:54.456Z"
   },
   {
    "duration": 3,
    "start_time": "2023-10-10T07:14:54.462Z"
   },
   {
    "duration": 10,
    "start_time": "2023-10-10T07:14:54.466Z"
   },
   {
    "duration": 35,
    "start_time": "2023-10-10T07:14:54.478Z"
   },
   {
    "duration": 275,
    "start_time": "2023-10-10T07:14:54.514Z"
   },
   {
    "duration": 134,
    "start_time": "2023-10-10T07:14:54.790Z"
   },
   {
    "duration": 5,
    "start_time": "2023-10-10T07:14:54.926Z"
   },
   {
    "duration": 1049,
    "start_time": "2023-10-10T07:26:03.868Z"
   },
   {
    "duration": 29,
    "start_time": "2023-10-10T07:26:04.919Z"
   },
   {
    "duration": 54,
    "start_time": "2023-10-10T07:26:04.950Z"
   },
   {
    "duration": 58,
    "start_time": "2023-10-10T07:26:05.007Z"
   },
   {
    "duration": 11,
    "start_time": "2023-10-10T07:26:05.067Z"
   },
   {
    "duration": 42,
    "start_time": "2023-10-10T07:26:05.079Z"
   },
   {
    "duration": 34,
    "start_time": "2023-10-10T07:26:05.122Z"
   },
   {
    "duration": 26,
    "start_time": "2023-10-10T07:26:05.158Z"
   },
   {
    "duration": 29,
    "start_time": "2023-10-10T07:26:05.186Z"
   },
   {
    "duration": 22,
    "start_time": "2023-10-10T07:26:05.217Z"
   },
   {
    "duration": 8,
    "start_time": "2023-10-10T07:26:05.240Z"
   },
   {
    "duration": 32,
    "start_time": "2023-10-10T07:26:05.249Z"
   },
   {
    "duration": 18,
    "start_time": "2023-10-10T07:26:05.283Z"
   },
   {
    "duration": 19,
    "start_time": "2023-10-10T07:26:05.303Z"
   },
   {
    "duration": 28,
    "start_time": "2023-10-10T07:26:05.324Z"
   },
   {
    "duration": 21,
    "start_time": "2023-10-10T07:26:05.353Z"
   },
   {
    "duration": 32,
    "start_time": "2023-10-10T07:26:05.376Z"
   },
   {
    "duration": 24,
    "start_time": "2023-10-10T07:26:05.409Z"
   },
   {
    "duration": 22,
    "start_time": "2023-10-10T07:26:05.435Z"
   },
   {
    "duration": 15,
    "start_time": "2023-10-10T07:26:05.458Z"
   },
   {
    "duration": 33,
    "start_time": "2023-10-10T07:26:05.475Z"
   },
   {
    "duration": 31,
    "start_time": "2023-10-10T07:26:05.509Z"
   },
   {
    "duration": 195,
    "start_time": "2023-10-10T07:26:05.541Z"
   },
   {
    "duration": 159,
    "start_time": "2023-10-10T07:26:05.737Z"
   },
   {
    "duration": 134,
    "start_time": "2023-10-10T07:26:05.897Z"
   },
   {
    "duration": 128,
    "start_time": "2023-10-10T07:26:06.032Z"
   },
   {
    "duration": 398,
    "start_time": "2023-10-10T07:26:06.161Z"
   },
   {
    "duration": 283,
    "start_time": "2023-10-10T07:26:06.563Z"
   },
   {
    "duration": 200,
    "start_time": "2023-10-10T07:26:06.847Z"
   },
   {
    "duration": 8,
    "start_time": "2023-10-10T07:26:07.048Z"
   },
   {
    "duration": 25,
    "start_time": "2023-10-10T07:26:07.057Z"
   },
   {
    "duration": 4,
    "start_time": "2023-10-10T07:26:07.083Z"
   },
   {
    "duration": 6,
    "start_time": "2023-10-10T07:26:07.088Z"
   },
   {
    "duration": 212,
    "start_time": "2023-10-10T07:26:07.095Z"
   },
   {
    "duration": 21,
    "start_time": "2023-10-10T07:26:07.308Z"
   },
   {
    "duration": 16,
    "start_time": "2023-10-10T07:26:07.339Z"
   },
   {
    "duration": 13,
    "start_time": "2023-10-10T07:26:07.357Z"
   },
   {
    "duration": 3,
    "start_time": "2023-10-10T07:26:07.371Z"
   },
   {
    "duration": 31,
    "start_time": "2023-10-10T07:26:07.376Z"
   },
   {
    "duration": 50,
    "start_time": "2023-10-10T07:26:07.409Z"
   },
   {
    "duration": 226,
    "start_time": "2023-10-10T07:26:07.460Z"
   },
   {
    "duration": 8,
    "start_time": "2023-10-10T07:26:07.688Z"
   },
   {
    "duration": 112,
    "start_time": "2023-10-10T07:26:07.697Z"
   },
   {
    "duration": 10,
    "start_time": "2023-10-10T07:26:07.811Z"
   },
   {
    "duration": 16,
    "start_time": "2023-10-10T07:26:07.823Z"
   },
   {
    "duration": 113,
    "start_time": "2023-10-10T07:26:07.842Z"
   },
   {
    "duration": 4,
    "start_time": "2023-10-10T07:26:07.956Z"
   },
   {
    "duration": 227,
    "start_time": "2023-10-10T07:26:07.961Z"
   },
   {
    "duration": 9,
    "start_time": "2023-10-10T07:26:08.190Z"
   },
   {
    "duration": 170,
    "start_time": "2023-10-10T07:26:08.201Z"
   },
   {
    "duration": 10,
    "start_time": "2023-10-10T07:26:08.373Z"
   },
   {
    "duration": 17,
    "start_time": "2023-10-10T07:26:08.385Z"
   },
   {
    "duration": 96,
    "start_time": "2023-10-10T07:26:08.403Z"
   },
   {
    "duration": 3,
    "start_time": "2023-10-10T07:26:08.501Z"
   },
   {
    "duration": 232,
    "start_time": "2023-10-10T07:26:08.505Z"
   },
   {
    "duration": 8,
    "start_time": "2023-10-10T07:26:08.739Z"
   },
   {
    "duration": 97,
    "start_time": "2023-10-10T07:26:08.749Z"
   },
   {
    "duration": 9,
    "start_time": "2023-10-10T07:26:08.847Z"
   },
   {
    "duration": 12,
    "start_time": "2023-10-10T07:26:08.857Z"
   },
   {
    "duration": 95,
    "start_time": "2023-10-10T07:26:08.870Z"
   },
   {
    "duration": 4,
    "start_time": "2023-10-10T07:26:08.967Z"
   },
   {
    "duration": 226,
    "start_time": "2023-10-10T07:26:08.973Z"
   },
   {
    "duration": 9,
    "start_time": "2023-10-10T07:26:09.200Z"
   },
   {
    "duration": 96,
    "start_time": "2023-10-10T07:26:09.210Z"
   },
   {
    "duration": 9,
    "start_time": "2023-10-10T07:26:09.308Z"
   },
   {
    "duration": 42,
    "start_time": "2023-10-10T07:26:09.318Z"
   },
   {
    "duration": 114,
    "start_time": "2023-10-10T07:26:09.361Z"
   },
   {
    "duration": 66,
    "start_time": "2023-10-10T07:26:09.477Z"
   },
   {
    "duration": 26,
    "start_time": "2023-10-10T07:26:09.545Z"
   },
   {
    "duration": 76,
    "start_time": "2023-10-10T07:26:09.572Z"
   },
   {
    "duration": 12,
    "start_time": "2023-10-10T07:26:09.650Z"
   },
   {
    "duration": 13,
    "start_time": "2023-10-10T07:26:09.663Z"
   },
   {
    "duration": 14,
    "start_time": "2023-10-10T07:26:09.678Z"
   },
   {
    "duration": 32,
    "start_time": "2023-10-10T07:26:09.693Z"
   },
   {
    "duration": 10,
    "start_time": "2023-10-10T07:26:09.726Z"
   },
   {
    "duration": 21,
    "start_time": "2023-10-10T07:26:09.738Z"
   },
   {
    "duration": 29,
    "start_time": "2023-10-10T07:26:09.760Z"
   },
   {
    "duration": 36,
    "start_time": "2023-10-10T07:26:09.790Z"
   },
   {
    "duration": 298,
    "start_time": "2023-10-10T07:26:09.827Z"
   },
   {
    "duration": 125,
    "start_time": "2023-10-10T07:26:10.126Z"
   },
   {
    "duration": 5,
    "start_time": "2023-10-10T07:26:10.253Z"
   },
   {
    "duration": 1219,
    "start_time": "2023-10-10T10:47:37.515Z"
   },
   {
    "duration": 31,
    "start_time": "2023-10-10T10:47:38.739Z"
   },
   {
    "duration": 38,
    "start_time": "2023-10-10T10:47:38.772Z"
   },
   {
    "duration": 54,
    "start_time": "2023-10-10T10:47:38.812Z"
   },
   {
    "duration": 23,
    "start_time": "2023-10-10T10:47:38.868Z"
   },
   {
    "duration": 112,
    "start_time": "2023-10-10T10:47:38.893Z"
   },
   {
    "duration": 44,
    "start_time": "2023-10-10T10:47:39.007Z"
   },
   {
    "duration": 20,
    "start_time": "2023-10-10T10:47:39.053Z"
   },
   {
    "duration": 29,
    "start_time": "2023-10-10T10:47:39.075Z"
   },
   {
    "duration": 13,
    "start_time": "2023-10-10T10:47:39.107Z"
   },
   {
    "duration": 269,
    "start_time": "2023-10-10T10:47:39.122Z"
   },
   {
    "duration": 82,
    "start_time": "2023-10-10T10:47:39.393Z"
   },
   {
    "duration": 22,
    "start_time": "2023-10-10T10:47:39.477Z"
   },
   {
    "duration": 43,
    "start_time": "2023-10-10T10:47:39.501Z"
   },
   {
    "duration": 33,
    "start_time": "2023-10-10T10:47:39.546Z"
   },
   {
    "duration": 69,
    "start_time": "2023-10-10T10:47:39.581Z"
   },
   {
    "duration": 45,
    "start_time": "2023-10-10T10:47:39.651Z"
   },
   {
    "duration": 54,
    "start_time": "2023-10-10T10:47:39.698Z"
   },
   {
    "duration": 26,
    "start_time": "2023-10-10T10:47:39.754Z"
   },
   {
    "duration": 12,
    "start_time": "2023-10-10T10:47:39.783Z"
   },
   {
    "duration": 40,
    "start_time": "2023-10-10T10:47:39.798Z"
   },
   {
    "duration": 50,
    "start_time": "2023-10-10T10:47:39.840Z"
   },
   {
    "duration": 185,
    "start_time": "2023-10-10T10:47:39.892Z"
   },
   {
    "duration": 186,
    "start_time": "2023-10-10T10:47:40.078Z"
   },
   {
    "duration": 156,
    "start_time": "2023-10-10T10:47:40.265Z"
   },
   {
    "duration": 167,
    "start_time": "2023-10-10T10:47:40.422Z"
   },
   {
    "duration": 497,
    "start_time": "2023-10-10T10:47:40.591Z"
   },
   {
    "duration": 356,
    "start_time": "2023-10-10T10:47:41.090Z"
   },
   {
    "duration": 260,
    "start_time": "2023-10-10T10:47:41.448Z"
   },
   {
    "duration": 9,
    "start_time": "2023-10-10T10:47:41.710Z"
   },
   {
    "duration": 21,
    "start_time": "2023-10-10T10:47:41.721Z"
   },
   {
    "duration": 25,
    "start_time": "2023-10-10T10:47:41.744Z"
   },
   {
    "duration": 50,
    "start_time": "2023-10-10T10:47:41.770Z"
   },
   {
    "duration": 256,
    "start_time": "2023-10-10T10:47:41.822Z"
   },
   {
    "duration": 34,
    "start_time": "2023-10-10T10:47:42.081Z"
   },
   {
    "duration": 27,
    "start_time": "2023-10-10T10:47:42.116Z"
   },
   {
    "duration": 16,
    "start_time": "2023-10-10T10:47:42.145Z"
   },
   {
    "duration": 20,
    "start_time": "2023-10-10T10:47:42.163Z"
   },
   {
    "duration": 51,
    "start_time": "2023-10-10T10:47:42.185Z"
   },
   {
    "duration": 60,
    "start_time": "2023-10-10T10:47:42.238Z"
   },
   {
    "duration": 275,
    "start_time": "2023-10-10T10:47:42.300Z"
   },
   {
    "duration": 10,
    "start_time": "2023-10-10T10:47:42.580Z"
   },
   {
    "duration": 171,
    "start_time": "2023-10-10T10:47:42.602Z"
   },
   {
    "duration": 11,
    "start_time": "2023-10-10T10:47:42.774Z"
   },
   {
    "duration": 53,
    "start_time": "2023-10-10T10:47:42.787Z"
   },
   {
    "duration": 137,
    "start_time": "2023-10-10T10:47:42.842Z"
   },
   {
    "duration": 4,
    "start_time": "2023-10-10T10:47:42.981Z"
   },
   {
    "duration": 285,
    "start_time": "2023-10-10T10:47:42.987Z"
   },
   {
    "duration": 11,
    "start_time": "2023-10-10T10:47:43.274Z"
   },
   {
    "duration": 288,
    "start_time": "2023-10-10T10:47:43.287Z"
   },
   {
    "duration": 11,
    "start_time": "2023-10-10T10:47:43.577Z"
   },
   {
    "duration": 42,
    "start_time": "2023-10-10T10:47:43.590Z"
   },
   {
    "duration": 137,
    "start_time": "2023-10-10T10:47:43.633Z"
   },
   {
    "duration": 5,
    "start_time": "2023-10-10T10:47:43.772Z"
   },
   {
    "duration": 292,
    "start_time": "2023-10-10T10:47:43.778Z"
   },
   {
    "duration": 10,
    "start_time": "2023-10-10T10:47:44.073Z"
   },
   {
    "duration": 119,
    "start_time": "2023-10-10T10:47:44.085Z"
   },
   {
    "duration": 10,
    "start_time": "2023-10-10T10:47:44.205Z"
   },
   {
    "duration": 7,
    "start_time": "2023-10-10T10:47:44.217Z"
   },
   {
    "duration": 128,
    "start_time": "2023-10-10T10:47:44.226Z"
   },
   {
    "duration": 4,
    "start_time": "2023-10-10T10:47:44.355Z"
   },
   {
    "duration": 366,
    "start_time": "2023-10-10T10:47:44.361Z"
   },
   {
    "duration": 13,
    "start_time": "2023-10-10T10:47:44.728Z"
   },
   {
    "duration": 125,
    "start_time": "2023-10-10T10:47:44.743Z"
   },
   {
    "duration": 10,
    "start_time": "2023-10-10T10:47:44.870Z"
   },
   {
    "duration": 23,
    "start_time": "2023-10-10T10:47:44.882Z"
   },
   {
    "duration": 119,
    "start_time": "2023-10-10T10:47:44.907Z"
   },
   {
    "duration": 5,
    "start_time": "2023-10-10T10:47:45.028Z"
   },
   {
    "duration": 71,
    "start_time": "2023-10-10T10:47:45.035Z"
   },
   {
    "duration": 67,
    "start_time": "2023-10-10T10:47:45.108Z"
   },
   {
    "duration": 15,
    "start_time": "2023-10-10T10:47:45.176Z"
   },
   {
    "duration": 13,
    "start_time": "2023-10-10T10:47:45.193Z"
   },
   {
    "duration": 9,
    "start_time": "2023-10-10T10:47:45.208Z"
   },
   {
    "duration": 6,
    "start_time": "2023-10-10T10:47:45.219Z"
   },
   {
    "duration": 24,
    "start_time": "2023-10-10T10:47:45.227Z"
   },
   {
    "duration": 14,
    "start_time": "2023-10-10T10:47:45.254Z"
   },
   {
    "duration": 22,
    "start_time": "2023-10-10T10:47:45.271Z"
   },
   {
    "duration": 41,
    "start_time": "2023-10-10T10:47:45.295Z"
   },
   {
    "duration": 384,
    "start_time": "2023-10-10T10:47:45.338Z"
   },
   {
    "duration": 157,
    "start_time": "2023-10-10T10:47:45.724Z"
   },
   {
    "duration": 6,
    "start_time": "2023-10-10T10:47:45.883Z"
   },
   {
    "duration": 87,
    "start_time": "2023-10-10T10:56:29.108Z"
   },
   {
    "duration": 6,
    "start_time": "2023-10-10T10:56:31.714Z"
   },
   {
    "duration": 5,
    "start_time": "2023-10-10T10:56:39.969Z"
   },
   {
    "duration": 20,
    "start_time": "2023-10-10T10:57:18.022Z"
   },
   {
    "duration": 76,
    "start_time": "2023-10-10T13:03:05.935Z"
   },
   {
    "duration": 2197,
    "start_time": "2023-10-10T13:03:21.794Z"
   },
   {
    "duration": 112,
    "start_time": "2023-10-10T13:03:23.993Z"
   },
   {
    "duration": 16,
    "start_time": "2023-10-10T13:03:24.108Z"
   },
   {
    "duration": 106,
    "start_time": "2023-10-10T13:03:24.127Z"
   },
   {
    "duration": 10,
    "start_time": "2023-10-10T13:03:24.235Z"
   },
   {
    "duration": 76,
    "start_time": "2023-10-10T13:03:24.246Z"
   },
   {
    "duration": 7,
    "start_time": "2023-10-10T13:03:24.324Z"
   },
   {
    "duration": 27,
    "start_time": "2023-10-10T13:03:24.334Z"
   },
   {
    "duration": 22,
    "start_time": "2023-10-10T13:03:24.364Z"
   },
   {
    "duration": 11,
    "start_time": "2023-10-10T13:03:24.390Z"
   },
   {
    "duration": 37,
    "start_time": "2023-10-10T13:03:24.403Z"
   },
   {
    "duration": 45,
    "start_time": "2023-10-10T13:03:24.441Z"
   },
   {
    "duration": 11,
    "start_time": "2023-10-10T13:03:24.488Z"
   },
   {
    "duration": 16,
    "start_time": "2023-10-10T13:03:24.501Z"
   },
   {
    "duration": 21,
    "start_time": "2023-10-10T13:03:24.519Z"
   },
   {
    "duration": 14,
    "start_time": "2023-10-10T13:03:24.542Z"
   },
   {
    "duration": 30,
    "start_time": "2023-10-10T13:03:24.558Z"
   },
   {
    "duration": 24,
    "start_time": "2023-10-10T13:03:24.590Z"
   },
   {
    "duration": 39,
    "start_time": "2023-10-10T13:03:24.615Z"
   },
   {
    "duration": 44,
    "start_time": "2023-10-10T13:03:24.657Z"
   },
   {
    "duration": 40,
    "start_time": "2023-10-10T13:03:24.703Z"
   },
   {
    "duration": 78,
    "start_time": "2023-10-10T13:03:24.745Z"
   },
   {
    "duration": 272,
    "start_time": "2023-10-10T13:03:24.825Z"
   },
   {
    "duration": 266,
    "start_time": "2023-10-10T13:03:25.099Z"
   },
   {
    "duration": 248,
    "start_time": "2023-10-10T13:03:25.367Z"
   },
   {
    "duration": 202,
    "start_time": "2023-10-10T13:03:25.617Z"
   },
   {
    "duration": 669,
    "start_time": "2023-10-10T13:03:25.820Z"
   },
   {
    "duration": 465,
    "start_time": "2023-10-10T13:03:26.495Z"
   },
   {
    "duration": 350,
    "start_time": "2023-10-10T13:03:26.963Z"
   },
   {
    "duration": 174,
    "start_time": "2023-10-10T13:03:27.315Z"
   },
   {
    "duration": 10,
    "start_time": "2023-10-10T13:03:27.491Z"
   },
   {
    "duration": 43,
    "start_time": "2023-10-10T13:03:27.502Z"
   },
   {
    "duration": 44,
    "start_time": "2023-10-10T13:03:27.549Z"
   },
   {
    "duration": 336,
    "start_time": "2023-10-10T13:03:27.595Z"
   },
   {
    "duration": 56,
    "start_time": "2023-10-10T13:03:27.933Z"
   },
   {
    "duration": 22,
    "start_time": "2023-10-10T13:03:27.991Z"
   },
   {
    "duration": 77,
    "start_time": "2023-10-10T13:03:28.015Z"
   },
   {
    "duration": 25,
    "start_time": "2023-10-10T13:03:28.094Z"
   },
   {
    "duration": 84,
    "start_time": "2023-10-10T13:03:28.122Z"
   },
   {
    "duration": 52,
    "start_time": "2023-10-10T13:03:28.207Z"
   },
   {
    "duration": 354,
    "start_time": "2023-10-10T13:03:28.261Z"
   },
   {
    "duration": 10,
    "start_time": "2023-10-10T13:03:28.617Z"
   },
   {
    "duration": 172,
    "start_time": "2023-10-10T13:03:28.628Z"
   },
   {
    "duration": 12,
    "start_time": "2023-10-10T13:03:28.802Z"
   },
   {
    "duration": 55,
    "start_time": "2023-10-10T13:03:28.816Z"
   },
   {
    "duration": 143,
    "start_time": "2023-10-10T13:03:28.881Z"
   },
   {
    "duration": 5,
    "start_time": "2023-10-10T13:03:29.026Z"
   },
   {
    "duration": 490,
    "start_time": "2023-10-10T13:03:29.033Z"
   },
   {
    "duration": 11,
    "start_time": "2023-10-10T13:03:29.525Z"
   },
   {
    "duration": 216,
    "start_time": "2023-10-10T13:03:29.547Z"
   },
   {
    "duration": 29,
    "start_time": "2023-10-10T13:03:29.766Z"
   },
   {
    "duration": 103,
    "start_time": "2023-10-10T13:03:29.796Z"
   },
   {
    "duration": 201,
    "start_time": "2023-10-10T13:03:29.901Z"
   },
   {
    "duration": 5,
    "start_time": "2023-10-10T13:03:30.104Z"
   },
   {
    "duration": 660,
    "start_time": "2023-10-10T13:03:30.111Z"
   },
   {
    "duration": 22,
    "start_time": "2023-10-10T13:03:30.774Z"
   },
   {
    "duration": 204,
    "start_time": "2023-10-10T13:03:30.798Z"
   },
   {
    "duration": 34,
    "start_time": "2023-10-10T13:03:31.004Z"
   },
   {
    "duration": 78,
    "start_time": "2023-10-10T13:03:31.039Z"
   },
   {
    "duration": 176,
    "start_time": "2023-10-10T13:03:31.119Z"
   },
   {
    "duration": 4,
    "start_time": "2023-10-10T13:03:31.296Z"
   },
   {
    "duration": 405,
    "start_time": "2023-10-10T13:03:31.302Z"
   },
   {
    "duration": 11,
    "start_time": "2023-10-10T13:03:31.709Z"
   },
   {
    "duration": 160,
    "start_time": "2023-10-10T13:03:31.722Z"
   },
   {
    "duration": 16,
    "start_time": "2023-10-10T13:03:31.884Z"
   },
   {
    "duration": 65,
    "start_time": "2023-10-10T13:03:31.902Z"
   },
   {
    "duration": 166,
    "start_time": "2023-10-10T13:03:31.970Z"
   },
   {
    "duration": 5,
    "start_time": "2023-10-10T13:03:32.138Z"
   },
   {
    "duration": 45,
    "start_time": "2023-10-10T13:03:32.144Z"
   },
   {
    "duration": 263,
    "start_time": "2023-10-10T13:03:32.192Z"
   },
   {
    "duration": 26,
    "start_time": "2023-10-10T13:03:32.458Z"
   },
   {
    "duration": 212,
    "start_time": "2023-10-10T13:03:32.488Z"
   },
   {
    "duration": 0,
    "start_time": "2023-10-10T13:03:32.702Z"
   },
   {
    "duration": 0,
    "start_time": "2023-10-10T13:03:32.703Z"
   },
   {
    "duration": 0,
    "start_time": "2023-10-10T13:03:32.704Z"
   },
   {
    "duration": 0,
    "start_time": "2023-10-10T13:03:32.706Z"
   },
   {
    "duration": 0,
    "start_time": "2023-10-10T13:03:32.707Z"
   },
   {
    "duration": 0,
    "start_time": "2023-10-10T13:03:32.709Z"
   },
   {
    "duration": 0,
    "start_time": "2023-10-10T13:03:32.710Z"
   },
   {
    "duration": 0,
    "start_time": "2023-10-10T13:03:32.711Z"
   },
   {
    "duration": 1441,
    "start_time": "2023-10-10T13:04:12.378Z"
   },
   {
    "duration": 65,
    "start_time": "2023-10-10T13:04:13.822Z"
   },
   {
    "duration": 16,
    "start_time": "2023-10-10T13:04:13.890Z"
   },
   {
    "duration": 84,
    "start_time": "2023-10-10T13:04:13.909Z"
   },
   {
    "duration": 9,
    "start_time": "2023-10-10T13:04:13.995Z"
   },
   {
    "duration": 69,
    "start_time": "2023-10-10T13:04:14.006Z"
   },
   {
    "duration": 60,
    "start_time": "2023-10-10T13:04:14.076Z"
   },
   {
    "duration": 48,
    "start_time": "2023-10-10T13:04:14.137Z"
   },
   {
    "duration": 15,
    "start_time": "2023-10-10T13:04:14.188Z"
   },
   {
    "duration": 48,
    "start_time": "2023-10-10T13:04:14.208Z"
   },
   {
    "duration": 38,
    "start_time": "2023-10-10T13:04:14.260Z"
   },
   {
    "duration": 53,
    "start_time": "2023-10-10T13:04:14.300Z"
   },
   {
    "duration": 127,
    "start_time": "2023-10-10T13:04:14.355Z"
   },
   {
    "duration": 73,
    "start_time": "2023-10-10T13:04:14.484Z"
   },
   {
    "duration": 17,
    "start_time": "2023-10-10T13:04:14.560Z"
   },
   {
    "duration": 18,
    "start_time": "2023-10-10T13:04:14.579Z"
   },
   {
    "duration": 25,
    "start_time": "2023-10-10T13:04:14.600Z"
   },
   {
    "duration": 48,
    "start_time": "2023-10-10T13:04:14.627Z"
   },
   {
    "duration": 16,
    "start_time": "2023-10-10T13:04:14.685Z"
   },
   {
    "duration": 18,
    "start_time": "2023-10-10T13:04:14.703Z"
   },
   {
    "duration": 64,
    "start_time": "2023-10-10T13:04:14.723Z"
   },
   {
    "duration": 39,
    "start_time": "2023-10-10T13:04:14.792Z"
   },
   {
    "duration": 247,
    "start_time": "2023-10-10T13:04:14.833Z"
   },
   {
    "duration": 230,
    "start_time": "2023-10-10T13:04:15.082Z"
   },
   {
    "duration": 206,
    "start_time": "2023-10-10T13:04:15.314Z"
   },
   {
    "duration": 215,
    "start_time": "2023-10-10T13:04:15.522Z"
   },
   {
    "duration": 752,
    "start_time": "2023-10-10T13:04:15.739Z"
   },
   {
    "duration": 458,
    "start_time": "2023-10-10T13:04:16.498Z"
   },
   {
    "duration": 324,
    "start_time": "2023-10-10T13:04:16.965Z"
   },
   {
    "duration": 150,
    "start_time": "2023-10-10T13:04:17.291Z"
   },
   {
    "duration": 11,
    "start_time": "2023-10-10T13:04:17.447Z"
   },
   {
    "duration": 32,
    "start_time": "2023-10-10T13:04:17.460Z"
   },
   {
    "duration": 6,
    "start_time": "2023-10-10T13:04:17.494Z"
   },
   {
    "duration": 336,
    "start_time": "2023-10-10T13:04:17.502Z"
   },
   {
    "duration": 58,
    "start_time": "2023-10-10T13:04:17.841Z"
   },
   {
    "duration": 29,
    "start_time": "2023-10-10T13:04:17.901Z"
   },
   {
    "duration": 38,
    "start_time": "2023-10-10T13:04:17.931Z"
   },
   {
    "duration": 8,
    "start_time": "2023-10-10T13:04:17.974Z"
   },
   {
    "duration": 102,
    "start_time": "2023-10-10T13:04:17.985Z"
   },
   {
    "duration": 40,
    "start_time": "2023-10-10T13:04:18.092Z"
   },
   {
    "duration": 364,
    "start_time": "2023-10-10T13:04:18.134Z"
   },
   {
    "duration": 11,
    "start_time": "2023-10-10T13:04:18.500Z"
   },
   {
    "duration": 174,
    "start_time": "2023-10-10T13:04:18.512Z"
   },
   {
    "duration": 16,
    "start_time": "2023-10-10T13:04:18.690Z"
   },
   {
    "duration": 10,
    "start_time": "2023-10-10T13:04:18.709Z"
   },
   {
    "duration": 184,
    "start_time": "2023-10-10T13:04:18.721Z"
   },
   {
    "duration": 6,
    "start_time": "2023-10-10T13:04:18.907Z"
   },
   {
    "duration": 474,
    "start_time": "2023-10-10T13:04:18.915Z"
   },
   {
    "duration": 12,
    "start_time": "2023-10-10T13:04:19.392Z"
   },
   {
    "duration": 154,
    "start_time": "2023-10-10T13:04:19.405Z"
   },
   {
    "duration": 22,
    "start_time": "2023-10-10T13:04:19.562Z"
   },
   {
    "duration": 22,
    "start_time": "2023-10-10T13:04:19.587Z"
   },
   {
    "duration": 182,
    "start_time": "2023-10-10T13:04:19.611Z"
   },
   {
    "duration": 5,
    "start_time": "2023-10-10T13:04:19.798Z"
   },
   {
    "duration": 392,
    "start_time": "2023-10-10T13:04:19.806Z"
   },
   {
    "duration": 13,
    "start_time": "2023-10-10T13:04:20.200Z"
   },
   {
    "duration": 162,
    "start_time": "2023-10-10T13:04:20.215Z"
   },
   {
    "duration": 20,
    "start_time": "2023-10-10T13:04:20.379Z"
   },
   {
    "duration": 42,
    "start_time": "2023-10-10T13:04:20.401Z"
   },
   {
    "duration": 143,
    "start_time": "2023-10-10T13:04:20.445Z"
   },
   {
    "duration": 5,
    "start_time": "2023-10-10T13:04:20.591Z"
   },
   {
    "duration": 397,
    "start_time": "2023-10-10T13:04:20.598Z"
   },
   {
    "duration": 11,
    "start_time": "2023-10-10T13:04:20.997Z"
   },
   {
    "duration": 153,
    "start_time": "2023-10-10T13:04:21.010Z"
   },
   {
    "duration": 16,
    "start_time": "2023-10-10T13:04:21.172Z"
   },
   {
    "duration": 39,
    "start_time": "2023-10-10T13:04:21.190Z"
   },
   {
    "duration": 154,
    "start_time": "2023-10-10T13:04:21.231Z"
   },
   {
    "duration": 5,
    "start_time": "2023-10-10T13:04:21.388Z"
   },
   {
    "duration": 34,
    "start_time": "2023-10-10T13:04:21.395Z"
   },
   {
    "duration": 207,
    "start_time": "2023-10-10T13:04:21.431Z"
   },
   {
    "duration": 21,
    "start_time": "2023-10-10T13:04:21.640Z"
   },
   {
    "duration": 46,
    "start_time": "2023-10-10T13:04:21.663Z"
   },
   {
    "duration": 61,
    "start_time": "2023-10-10T13:04:21.711Z"
   },
   {
    "duration": 28,
    "start_time": "2023-10-10T13:04:21.778Z"
   },
   {
    "duration": 62,
    "start_time": "2023-10-10T13:04:21.808Z"
   },
   {
    "duration": 26,
    "start_time": "2023-10-10T13:04:21.877Z"
   },
   {
    "duration": 56,
    "start_time": "2023-10-10T13:04:21.906Z"
   },
   {
    "duration": 23,
    "start_time": "2023-10-10T13:04:21.965Z"
   },
   {
    "duration": 432,
    "start_time": "2023-10-10T13:04:21.990Z"
   },
   {
    "duration": 192,
    "start_time": "2023-10-10T13:04:22.424Z"
   },
   {
    "duration": 6,
    "start_time": "2023-10-10T13:04:22.618Z"
   },
   {
    "duration": 1356,
    "start_time": "2023-10-10T13:08:21.975Z"
   },
   {
    "duration": 39,
    "start_time": "2023-10-10T13:08:23.334Z"
   },
   {
    "duration": 22,
    "start_time": "2023-10-10T13:08:23.375Z"
   },
   {
    "duration": 38,
    "start_time": "2023-10-10T13:08:23.401Z"
   },
   {
    "duration": 21,
    "start_time": "2023-10-10T13:08:23.442Z"
   },
   {
    "duration": 47,
    "start_time": "2023-10-10T13:08:23.466Z"
   },
   {
    "duration": 41,
    "start_time": "2023-10-10T13:08:23.516Z"
   },
   {
    "duration": 13,
    "start_time": "2023-10-10T13:08:23.574Z"
   },
   {
    "duration": 41,
    "start_time": "2023-10-10T13:08:23.589Z"
   },
   {
    "duration": 51,
    "start_time": "2023-10-10T13:08:23.633Z"
   },
   {
    "duration": 44,
    "start_time": "2023-10-10T13:08:23.686Z"
   },
   {
    "duration": 51,
    "start_time": "2023-10-10T13:08:23.732Z"
   },
   {
    "duration": 42,
    "start_time": "2023-10-10T13:08:23.785Z"
   },
   {
    "duration": 47,
    "start_time": "2023-10-10T13:08:23.830Z"
   },
   {
    "duration": 44,
    "start_time": "2023-10-10T13:08:23.879Z"
   },
   {
    "duration": 21,
    "start_time": "2023-10-10T13:08:23.926Z"
   },
   {
    "duration": 45,
    "start_time": "2023-10-10T13:08:23.949Z"
   },
   {
    "duration": 43,
    "start_time": "2023-10-10T13:08:23.996Z"
   },
   {
    "duration": 43,
    "start_time": "2023-10-10T13:08:24.041Z"
   },
   {
    "duration": 29,
    "start_time": "2023-10-10T13:08:24.086Z"
   },
   {
    "duration": 74,
    "start_time": "2023-10-10T13:08:24.117Z"
   },
   {
    "duration": 79,
    "start_time": "2023-10-10T13:08:24.194Z"
   },
   {
    "duration": 243,
    "start_time": "2023-10-10T13:08:24.275Z"
   },
   {
    "duration": 280,
    "start_time": "2023-10-10T13:08:24.519Z"
   },
   {
    "duration": 193,
    "start_time": "2023-10-10T13:08:24.801Z"
   },
   {
    "duration": 222,
    "start_time": "2023-10-10T13:08:24.996Z"
   },
   {
    "duration": 681,
    "start_time": "2023-10-10T13:08:25.222Z"
   },
   {
    "duration": 480,
    "start_time": "2023-10-10T13:08:25.908Z"
   },
   {
    "duration": 312,
    "start_time": "2023-10-10T13:08:26.389Z"
   },
   {
    "duration": 10,
    "start_time": "2023-10-10T13:08:26.702Z"
   },
   {
    "duration": 25,
    "start_time": "2023-10-10T13:08:26.714Z"
   },
   {
    "duration": 23,
    "start_time": "2023-10-10T13:08:26.749Z"
   },
   {
    "duration": 313,
    "start_time": "2023-10-10T13:08:26.777Z"
   },
   {
    "duration": 147,
    "start_time": "2023-10-10T13:08:27.092Z"
   },
   {
    "duration": 48,
    "start_time": "2023-10-10T13:08:27.241Z"
   },
   {
    "duration": 21,
    "start_time": "2023-10-10T13:08:27.290Z"
   },
   {
    "duration": 61,
    "start_time": "2023-10-10T13:08:27.313Z"
   },
   {
    "duration": 5,
    "start_time": "2023-10-10T13:08:27.377Z"
   },
   {
    "duration": 83,
    "start_time": "2023-10-10T13:08:27.383Z"
   },
   {
    "duration": 38,
    "start_time": "2023-10-10T13:08:27.474Z"
   },
   {
    "duration": 339,
    "start_time": "2023-10-10T13:08:27.514Z"
   },
   {
    "duration": 17,
    "start_time": "2023-10-10T13:08:27.856Z"
   },
   {
    "duration": 203,
    "start_time": "2023-10-10T13:08:27.876Z"
   },
   {
    "duration": 19,
    "start_time": "2023-10-10T13:08:28.081Z"
   },
   {
    "duration": 28,
    "start_time": "2023-10-10T13:08:28.103Z"
   },
   {
    "duration": 158,
    "start_time": "2023-10-10T13:08:28.133Z"
   },
   {
    "duration": 5,
    "start_time": "2023-10-10T13:08:28.293Z"
   },
   {
    "duration": 436,
    "start_time": "2023-10-10T13:08:28.300Z"
   },
   {
    "duration": 27,
    "start_time": "2023-10-10T13:08:28.738Z"
   },
   {
    "duration": 121,
    "start_time": "2023-10-10T13:08:28.773Z"
   },
   {
    "duration": 10,
    "start_time": "2023-10-10T13:08:28.896Z"
   },
   {
    "duration": 27,
    "start_time": "2023-10-10T13:08:28.908Z"
   },
   {
    "duration": 174,
    "start_time": "2023-10-10T13:08:28.937Z"
   },
   {
    "duration": 5,
    "start_time": "2023-10-10T13:08:29.114Z"
   },
   {
    "duration": 394,
    "start_time": "2023-10-10T13:08:29.122Z"
   },
   {
    "duration": 11,
    "start_time": "2023-10-10T13:08:29.518Z"
   },
   {
    "duration": 163,
    "start_time": "2023-10-10T13:08:29.531Z"
   },
   {
    "duration": 14,
    "start_time": "2023-10-10T13:08:29.696Z"
   },
   {
    "duration": 39,
    "start_time": "2023-10-10T13:08:29.712Z"
   },
   {
    "duration": 156,
    "start_time": "2023-10-10T13:08:29.753Z"
   },
   {
    "duration": 5,
    "start_time": "2023-10-10T13:08:29.910Z"
   },
   {
    "duration": 366,
    "start_time": "2023-10-10T13:08:29.917Z"
   },
   {
    "duration": 10,
    "start_time": "2023-10-10T13:08:30.286Z"
   },
   {
    "duration": 272,
    "start_time": "2023-10-10T13:08:30.298Z"
   },
   {
    "duration": 19,
    "start_time": "2023-10-10T13:08:30.576Z"
   },
   {
    "duration": 88,
    "start_time": "2023-10-10T13:08:30.598Z"
   },
   {
    "duration": 184,
    "start_time": "2023-10-10T13:08:30.688Z"
   },
   {
    "duration": 6,
    "start_time": "2023-10-10T13:08:30.878Z"
   },
   {
    "duration": 65,
    "start_time": "2023-10-10T13:08:30.886Z"
   },
   {
    "duration": 219,
    "start_time": "2023-10-10T13:08:30.954Z"
   },
   {
    "duration": 17,
    "start_time": "2023-10-10T13:08:31.180Z"
   },
   {
    "duration": 60,
    "start_time": "2023-10-10T13:08:31.200Z"
   },
   {
    "duration": 49,
    "start_time": "2023-10-10T13:08:31.263Z"
   },
   {
    "duration": 64,
    "start_time": "2023-10-10T13:08:31.314Z"
   },
   {
    "duration": 35,
    "start_time": "2023-10-10T13:08:31.380Z"
   },
   {
    "duration": 53,
    "start_time": "2023-10-10T13:08:31.417Z"
   },
   {
    "duration": 200,
    "start_time": "2023-10-10T13:08:31.472Z"
   },
   {
    "duration": 138,
    "start_time": "2023-10-10T13:08:31.675Z"
   },
   {
    "duration": 427,
    "start_time": "2023-10-10T13:08:31.816Z"
   },
   {
    "duration": 187,
    "start_time": "2023-10-10T13:08:32.257Z"
   },
   {
    "duration": 9,
    "start_time": "2023-10-10T13:08:32.447Z"
   },
   {
    "duration": 148,
    "start_time": "2023-10-10T13:10:58.175Z"
   },
   {
    "duration": 143,
    "start_time": "2023-10-10T13:11:57.294Z"
   },
   {
    "duration": 163,
    "start_time": "2023-10-10T13:12:04.944Z"
   },
   {
    "duration": 155,
    "start_time": "2023-10-10T13:12:28.969Z"
   },
   {
    "duration": 199,
    "start_time": "2023-10-10T13:12:45.715Z"
   },
   {
    "duration": 167,
    "start_time": "2023-10-10T13:13:45.032Z"
   },
   {
    "duration": 149,
    "start_time": "2023-10-10T13:14:24.295Z"
   },
   {
    "duration": 164,
    "start_time": "2023-10-10T13:14:27.739Z"
   },
   {
    "duration": 4,
    "start_time": "2023-10-10T13:17:31.919Z"
   },
   {
    "duration": 5,
    "start_time": "2023-10-10T13:17:55.301Z"
   },
   {
    "duration": 4,
    "start_time": "2023-10-10T13:18:07.296Z"
   },
   {
    "duration": 4,
    "start_time": "2023-10-10T13:18:46.778Z"
   },
   {
    "duration": 30,
    "start_time": "2023-10-10T13:20:24.958Z"
   },
   {
    "duration": 6,
    "start_time": "2023-10-10T13:20:26.871Z"
   },
   {
    "duration": 4,
    "start_time": "2023-10-10T13:21:56.814Z"
   },
   {
    "duration": 125,
    "start_time": "2023-10-10T13:22:08.041Z"
   },
   {
    "duration": 4,
    "start_time": "2023-10-10T13:22:16.262Z"
   },
   {
    "duration": 6,
    "start_time": "2023-10-10T13:22:33.874Z"
   },
   {
    "duration": 3,
    "start_time": "2023-10-10T13:23:03.482Z"
   },
   {
    "duration": 3,
    "start_time": "2023-10-10T13:23:03.991Z"
   },
   {
    "duration": 4,
    "start_time": "2023-10-10T13:23:04.487Z"
   },
   {
    "duration": 7,
    "start_time": "2023-10-10T13:23:39.068Z"
   },
   {
    "duration": 112,
    "start_time": "2023-10-10T13:29:59.782Z"
   },
   {
    "duration": 36,
    "start_time": "2023-10-10T13:30:49.938Z"
   },
   {
    "duration": 5,
    "start_time": "2023-10-10T13:31:02.545Z"
   },
   {
    "duration": 52,
    "start_time": "2023-10-10T13:31:10.249Z"
   },
   {
    "duration": 28,
    "start_time": "2023-10-10T13:31:28.173Z"
   },
   {
    "duration": 4,
    "start_time": "2023-10-10T13:31:29.822Z"
   },
   {
    "duration": 144,
    "start_time": "2023-10-10T13:32:41.041Z"
   },
   {
    "duration": 18,
    "start_time": "2023-10-10T13:35:08.423Z"
   },
   {
    "duration": 25,
    "start_time": "2023-10-10T13:35:31.038Z"
   },
   {
    "duration": 17,
    "start_time": "2023-10-10T13:35:52.629Z"
   },
   {
    "duration": 129,
    "start_time": "2023-10-10T13:44:54.567Z"
   },
   {
    "duration": 231,
    "start_time": "2023-10-10T13:45:00.483Z"
   },
   {
    "duration": 322,
    "start_time": "2023-10-10T13:45:40.225Z"
   },
   {
    "duration": 112,
    "start_time": "2023-10-10T13:45:57.266Z"
   },
   {
    "duration": 126,
    "start_time": "2023-10-10T13:46:01.953Z"
   },
   {
    "duration": 132,
    "start_time": "2023-10-10T13:48:47.689Z"
   },
   {
    "duration": 116,
    "start_time": "2023-10-10T13:49:31.691Z"
   },
   {
    "duration": 1365,
    "start_time": "2023-10-10T13:49:54.530Z"
   },
   {
    "duration": 29,
    "start_time": "2023-10-10T13:49:55.897Z"
   },
   {
    "duration": 60,
    "start_time": "2023-10-10T13:49:55.928Z"
   },
   {
    "duration": 46,
    "start_time": "2023-10-10T13:49:55.990Z"
   },
   {
    "duration": 31,
    "start_time": "2023-10-10T13:49:56.038Z"
   },
   {
    "duration": 40,
    "start_time": "2023-10-10T13:49:56.071Z"
   },
   {
    "duration": 25,
    "start_time": "2023-10-10T13:49:56.113Z"
   },
   {
    "duration": 49,
    "start_time": "2023-10-10T13:49:56.140Z"
   },
   {
    "duration": 37,
    "start_time": "2023-10-10T13:49:56.191Z"
   },
   {
    "duration": 101,
    "start_time": "2023-10-10T13:49:56.231Z"
   },
   {
    "duration": 279,
    "start_time": "2023-10-10T13:49:56.334Z"
   },
   {
    "duration": 63,
    "start_time": "2023-10-10T13:49:56.615Z"
   },
   {
    "duration": 51,
    "start_time": "2023-10-10T13:49:56.680Z"
   },
   {
    "duration": 102,
    "start_time": "2023-10-10T13:49:56.732Z"
   },
   {
    "duration": 29,
    "start_time": "2023-10-10T13:49:56.836Z"
   },
   {
    "duration": 32,
    "start_time": "2023-10-10T13:49:56.867Z"
   },
   {
    "duration": 50,
    "start_time": "2023-10-10T13:49:56.903Z"
   },
   {
    "duration": 19,
    "start_time": "2023-10-10T13:49:56.966Z"
   },
   {
    "duration": 22,
    "start_time": "2023-10-10T13:49:56.987Z"
   },
   {
    "duration": 45,
    "start_time": "2023-10-10T13:49:57.011Z"
   },
   {
    "duration": 41,
    "start_time": "2023-10-10T13:49:57.059Z"
   },
   {
    "duration": 41,
    "start_time": "2023-10-10T13:49:57.101Z"
   },
   {
    "duration": 224,
    "start_time": "2023-10-10T13:49:57.144Z"
   },
   {
    "duration": 212,
    "start_time": "2023-10-10T13:49:57.370Z"
   },
   {
    "duration": 175,
    "start_time": "2023-10-10T13:49:57.583Z"
   },
   {
    "duration": 199,
    "start_time": "2023-10-10T13:49:57.760Z"
   },
   {
    "duration": 587,
    "start_time": "2023-10-10T13:49:57.968Z"
   },
   {
    "duration": 430,
    "start_time": "2023-10-10T13:49:58.561Z"
   },
   {
    "duration": 150,
    "start_time": "2023-10-10T13:49:58.993Z"
   },
   {
    "duration": 288,
    "start_time": "2023-10-10T13:49:59.147Z"
   },
   {
    "duration": 165,
    "start_time": "2023-10-10T13:49:59.437Z"
   },
   {
    "duration": 9,
    "start_time": "2023-10-10T13:49:59.604Z"
   },
   {
    "duration": 67,
    "start_time": "2023-10-10T13:49:59.614Z"
   },
   {
    "duration": 18,
    "start_time": "2023-10-10T13:49:59.682Z"
   },
   {
    "duration": 13,
    "start_time": "2023-10-10T13:49:59.702Z"
   },
   {
    "duration": 33,
    "start_time": "2023-10-10T13:49:59.716Z"
   },
   {
    "duration": 19,
    "start_time": "2023-10-10T13:49:59.751Z"
   },
   {
    "duration": 51,
    "start_time": "2023-10-10T13:49:59.773Z"
   },
   {
    "duration": 3,
    "start_time": "2023-10-10T13:49:59.827Z"
   },
   {
    "duration": 49,
    "start_time": "2023-10-10T13:49:59.832Z"
   },
   {
    "duration": 14,
    "start_time": "2023-10-10T13:49:59.883Z"
   },
   {
    "duration": 31,
    "start_time": "2023-10-10T13:49:59.899Z"
   },
   {
    "duration": 23,
    "start_time": "2023-10-10T13:49:59.932Z"
   },
   {
    "duration": 27,
    "start_time": "2023-10-10T13:49:59.956Z"
   },
   {
    "duration": 16,
    "start_time": "2023-10-10T13:49:59.985Z"
   },
   {
    "duration": 339,
    "start_time": "2023-10-10T13:50:00.003Z"
   },
   {
    "duration": 157,
    "start_time": "2023-10-10T13:50:00.344Z"
   },
   {
    "duration": 863,
    "start_time": "2023-10-10T13:50:00.503Z"
   },
   {
    "duration": 127,
    "start_time": "2023-10-10T13:50:01.368Z"
   },
   {
    "duration": 425,
    "start_time": "2023-10-10T13:50:01.497Z"
   },
   {
    "duration": 134,
    "start_time": "2023-10-10T13:50:01.923Z"
   },
   {
    "duration": 321,
    "start_time": "2023-10-10T13:50:02.060Z"
   },
   {
    "duration": 118,
    "start_time": "2023-10-10T13:50:02.383Z"
   },
   {
    "duration": 6,
    "start_time": "2023-10-10T13:50:02.503Z"
   },
   {
    "duration": 91,
    "start_time": "2023-10-10T13:50:02.511Z"
   },
   {
    "duration": 15,
    "start_time": "2023-10-10T13:50:02.604Z"
   },
   {
    "duration": 19,
    "start_time": "2023-10-10T13:50:02.621Z"
   },
   {
    "duration": 46,
    "start_time": "2023-10-10T13:50:02.642Z"
   },
   {
    "duration": 39,
    "start_time": "2023-10-10T13:50:02.690Z"
   },
   {
    "duration": 39,
    "start_time": "2023-10-10T13:50:02.731Z"
   },
   {
    "duration": 46,
    "start_time": "2023-10-10T13:50:02.773Z"
   },
   {
    "duration": 71,
    "start_time": "2023-10-10T13:50:02.821Z"
   },
   {
    "duration": 37,
    "start_time": "2023-10-10T13:50:02.894Z"
   },
   {
    "duration": 374,
    "start_time": "2023-10-10T13:50:02.933Z"
   },
   {
    "duration": 167,
    "start_time": "2023-10-10T13:50:03.308Z"
   },
   {
    "duration": 6,
    "start_time": "2023-10-10T13:50:03.477Z"
   },
   {
    "duration": 1323,
    "start_time": "2023-10-10T13:58:16.796Z"
   },
   {
    "duration": 33,
    "start_time": "2023-10-10T13:58:18.121Z"
   },
   {
    "duration": 28,
    "start_time": "2023-10-10T13:58:18.156Z"
   },
   {
    "duration": 35,
    "start_time": "2023-10-10T13:58:18.186Z"
   },
   {
    "duration": 30,
    "start_time": "2023-10-10T13:58:18.223Z"
   },
   {
    "duration": 45,
    "start_time": "2023-10-10T13:58:18.256Z"
   },
   {
    "duration": 18,
    "start_time": "2023-10-10T13:58:18.303Z"
   },
   {
    "duration": 53,
    "start_time": "2023-10-10T13:58:18.323Z"
   },
   {
    "duration": 10,
    "start_time": "2023-10-10T13:58:18.378Z"
   },
   {
    "duration": 27,
    "start_time": "2023-10-10T13:58:18.391Z"
   },
   {
    "duration": 30,
    "start_time": "2023-10-10T13:58:18.420Z"
   },
   {
    "duration": 19,
    "start_time": "2023-10-10T13:58:18.454Z"
   },
   {
    "duration": 13,
    "start_time": "2023-10-10T13:58:18.475Z"
   },
   {
    "duration": 15,
    "start_time": "2023-10-10T13:58:18.489Z"
   },
   {
    "duration": 56,
    "start_time": "2023-10-10T13:58:18.506Z"
   },
   {
    "duration": 17,
    "start_time": "2023-10-10T13:58:18.564Z"
   },
   {
    "duration": 19,
    "start_time": "2023-10-10T13:58:18.583Z"
   },
   {
    "duration": 16,
    "start_time": "2023-10-10T13:58:18.604Z"
   },
   {
    "duration": 24,
    "start_time": "2023-10-10T13:58:18.622Z"
   },
   {
    "duration": 17,
    "start_time": "2023-10-10T13:58:18.649Z"
   },
   {
    "duration": 28,
    "start_time": "2023-10-10T13:58:18.668Z"
   },
   {
    "duration": 35,
    "start_time": "2023-10-10T13:58:18.697Z"
   },
   {
    "duration": 228,
    "start_time": "2023-10-10T13:58:18.734Z"
   },
   {
    "duration": 230,
    "start_time": "2023-10-10T13:58:18.966Z"
   },
   {
    "duration": 189,
    "start_time": "2023-10-10T13:58:19.198Z"
   },
   {
    "duration": 186,
    "start_time": "2023-10-10T13:58:19.389Z"
   },
   {
    "duration": 554,
    "start_time": "2023-10-10T13:58:19.577Z"
   },
   {
    "duration": 420,
    "start_time": "2023-10-10T13:58:20.137Z"
   },
   {
    "duration": 139,
    "start_time": "2023-10-10T13:58:20.559Z"
   },
   {
    "duration": 295,
    "start_time": "2023-10-10T13:58:20.700Z"
   },
   {
    "duration": 153,
    "start_time": "2023-10-10T13:58:20.997Z"
   },
   {
    "duration": 17,
    "start_time": "2023-10-10T13:58:21.153Z"
   },
   {
    "duration": 33,
    "start_time": "2023-10-10T13:58:21.172Z"
   },
   {
    "duration": 16,
    "start_time": "2023-10-10T13:58:21.207Z"
   },
   {
    "duration": 21,
    "start_time": "2023-10-10T13:58:21.225Z"
   },
   {
    "duration": 43,
    "start_time": "2023-10-10T13:58:21.248Z"
   },
   {
    "duration": 20,
    "start_time": "2023-10-10T13:58:21.293Z"
   },
   {
    "duration": 62,
    "start_time": "2023-10-10T13:58:21.315Z"
   },
   {
    "duration": 4,
    "start_time": "2023-10-10T13:58:21.380Z"
   },
   {
    "duration": 34,
    "start_time": "2023-10-10T13:58:21.385Z"
   },
   {
    "duration": 14,
    "start_time": "2023-10-10T13:58:21.420Z"
   },
   {
    "duration": 52,
    "start_time": "2023-10-10T13:58:21.436Z"
   },
   {
    "duration": 3,
    "start_time": "2023-10-10T13:58:21.489Z"
   },
   {
    "duration": 19,
    "start_time": "2023-10-10T13:58:21.494Z"
   },
   {
    "duration": 16,
    "start_time": "2023-10-10T13:58:21.515Z"
   },
   {
    "duration": 319,
    "start_time": "2023-10-10T13:58:21.532Z"
   },
   {
    "duration": 166,
    "start_time": "2023-10-10T13:58:21.854Z"
   },
   {
    "duration": 348,
    "start_time": "2023-10-10T13:58:22.022Z"
   },
   {
    "duration": 119,
    "start_time": "2023-10-10T13:58:22.373Z"
   },
   {
    "duration": 392,
    "start_time": "2023-10-10T13:58:22.494Z"
   },
   {
    "duration": 118,
    "start_time": "2023-10-10T13:58:22.888Z"
   },
   {
    "duration": 312,
    "start_time": "2023-10-10T13:58:23.007Z"
   },
   {
    "duration": 129,
    "start_time": "2023-10-10T13:58:23.321Z"
   },
   {
    "duration": 12,
    "start_time": "2023-10-10T13:58:23.452Z"
   },
   {
    "duration": 51,
    "start_time": "2023-10-10T13:58:23.468Z"
   },
   {
    "duration": 45,
    "start_time": "2023-10-10T13:58:23.521Z"
   },
   {
    "duration": 4,
    "start_time": "2023-10-10T13:58:23.568Z"
   },
   {
    "duration": 15,
    "start_time": "2023-10-10T13:58:23.574Z"
   },
   {
    "duration": 10,
    "start_time": "2023-10-10T13:58:23.591Z"
   },
   {
    "duration": 43,
    "start_time": "2023-10-10T13:58:23.602Z"
   },
   {
    "duration": 11,
    "start_time": "2023-10-10T13:58:23.648Z"
   },
   {
    "duration": 25,
    "start_time": "2023-10-10T13:58:23.661Z"
   },
   {
    "duration": 20,
    "start_time": "2023-10-10T13:58:23.687Z"
   },
   {
    "duration": 321,
    "start_time": "2023-10-10T13:58:23.709Z"
   },
   {
    "duration": 183,
    "start_time": "2023-10-10T13:58:24.031Z"
   },
   {
    "duration": 6,
    "start_time": "2023-10-10T13:58:24.216Z"
   },
   {
    "duration": 9,
    "start_time": "2023-10-10T13:59:33.010Z"
   },
   {
    "duration": 10,
    "start_time": "2023-10-10T14:00:30.827Z"
   },
   {
    "duration": 9,
    "start_time": "2023-10-10T14:00:45.766Z"
   },
   {
    "duration": 12,
    "start_time": "2023-10-10T14:01:01.440Z"
   },
   {
    "duration": 13,
    "start_time": "2023-10-10T14:01:10.411Z"
   },
   {
    "duration": 12,
    "start_time": "2023-10-10T14:01:11.040Z"
   },
   {
    "duration": 97,
    "start_time": "2023-10-10T14:01:33.534Z"
   },
   {
    "duration": 107,
    "start_time": "2023-10-10T14:02:21.324Z"
   },
   {
    "duration": 67,
    "start_time": "2023-10-10T14:02:30.821Z"
   },
   {
    "duration": 17,
    "start_time": "2023-10-10T14:04:59.120Z"
   },
   {
    "duration": 1428,
    "start_time": "2023-10-10T14:05:21.746Z"
   },
   {
    "duration": 30,
    "start_time": "2023-10-10T14:05:23.176Z"
   },
   {
    "duration": 39,
    "start_time": "2023-10-10T14:05:23.207Z"
   },
   {
    "duration": 71,
    "start_time": "2023-10-10T14:05:23.249Z"
   },
   {
    "duration": 44,
    "start_time": "2023-10-10T14:05:23.322Z"
   },
   {
    "duration": 61,
    "start_time": "2023-10-10T14:05:23.369Z"
   },
   {
    "duration": 45,
    "start_time": "2023-10-10T14:05:23.432Z"
   },
   {
    "duration": 96,
    "start_time": "2023-10-10T14:05:23.478Z"
   },
   {
    "duration": 145,
    "start_time": "2023-10-10T14:05:23.576Z"
   },
   {
    "duration": 61,
    "start_time": "2023-10-10T14:05:23.724Z"
   },
   {
    "duration": 50,
    "start_time": "2023-10-10T14:05:23.787Z"
   },
   {
    "duration": 66,
    "start_time": "2023-10-10T14:05:23.839Z"
   },
   {
    "duration": 48,
    "start_time": "2023-10-10T14:05:23.906Z"
   },
   {
    "duration": 43,
    "start_time": "2023-10-10T14:05:23.956Z"
   },
   {
    "duration": 56,
    "start_time": "2023-10-10T14:05:24.001Z"
   },
   {
    "duration": 35,
    "start_time": "2023-10-10T14:05:24.060Z"
   },
   {
    "duration": 49,
    "start_time": "2023-10-10T14:05:24.097Z"
   },
   {
    "duration": 44,
    "start_time": "2023-10-10T14:05:24.148Z"
   },
   {
    "duration": 56,
    "start_time": "2023-10-10T14:05:24.195Z"
   },
   {
    "duration": 30,
    "start_time": "2023-10-10T14:05:24.253Z"
   },
   {
    "duration": 49,
    "start_time": "2023-10-10T14:05:24.285Z"
   },
   {
    "duration": 54,
    "start_time": "2023-10-10T14:05:24.335Z"
   },
   {
    "duration": 253,
    "start_time": "2023-10-10T14:05:24.391Z"
   },
   {
    "duration": 229,
    "start_time": "2023-10-10T14:05:24.648Z"
   },
   {
    "duration": 174,
    "start_time": "2023-10-10T14:05:24.878Z"
   },
   {
    "duration": 205,
    "start_time": "2023-10-10T14:05:25.055Z"
   },
   {
    "duration": 618,
    "start_time": "2023-10-10T14:05:25.265Z"
   },
   {
    "duration": 407,
    "start_time": "2023-10-10T14:05:25.887Z"
   },
   {
    "duration": 142,
    "start_time": "2023-10-10T14:05:26.297Z"
   },
   {
    "duration": 298,
    "start_time": "2023-10-10T14:05:26.440Z"
   },
   {
    "duration": 150,
    "start_time": "2023-10-10T14:05:26.740Z"
   },
   {
    "duration": 190,
    "start_time": "2023-10-10T14:05:26.891Z"
   },
   {
    "duration": 310,
    "start_time": "2023-10-10T14:05:27.083Z"
   },
   {
    "duration": 20,
    "start_time": "2023-10-10T14:05:27.395Z"
   },
   {
    "duration": 44,
    "start_time": "2023-10-10T14:05:27.417Z"
   },
   {
    "duration": 32,
    "start_time": "2023-10-10T14:05:27.465Z"
   },
   {
    "duration": 32,
    "start_time": "2023-10-10T14:05:27.499Z"
   },
   {
    "duration": 57,
    "start_time": "2023-10-10T14:05:27.533Z"
   },
   {
    "duration": 4,
    "start_time": "2023-10-10T14:05:27.592Z"
   },
   {
    "duration": 39,
    "start_time": "2023-10-10T14:05:27.597Z"
   },
   {
    "duration": 5,
    "start_time": "2023-10-10T14:05:27.638Z"
   },
   {
    "duration": 28,
    "start_time": "2023-10-10T14:05:27.645Z"
   },
   {
    "duration": 7,
    "start_time": "2023-10-10T14:05:27.675Z"
   },
   {
    "duration": 33,
    "start_time": "2023-10-10T14:05:27.683Z"
   },
   {
    "duration": 21,
    "start_time": "2023-10-10T14:05:27.718Z"
   },
   {
    "duration": 299,
    "start_time": "2023-10-10T14:05:27.741Z"
   },
   {
    "duration": 137,
    "start_time": "2023-10-10T14:05:28.042Z"
   },
   {
    "duration": 301,
    "start_time": "2023-10-10T14:05:28.182Z"
   },
   {
    "duration": 124,
    "start_time": "2023-10-10T14:05:28.485Z"
   },
   {
    "duration": 454,
    "start_time": "2023-10-10T14:05:28.610Z"
   },
   {
    "duration": 137,
    "start_time": "2023-10-10T14:05:29.067Z"
   },
   {
    "duration": 306,
    "start_time": "2023-10-10T14:05:29.206Z"
   },
   {
    "duration": 124,
    "start_time": "2023-10-10T14:05:29.514Z"
   },
   {
    "duration": 24,
    "start_time": "2023-10-10T14:05:29.640Z"
   },
   {
    "duration": 42,
    "start_time": "2023-10-10T14:05:29.666Z"
   },
   {
    "duration": 49,
    "start_time": "2023-10-10T14:05:29.710Z"
   },
   {
    "duration": 23,
    "start_time": "2023-10-10T14:05:29.762Z"
   },
   {
    "duration": 44,
    "start_time": "2023-10-10T14:05:29.787Z"
   },
   {
    "duration": 77,
    "start_time": "2023-10-10T14:05:29.833Z"
   },
   {
    "duration": 16,
    "start_time": "2023-10-10T14:05:29.912Z"
   },
   {
    "duration": 17,
    "start_time": "2023-10-10T14:05:29.930Z"
   },
   {
    "duration": 23,
    "start_time": "2023-10-10T14:05:29.950Z"
   },
   {
    "duration": 100,
    "start_time": "2023-10-10T14:05:29.975Z"
   },
   {
    "duration": 78,
    "start_time": "2023-10-10T14:05:30.077Z"
   },
   {
    "duration": 424,
    "start_time": "2023-10-10T14:05:30.158Z"
   },
   {
    "duration": 334,
    "start_time": "2023-10-10T14:05:30.585Z"
   },
   {
    "duration": 259,
    "start_time": "2023-10-10T14:05:30.921Z"
   },
   {
    "duration": 359,
    "start_time": "2023-10-10T14:05:31.183Z"
   },
   {
    "duration": 175,
    "start_time": "2023-10-10T14:05:31.544Z"
   },
   {
    "duration": 7,
    "start_time": "2023-10-10T14:05:31.721Z"
   },
   {
    "duration": 18,
    "start_time": "2023-10-10T14:09:23.228Z"
   },
   {
    "duration": 72,
    "start_time": "2023-10-10T14:10:20.325Z"
   },
   {
    "duration": 105,
    "start_time": "2023-10-10T14:12:12.318Z"
   },
   {
    "duration": 23,
    "start_time": "2023-10-10T14:14:00.469Z"
   },
   {
    "duration": 291,
    "start_time": "2023-10-10T14:15:01.009Z"
   },
   {
    "duration": 32,
    "start_time": "2023-10-10T14:16:12.530Z"
   },
   {
    "duration": 1323,
    "start_time": "2023-10-10T14:17:57.901Z"
   },
   {
    "duration": 29,
    "start_time": "2023-10-10T14:17:59.226Z"
   },
   {
    "duration": 18,
    "start_time": "2023-10-10T14:17:59.257Z"
   },
   {
    "duration": 38,
    "start_time": "2023-10-10T14:17:59.279Z"
   },
   {
    "duration": 16,
    "start_time": "2023-10-10T14:17:59.319Z"
   },
   {
    "duration": 30,
    "start_time": "2023-10-10T14:17:59.349Z"
   },
   {
    "duration": 9,
    "start_time": "2023-10-10T14:17:59.381Z"
   },
   {
    "duration": 21,
    "start_time": "2023-10-10T14:17:59.391Z"
   },
   {
    "duration": 27,
    "start_time": "2023-10-10T14:17:59.415Z"
   },
   {
    "duration": 19,
    "start_time": "2023-10-10T14:17:59.447Z"
   },
   {
    "duration": 18,
    "start_time": "2023-10-10T14:17:59.468Z"
   },
   {
    "duration": 14,
    "start_time": "2023-10-10T14:17:59.489Z"
   },
   {
    "duration": 17,
    "start_time": "2023-10-10T14:17:59.505Z"
   },
   {
    "duration": 45,
    "start_time": "2023-10-10T14:17:59.524Z"
   },
   {
    "duration": 19,
    "start_time": "2023-10-10T14:17:59.571Z"
   },
   {
    "duration": 7,
    "start_time": "2023-10-10T14:17:59.593Z"
   },
   {
    "duration": 17,
    "start_time": "2023-10-10T14:17:59.602Z"
   },
   {
    "duration": 13,
    "start_time": "2023-10-10T14:17:59.621Z"
   },
   {
    "duration": 46,
    "start_time": "2023-10-10T14:17:59.636Z"
   },
   {
    "duration": 13,
    "start_time": "2023-10-10T14:17:59.685Z"
   },
   {
    "duration": 40,
    "start_time": "2023-10-10T14:17:59.701Z"
   },
   {
    "duration": 234,
    "start_time": "2023-10-10T14:17:59.743Z"
   },
   {
    "duration": 251,
    "start_time": "2023-10-10T14:17:59.980Z"
   },
   {
    "duration": 253,
    "start_time": "2023-10-10T14:18:00.233Z"
   },
   {
    "duration": 196,
    "start_time": "2023-10-10T14:18:00.488Z"
   },
   {
    "duration": 201,
    "start_time": "2023-10-10T14:18:00.686Z"
   },
   {
    "duration": 599,
    "start_time": "2023-10-10T14:18:00.889Z"
   },
   {
    "duration": 455,
    "start_time": "2023-10-10T14:18:01.493Z"
   },
   {
    "duration": 163,
    "start_time": "2023-10-10T14:18:01.957Z"
   },
   {
    "duration": 343,
    "start_time": "2023-10-10T14:18:02.124Z"
   },
   {
    "duration": 165,
    "start_time": "2023-10-10T14:18:02.469Z"
   },
   {
    "duration": 25,
    "start_time": "2023-10-10T14:18:02.636Z"
   },
   {
    "duration": 24,
    "start_time": "2023-10-10T14:18:02.663Z"
   },
   {
    "duration": 15,
    "start_time": "2023-10-10T14:18:02.689Z"
   },
   {
    "duration": 15,
    "start_time": "2023-10-10T14:18:02.706Z"
   },
   {
    "duration": 17,
    "start_time": "2023-10-10T14:18:02.723Z"
   },
   {
    "duration": 28,
    "start_time": "2023-10-10T14:18:02.743Z"
   },
   {
    "duration": 45,
    "start_time": "2023-10-10T14:18:02.773Z"
   },
   {
    "duration": 15,
    "start_time": "2023-10-10T14:18:02.820Z"
   },
   {
    "duration": 56,
    "start_time": "2023-10-10T14:18:02.838Z"
   },
   {
    "duration": 23,
    "start_time": "2023-10-10T14:18:02.896Z"
   },
   {
    "duration": 50,
    "start_time": "2023-10-10T14:18:02.921Z"
   },
   {
    "duration": 39,
    "start_time": "2023-10-10T14:18:02.973Z"
   },
   {
    "duration": 34,
    "start_time": "2023-10-10T14:18:03.015Z"
   },
   {
    "duration": 27,
    "start_time": "2023-10-10T14:18:03.052Z"
   },
   {
    "duration": 345,
    "start_time": "2023-10-10T14:18:03.081Z"
   },
   {
    "duration": 161,
    "start_time": "2023-10-10T14:18:03.428Z"
   },
   {
    "duration": 348,
    "start_time": "2023-10-10T14:18:03.591Z"
   },
   {
    "duration": 143,
    "start_time": "2023-10-10T14:18:03.941Z"
   },
   {
    "duration": 492,
    "start_time": "2023-10-10T14:18:04.087Z"
   },
   {
    "duration": 138,
    "start_time": "2023-10-10T14:18:04.581Z"
   },
   {
    "duration": 329,
    "start_time": "2023-10-10T14:18:04.721Z"
   },
   {
    "duration": 122,
    "start_time": "2023-10-10T14:18:05.052Z"
   },
   {
    "duration": 13,
    "start_time": "2023-10-10T14:18:05.176Z"
   },
   {
    "duration": 12,
    "start_time": "2023-10-10T14:18:05.191Z"
   },
   {
    "duration": 11,
    "start_time": "2023-10-10T14:18:05.206Z"
   },
   {
    "duration": 48,
    "start_time": "2023-10-10T14:18:05.220Z"
   },
   {
    "duration": 89,
    "start_time": "2023-10-10T14:18:05.271Z"
   },
   {
    "duration": 29,
    "start_time": "2023-10-10T14:18:05.362Z"
   },
   {
    "duration": 26,
    "start_time": "2023-10-10T14:18:05.393Z"
   },
   {
    "duration": 459,
    "start_time": "2023-10-10T14:18:05.421Z"
   },
   {
    "duration": 158,
    "start_time": "2023-10-10T14:18:05.882Z"
   },
   {
    "duration": 17,
    "start_time": "2023-10-10T14:18:06.042Z"
   },
   {
    "duration": 19,
    "start_time": "2023-10-10T14:18:06.065Z"
   },
   {
    "duration": 30,
    "start_time": "2023-10-10T14:18:06.086Z"
   },
   {
    "duration": 25,
    "start_time": "2023-10-10T14:18:06.119Z"
   },
   {
    "duration": 34,
    "start_time": "2023-10-10T14:18:06.146Z"
   },
   {
    "duration": 21,
    "start_time": "2023-10-10T14:18:06.182Z"
   },
   {
    "duration": 24,
    "start_time": "2023-10-10T14:18:06.206Z"
   },
   {
    "duration": 403,
    "start_time": "2023-10-10T14:18:06.233Z"
   },
   {
    "duration": 339,
    "start_time": "2023-10-10T14:18:06.639Z"
   },
   {
    "duration": 7,
    "start_time": "2023-10-10T14:18:06.980Z"
   },
   {
    "duration": 305,
    "start_time": "2023-10-10T14:18:37.702Z"
   },
   {
    "duration": 339,
    "start_time": "2023-10-10T14:19:11.512Z"
   },
   {
    "duration": 121,
    "start_time": "2023-10-10T14:19:39.127Z"
   },
   {
    "duration": 4,
    "start_time": "2023-10-10T14:22:42.824Z"
   },
   {
    "duration": 35,
    "start_time": "2023-10-10T14:22:42.834Z"
   },
   {
    "duration": 11,
    "start_time": "2023-10-10T14:22:42.871Z"
   },
   {
    "duration": 43,
    "start_time": "2023-10-10T14:22:42.884Z"
   },
   {
    "duration": 10,
    "start_time": "2023-10-10T14:22:42.929Z"
   },
   {
    "duration": 29,
    "start_time": "2023-10-10T14:22:42.941Z"
   },
   {
    "duration": 14,
    "start_time": "2023-10-10T14:22:42.973Z"
   },
   {
    "duration": 29,
    "start_time": "2023-10-10T14:22:42.989Z"
   },
   {
    "duration": 27,
    "start_time": "2023-10-10T14:22:43.020Z"
   },
   {
    "duration": 18,
    "start_time": "2023-10-10T14:22:43.050Z"
   },
   {
    "duration": 23,
    "start_time": "2023-10-10T14:22:43.073Z"
   },
   {
    "duration": 25,
    "start_time": "2023-10-10T14:22:43.098Z"
   },
   {
    "duration": 11,
    "start_time": "2023-10-10T14:22:43.146Z"
   },
   {
    "duration": 27,
    "start_time": "2023-10-10T14:22:43.159Z"
   },
   {
    "duration": 21,
    "start_time": "2023-10-10T14:22:43.188Z"
   },
   {
    "duration": 16,
    "start_time": "2023-10-10T14:22:43.211Z"
   },
   {
    "duration": 31,
    "start_time": "2023-10-10T14:22:43.229Z"
   },
   {
    "duration": 13,
    "start_time": "2023-10-10T14:22:43.262Z"
   },
   {
    "duration": 42,
    "start_time": "2023-10-10T14:22:43.277Z"
   },
   {
    "duration": 53,
    "start_time": "2023-10-10T14:22:43.321Z"
   },
   {
    "duration": 45,
    "start_time": "2023-10-10T14:22:43.376Z"
   },
   {
    "duration": 54,
    "start_time": "2023-10-10T14:22:43.422Z"
   },
   {
    "duration": 213,
    "start_time": "2023-10-10T14:22:43.478Z"
   },
   {
    "duration": 195,
    "start_time": "2023-10-10T14:22:43.692Z"
   },
   {
    "duration": 168,
    "start_time": "2023-10-10T14:22:43.889Z"
   },
   {
    "duration": 176,
    "start_time": "2023-10-10T14:22:44.059Z"
   },
   {
    "duration": 621,
    "start_time": "2023-10-10T14:22:44.237Z"
   },
   {
    "duration": 335,
    "start_time": "2023-10-10T14:22:44.860Z"
   },
   {
    "duration": 178,
    "start_time": "2023-10-10T14:22:45.202Z"
   },
   {
    "duration": 405,
    "start_time": "2023-10-10T14:22:45.382Z"
   },
   {
    "duration": 141,
    "start_time": "2023-10-10T14:22:45.789Z"
   },
   {
    "duration": 24,
    "start_time": "2023-10-10T14:22:45.933Z"
   },
   {
    "duration": 45,
    "start_time": "2023-10-10T14:22:45.960Z"
   },
   {
    "duration": 8,
    "start_time": "2023-10-10T14:22:46.008Z"
   },
   {
    "duration": 26,
    "start_time": "2023-10-10T14:22:46.018Z"
   },
   {
    "duration": 17,
    "start_time": "2023-10-10T14:22:46.047Z"
   },
   {
    "duration": 20,
    "start_time": "2023-10-10T14:22:46.067Z"
   },
   {
    "duration": 54,
    "start_time": "2023-10-10T14:22:46.089Z"
   },
   {
    "duration": 5,
    "start_time": "2023-10-10T14:22:46.146Z"
   },
   {
    "duration": 40,
    "start_time": "2023-10-10T14:22:46.154Z"
   },
   {
    "duration": 4,
    "start_time": "2023-10-10T14:22:46.196Z"
   },
   {
    "duration": 29,
    "start_time": "2023-10-10T14:22:46.202Z"
   },
   {
    "duration": 13,
    "start_time": "2023-10-10T14:22:46.233Z"
   },
   {
    "duration": 41,
    "start_time": "2023-10-10T14:22:46.249Z"
   },
   {
    "duration": 31,
    "start_time": "2023-10-10T14:22:46.292Z"
   },
   {
    "duration": 311,
    "start_time": "2023-10-10T14:22:46.325Z"
   },
   {
    "duration": 139,
    "start_time": "2023-10-10T14:22:46.638Z"
   },
   {
    "duration": 399,
    "start_time": "2023-10-10T14:22:46.778Z"
   },
   {
    "duration": 121,
    "start_time": "2023-10-10T14:22:47.179Z"
   },
   {
    "duration": 292,
    "start_time": "2023-10-10T14:22:47.302Z"
   },
   {
    "duration": 119,
    "start_time": "2023-10-10T14:22:47.596Z"
   },
   {
    "duration": 297,
    "start_time": "2023-10-10T14:22:47.718Z"
   },
   {
    "duration": 119,
    "start_time": "2023-10-10T14:22:48.018Z"
   },
   {
    "duration": 21,
    "start_time": "2023-10-10T14:22:48.139Z"
   },
   {
    "duration": 34,
    "start_time": "2023-10-10T14:22:48.162Z"
   },
   {
    "duration": 46,
    "start_time": "2023-10-10T14:22:48.198Z"
   },
   {
    "duration": 20,
    "start_time": "2023-10-10T14:22:48.247Z"
   },
   {
    "duration": 80,
    "start_time": "2023-10-10T14:22:48.269Z"
   },
   {
    "duration": 18,
    "start_time": "2023-10-10T14:22:48.351Z"
   },
   {
    "duration": 34,
    "start_time": "2023-10-10T14:22:48.371Z"
   },
   {
    "duration": 300,
    "start_time": "2023-10-10T14:22:48.408Z"
   },
   {
    "duration": 229,
    "start_time": "2023-10-10T14:22:48.711Z"
   },
   {
    "duration": 1316,
    "start_time": "2023-10-10T14:22:51.725Z"
   },
   {
    "duration": 29,
    "start_time": "2023-10-10T14:22:53.044Z"
   },
   {
    "duration": 48,
    "start_time": "2023-10-10T14:22:53.075Z"
   },
   {
    "duration": 52,
    "start_time": "2023-10-10T14:22:53.126Z"
   },
   {
    "duration": 76,
    "start_time": "2023-10-10T14:22:53.180Z"
   },
   {
    "duration": 170,
    "start_time": "2023-10-10T14:22:53.259Z"
   },
   {
    "duration": 26,
    "start_time": "2023-10-10T14:22:53.431Z"
   },
   {
    "duration": 59,
    "start_time": "2023-10-10T14:22:53.459Z"
   },
   {
    "duration": 25,
    "start_time": "2023-10-10T14:22:53.520Z"
   },
   {
    "duration": 48,
    "start_time": "2023-10-10T14:22:53.549Z"
   },
   {
    "duration": 50,
    "start_time": "2023-10-10T14:22:53.599Z"
   },
   {
    "duration": 33,
    "start_time": "2023-10-10T14:22:53.651Z"
   },
   {
    "duration": 32,
    "start_time": "2023-10-10T14:22:53.686Z"
   },
   {
    "duration": 25,
    "start_time": "2023-10-10T14:22:53.720Z"
   },
   {
    "duration": 28,
    "start_time": "2023-10-10T14:22:53.747Z"
   },
   {
    "duration": 26,
    "start_time": "2023-10-10T14:22:53.777Z"
   },
   {
    "duration": 32,
    "start_time": "2023-10-10T14:22:53.805Z"
   },
   {
    "duration": 13,
    "start_time": "2023-10-10T14:22:53.840Z"
   },
   {
    "duration": 21,
    "start_time": "2023-10-10T14:22:53.854Z"
   },
   {
    "duration": 27,
    "start_time": "2023-10-10T14:22:53.877Z"
   },
   {
    "duration": 32,
    "start_time": "2023-10-10T14:22:53.906Z"
   },
   {
    "duration": 38,
    "start_time": "2023-10-10T14:22:53.940Z"
   },
   {
    "duration": 195,
    "start_time": "2023-10-10T14:22:53.981Z"
   },
   {
    "duration": 198,
    "start_time": "2023-10-10T14:22:54.179Z"
   },
   {
    "duration": 174,
    "start_time": "2023-10-10T14:22:54.379Z"
   },
   {
    "duration": 174,
    "start_time": "2023-10-10T14:22:54.556Z"
   },
   {
    "duration": 551,
    "start_time": "2023-10-10T14:22:54.732Z"
   },
   {
    "duration": 553,
    "start_time": "2023-10-10T14:22:55.291Z"
   },
   {
    "duration": 142,
    "start_time": "2023-10-10T14:22:55.847Z"
   },
   {
    "duration": 280,
    "start_time": "2023-10-10T14:22:55.991Z"
   },
   {
    "duration": 149,
    "start_time": "2023-10-10T14:22:56.274Z"
   },
   {
    "duration": 24,
    "start_time": "2023-10-10T14:22:56.424Z"
   },
   {
    "duration": 40,
    "start_time": "2023-10-10T14:22:56.451Z"
   },
   {
    "duration": 18,
    "start_time": "2023-10-10T14:22:56.494Z"
   },
   {
    "duration": 33,
    "start_time": "2023-10-10T14:22:56.514Z"
   },
   {
    "duration": 63,
    "start_time": "2023-10-10T14:22:56.550Z"
   },
   {
    "duration": 33,
    "start_time": "2023-10-10T14:22:56.615Z"
   },
   {
    "duration": 50,
    "start_time": "2023-10-10T14:22:56.650Z"
   },
   {
    "duration": 21,
    "start_time": "2023-10-10T14:22:56.702Z"
   },
   {
    "duration": 43,
    "start_time": "2023-10-10T14:22:56.726Z"
   },
   {
    "duration": 18,
    "start_time": "2023-10-10T14:22:56.771Z"
   },
   {
    "duration": 44,
    "start_time": "2023-10-10T14:22:56.791Z"
   },
   {
    "duration": 38,
    "start_time": "2023-10-10T14:22:56.838Z"
   },
   {
    "duration": 56,
    "start_time": "2023-10-10T14:22:56.878Z"
   },
   {
    "duration": 48,
    "start_time": "2023-10-10T14:22:56.936Z"
   },
   {
    "duration": 280,
    "start_time": "2023-10-10T14:22:56.986Z"
   },
   {
    "duration": 173,
    "start_time": "2023-10-10T14:22:57.269Z"
   },
   {
    "duration": 287,
    "start_time": "2023-10-10T14:22:57.447Z"
   },
   {
    "duration": 127,
    "start_time": "2023-10-10T14:22:57.736Z"
   },
   {
    "duration": 400,
    "start_time": "2023-10-10T14:22:57.865Z"
   },
   {
    "duration": 123,
    "start_time": "2023-10-10T14:22:58.267Z"
   },
   {
    "duration": 283,
    "start_time": "2023-10-10T14:22:58.391Z"
   },
   {
    "duration": 128,
    "start_time": "2023-10-10T14:22:58.676Z"
   },
   {
    "duration": 10,
    "start_time": "2023-10-10T14:22:58.805Z"
   },
   {
    "duration": 40,
    "start_time": "2023-10-10T14:22:58.817Z"
   },
   {
    "duration": 37,
    "start_time": "2023-10-10T14:22:58.860Z"
   },
   {
    "duration": 50,
    "start_time": "2023-10-10T14:22:58.899Z"
   },
   {
    "duration": 68,
    "start_time": "2023-10-10T14:22:58.951Z"
   },
   {
    "duration": 25,
    "start_time": "2023-10-10T14:22:59.022Z"
   },
   {
    "duration": 33,
    "start_time": "2023-10-10T14:22:59.050Z"
   },
   {
    "duration": 336,
    "start_time": "2023-10-10T14:22:59.086Z"
   },
   {
    "duration": 131,
    "start_time": "2023-10-10T14:22:59.424Z"
   },
   {
    "duration": 4,
    "start_time": "2023-10-10T14:22:59.557Z"
   },
   {
    "duration": 15,
    "start_time": "2023-10-10T14:22:59.563Z"
   },
   {
    "duration": 16,
    "start_time": "2023-10-10T14:22:59.579Z"
   },
   {
    "duration": 21,
    "start_time": "2023-10-10T14:22:59.597Z"
   },
   {
    "duration": 13,
    "start_time": "2023-10-10T14:22:59.620Z"
   },
   {
    "duration": 33,
    "start_time": "2023-10-10T14:22:59.635Z"
   },
   {
    "duration": 19,
    "start_time": "2023-10-10T14:22:59.669Z"
   },
   {
    "duration": 377,
    "start_time": "2023-10-10T14:22:59.690Z"
   },
   {
    "duration": 264,
    "start_time": "2023-10-10T14:23:00.069Z"
   },
   {
    "duration": 19,
    "start_time": "2023-10-10T14:23:00.336Z"
   },
   {
    "duration": 1372,
    "start_time": "2023-10-10T14:46:31.336Z"
   },
   {
    "duration": 29,
    "start_time": "2023-10-10T14:46:32.711Z"
   },
   {
    "duration": 113,
    "start_time": "2023-10-10T14:46:32.742Z"
   },
   {
    "duration": 142,
    "start_time": "2023-10-10T14:46:32.858Z"
   },
   {
    "duration": 70,
    "start_time": "2023-10-10T14:46:33.002Z"
   },
   {
    "duration": 53,
    "start_time": "2023-10-10T14:46:33.075Z"
   },
   {
    "duration": 74,
    "start_time": "2023-10-10T14:46:33.129Z"
   },
   {
    "duration": 49,
    "start_time": "2023-10-10T14:46:33.205Z"
   },
   {
    "duration": 215,
    "start_time": "2023-10-10T14:46:33.257Z"
   },
   {
    "duration": 69,
    "start_time": "2023-10-10T14:46:33.476Z"
   },
   {
    "duration": 62,
    "start_time": "2023-10-10T14:46:33.548Z"
   },
   {
    "duration": 95,
    "start_time": "2023-10-10T14:46:33.612Z"
   },
   {
    "duration": 58,
    "start_time": "2023-10-10T14:46:33.710Z"
   },
   {
    "duration": 42,
    "start_time": "2023-10-10T14:46:33.770Z"
   },
   {
    "duration": 80,
    "start_time": "2023-10-10T14:46:33.813Z"
   },
   {
    "duration": 27,
    "start_time": "2023-10-10T14:46:33.896Z"
   },
   {
    "duration": 56,
    "start_time": "2023-10-10T14:46:33.926Z"
   },
   {
    "duration": 31,
    "start_time": "2023-10-10T14:46:33.984Z"
   },
   {
    "duration": 63,
    "start_time": "2023-10-10T14:46:34.016Z"
   },
   {
    "duration": 24,
    "start_time": "2023-10-10T14:46:34.081Z"
   },
   {
    "duration": 25,
    "start_time": "2023-10-10T14:46:34.107Z"
   },
   {
    "duration": 69,
    "start_time": "2023-10-10T14:46:34.134Z"
   },
   {
    "duration": 311,
    "start_time": "2023-10-10T14:46:34.206Z"
   },
   {
    "duration": 224,
    "start_time": "2023-10-10T14:46:34.519Z"
   },
   {
    "duration": 188,
    "start_time": "2023-10-10T14:46:34.746Z"
   },
   {
    "duration": 201,
    "start_time": "2023-10-10T14:46:34.936Z"
   },
   {
    "duration": 690,
    "start_time": "2023-10-10T14:46:35.149Z"
   },
   {
    "duration": 446,
    "start_time": "2023-10-10T14:46:35.858Z"
   },
   {
    "duration": 155,
    "start_time": "2023-10-10T14:46:36.306Z"
   },
   {
    "duration": 313,
    "start_time": "2023-10-10T14:46:36.469Z"
   },
   {
    "duration": 151,
    "start_time": "2023-10-10T14:46:36.784Z"
   },
   {
    "duration": 21,
    "start_time": "2023-10-10T14:46:36.937Z"
   },
   {
    "duration": 72,
    "start_time": "2023-10-10T14:46:36.960Z"
   },
   {
    "duration": 66,
    "start_time": "2023-10-10T14:46:37.034Z"
   },
   {
    "duration": 50,
    "start_time": "2023-10-10T14:46:37.102Z"
   },
   {
    "duration": 58,
    "start_time": "2023-10-10T14:46:37.154Z"
   },
   {
    "duration": 51,
    "start_time": "2023-10-10T14:46:37.214Z"
   },
   {
    "duration": 75,
    "start_time": "2023-10-10T14:46:37.268Z"
   },
   {
    "duration": 71,
    "start_time": "2023-10-10T14:46:37.344Z"
   },
   {
    "duration": 73,
    "start_time": "2023-10-10T14:46:37.417Z"
   },
   {
    "duration": 21,
    "start_time": "2023-10-10T14:46:37.492Z"
   },
   {
    "duration": 61,
    "start_time": "2023-10-10T14:46:37.515Z"
   },
   {
    "duration": 13,
    "start_time": "2023-10-10T14:46:37.577Z"
   },
   {
    "duration": 42,
    "start_time": "2023-10-10T14:46:37.591Z"
   },
   {
    "duration": 47,
    "start_time": "2023-10-10T14:46:37.636Z"
   },
   {
    "duration": 338,
    "start_time": "2023-10-10T14:46:37.685Z"
   },
   {
    "duration": 173,
    "start_time": "2023-10-10T14:46:38.024Z"
   },
   {
    "duration": 364,
    "start_time": "2023-10-10T14:46:38.199Z"
   },
   {
    "duration": 124,
    "start_time": "2023-10-10T14:46:38.565Z"
   },
   {
    "duration": 452,
    "start_time": "2023-10-10T14:46:38.691Z"
   },
   {
    "duration": 147,
    "start_time": "2023-10-10T14:46:39.147Z"
   },
   {
    "duration": 346,
    "start_time": "2023-10-10T14:46:39.297Z"
   },
   {
    "duration": 146,
    "start_time": "2023-10-10T14:46:39.645Z"
   },
   {
    "duration": 11,
    "start_time": "2023-10-10T14:46:39.794Z"
   },
   {
    "duration": 30,
    "start_time": "2023-10-10T14:46:39.807Z"
   },
   {
    "duration": 71,
    "start_time": "2023-10-10T14:46:39.839Z"
   },
   {
    "duration": 64,
    "start_time": "2023-10-10T14:46:39.913Z"
   },
   {
    "duration": 52,
    "start_time": "2023-10-10T14:46:39.980Z"
   },
   {
    "duration": 32,
    "start_time": "2023-10-10T14:46:40.033Z"
   },
   {
    "duration": 38,
    "start_time": "2023-10-10T14:46:40.068Z"
   },
   {
    "duration": 383,
    "start_time": "2023-10-10T14:46:40.109Z"
   },
   {
    "duration": 148,
    "start_time": "2023-10-10T14:46:40.494Z"
   },
   {
    "duration": 8,
    "start_time": "2023-10-10T14:46:40.645Z"
   },
   {
    "duration": 23,
    "start_time": "2023-10-10T14:46:40.655Z"
   },
   {
    "duration": 29,
    "start_time": "2023-10-10T14:46:40.680Z"
   },
   {
    "duration": 44,
    "start_time": "2023-10-10T14:46:40.711Z"
   },
   {
    "duration": 32,
    "start_time": "2023-10-10T14:46:40.758Z"
   },
   {
    "duration": 37,
    "start_time": "2023-10-10T14:46:40.792Z"
   },
   {
    "duration": 52,
    "start_time": "2023-10-10T14:46:40.830Z"
   },
   {
    "duration": 341,
    "start_time": "2023-10-10T14:46:40.884Z"
   },
   {
    "duration": 303,
    "start_time": "2023-10-10T14:46:41.227Z"
   },
   {
    "duration": 6,
    "start_time": "2023-10-10T14:46:41.532Z"
   },
   {
    "duration": 1399,
    "start_time": "2023-10-10T14:48:08.775Z"
   },
   {
    "duration": 29,
    "start_time": "2023-10-10T14:48:10.176Z"
   },
   {
    "duration": 16,
    "start_time": "2023-10-10T14:48:10.207Z"
   },
   {
    "duration": 52,
    "start_time": "2023-10-10T14:48:10.227Z"
   },
   {
    "duration": 22,
    "start_time": "2023-10-10T14:48:10.282Z"
   },
   {
    "duration": 45,
    "start_time": "2023-10-10T14:48:10.306Z"
   },
   {
    "duration": 19,
    "start_time": "2023-10-10T14:48:10.354Z"
   },
   {
    "duration": 47,
    "start_time": "2023-10-10T14:48:10.375Z"
   },
   {
    "duration": 27,
    "start_time": "2023-10-10T14:48:10.423Z"
   },
   {
    "duration": 17,
    "start_time": "2023-10-10T14:48:10.454Z"
   },
   {
    "duration": 19,
    "start_time": "2023-10-10T14:48:10.473Z"
   },
   {
    "duration": 23,
    "start_time": "2023-10-10T14:48:10.494Z"
   },
   {
    "duration": 10,
    "start_time": "2023-10-10T14:48:10.519Z"
   },
   {
    "duration": 14,
    "start_time": "2023-10-10T14:48:10.531Z"
   },
   {
    "duration": 33,
    "start_time": "2023-10-10T14:48:10.546Z"
   },
   {
    "duration": 18,
    "start_time": "2023-10-10T14:48:10.581Z"
   },
   {
    "duration": 40,
    "start_time": "2023-10-10T14:48:10.602Z"
   },
   {
    "duration": 18,
    "start_time": "2023-10-10T14:48:10.644Z"
   },
   {
    "duration": 24,
    "start_time": "2023-10-10T14:48:10.665Z"
   },
   {
    "duration": 20,
    "start_time": "2023-10-10T14:48:10.692Z"
   },
   {
    "duration": 51,
    "start_time": "2023-10-10T14:48:10.715Z"
   },
   {
    "duration": 36,
    "start_time": "2023-10-10T14:48:10.769Z"
   },
   {
    "duration": 216,
    "start_time": "2023-10-10T14:48:10.807Z"
   },
   {
    "duration": 200,
    "start_time": "2023-10-10T14:48:11.025Z"
   },
   {
    "duration": 171,
    "start_time": "2023-10-10T14:48:11.226Z"
   },
   {
    "duration": 196,
    "start_time": "2023-10-10T14:48:11.399Z"
   },
   {
    "duration": 502,
    "start_time": "2023-10-10T14:48:11.597Z"
   },
   {
    "duration": 424,
    "start_time": "2023-10-10T14:48:12.106Z"
   },
   {
    "duration": 138,
    "start_time": "2023-10-10T14:48:12.532Z"
   },
   {
    "duration": 279,
    "start_time": "2023-10-10T14:48:12.671Z"
   },
   {
    "duration": 137,
    "start_time": "2023-10-10T14:48:12.952Z"
   },
   {
    "duration": 11,
    "start_time": "2023-10-10T14:48:13.091Z"
   },
   {
    "duration": 23,
    "start_time": "2023-10-10T14:48:13.104Z"
   },
   {
    "duration": 22,
    "start_time": "2023-10-10T14:48:13.129Z"
   },
   {
    "duration": 3,
    "start_time": "2023-10-10T14:48:13.153Z"
   },
   {
    "duration": 20,
    "start_time": "2023-10-10T14:48:13.159Z"
   },
   {
    "duration": 20,
    "start_time": "2023-10-10T14:48:13.181Z"
   },
   {
    "duration": 35,
    "start_time": "2023-10-10T14:48:13.203Z"
   },
   {
    "duration": 9,
    "start_time": "2023-10-10T14:48:13.240Z"
   },
   {
    "duration": 30,
    "start_time": "2023-10-10T14:48:13.251Z"
   },
   {
    "duration": 4,
    "start_time": "2023-10-10T14:48:13.283Z"
   },
   {
    "duration": 59,
    "start_time": "2023-10-10T14:48:13.288Z"
   },
   {
    "duration": 54,
    "start_time": "2023-10-10T14:48:13.348Z"
   },
   {
    "duration": 28,
    "start_time": "2023-10-10T14:48:13.404Z"
   },
   {
    "duration": 24,
    "start_time": "2023-10-10T14:48:13.434Z"
   },
   {
    "duration": 286,
    "start_time": "2023-10-10T14:48:13.461Z"
   },
   {
    "duration": 133,
    "start_time": "2023-10-10T14:48:13.749Z"
   },
   {
    "duration": 326,
    "start_time": "2023-10-10T14:48:13.883Z"
   },
   {
    "duration": 128,
    "start_time": "2023-10-10T14:48:14.211Z"
   },
   {
    "duration": 391,
    "start_time": "2023-10-10T14:48:14.347Z"
   },
   {
    "duration": 116,
    "start_time": "2023-10-10T14:48:14.746Z"
   },
   {
    "duration": 308,
    "start_time": "2023-10-10T14:48:14.863Z"
   },
   {
    "duration": 126,
    "start_time": "2023-10-10T14:48:15.173Z"
   },
   {
    "duration": 12,
    "start_time": "2023-10-10T14:48:15.301Z"
   },
   {
    "duration": 28,
    "start_time": "2023-10-10T14:48:15.315Z"
   },
   {
    "duration": 11,
    "start_time": "2023-10-10T14:48:15.347Z"
   },
   {
    "duration": 21,
    "start_time": "2023-10-10T14:48:15.360Z"
   },
   {
    "duration": 70,
    "start_time": "2023-10-10T14:48:15.383Z"
   },
   {
    "duration": 27,
    "start_time": "2023-10-10T14:48:15.455Z"
   },
   {
    "duration": 34,
    "start_time": "2023-10-10T14:48:15.485Z"
   },
   {
    "duration": 465,
    "start_time": "2023-10-10T14:48:15.546Z"
   },
   {
    "duration": 144,
    "start_time": "2023-10-10T14:48:16.013Z"
   },
   {
    "duration": 3,
    "start_time": "2023-10-10T14:48:16.159Z"
   },
   {
    "duration": 24,
    "start_time": "2023-10-10T14:48:16.164Z"
   },
   {
    "duration": 18,
    "start_time": "2023-10-10T14:48:16.191Z"
   },
   {
    "duration": 7,
    "start_time": "2023-10-10T14:48:16.212Z"
   },
   {
    "duration": 19,
    "start_time": "2023-10-10T14:48:16.222Z"
   },
   {
    "duration": 30,
    "start_time": "2023-10-10T14:48:16.244Z"
   },
   {
    "duration": 27,
    "start_time": "2023-10-10T14:48:16.277Z"
   },
   {
    "duration": 336,
    "start_time": "2023-10-10T14:48:16.306Z"
   },
   {
    "duration": 251,
    "start_time": "2023-10-10T14:48:16.646Z"
   },
   {
    "duration": 7,
    "start_time": "2023-10-10T14:48:16.899Z"
   },
   {
    "duration": 1285,
    "start_time": "2023-10-10T14:58:17.699Z"
   },
   {
    "duration": 31,
    "start_time": "2023-10-10T14:58:18.986Z"
   },
   {
    "duration": 15,
    "start_time": "2023-10-10T14:58:19.019Z"
   },
   {
    "duration": 43,
    "start_time": "2023-10-10T14:58:19.037Z"
   },
   {
    "duration": 11,
    "start_time": "2023-10-10T14:58:19.082Z"
   },
   {
    "duration": 18,
    "start_time": "2023-10-10T14:58:19.096Z"
   },
   {
    "duration": 10,
    "start_time": "2023-10-10T14:58:19.116Z"
   },
   {
    "duration": 22,
    "start_time": "2023-10-10T14:58:19.128Z"
   },
   {
    "duration": 19,
    "start_time": "2023-10-10T14:58:19.153Z"
   },
   {
    "duration": 10,
    "start_time": "2023-10-10T14:58:19.174Z"
   },
   {
    "duration": 27,
    "start_time": "2023-10-10T14:58:19.186Z"
   },
   {
    "duration": 22,
    "start_time": "2023-10-10T14:58:19.214Z"
   },
   {
    "duration": 18,
    "start_time": "2023-10-10T14:58:19.239Z"
   },
   {
    "duration": 19,
    "start_time": "2023-10-10T14:58:19.259Z"
   },
   {
    "duration": 13,
    "start_time": "2023-10-10T14:58:19.280Z"
   },
   {
    "duration": 9,
    "start_time": "2023-10-10T14:58:19.295Z"
   },
   {
    "duration": 13,
    "start_time": "2023-10-10T14:58:19.306Z"
   },
   {
    "duration": 52,
    "start_time": "2023-10-10T14:58:19.320Z"
   },
   {
    "duration": 26,
    "start_time": "2023-10-10T14:58:19.374Z"
   },
   {
    "duration": 12,
    "start_time": "2023-10-10T14:58:19.402Z"
   },
   {
    "duration": 17,
    "start_time": "2023-10-10T14:58:19.416Z"
   },
   {
    "duration": 39,
    "start_time": "2023-10-10T14:58:19.434Z"
   },
   {
    "duration": 216,
    "start_time": "2023-10-10T14:58:19.475Z"
   },
   {
    "duration": 202,
    "start_time": "2023-10-10T14:58:19.694Z"
   },
   {
    "duration": 179,
    "start_time": "2023-10-10T14:58:19.898Z"
   },
   {
    "duration": 195,
    "start_time": "2023-10-10T14:58:20.078Z"
   },
   {
    "duration": 568,
    "start_time": "2023-10-10T14:58:20.275Z"
   },
   {
    "duration": 424,
    "start_time": "2023-10-10T14:58:20.851Z"
   },
   {
    "duration": 151,
    "start_time": "2023-10-10T14:58:21.278Z"
   },
   {
    "duration": 287,
    "start_time": "2023-10-10T14:58:21.432Z"
   },
   {
    "duration": 138,
    "start_time": "2023-10-10T14:58:21.721Z"
   },
   {
    "duration": 12,
    "start_time": "2023-10-10T14:58:21.861Z"
   },
   {
    "duration": 21,
    "start_time": "2023-10-10T14:58:21.875Z"
   },
   {
    "duration": 28,
    "start_time": "2023-10-10T14:58:21.898Z"
   },
   {
    "duration": 21,
    "start_time": "2023-10-10T14:58:21.928Z"
   },
   {
    "duration": 23,
    "start_time": "2023-10-10T14:58:21.952Z"
   },
   {
    "duration": 25,
    "start_time": "2023-10-10T14:58:21.977Z"
   },
   {
    "duration": 41,
    "start_time": "2023-10-10T14:58:22.004Z"
   },
   {
    "duration": 12,
    "start_time": "2023-10-10T14:58:22.047Z"
   },
   {
    "duration": 43,
    "start_time": "2023-10-10T14:58:22.062Z"
   },
   {
    "duration": 12,
    "start_time": "2023-10-10T14:58:22.106Z"
   },
   {
    "duration": 61,
    "start_time": "2023-10-10T14:58:22.121Z"
   },
   {
    "duration": 9,
    "start_time": "2023-10-10T14:58:22.184Z"
   },
   {
    "duration": 38,
    "start_time": "2023-10-10T14:58:22.194Z"
   },
   {
    "duration": 26,
    "start_time": "2023-10-10T14:58:22.234Z"
   },
   {
    "duration": 330,
    "start_time": "2023-10-10T14:58:22.262Z"
   },
   {
    "duration": 133,
    "start_time": "2023-10-10T14:58:22.594Z"
   },
   {
    "duration": 305,
    "start_time": "2023-10-10T14:58:22.729Z"
   },
   {
    "duration": 131,
    "start_time": "2023-10-10T14:58:23.036Z"
   },
   {
    "duration": 409,
    "start_time": "2023-10-10T14:58:23.169Z"
   },
   {
    "duration": 126,
    "start_time": "2023-10-10T14:58:23.579Z"
   },
   {
    "duration": 305,
    "start_time": "2023-10-10T14:58:23.707Z"
   },
   {
    "duration": 118,
    "start_time": "2023-10-10T14:58:24.014Z"
   },
   {
    "duration": 19,
    "start_time": "2023-10-10T14:58:24.134Z"
   },
   {
    "duration": 18,
    "start_time": "2023-10-10T14:58:24.156Z"
   },
   {
    "duration": 21,
    "start_time": "2023-10-10T14:58:24.176Z"
   },
   {
    "duration": 24,
    "start_time": "2023-10-10T14:58:24.199Z"
   },
   {
    "duration": 60,
    "start_time": "2023-10-10T14:58:24.225Z"
   },
   {
    "duration": 15,
    "start_time": "2023-10-10T14:58:24.287Z"
   },
   {
    "duration": 28,
    "start_time": "2023-10-10T14:58:24.303Z"
   },
   {
    "duration": 314,
    "start_time": "2023-10-10T14:58:24.346Z"
   },
   {
    "duration": 148,
    "start_time": "2023-10-10T14:58:24.662Z"
   },
   {
    "duration": 4,
    "start_time": "2023-10-10T14:58:24.812Z"
   },
   {
    "duration": 39,
    "start_time": "2023-10-10T14:58:24.818Z"
   },
   {
    "duration": 47,
    "start_time": "2023-10-10T14:58:24.858Z"
   },
   {
    "duration": 18,
    "start_time": "2023-10-10T14:58:24.907Z"
   },
   {
    "duration": 45,
    "start_time": "2023-10-10T14:58:24.927Z"
   },
   {
    "duration": 19,
    "start_time": "2023-10-10T14:58:24.974Z"
   },
   {
    "duration": 44,
    "start_time": "2023-10-10T14:58:24.995Z"
   },
   {
    "duration": 364,
    "start_time": "2023-10-10T14:58:25.041Z"
   },
   {
    "duration": 310,
    "start_time": "2023-10-10T14:58:25.407Z"
   },
   {
    "duration": 6,
    "start_time": "2023-10-10T14:58:25.718Z"
   },
   {
    "duration": 1242,
    "start_time": "2023-10-10T17:11:08.652Z"
   },
   {
    "duration": 34,
    "start_time": "2023-10-10T17:11:09.896Z"
   },
   {
    "duration": 28,
    "start_time": "2023-10-10T17:11:09.932Z"
   },
   {
    "duration": 91,
    "start_time": "2023-10-10T17:11:09.962Z"
   },
   {
    "duration": 125,
    "start_time": "2023-10-10T17:11:10.054Z"
   },
   {
    "duration": 38,
    "start_time": "2023-10-10T17:11:10.181Z"
   },
   {
    "duration": 9,
    "start_time": "2023-10-10T17:11:10.221Z"
   },
   {
    "duration": 49,
    "start_time": "2023-10-10T17:11:10.232Z"
   },
   {
    "duration": 57,
    "start_time": "2023-10-10T17:11:10.283Z"
   },
   {
    "duration": 98,
    "start_time": "2023-10-10T17:11:10.343Z"
   },
   {
    "duration": 31,
    "start_time": "2023-10-10T17:11:10.443Z"
   },
   {
    "duration": 33,
    "start_time": "2023-10-10T17:11:10.477Z"
   },
   {
    "duration": 27,
    "start_time": "2023-10-10T17:11:10.512Z"
   },
   {
    "duration": 15,
    "start_time": "2023-10-10T17:11:10.541Z"
   },
   {
    "duration": 53,
    "start_time": "2023-10-10T17:11:10.558Z"
   },
   {
    "duration": 41,
    "start_time": "2023-10-10T17:11:10.613Z"
   },
   {
    "duration": 60,
    "start_time": "2023-10-10T17:11:10.656Z"
   },
   {
    "duration": 13,
    "start_time": "2023-10-10T17:11:10.718Z"
   },
   {
    "duration": 31,
    "start_time": "2023-10-10T17:11:10.733Z"
   },
   {
    "duration": 30,
    "start_time": "2023-10-10T17:11:10.766Z"
   },
   {
    "duration": 32,
    "start_time": "2023-10-10T17:11:10.798Z"
   },
   {
    "duration": 39,
    "start_time": "2023-10-10T17:11:10.832Z"
   },
   {
    "duration": 190,
    "start_time": "2023-10-10T17:11:10.874Z"
   },
   {
    "duration": 187,
    "start_time": "2023-10-10T17:11:11.066Z"
   },
   {
    "duration": 160,
    "start_time": "2023-10-10T17:11:11.255Z"
   },
   {
    "duration": 170,
    "start_time": "2023-10-10T17:11:11.417Z"
   },
   {
    "duration": 485,
    "start_time": "2023-10-10T17:11:11.589Z"
   },
   {
    "duration": 372,
    "start_time": "2023-10-10T17:11:12.080Z"
   },
   {
    "duration": 142,
    "start_time": "2023-10-10T17:11:12.453Z"
   },
   {
    "duration": 267,
    "start_time": "2023-10-10T17:11:12.600Z"
   },
   {
    "duration": 136,
    "start_time": "2023-10-10T17:11:12.869Z"
   },
   {
    "duration": 9,
    "start_time": "2023-10-10T17:11:13.007Z"
   },
   {
    "duration": 35,
    "start_time": "2023-10-10T17:11:13.019Z"
   },
   {
    "duration": 18,
    "start_time": "2023-10-10T17:11:13.055Z"
   },
   {
    "duration": 24,
    "start_time": "2023-10-10T17:11:13.075Z"
   },
   {
    "duration": 47,
    "start_time": "2023-10-10T17:11:13.101Z"
   },
   {
    "duration": 43,
    "start_time": "2023-10-10T17:11:13.150Z"
   },
   {
    "duration": 80,
    "start_time": "2023-10-10T17:11:13.195Z"
   },
   {
    "duration": 48,
    "start_time": "2023-10-10T17:11:13.277Z"
   },
   {
    "duration": 78,
    "start_time": "2023-10-10T17:11:13.328Z"
   },
   {
    "duration": 7,
    "start_time": "2023-10-10T17:11:13.408Z"
   },
   {
    "duration": 37,
    "start_time": "2023-10-10T17:11:13.417Z"
   },
   {
    "duration": 34,
    "start_time": "2023-10-10T17:11:13.456Z"
   },
   {
    "duration": 27,
    "start_time": "2023-10-10T17:11:13.492Z"
   },
   {
    "duration": 38,
    "start_time": "2023-10-10T17:11:13.521Z"
   },
   {
    "duration": 299,
    "start_time": "2023-10-10T17:11:13.561Z"
   },
   {
    "duration": 127,
    "start_time": "2023-10-10T17:11:13.862Z"
   },
   {
    "duration": 298,
    "start_time": "2023-10-10T17:11:14.000Z"
   },
   {
    "duration": 122,
    "start_time": "2023-10-10T17:11:14.300Z"
   },
   {
    "duration": 442,
    "start_time": "2023-10-10T17:11:14.424Z"
   },
   {
    "duration": 113,
    "start_time": "2023-10-10T17:11:14.868Z"
   },
   {
    "duration": 283,
    "start_time": "2023-10-10T17:11:14.983Z"
   },
   {
    "duration": 117,
    "start_time": "2023-10-10T17:11:15.268Z"
   },
   {
    "duration": 19,
    "start_time": "2023-10-10T17:11:15.387Z"
   },
   {
    "duration": 23,
    "start_time": "2023-10-10T17:11:15.408Z"
   },
   {
    "duration": 42,
    "start_time": "2023-10-10T17:11:15.433Z"
   },
   {
    "duration": 41,
    "start_time": "2023-10-10T17:11:15.476Z"
   },
   {
    "duration": 50,
    "start_time": "2023-10-10T17:11:15.519Z"
   },
   {
    "duration": 36,
    "start_time": "2023-10-10T17:11:15.571Z"
   },
   {
    "duration": 26,
    "start_time": "2023-10-10T17:11:15.609Z"
   },
   {
    "duration": 295,
    "start_time": "2023-10-10T17:11:15.637Z"
   },
   {
    "duration": 125,
    "start_time": "2023-10-10T17:11:15.934Z"
   },
   {
    "duration": 3,
    "start_time": "2023-10-10T17:11:16.061Z"
   },
   {
    "duration": 32,
    "start_time": "2023-10-10T17:11:16.065Z"
   },
   {
    "duration": 7,
    "start_time": "2023-10-10T17:11:16.099Z"
   },
   {
    "duration": 23,
    "start_time": "2023-10-10T17:11:16.107Z"
   },
   {
    "duration": 66,
    "start_time": "2023-10-10T17:11:16.132Z"
   },
   {
    "duration": 32,
    "start_time": "2023-10-10T17:11:16.199Z"
   },
   {
    "duration": 28,
    "start_time": "2023-10-10T17:11:16.232Z"
   },
   {
    "duration": 323,
    "start_time": "2023-10-10T17:11:16.262Z"
   },
   {
    "duration": 232,
    "start_time": "2023-10-10T17:11:16.587Z"
   },
   {
    "duration": 6,
    "start_time": "2023-10-10T17:11:16.820Z"
   }
  ],
  "kernelspec": {
   "display_name": "Python 3 (ipykernel)",
   "language": "python",
   "name": "python3"
  },
  "language_info": {
   "codemirror_mode": {
    "name": "ipython",
    "version": 3
   },
   "file_extension": ".py",
   "mimetype": "text/x-python",
   "name": "python",
   "nbconvert_exporter": "python",
   "pygments_lexer": "ipython3",
   "version": "3.11.5"
  },
  "toc": {
   "base_numbering": 1,
   "nav_menu": {},
   "number_sections": true,
   "sideBar": true,
   "skip_h1_title": true,
   "title_cell": "Table of Contents",
   "title_sidebar": "Contents",
   "toc_cell": false,
   "toc_position": {
    "height": "calc(100% - 180px)",
    "left": "10px",
    "top": "150px",
    "width": "371px"
   },
   "toc_section_display": true,
   "toc_window_display": true
  }
 },
 "nbformat": 4,
 "nbformat_minor": 5
}
